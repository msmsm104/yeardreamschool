{
 "cells": [
  {
   "cell_type": "markdown",
   "metadata": {
    "slideshow": {
     "slide_type": "slide"
    }
   },
   "source": [
    "# 데이터 크롤링"
   ]
  },
  {
   "cell_type": "markdown",
   "metadata": {
    "slideshow": {
     "slide_type": "slide"
    }
   },
   "source": [
    "## selenium(셀레니움)\n",
    "    \n",
    "> 웹 어플리케이션 테스트를 위한 프레임워크.  \n",
    "다양한 브라우저 작동을 지원하며 크롤링에도 활용가능.  \n",
    "정적, 동적페이지 크롤링으로도 접근이 불가능한 데이터에 접근할 때 유용하게 사용  \n",
    "현존하는 거의 모든 웹브라우저를 다양한 언어를 통해 제어 가능"
   ]
  },
  {
   "cell_type": "markdown",
   "metadata": {
    "slideshow": {
     "slide_type": "slide"
    }
   },
   "source": [
    "## selenium Setting\n",
    "\n",
    "> 사용해야 하는 브라우저의 웹드라이버 다운 필요  \n",
    "크롬 환경설정 -> 크롬 정보로 크롬 버전 확인 필요  \n",
    "    \n",
    ">> 크롬 드라이버 다운로드  \n",
    "https://chromedriver.chromium.org/downloads\n",
    "    \n",
    "셀레니움은 이 웹 드라이버 API를 제어하는 파이썬 패키지입니다."
   ]
  },
  {
   "cell_type": "code",
   "execution_count": null,
   "metadata": {},
   "outputs": [],
   "source": [
    "# M1 사용자분들\n",
    "# 다운로드 받은 chromedriver 위치한 경로에서 아래 명령어 실행\n",
    "!xattr -d com.apple.quarantine chromedriver"
   ]
  },
  {
   "cell_type": "code",
   "execution_count": 1,
   "metadata": {
    "ExecuteTime": {
     "end_time": "2021-02-03T08:06:04.903769Z",
     "start_time": "2021-02-03T08:06:02.586156Z"
    },
    "scrolled": true,
    "slideshow": {
     "slide_type": "slide"
    }
   },
   "outputs": [
    {
     "name": "stdout",
     "output_type": "stream",
     "text": [
      "Collecting selenium\n",
      "  Downloading selenium-4.1.3-py3-none-any.whl (968 kB)\n",
      "\u001b[2K     \u001b[38;2;114;156;31m━━━━━━━━━━━━━━━━━━━━━━━━━━━━━━━━━━━━━━━\u001b[0m \u001b[32m968.8/968.8 KB\u001b[0m \u001b[31m7.8 MB/s\u001b[0m eta \u001b[36m0:00:00\u001b[0mm eta \u001b[36m0:00:01\u001b[0m0:01\u001b[0m:01\u001b[0m\n",
      "\u001b[?25hCollecting urllib3[secure,socks]~=1.26\n",
      "  Downloading urllib3-1.26.9-py2.py3-none-any.whl (138 kB)\n",
      "\u001b[2K     \u001b[38;2;114;156;31m━━━━━━━━━━━━━━━━━━━━━━━━━━━━━━━━━━━━━━━\u001b[0m \u001b[32m139.0/139.0 KB\u001b[0m \u001b[31m4.6 MB/s\u001b[0m eta \u001b[36m0:00:00\u001b[0m\n",
      "\u001b[?25hCollecting trio~=0.17\n",
      "  Downloading trio-0.20.0-py3-none-any.whl (359 kB)\n",
      "\u001b[2K     \u001b[38;2;114;156;31m━━━━━━━━━━━━━━━━━━━━━━━━━━━━━━━━━━━━━━\u001b[0m \u001b[32m359.0/359.0 KB\u001b[0m \u001b[31m14.4 MB/s\u001b[0m eta \u001b[36m0:00:00\u001b[0m\n",
      "\u001b[?25hCollecting trio-websocket~=0.9\n",
      "  Downloading trio_websocket-0.9.2-py3-none-any.whl (16 kB)\n",
      "Requirement already satisfied: attrs>=19.2.0 in /Users/moonseokmin/miniforge3/envs/krc/lib/python3.8/site-packages (from trio~=0.17->selenium) (21.4.0)\n",
      "Collecting idna\n",
      "  Using cached idna-3.3-py3-none-any.whl (61 kB)\n",
      "Collecting sortedcontainers\n",
      "  Downloading sortedcontainers-2.4.0-py2.py3-none-any.whl (29 kB)\n",
      "Collecting outcome\n",
      "  Downloading outcome-1.1.0-py2.py3-none-any.whl (9.7 kB)\n",
      "Collecting sniffio\n",
      "  Downloading sniffio-1.2.0-py3-none-any.whl (10 kB)\n",
      "Collecting async-generator>=1.9\n",
      "  Downloading async_generator-1.10-py3-none-any.whl (18 kB)\n",
      "Collecting wsproto>=0.14\n",
      "  Downloading wsproto-1.1.0-py3-none-any.whl (24 kB)\n",
      "Collecting PySocks!=1.5.7,<2.0,>=1.5.6\n",
      "  Downloading PySocks-1.7.1-py3-none-any.whl (16 kB)\n",
      "Requirement already satisfied: certifi in /Users/moonseokmin/miniforge3/envs/krc/lib/python3.8/site-packages (from urllib3[secure,socks]~=1.26->selenium) (2021.10.8)\n",
      "Collecting cryptography>=1.3.4\n",
      "  Downloading cryptography-37.0.1-cp36-abi3-macosx_10_10_x86_64.whl (2.8 MB)\n",
      "\u001b[2K     \u001b[38;2;114;156;31m━━━━━━━━━━━━━━━━━━━━━━━━━━━━━━━━━━━━━━━━\u001b[0m \u001b[32m2.8/2.8 MB\u001b[0m \u001b[31m2.7 MB/s\u001b[0m eta \u001b[36m0:00:00\u001b[0mm eta \u001b[36m0:00:01\u001b[0m[36m0:00:01\u001b[0mm\n",
      "\u001b[?25hCollecting pyOpenSSL>=0.14\n",
      "  Downloading pyOpenSSL-22.0.0-py2.py3-none-any.whl (55 kB)\n",
      "\u001b[2K     \u001b[38;2;114;156;31m━━━━━━━━━━━━━━━━━━━━━━━━━━━━━━━━━━━━━━━━\u001b[0m \u001b[32m55.8/55.8 KB\u001b[0m \u001b[31m2.2 MB/s\u001b[0m eta \u001b[36m0:00:00\u001b[0m\n",
      "\u001b[?25hRequirement already satisfied: cffi>=1.12 in /Users/moonseokmin/miniforge3/envs/krc/lib/python3.8/site-packages (from cryptography>=1.3.4->urllib3[secure,socks]~=1.26->selenium) (1.15.0)\n",
      "Collecting h11<1,>=0.9.0\n",
      "  Downloading h11-0.13.0-py3-none-any.whl (58 kB)\n",
      "\u001b[2K     \u001b[38;2;114;156;31m━━━━━━━━━━━━━━━━━━━━━━━━━━━━━━━━━━━━━━━━\u001b[0m \u001b[32m58.2/58.2 KB\u001b[0m \u001b[31m1.6 MB/s\u001b[0m eta \u001b[36m0:00:00\u001b[0m\n",
      "\u001b[?25hRequirement already satisfied: pycparser in /Users/moonseokmin/miniforge3/envs/krc/lib/python3.8/site-packages (from cffi>=1.12->cryptography>=1.3.4->urllib3[secure,socks]~=1.26->selenium) (2.21)\n",
      "Installing collected packages: sortedcontainers, urllib3, sniffio, PySocks, outcome, idna, h11, async-generator, wsproto, trio, cryptography, trio-websocket, pyOpenSSL, selenium\n",
      "Successfully installed PySocks-1.7.1 async-generator-1.10 cryptography-37.0.1 h11-0.13.0 idna-3.3 outcome-1.1.0 pyOpenSSL-22.0.0 selenium-4.1.3 sniffio-1.2.0 sortedcontainers-2.4.0 trio-0.20.0 trio-websocket-0.9.2 urllib3-1.26.9 wsproto-1.1.0\n"
     ]
    }
   ],
   "source": [
    "# 셀레니움 설치\n",
    "!pip install selenium"
   ]
  },
  {
   "cell_type": "code",
   "execution_count": 3,
   "metadata": {
    "ExecuteTime": {
     "end_time": "2022-04-28T08:30:40.705905Z",
     "start_time": "2022-04-28T08:30:40.531091Z"
    }
   },
   "outputs": [],
   "source": [
    "# 필요모듈 import\n",
    "from selenium import webdriver\n",
    "import time"
   ]
  },
  {
   "cell_type": "code",
   "execution_count": null,
   "metadata": {
    "ExecuteTime": {
     "end_time": "2022-04-28T08:30:41.201925Z",
     "start_time": "2022-04-28T08:30:41.166678Z"
    },
    "slideshow": {
     "slide_type": "fragment"
    }
   },
   "outputs": [],
   "source": [
    "# 셀레니움 import\n"
   ]
  },
  {
   "cell_type": "code",
   "execution_count": null,
   "metadata": {},
   "outputs": [],
   "source": [
    "# M1 제외 사용자분들 환경설정\n"
   ]
  },
  {
   "cell_type": "markdown",
   "metadata": {
    "slideshow": {
     "slide_type": "slide"
    }
   },
   "source": [
    "## 간단한 브라우저 컨트롤로 기본 개념잡기"
   ]
  },
  {
   "cell_type": "code",
   "execution_count": 4,
   "metadata": {
    "ExecuteTime": {
     "end_time": "2022-04-28T08:31:03.080343Z",
     "start_time": "2022-04-28T08:31:01.694931Z"
    }
   },
   "outputs": [
    {
     "name": "stderr",
     "output_type": "stream",
     "text": [
      "/var/folders/tk/cydrbpwj5lb47v6dw2_k2xth0000gn/T/ipykernel_93797/804796752.py:2: DeprecationWarning: executable_path has been deprecated, please pass in a Service object\n",
      "  driver = webdriver.Chrome('./chromedriver')\n"
     ]
    }
   ],
   "source": [
    "# 크롬창 열기\n",
    "driver = webdriver.Chrome('./chromedriver')\n",
    "\n",
    "# 윈도우 사용자분들\n",
    "# driver = webdriver.Chrome('./chromedriver.exe')"
   ]
  },
  {
   "cell_type": "code",
   "execution_count": 5,
   "metadata": {
    "ExecuteTime": {
     "end_time": "2022-04-28T08:36:20.892593Z",
     "start_time": "2022-04-28T08:36:20.670537Z"
    }
   },
   "outputs": [],
   "source": [
    "# 설정한 url로 데이터 get함수로 요청\n",
    "url = 'https://naver.com'\n",
    "\n",
    "driver.get(url)"
   ]
  },
  {
   "cell_type": "code",
   "execution_count": 6,
   "metadata": {
    "ExecuteTime": {
     "end_time": "2022-04-28T08:41:17.746145Z",
     "start_time": "2022-04-28T08:41:17.682047Z"
    }
   },
   "outputs": [
    {
     "name": "stderr",
     "output_type": "stream",
     "text": [
      "/var/folders/tk/cydrbpwj5lb47v6dw2_k2xth0000gn/T/ipykernel_93797/1496500398.py:2: DeprecationWarning: find_element_by_xpath is deprecated. Please use find_element(by=By.XPATH, value=xpath) instead\n",
      "  driver.find_element_by_xpath('//*[@id=\"query\"]').send_keys('홍대맛집')\n"
     ]
    }
   ],
   "source": [
    "# 키워드를 입력받아 검색창의 xpath에 send_keys 함수로 키워드 입력 \n",
    "driver.find_element_by_xpath('//*[@id=\"query\"]').send_keys('홍대맛집')"
   ]
  },
  {
   "cell_type": "code",
   "execution_count": 7,
   "metadata": {
    "ExecuteTime": {
     "end_time": "2021-08-29T07:51:10.129293Z",
     "start_time": "2021-08-29T07:51:10.015673Z"
    }
   },
   "outputs": [
    {
     "name": "stderr",
     "output_type": "stream",
     "text": [
      "/var/folders/tk/cydrbpwj5lb47v6dw2_k2xth0000gn/T/ipykernel_93797/3836619332.py:2: DeprecationWarning: find_element_by_xpath is deprecated. Please use find_element(by=By.XPATH, value=xpath) instead\n",
      "  driver.find_element_by_xpath('//*[@id=\"search_btn\"]').click()\n"
     ]
    }
   ],
   "source": [
    "# 검색결과의 news 탭 클릭\n",
    "driver.find_element_by_xpath('//*[@id=\"search_btn\"]').click()"
   ]
  },
  {
   "cell_type": "markdown",
   "metadata": {},
   "source": [
    "## 인스타그램 크롤링"
   ]
  },
  {
   "cell_type": "code",
   "execution_count": 8,
   "metadata": {},
   "outputs": [
    {
     "name": "stderr",
     "output_type": "stream",
     "text": [
      "/var/folders/tk/cydrbpwj5lb47v6dw2_k2xth0000gn/T/ipykernel_93797/1745215592.py:2: DeprecationWarning: executable_path has been deprecated, please pass in a Service object\n",
      "  driver = webdriver.Chrome('./chromedriver')\n"
     ]
    }
   ],
   "source": [
    "# 컨트롤 할 크롬 브라우저 생성\n",
    "driver = webdriver.Chrome('./chromedriver')"
   ]
  },
  {
   "cell_type": "code",
   "execution_count": 9,
   "metadata": {
    "ExecuteTime": {
     "end_time": "2022-04-28T08:43:26.409681Z",
     "start_time": "2022-04-28T08:43:25.338359Z"
    }
   },
   "outputs": [],
   "source": [
    "# url 페이지 이동\n",
    "url = 'https://www.instagram.com/'\n",
    "\n",
    "driver.get(url)"
   ]
  },
  {
   "cell_type": "code",
   "execution_count": 10,
   "metadata": {
    "ExecuteTime": {
     "end_time": "2021-08-29T08:02:47.560209Z",
     "start_time": "2021-08-29T08:02:46.127149Z"
    }
   },
   "outputs": [
    {
     "name": "stderr",
     "output_type": "stream",
     "text": [
      "/var/folders/tk/cydrbpwj5lb47v6dw2_k2xth0000gn/T/ipykernel_93797/4088821108.py:2: DeprecationWarning: find_element_by_xpath is deprecated. Please use find_element(by=By.XPATH, value=xpath) instead\n",
      "  driver.find_element_by_xpath('//*[@id=\"loginForm\"]/div/div[1]/div/label/input').send_keys('moonsuck1024@gmail.com')\n",
      "/var/folders/tk/cydrbpwj5lb47v6dw2_k2xth0000gn/T/ipykernel_93797/4088821108.py:3: DeprecationWarning: find_element_by_xpath is deprecated. Please use find_element(by=By.XPATH, value=xpath) instead\n",
      "  driver.find_element_by_xpath('//*[@id=\"loginForm\"]/div/div[2]/div/label/input').send_keys('white890!@')\n"
     ]
    }
   ],
   "source": [
    "# 페이스북 로그인 클릭\n",
    "driver.find_element_by_xpath('//*[@id=\"loginForm\"]/div/div[1]/div/label/input').send_keys('moonsuck1024@gmail.com')\n",
    "driver.find_element_by_xpath('//*[@id=\"loginForm\"]/div/div[2]/div/label/input').send_keys('white890!@')\n",
    "\n",
    "                                                                                          "
   ]
  },
  {
   "cell_type": "code",
   "execution_count": 11,
   "metadata": {},
   "outputs": [
    {
     "name": "stderr",
     "output_type": "stream",
     "text": [
      "/var/folders/tk/cydrbpwj5lb47v6dw2_k2xth0000gn/T/ipykernel_93797/4266554096.py:3: DeprecationWarning: find_element_by_xpath is deprecated. Please use find_element(by=By.XPATH, value=xpath) instead\n",
      "  driver.find_element_by_xpath('//*[@id=\"loginForm\"]/div/div[3]/button').click()\n"
     ]
    }
   ],
   "source": [
    "## 로그인 버튼 클릭\n",
    "\n",
    "driver.find_element_by_xpath('//*[@id=\"loginForm\"]/div/div[3]/button').click()"
   ]
  },
  {
   "cell_type": "code",
   "execution_count": 12,
   "metadata": {},
   "outputs": [
    {
     "name": "stderr",
     "output_type": "stream",
     "text": [
      "/var/folders/tk/cydrbpwj5lb47v6dw2_k2xth0000gn/T/ipykernel_93797/2148110473.py:2: DeprecationWarning: find_element_by_xpath is deprecated. Please use find_element(by=By.XPATH, value=xpath) instead\n",
      "  driver.find_element_by_xpath('//*[@id=\"react-root\"]/section/main/div/div/div/div/button').click()\n"
     ]
    }
   ],
   "source": [
    "## 나중에 하기 버튼 클릭\n",
    "driver.find_element_by_xpath('//*[@id=\"react-root\"]/section/main/div/div/div/div/button').click()"
   ]
  },
  {
   "cell_type": "code",
   "execution_count": 13,
   "metadata": {},
   "outputs": [
    {
     "name": "stderr",
     "output_type": "stream",
     "text": [
      "/var/folders/tk/cydrbpwj5lb47v6dw2_k2xth0000gn/T/ipykernel_93797/884386624.py:1: DeprecationWarning: find_element_by_xpath is deprecated. Please use find_element(by=By.XPATH, value=xpath) instead\n",
      "  driver.find_element_by_xpath('/html/body/div[6]/div/div/div/div[3]/button[2]').click()\n"
     ]
    }
   ],
   "source": [
    "driver.find_element_by_xpath('/html/body/div[6]/div/div/div/div[3]/button[2]').click()"
   ]
  },
  {
   "cell_type": "code",
   "execution_count": null,
   "metadata": {
    "ExecuteTime": {
     "end_time": "2021-08-29T08:03:41.423876Z",
     "start_time": "2021-08-29T08:03:37.308062Z"
    }
   },
   "outputs": [],
   "source": [
    "# 페이스북 로그인 정보 입력 후 로그인 버튼 클릭\n",
    "\n",
    "# 페이지 로딩에 약간의 시간이 필요하면\n"
   ]
  },
  {
   "cell_type": "code",
   "execution_count": null,
   "metadata": {
    "ExecuteTime": {
     "end_time": "2021-08-29T08:04:08.901678Z",
     "start_time": "2021-08-29T08:04:08.875140Z"
    },
    "scrolled": true
   },
   "outputs": [],
   "source": [
    "# 알림설정 팝업창 나중에 하기 클릭\n"
   ]
  },
  {
   "cell_type": "code",
   "execution_count": 14,
   "metadata": {
    "ExecuteTime": {
     "end_time": "2021-08-29T08:05:28.450988Z",
     "start_time": "2021-08-29T08:05:28.362781Z"
    }
   },
   "outputs": [
    {
     "name": "stderr",
     "output_type": "stream",
     "text": [
      "/var/folders/tk/cydrbpwj5lb47v6dw2_k2xth0000gn/T/ipykernel_93797/2442350200.py:2: DeprecationWarning: find_element_by_xpath is deprecated. Please use find_element(by=By.XPATH, value=xpath) instead\n",
      "  driver.find_element_by_xpath('//*[@id=\"react-root\"]/section/nav/div[2]/div/div/div[2]/input').send_keys('에어포스')\n"
     ]
    }
   ],
   "source": [
    "# 검색 키워드로 크롤링을 하기 위해 검색어 입력\n",
    "driver.find_element_by_xpath('//*[@id=\"react-root\"]/section/nav/div[2]/div/div/div[2]/input').send_keys('에어포스')"
   ]
  },
  {
   "cell_type": "code",
   "execution_count": 15,
   "metadata": {
    "ExecuteTime": {
     "end_time": "2021-08-29T08:06:23.562381Z",
     "start_time": "2021-08-29T08:06:23.393928Z"
    }
   },
   "outputs": [
    {
     "name": "stderr",
     "output_type": "stream",
     "text": [
      "/var/folders/tk/cydrbpwj5lb47v6dw2_k2xth0000gn/T/ipykernel_93797/67913416.py:2: DeprecationWarning: find_element_by_xpath is deprecated. Please use find_element(by=By.XPATH, value=xpath) instead\n",
      "  driver.find_element_by_xpath('//*[@id=\"f167386dcb845c\"]/div').click()\n"
     ]
    }
   ],
   "source": [
    "# 첫번째 항목 접근\n",
    "driver.find_element_by_xpath('//*[@id=\"f167386dcb845c\"]/div').click()"
   ]
  },
  {
   "cell_type": "code",
   "execution_count": 16,
   "metadata": {
    "ExecuteTime": {
     "end_time": "2021-08-29T08:09:25.756252Z",
     "start_time": "2021-08-29T08:09:25.579883Z"
    }
   },
   "outputs": [
    {
     "name": "stderr",
     "output_type": "stream",
     "text": [
      "/var/folders/tk/cydrbpwj5lb47v6dw2_k2xth0000gn/T/ipykernel_93797/3227392403.py:2: DeprecationWarning: find_element_by_xpath is deprecated. Please use find_element(by=By.XPATH, value=xpath) instead\n",
      "  driver.find_element_by_xpath('//*[@id=\"react-root\"]/section/main/article/div[1]/div/div/div[1]/div[1]/a/div[1]/div[2]').click()\n"
     ]
    }
   ],
   "source": [
    "# 첫번째 포스팅 클릭\n",
    "driver.find_element_by_xpath('//*[@id=\"react-root\"]/section/main/article/div[1]/div/div/div[1]/div[1]/a/div[1]/div[2]').click()"
   ]
  },
  {
   "cell_type": "code",
   "execution_count": null,
   "metadata": {
    "ExecuteTime": {
     "end_time": "2021-08-29T08:07:30.668999Z",
     "start_time": "2021-08-29T08:07:30.543155Z"
    }
   },
   "outputs": [],
   "source": [
    "# 좋아요 누르기\n"
   ]
  },
  {
   "cell_type": "code",
   "execution_count": null,
   "metadata": {
    "ExecuteTime": {
     "end_time": "2021-08-29T08:10:11.523588Z",
     "start_time": "2021-08-29T08:10:11.424659Z"
    }
   },
   "outputs": [],
   "source": [
    "# 댓글 달기\n"
   ]
  },
  {
   "cell_type": "code",
   "execution_count": 17,
   "metadata": {
    "ExecuteTime": {
     "end_time": "2021-08-29T08:14:08.690078Z",
     "start_time": "2021-08-29T08:14:08.677508Z"
    }
   },
   "outputs": [
    {
     "name": "stderr",
     "output_type": "stream",
     "text": [
      "/var/folders/tk/cydrbpwj5lb47v6dw2_k2xth0000gn/T/ipykernel_93797/850979941.py:2: DeprecationWarning: find_element_by_css_selector is deprecated. Please use find_element(by=By.CSS_SELECTOR, value=css_selector) instead\n",
      "  image = driver.find_element_by_css_selector('img.FFVAD')\n"
     ]
    }
   ],
   "source": [
    "# 포스팅 image url 따오기\n",
    "image = driver.find_element_by_css_selector('img.FFVAD')\n",
    "img_url = image.get_attribute('src')"
   ]
  },
  {
   "cell_type": "code",
   "execution_count": null,
   "metadata": {
    "ExecuteTime": {
     "end_time": "2021-08-29T08:14:10.116152Z",
     "start_time": "2021-08-29T08:14:10.111434Z"
    }
   },
   "outputs": [],
   "source": [
    "image"
   ]
  },
  {
   "cell_type": "code",
   "execution_count": null,
   "metadata": {
    "ExecuteTime": {
     "end_time": "2021-08-29T08:14:13.104989Z",
     "start_time": "2021-08-29T08:14:13.095106Z"
    }
   },
   "outputs": [],
   "source": [
    "# image 변수에서 src 속성에 접근\n"
   ]
  },
  {
   "cell_type": "code",
   "execution_count": 19,
   "metadata": {
    "ExecuteTime": {
     "end_time": "2021-08-29T08:14:13.544593Z",
     "start_time": "2021-08-29T08:14:13.541008Z"
    }
   },
   "outputs": [
    {
     "data": {
      "text/plain": [
       "'https://scontent-gmp1-1.cdninstagram.com/v/t51.2885-15/279228600_952572072038550_4708586416959207388_n.jpg?stp=dst-jpg_e35&_nc_ht=scontent-gmp1-1.cdninstagram.com&_nc_cat=106&_nc_ohc=hnUAief4eyQAX_JjWzX&edm=ALQROFkBAAAA&ccb=7-4&ig_cache_key=MjgyNjQyMzQwNzczOTc5MTY4MA%3D%3D.2-ccb7-4&oh=00_AT_l7YMJ5Fk59ggTsNDSw0ePMCiqKU1D8IiT37e6faqwPw&oe=62725357&_nc_sid=30a2ef'"
      ]
     },
     "execution_count": 19,
     "metadata": {},
     "output_type": "execute_result"
    }
   ],
   "source": [
    "img_url"
   ]
  },
  {
   "cell_type": "code",
   "execution_count": 21,
   "metadata": {
    "ExecuteTime": {
     "end_time": "2021-08-29T08:14:25.576208Z",
     "start_time": "2021-08-29T08:14:25.429695Z"
    }
   },
   "outputs": [
    {
     "data": {
      "text/plain": [
       "('./save_test.jpg', <http.client.HTTPMessage at 0x7fa85afeca00>)"
      ]
     },
     "execution_count": 21,
     "metadata": {},
     "output_type": "execute_result"
    }
   ],
   "source": [
    "# 이미지 저장을 위한 패키지\n",
    "import urllib\n",
    "# 이미지 저장\n",
    "urllib.request.urlretrieve(img_url, './save_test.jpg')"
   ]
  },
  {
   "cell_type": "code",
   "execution_count": 29,
   "metadata": {},
   "outputs": [
    {
     "name": "stderr",
     "output_type": "stream",
     "text": [
      "/var/folders/tk/cydrbpwj5lb47v6dw2_k2xth0000gn/T/ipykernel_93797/986619630.py:5: DeprecationWarning: find_element_by_xpath is deprecated. Please use find_element(by=By.XPATH, value=xpath) instead\n",
      "  driver.find_element_by_xpath('/html/body/div[6]/div[2]/div/div[2]/button').click()\n"
     ]
    },
    {
     "ename": "IndexError",
     "evalue": "list index out of range",
     "output_type": "error",
     "traceback": [
      "\u001b[0;31m---------------------------------------------------------------------------\u001b[0m",
      "\u001b[0;31mIndexError\u001b[0m                                Traceback (most recent call last)",
      "Input \u001b[0;32mIn [29]\u001b[0m, in \u001b[0;36m<cell line: 3>\u001b[0;34m()\u001b[0m\n\u001b[1;32m      6\u001b[0m page_text \u001b[38;5;241m=\u001b[39m driver\u001b[38;5;241m.\u001b[39mpage_source\n\u001b[1;32m      7\u001b[0m html \u001b[38;5;241m=\u001b[39m BeautifulSoup(page_text, \u001b[38;5;124m'\u001b[39m\u001b[38;5;124mhtml.parser\u001b[39m\u001b[38;5;124m'\u001b[39m)\n\u001b[0;32m----> 8\u001b[0m \u001b[38;5;28mprint\u001b[39m(\u001b[43mhtml\u001b[49m\u001b[38;5;241;43m.\u001b[39;49m\u001b[43mselect\u001b[49m\u001b[43m(\u001b[49m\u001b[38;5;124;43m'\u001b[39;49m\u001b[38;5;124;43mdiv._7UhW9.xLCgt.qyrsm\u001b[39;49m\u001b[38;5;124;43m'\u001b[39;49m\u001b[43m)\u001b[49m\u001b[43m[\u001b[49m\u001b[38;5;241;43m-\u001b[39;49m\u001b[38;5;241;43m1\u001b[39;49m\u001b[43m]\u001b[49m\u001b[38;5;241m.\u001b[39mtext)\n",
      "\u001b[0;31mIndexError\u001b[0m: list index out of range"
     ]
    }
   ],
   "source": [
    "## 반복문으로 페이지 넘기면서 태그 좋아요 갯수 출력\n",
    "from bs4 import BeautifulSoup\n",
    "for i in range(5):\n",
    "    time.sleep(2)\n",
    "    driver.find_element_by_xpath('/html/body/div[6]/div[2]/div/div[2]/button').click()\n",
    "    page_text = driver.page_source\n",
    "    html = BeautifulSoup(page_text, 'html.parser')\n",
    "    print(html.select('div._7UhW9.xLCgt.qyrsm')[-1].text)"
   ]
  },
  {
   "cell_type": "code",
   "execution_count": 26,
   "metadata": {
    "ExecuteTime": {
     "end_time": "2021-08-29T08:17:07.255494Z",
     "start_time": "2021-08-29T08:17:07.231584Z"
    },
    "scrolled": true
   },
   "outputs": [
    {
     "data": {
      "text/plain": [
       "'좋아요 217개'"
      ]
     },
     "execution_count": 26,
     "metadata": {},
     "output_type": "execute_result"
    }
   ],
   "source": [
    "\n",
    "# 앞 포스팅으로 이동하는 꺽쇠 버튼(첫 포스팅은 작동을 뒤로합니다.)\n",
    "page_text = driver.page_source\n",
    "html = BeautifulSoup(page_text, 'html.parser')\n",
    "html.select('div._7UhW9.xLCgt.qyrsm')[-2].text\n",
    "# 뒤 포스팅으로 이동하는 꺾쇠 버튼\n"
   ]
  },
  {
   "cell_type": "markdown",
   "metadata": {},
   "source": [
    "## 크롤링 참고용 추가 코드"
   ]
  },
  {
   "cell_type": "code",
   "execution_count": null,
   "metadata": {},
   "outputs": [],
   "source": [
    "# 스크립트 형태로 전달\n",
    "driver.execute_script('document.getElementById(\"id\").value = \"\"')\n",
    "driver.execute_script('document.getElementById(\"pw\").value = \"\"'')\n",
    "\n",
    "# 스크롤다운\n",
    "driver.execute_script(\"window.scrollTo(0, document.body.scrollHeight);\")"
   ]
  }
 ],
 "metadata": {
  "kernelspec": {
   "display_name": "Python 3 (ipykernel)",
   "language": "python",
   "name": "python3"
  },
  "language_info": {
   "codemirror_mode": {
    "name": "ipython",
    "version": 3
   },
   "file_extension": ".py",
   "mimetype": "text/x-python",
   "name": "python",
   "nbconvert_exporter": "python",
   "pygments_lexer": "ipython3",
   "version": "3.8.13"
  },
  "toc": {
   "base_numbering": 1,
   "nav_menu": {},
   "number_sections": true,
   "sideBar": true,
   "skip_h1_title": true,
   "title_cell": "Table of Contents",
   "title_sidebar": "Contents",
   "toc_cell": false,
   "toc_position": {},
   "toc_section_display": true,
   "toc_window_display": false
  },
  "varInspector": {
   "cols": {
    "lenName": 16,
    "lenType": 16,
    "lenVar": 40
   },
   "kernels_config": {
    "python": {
     "delete_cmd_postfix": "",
     "delete_cmd_prefix": "del ",
     "library": "var_list.py",
     "varRefreshCmd": "print(var_dic_list())"
    },
    "r": {
     "delete_cmd_postfix": ") ",
     "delete_cmd_prefix": "rm(",
     "library": "var_list.r",
     "varRefreshCmd": "cat(var_dic_list()) "
    }
   },
   "types_to_exclude": [
    "module",
    "function",
    "builtin_function_or_method",
    "instance",
    "_Feature"
   ],
   "window_display": false
  }
 },
 "nbformat": 4,
 "nbformat_minor": 2
}
