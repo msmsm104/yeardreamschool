{
  "nbformat": 4,
  "nbformat_minor": 0,
  "metadata": {
    "colab": {
      "name": "python_crawler_0425.ipynb",
      "provenance": [],
      "collapsed_sections": [
        "y9dcyT11Hgxz",
        "yaD6RGLnIUe2",
        "XMtzpfoDJySu",
        "IkobvcuTK_tw",
        "s7E4PNLhQJU2",
        "PEJZcWLFTSdM",
        "jbYzHFcwXTpx",
        "CLEUA-FOa9pJ"
      ]
    },
    "kernelspec": {
      "name": "python3",
      "display_name": "Python 3"
    },
    "language_info": {
      "name": "python"
    }
  },
  "cells": [
    {
      "cell_type": "markdown",
      "source": [
        "# 데이터 크롤링\n",
        "> - 파이썬을 이용하여 웹상의 데이터를 모아보자."
      ],
      "metadata": {
        "id": "4EwHKSgSGq7q"
      }
    },
    {
      "cell_type": "markdown",
      "source": [
        "우리는 매일 크롤러를 사용하고 있다.\n",
        "> - 검색엔진(구글, 네이버)"
      ],
      "metadata": {
        "id": "CN5ijLnIG09N"
      }
    },
    {
      "cell_type": "markdown",
      "source": [
        "### 웹 크롤링하는 의식의 흐름\n",
        "> - 정보를 가져오고자 하는 url 정의\n",
        "> - url정보로 requests로 정보 요청\n",
        "> - text 정보를 html로 변환\n",
        "> - html에서 우리가 필요한 정보만 선별"
      ],
      "metadata": {
        "id": "Ehj2lrmrG9fG"
      }
    },
    {
      "cell_type": "markdown",
      "source": [
        "#### 셀렉터\n",
        "> 용도 : html에서 내가 원하는 내용을 찾아내기 위해서  \n",
        "\n",
        "\n",
        "\n",
        "```\n",
        "<span class=\"news\" id=\"1234\">비비고 왕교자</span>\n",
        "<span class=\"product\" id=\"1235\">비비고 볶음밥</span>\n",
        "```\n",
        "\n",
        "\n",
        "\n",
        ">> 단일 셀렉터 \n",
        "``` \n",
        "html.select('span')  # 태그 이름이 span인 친구들을 다 들고옴  \n",
        "```\n",
        "tag : span  \n",
        "class(별명, 그룹명) : .news\n",
        "\n",
        ">> 클래스 포함 셀렉터\n",
        "```\n",
        "html.select('span.news') # 태그 이름이 span이고 class가 news인 것들을 불러옴.\n",
        "```\n",
        "\n",
        ">> id 포함 셀렉터\n",
        "id(고유값) : #1234\n",
        "```\n",
        "html.select('span#1234') # 태그가 span이고 id가 1234인것들을 불러옴.\n",
        "```"
      ],
      "metadata": {
        "id": "lQrSM6QaLKsj"
      }
    },
    {
      "cell_type": "markdown",
      "source": [
        "#### 복합 셀렉터\n",
        "    1. 조합 셀렉터\n",
        "    <span>1</span>\n",
        "    <span class=\"txt\">2</span>\n",
        "    <em class=\"txt\">3</em>\n",
        "    \n",
        "    태그 이름이 span이고 클래스 이름은 txt인 라인을 찾고 싶다. : span.txt \n",
        "    li 태그 중에서 id가 name 인 라인을 찾고\\ 싶다. : li#name\n",
        "\n",
        "    2. 경로 셀렉터\n",
        "    \n",
        "    <ul>\n",
        "        <li><span>이걸 찾으려면?</span></li>\n",
        "    </ul>\n",
        "    <span>이건 아님</span>\n",
        "\n",
        "    ul 태그안 li 태그 안 span 라인을 찾는다\n",
        "    ul > li > span 혹은 ul li span\n",
        "\n",
        "    html.select('ul li span')\n",
        "    html.select('ul > li > span')"
      ],
      "metadata": {
        "id": "79zBHrGFLVQY"
      }
    },
    {
      "cell_type": "code",
      "execution_count": 47,
      "metadata": {
        "id": "OnmVQeANGi_A"
      },
      "outputs": [],
      "source": [
        "import numpy as np\n",
        "import pandas as pd\n",
        "import matplotlib.pyplot as plt\n",
        "import seaborn as sns\n",
        "import requests\n",
        "from bs4 import BeautifulSoup"
      ]
    },
    {
      "cell_type": "markdown",
      "source": [
        "## 네이버 메인페이지 크롤링"
      ],
      "metadata": {
        "id": "y9dcyT11Hgxz"
      }
    },
    {
      "cell_type": "code",
      "source": [
        "url = 'https://www.naver.com/'\n",
        "resp = requests.get(url)"
      ],
      "metadata": {
        "id": "0YNXpHBwHbsw"
      },
      "execution_count": 3,
      "outputs": []
    },
    {
      "cell_type": "code",
      "source": [
        "resp.text # BeautifulSoup을 이용해 좀 더 보기 편하게 바꾸자."
      ],
      "metadata": {
        "colab": {
          "base_uri": "https://localhost:8080/",
          "height": 268
        },
        "id": "ZjNHFrR-HuBw",
        "outputId": "38866ca7-8d15-4ed5-b35e-6e4c572426a7"
      },
      "execution_count": 4,
      "outputs": [
        {
          "output_type": "execute_result",
          "data": {
            "text/plain": [
              "'\\n<!doctype html>                          <html lang=\"ko\" data-dark=\"false\"> <head> <meta charset=\"utf-8\"> <title>NAVER</title> <meta http-equiv=\"X-UA-Compatible\" content=\"IE=edge\"> <meta name=\"viewport\" content=\"width=1190\"> <meta name=\"apple-mobile-web-app-title\" content=\"NAVER\"/> <meta name=\"robots\" content=\"index,nofollow\"/> <meta name=\"description\" content=\"네이버 메인에서 다양한 정보와 유용한 컨텐츠를 만나 보세요\"/> <meta property=\"og:title\" content=\"네이버\"> <meta property=\"og:url\" content=\"https://www.naver.com/\"> <meta property=\"og:image\" content=\"https://s.pstatic.net/static/www/mobile/edit/2016/0705/mobile_212852414260.png\"> <meta property=\"og:description\" content=\"네이버 메인에서 다양한 정보와 유용한 컨텐츠를 만나 보세요\"/> <meta name=\"twitter:card\" content=\"summary\"> <meta name=\"twitter:title\" content=\"\"> <meta name=\"twitter:url\" content=\"https://www.naver.com/\"> <meta name=\"twitter:image\" content=\"https://s.pstatic.net/static/www/mobile/edit/2016/0705/mobile_212852414260.png\"> <meta name=\"twitter:description\" content=\"네이버 메인에서 다양한 정보와 유용한 컨텐츠를 만나 보세요\"/>  <link rel=\"stylesheet\" href=\"https://pm.pstatic.net/dist/css/nmain.20220331.css\"> <link rel=\"stylesheet\" href=\"https://ssl.pstatic.net/sstatic/search/pc/css/sp_autocomplete_210318.css\"> <link rel=\"shortcut icon\" type=\"image/x-icon\" href=\"/favicon.ico?1\"/>  <link rel=\"apple-touch-icon\" sizes=\"114x114\" href=\"https://s.pstatic.net/static/www/u/2014/0328/mma_204243574.png\"/> <link rel=\"apple-touch-icon\" href=\"https://s.pstatic.net/static/www/u/2014/0328/mma_20432863.png\"/> <script>window.nmain=window.nmain||{},window.nmain.supportFlicking=!1;var nsc=\"navertop.v4\",ua=navigator.userAgent,useIeJSFlag=\"1\";window.nmain.isIE=\"0\"===useIeJSFlag,document.getElementsByTagName(\"html\")[0].setAttribute(\"data-useragent\",ua),window.nmain.isIE&&(Object.create=function(n){function e(){}return e.prototype=n,new e})</script> <script>var darkmode= false;window.naver_corp_da=window.naver_corp_da||{main:{}},window.naver_corp_da.main=window.naver_corp_da.main||{},window.naver_corp_da.main.darkmode=darkmode,window.gladsdk=window.gladsdk||{cmd:[]},window.gladsdk.cmd.push((function(){window.gladsdk.setHostMeta(\"theme\",darkmode?\"dark\":\"light\")})),window.ndpsdk=window.ndpsdk||{cmd:[],polyfill:{cmd:[]}},window.ndpsdk.cmd.push((function(){window.ndpsdk.setHostMeta(\"theme\",darkmode?\"dark\":\"light\")}))</script>  <script async src=\"https://ssl.pstatic.net/tveta/libs/glad/prod/gfp-core.js\"></script> <script async src=\"https://ssl.pstatic.net/tveta/libs/ndpsdk/prod/ndp-loader.js\"></script>  <script> window.nmain.gv = {  isLogin: false,\\nuseId: null,   daInfo: {\"BEAUTY\":{\"menu\":\"BEAUTY\",\"childMenu\":\"\",\"adType\":\"singleDom\",\"multiDomAdUrl\":\"\",\"multiDomUnit\":\"\",\"infoList\":[{\"adposId\":\"1000163\",\"singleDomAdUrl\":\"https://siape.veta.naver.com/fxshow\",\"param\":{\"da_dom_id\":\"p_main_beauty_1\",\"tb\":\"BEAUTY_1\",\"unit\":\"SU10595\",\"calp\":\"-\"},\"type\":{\"position\":\"abs\",\"positionIndex\":4,\"subject\":\"contents\"},\"dom\":null},{\"adposId\":\"1000164\",\"singleDomAdUrl\":\"https://siape.veta.naver.com/fxshow\",\"param\":{\"da_dom_id\":\"p_main_beauty_2\",\"tb\":\"BEAUTY_1\",\"unit\":\"SU10596\",\"calp\":\"-\"},\"type\":{\"position\":\"abs\",\"positionIndex\":8,\"subject\":\"contents\"},\"dom\":null}]},\"LIVING\":{\"menu\":\"LIVING\",\"childMenu\":\"\",\"adType\":\"singleDom\",\"multiDomAdUrl\":\"\",\"multiDomUnit\":\"\",\"infoList\":[{\"adposId\":\"1000183\",\"singleDomAdUrl\":\"https://siape.veta.naver.com/fxshow\",\"param\":{\"da_dom_id\":\"p_main_living_1\",\"tb\":\"LIVING_1\",\"unit\":\"SU10597\",\"calp\":\"-\"},\"type\":{\"position\":\"abs\",\"positionIndex\":4,\"subject\":\"contents\"},\"dom\":null},{\"adposId\":\"1000184\",\"singleDomAdUrl\":\"https://siape.veta.naver.com/fxshow\",\"param\":{\"da_dom_id\":\"p_main_living_2\",\"tb\":\"LIVING_1\",\"unit\":\"SU10606\",\"calp\":\"-\"},\"type\":{\"position\":\"abs\",\"positionIndex\":8,\"subject\":\"contents\"},\"dom\":null}]},\"LIVINGHOME\":{\"menu\":\"LIVINGHOME\",\"childMenu\":\"\",\"adType\":\"singleDom\",\"multiDomAdUrl\":\"\",\"multiDomUnit\":\"\",\"infoList\":[{\"adposId\":\"1000185\",\"singleDomAdUrl\":\"https://siape.veta.naver.com/fxshow\",\"param\":{\"da_dom_id\":\"p_main_livinghome_1\",\"tb\":\"LIVINGHOME_1\",\"unit\":\"SU10571\",\"calp\":\"-\"},\"type\":{\"position\":\"abs\",\"positionIndex\":4,\"subject\":\"contents\"},\"dom\":null},{\"adposId\":\"1000186\",\"singleDomAdUrl\":\"https://siape.veta.naver.com/fxshow\",\"param\":{\"da_dom_id\":\"p_main_livinghome_2\",\"tb\":\"LIVINGHOME_1\",\"unit\":\"SU10572\",\"calp\":\"-\"},\"type\":{\"position\":\"abs\",\"positionIndex\":8,\"subject\":\"contents\"},\"dom\":null}]}},\\nsvt: 20220425184809,\\n}; </script> <script> window.nmain.newsstand = {\\nrcode: \\'(none)\\',\\nnewsCastSubsInfo: \\'\\',\\nnewsStandSubsInfo: \\'\\'\\n};\\nwindow.etc = {  };\\nwindow.svr = \"<!--cvweb02-->\"; </script> <script src=\"https://ssl.pstatic.net/tveta/libs/assets/js/pc/main/min/pc.veta.core.min.js\" defer=\"defer\"></script>   <script src=\"https://pm.pstatic.net/dist/js/external.a0729675.js?o=www\" type=\"text/javascript\" crossorigin=\"anonymous\" defer=\"defer\"></script> <script src=\"https://pm.pstatic.net/dist/js/preload.b0b0a351.js?o=www\" type=\"text/javascript\" crossorigin=\"anonymous\" defer=\"defer\"></script> <script src=\"https://pm.pstatic.net/dist/js/polyfill.ba1684f4.js?o=www\" type=\"text/javascript\" crossorigin=\"anonymous\" defer=\"defer\"></script>  <script src=\"https://pm.pstatic.net/dist/js/vendors~more~nmain~notice~search~sidebar_notice.349d5f0e.js?o=www\" type=\"text/javascript\" crossorigin=\"anonymous\" defer=\"defer\"></script>   <script src=\"https://pm.pstatic.net/dist/js/search.a46266a0.js?o=www\" type=\"text/javascript\" crossorigin=\"anonymous\" defer=\"defer\"></script>  <script src=\"https://pm.pstatic.net/dist/js/vendors~more~nmain~sidebar_notice.1cb39634.js?o=www\" type=\"text/javascript\" crossorigin=\"anonymous\" defer=\"defer\"></script> <script src=\"https://pm.pstatic.net/dist/js/nmain.8c6518f6.js?o=www\" type=\"text/javascript\" crossorigin=\"anonymous\" defer=\"defer\"></script> <style>:root{color-scheme:light}#_nx_kbd .setkorhelp a{display:none}</style> </head> <body> <div id=\"u_skip\"> <a href=\"#newsstand\"><span>뉴스스탠드 바로가기</span></a> <a href=\"#themecast\"><span>주제별캐스트 바로가기</span></a> <a href=\"#timesquare\"><span>타임스퀘어 바로가기</span></a> <a href=\"#shopcast\"><span>쇼핑캐스트 바로가기</span></a> <a href=\"#account\"><span>로그인 바로가기</span></a> </div> <div id=\"wrap\">         \\n<style>._1syGnXOL{padding-right:18px;font-size:14px;line-height:0;letter-spacing:-.25px;color:#000}._1syGnXOL span,._1syGnXOL strong{line-height:49px}._1syGnXOL:before{display:inline-block;content:\"\";vertical-align:top;background-image:url(https://static-whale.pstatic.net/main/sprite-20211123@2x.png);background-repeat:no-repeat;background-size:116px 112px;width:18px;height:18px;margin:16px 8px 0 0;background-position:-98px 0}[data-useragent*=\"MSIE 8\"] ._1syGnXOL:before{background-image:url(https://static-whale.pstatic.net/main/sprite-20211123.png)}._1syGnXOL._3dsvmZg2:before{background-position:-47px -85px}._1syGnXOL._1NBFx1WK:before{width:20px;height:20px;margin:15px 8px 0 0;background-position:-21px -89px}._1syGnXOL._2mcQEKCd:before{width:22px;height:22px;margin:14px 7px 0 0;background-position:-47px -63px}._1syGnXOL._36slsKuJ:before{width:21px;height:49px;margin:0 14px 0 0;background-position:0 -63px}._1syGnXOL._3di88A4c{padding-right:12px;font-size:17px}._1syGnXOL._3di88A4c:before{content:none}._1syGnXOL ._19K4X1CD{text-decoration:underline}._2aeXMlrb{display:inline-block;position:relative;font-size:12px;height:49px;width:78px;text-decoration:none;color:#fff;font-weight:700;letter-spacing:-.5px;vertical-align:top}._2aeXMlrb span{text-align:center;margin:9px 0;height:31px;display:block;line-height:31px;border-radius:15px}._2aeXMlrb span:before{display:inline-block;content:\"\";vertical-align:top;background-image:url(https://static-whale.pstatic.net/main/sprite-20211123@2x.png);background-repeat:no-repeat;background-size:116px 112px}[data-useragent*=\"MSIE 8\"] ._2aeXMlrb span:before{background-image:url(https://static-whale.pstatic.net/main/sprite-20211123.png)}._2aeXMlrb.BMgpjddw{font-size:11px;width:94px}._2aeXMlrb.BMgpjddw span:before{margin:9px 3px 0 0;width:17px;height:13px;background-position:-89px -63px}._3h-N8T9V{position:absolute;top:0;left:0;right:0;bottom:0;background:rgba(0,0,0,0)}._1KncATpM{display:inline-block;content:\"\";vertical-align:top;background-image:url(https://static-whale.pstatic.net/main/sprite-20211123@2x.png);background-repeat:no-repeat;background-size:116px 112px;margin-top:14px;float:left;width:98px;height:21px;background-position:0 -21px}[data-useragent*=\"MSIE 8\"] ._1KncATpM{background-image:url(https://static-whale.pstatic.net/main/sprite-20211123.png)}._1KncATpM._2v3uxv2x{background-position:0 0}._1KncATpM._1yl_Ow6o{background-position:0 -42px}._20PYt6lT{font-size:11px;height:49px;cursor:pointer;position:absolute;top:0;right:0;color:#666;opacity:.7}._20PYt6lT:after{width:15px;height:15px;margin-left:4px;background-position:-98px -33px;display:inline-block;content:\"\";vertical-align:top;background-image:url(https://static-whale.pstatic.net/main/sprite-20211123@2x.png);background-repeat:no-repeat;background-size:116px 112px}[data-useragent*=\"MSIE 8\"] ._20PYt6lT:after{background-image:url(https://static-whale.pstatic.net/main/sprite-20211123.png)}._20PYt6lT._39oMCV2N:after{background-position:-98px -18px}._20PYt6lT._3MOWOORv{color:#c3c2c2}._20PYt6lT._3MOWOORv:after{background-position:-80px -85px}._20PYt6lT._3wm5EzmJ{color:#fff}._20PYt6lT._3wm5EzmJ:after{background-position:-65px -85px}._1hiMWemA{height:49px}._1hiMWemA .tY_u8r23{position:relative;width:1130px;margin:0 auto}._1hiMWemA .tY_u8r23 a{text-decoration:none}._1hiMWemA._23U_6TM_{position:relative}._1hiMWemA._23U_6TM_:after{position:absolute;z-index:1;content:\"\";display:block;width:100%;height:1px;bottom:0;background-color:rgba(0,0,0,.050980392156862744)}</style>\\n<div\\nid=\"NM_TOP_BANNER\"\\ndata-clk-prefix=\"top\"\\nclass=\"_1hiMWemA\"\\nstyle=\"background-color: #1a104c\"\\n>\\n<div class=\"tY_u8r23\">\\n<a\\nclass=\"_3h-N8T9V\"\\nhref=\"https://whale.naver.com/banner/details/mousegesture?=main&wpid=RydDy7\"\\ndata-clk=\"dropbanner1b\"\\n></a\\n><i class=\"_1KncATpM _1yl_Ow6o\"><span class=\"blind\">NAVER whale</span></i\\n><img\\nsrc=\"https://static-whale.pstatic.net/main/img_mousegesture_v2@2x.png\"\\nwidth=\"200\"\\nheight=\"49\"\\nalt=\"\"\\nstyle=\"padding-left: 90px\"\\n/><span\\nclass=\"_1syGnXOL _3di88A4c\"\\ndata-clk=\"dropbanner1b\"\\nstyle=\"padding-right: 20px; color: white; padding-left: 20px\"\\n><span>이젠 클릭 대신 드래그! </span\\n><strong style=\"color: #1fefff\"\\n>마우스 제스처로 더욱 빠르게</strong\\n></span\\n><a\\nhref=\"https://installer-whale.pstatic.net/downloads/banner/RydDy7/WhaleSetup.exe\"\\nclass=\"_2aeXMlrb BMgpjddw\"\\nid=\"NM_whale_download_btn\"\\ndata-clk=\"dropdownload1b\"\\n><span style=\"background-color: #4525e5\">다운로드</span></a\\n><button\\ntype=\"button\"\\ndata-ui-cookie-exp-days=\"3\"\\ndata-ui-cookie-key=\"NM_TOP_PROMOTION\"\\ndata-ui-cookie-value=\"1\"\\ndata-ui-hide-target=\"#NM_TOP_BANNER\"\\ndata-clk=\"dropclose1b\"\\nclass=\"_20PYt6lT _3wm5EzmJ\"\\n>\\n3일 동안 보지 않기\\n</button>\\n</div>\\n</div>  <div id=\"header\" role=\"banner\">\\n\\n\\n\\n\\n\\n\\n\\n\\n<div class=\"special_bg\">\\n<div class=\"group_flex\">\\n<div class=\"logo_area\">\\n<h1 class=\"logo_default\">\\n<a href=\"/\" class=\"logo_naver\" data-clk=\"top.logo\"\\n><span class=\"blind\">네이버</span></a\\n>\\n</h1>\\n</div>\\n<div class=\"service_area\">\\n<a id=\"NM_set_home_btn\" href=\"https://help.naver.com/support/welcomePage/guide.help\" class=\"link_set\" data-clk=\"top.mkhome\">네이버를 시작페이지로</a>\\n<i class=\"sa_bar\"></i>\\n<a href=\"https://jr.naver.com\" class=\"link_jrnaver\" data-clk=\"top.jrnaver\"><i class=\"ico_jrnaver\"></i><span class=\"blind\">쥬니어네이버</span></a>\\n<a href=\"https://happybean.naver.com\" class=\"link_happybin\" data-clk=\"top.happybean\"><i class=\"ico_happybin\"></i><span class=\"blind\">해피빈</span></a>\\n</div>\\n\\n<div id=\"search\" class=\"search_area\" data-clk-prefix=\"sch\">\\n<form id=\"sform\" name=\"sform\" action=\"https://search.naver.com/search.naver\" method=\"get\" role=\"search\">\\n<fieldset>\\n<legend class=\"blind\">검색</legend>\\n<select id=\"where\" name=\"where\" title=\"검색 범위 선택\" class=\"blind\">\\n<option value=\"nexearch\" selected=\"selected\">통합검색</option><option value=\"post\">블로그</option><option value=\"cafeblog\">카페</option><option value=\"cafe\">- 카페명</option><option value=\"article\">- 카페글</option><option value=\"kin\">지식iN</option><option value=\"news\">뉴스</option><option value=\"web\">사이트</option><option value=\"category\">- 카테고리</option><option value=\"site\">- 사이트</option><option value=\"movie\">영화</option><option value=\"webkr\">웹문서</option><option value=\"dic\">사전</option><option value=\"100\">- 백과사전</option><option value=\"endic\">- 영어사전</option><option value=\"eedic\">- 영영사전</option><option value=\"krdic\">- 국어사전</option><option value=\"jpdic\">- 일본어사전</option><option value=\"hanja\">- 한자사전</option><option value=\"terms\">- 용어사전</option><option value=\"book\">책</option><option value=\"music\">음악</option><option value=\"doc\">전문자료</option><option value=\"shop\">쇼핑</option><option value=\"local\">지역</option><option value=\"video\">동영상</option><option value=\"image\">이미지</option><option value=\"mypc\">내PC</option><optgroup label=\"스마트 파인더\"><option value=\"movie\">영화</option><option value=\"auto\">자동차</option><option value=\"game\">게임</option><option value=\"health\">건강</option><option value=\"people\">인물</option></optgroup><optgroup label=\"네이버 랩\"><option>긍정부정검색</option></optgroup>\\n</select>\\n<input type=\"hidden\" id=\"sm\" name=\"sm\" value=\"top_hty\" />\\n<input type=\"hidden\" id=\"fbm\" name=\"fbm\" value=\"0\" />\\n<input type=\"hidden\" id=\"acr\" name=\"acr\" value=\"\" disabled=\"disabled\" />\\n<input type=\"hidden\" id=\"acq\" name=\"acq\" value=\"\" disabled=\"disabled\" />\\n<input type=\"hidden\" id=\"qdt\" name=\"qdt\" value=\"\" disabled=\"disabled\" />\\n<input type=\"hidden\" id=\"ie\" name=\"ie\" value=\"utf8\" />\\n<input type=\"hidden\" id=\"acir\" name=\"acir\" value=\"\" disabled=\"disabled\" />\\n<input type=\"hidden\" id=\"os\" name=\"os\" value=\"\" disabled=\"disabled\" />\\n<input type=\"hidden\" id=\"bid\" name=\"bid\" value=\"\" disabled=\"disabled\" />\\n<input type=\"hidden\" id=\"pkid\" name=\"pkid\" value=\"\" disabled=\"disabled\" />\\n<input type=\"hidden\" id=\"eid\" name=\"eid\" value=\"\" disabled=\"disabled\" />\\n<input type=\"hidden\" id=\"mra\" name=\"mra\" value=\"\" disabled=\"disabled\" />\\n\\n\\n\\n<div class=\"green_window\" style=\\'\\'>\\n<!-- [AU] data-atcmp-element 에 해당하는 attribute를 추가해주세요. -->\\n<input id=\"query\" name=\"query\" type=\"text\" title=\"검색어 입력\" maxlength=\"255\" class=\"input_text\" tabindex=\"1\" accesskey=\"s\" style=\"ime-mode:active;\" autocomplete=\"off\"  placeholder=\"검색어를 입력해 주세요.\" onclick=\"document.getElementById(\\'fbm\\').value=1;\" value=\"\" data-atcmp-element>\\n</div>\\n<button id=\"search_btn\" type=\"submit\" title=\"검색\" tabindex=\"3\" class=\"btn_submit\" onclick=\"window.nclick(this,\\'sch.action\\',\\'\\',\\'\\',event);\" style=\\'\\'>\\n<span class=\"blind\">검색</span>\\n<span class=\"ico_search_submit\"></span>\\n</button>\\n</fieldset>\\n</form>\\n<!-- 한글입력기 -->\\n<a href=\"#\" id=\"ke_kbd_btn\" role=\"button\" class=\"btn_keyboard\" onclick=\"return false;\"><span class=\"blind\">한글 입력기</span><span class=\"ico_keyboard\"></span></a>\\n<div id=\"_nx_kbd\" style=\"display:none;\"></div>\\n<div class=\"autocomplete\">\\n<!-- 자동완성 열린 경우 fold 클래스 추가, 딤드인 경우 dim 추가 -->\\n<a href=\"#\" role=\"button\" id=\"nautocomplete\" tabindex=\"2\" class=\"btn_arw _btn_arw fold\" aria-pressed=\"false\" data-atcmp-element><span class=\"blind\">자동완성 레이어</span><span class=\"ico_arr\"></span></a>\\n</div>\\n<!-- 자동완성레이어 -->\\n<div id=\"autoFrame\" class=\"reatcmp\" style=\"display: none;\">\\n<!-- [AU] data-atcmp-element attribute를 추가해주세요. -->\\n<div class=\"ly_atcmp\" data-atcmp-element>\\n<div class=\"api_atcmp_wrap\">\\n<!-- 최근검색어 -->\\n<!-- [AU] _recent_layer 클래스를 추가해주세요. -->\\n<div class=\"atcmp_fixer _recent_layer\" style=\"display:none;\">\\n<!-- [AU] _recent_header 클래스를 추가해주세요. -->\\n<div class=\"atcmp_header _recent_header\">\\n<strong class=\"tit\">최근검색어</strong>\\n<div class=\"option\">\\n<!-- [AU] _delAll 클래스를 추가해주세요. -->\\n<a role=\"button\" href=\"#\" class=\"item _delAll\" aria-pressed=\"false\">전체삭제</a>\\n</div>\\n</div>\\n<div class=\"atcmp_container\">\\n<!-- [AU] _recent 클래스를 추가해주세요. -->\\n<ul class=\"kwd_lst _recent\">\\n<!-- 최근검색어 템플릿 -->\\n<!-- [AU] _item 클래스를 추가해주세요. -->\\n<!-- [AU] data-template-type=\"history\" data-keyword=\"@in_txt@\" attribute를 추가해주세요. -->\\n<li class=\"item _item\" data-rank=\"@rank@\" data-template-type=\"history\" data-keyword=\"@in_txt@\">\\n<a href=\"#\" class=\"kwd\">\\n<span class=\"fix\"><span class=\"common_ico_kwd\"><i class=\"imsc ico_search\"></i></span><span>@txt@</span></span>\\n</a>\\n<span class=\"etc\">\\n<em class=\"date\">@date@.</em>\\n<!-- [AU] _del 클래스를 추가해주세요. -->\\n<a href=\"#\" role=\"button\" class=\"bt_item _del\" aria-pressed=\"false\"><i class=\"imsc ico_del\">삭제</i></a>\\n</span>\\n</li>\\n</ul>\\n<!-- [D] 검색어 저장 꺼진 경우 atcmp_fixer에 type_off 추가 -->\\n<!-- [AU] _offMsg 클래스를 추가해주세요. -->\\n<div class=\"kwd_info kwd_off _offMsg\" style=\"display: none;\">검색어 저장 기능이 꺼져 있습니다.<br><span class=\"kwd_dsc\">설정이 초기화 된다면 <a href=\"https://help.naver.com/support/alias/search/word/word_29.naver\" class=\"kwd_help\" data-clk=\"sly.help\" target=\"_blank\">도움말</a>을 확인해주세요.</span></div>\\n<!-- [D] 검색어 내역 없는 경우 atcmp_fixer에 type_off 추가 -->\\n<!-- [AU] _recentNone 클래스를 추가해주세요. -->\\n<div class=\"kwd_info kwd_none _recentNone\" style=\"display: none;\">최근 검색어 내역이 없습니다.<br><span class=\"kwd_dsc\">설정이 초기화 된다면 <a href=\"https://help.naver.com/support/alias/search/word/word_29.naver\" class=\"kwd_help\" data-clk=\"sly.help\" target=\"_blank\">도움말</a>을 확인해주세요.</span></div>\\n</div>\\n<div class=\"atcmp_footer\">\\n<span class=\"side_opt_area\">\\n<span class=\"opt_item\"><a href=\"https://help.naver.com/support/service/main.help?serviceNo=605&amp;categoryNo=1991\" data-clk=\"sly.help\" target=\"_blank\">도움말</a></span>\\n</span>\\n<span class=\"rside_opt_area\">\\n<span class=\"opt_item\">\\n<!-- [AU] _keywordOnOff 클래스를 추가해주세요. -->\\n<a href=\"#\" class=\"close _keywordOnOff\">자동저장 끄기</a>\\n</span>\\n</span>\\n</div>\\n</div>\\n<!-- 자동완성 -->\\n<!-- [AU] _atcmp_layer 클래스를 추가해주세요. -->\\n<div class=\"atcmp_fixer _atcmp_layer\" style=\"display:none;\">\\n<!-- [AU] _words 클래스를 추가해주세요. -->\\n<div class=\"atcmp_container _words\">\\n<!-- 정답형 템플릿 : 로또당첨번호 -->\\n<!-- [AU] _answer 클래스를 추가해주세요. -->\\n<!-- [AU] data-template-type=\"answer_3\" data-code=\"@code@\" data-keyword=\"@1@\" attribute를 추가해주세요. -->\\n<div class=\"atcmp_correct type_lotto _answer\" data-template-type=\"answer_3\" data-code=\"@code@\" data-keyword=\"@1@\">\\n<a href=\"#\" class=\"link_item\">\\n<span class=\"common_ico_kwd\"><i class=\"imsc ico_search\"></i></span>\\n<div class=\"dsc_area\">\\n<span class=\"tit\">@5@회차 당첨번호</span>\\n<span class=\"dsc\">\\n<span class=\"item\">추첨 @13@.</span><span class=\"item\">지급기한 1년</span>\\n</span>\\n</div>\\n<span class=\"etc_area\">\\n<span class=\"etc lotto\">\\n<em class=\"n@6@\">@6@</em><em class=\"n@7@\">@7@</em><em class=\"n@8@\">@8@</em><em class=\"n@9@\">@9@</em><em class=\"n@10@\">@10@</em><em class=\"n@11@\">@11@</em><em class=\"imsc_bf bonus n@12@\">@12@</em>\\n</span>\\n</span>\\n</a>\\n</div>\\n<!-- 정답형 템플릿 : 환율 -->\\n<!-- [AU] _answer 클래스를 추가해주세요. -->\\n<!-- [AU] data-template-type=\"answer_9\" data-code=\"@code@\" data-keyword=\"@1@\" attribute를 추가해주세요. -->\\n<div class=\"atcmp_correct type_exchange _answer\" data-template-type=\"answer_9\" data-code=\"@code@\" data-keyword=\"@1@\">\\n<!-- [D] 상승 up, 하락 down 추가 -->\\n<a href=\"#\" class=\"link_item @11@\">\\n<!-- [D] 국가별 class 가나다순\\nZAR 남아프리카 공화국\\nNPR 네팔\\nNOK 노르웨이\\nNZD 뉴질랜드\\nTWD 대만\\nDKK 덴마크\\nRUB 러시아\\nMOP 마카오\\nMYR 말레이시아\\nMXN 멕시코\\nMNT 몽골\\nUSD 미국\\nBHD 바레인\\nBDT 방글라데시\\nVND 베트남\\nBRL 브라질\\nSAR 사우디아라비아\\nSEK 스웨덴\\nCHF 스위스\\nSGD 싱가포르\\nAED 아랍에미리트\\nGBP 영국\\nEUR 유럽연합\\nILS 이스라엘\\nEGP 이집트\\nINR 인도\\nIDR 인도네시아\\nJPY 일본\\nCNY 중국\\nCZK 체코\\nCLP 칠레\\nKZT 카자흐스탄\\nQAR 카타르\\nCAD 캐나다\\nKWD 쿠웨이트\\nTHB 태국\\nTRY 터키\\nPKR 파키스탄\\nPLN 폴란드\\nPHP 필리핀\\nHUF 헝가리\\nAUD 호주\\nHKD 홍콩\\n-->\\n<span class=\"common_ico_kwd\"><i class=\"imsc ico @12@\">@14@</i></span>\\n<div class=\"dsc_area\">\\n<span class=\"tit\">@txt@<span class=\"sub\">@currency@</span></span>\\n<span class=\"dsc\">\\n<span class=\"item\"><i class=\"imsc ico_arr\"></i>@8@(@9@%)</span>\\n</span>\\n</div>\\n<span class=\"etc_area\">\\n<span class=\"etc\"><em class=\"num\">@6@</em>원</span>\\n</span>\\n</a>\\n</div>\\n<!-- 정답형 템플릿 : 날씨(국내11, 해외12) -->\\n<!-- [AU] _answer 클래스를 추가해주세요. -->\\n<!-- [AU] data-template-type=\"answer_11\" data-code=\"@code@\" data-keyword=\"@1@\" attribute를 추가해주세요. -->\\n<div class=\"atcmp_correct type_weather _answer\" data-template-type=\"answer_11\" data-code=\"@code@\" data-keyword=\"@1@\">\\n<!-- [D] 상승 up, 하락 down 추가 -->\\n<a href=\"#\" class=\"link_item @12@\">\\n<span class=\"common_ico_kwd\"><i class=\"imsc ico_search\"></i></span>\\n<div class=\"dsc_area\">\\n<span class=\"tit\">@txt@</span>\\n<span class=\"dsc\">\\n<span class=\"item\">@7@, @message@</span>\\n</span>\\n</div>\\n<span class=\"etc_area\">\\n<span class=\"etc\">\\n<!-- [D] 날씨별 class\\nico1 맑음(낮)\\nico2 맑음(밤)\\nico3 구름조금(낮)\\nico4 구름조금(밤)\\nico5 구름많음(낮)\\nico6 구름많음(밤)\\nico7 흐림\\nico8 약한비\\nico9 비\\nico10 강한비\\nico11 약한눈\\nico12 눈\\nico13 강한눈\\nico14 진눈깨비\\nico15 소나기\\nico16 안개\\nico17 소낙눈\\nico18 번개뇌우\\nico19 우박\\nico20 황사\\nico21 비또는눈\\nico22 가끔비\\nico23 가끔눈\\nico24 가끔비또는눈\\nico25 흐린후갬\\nico26 뇌우후갬\\nico27 비후갬\\nico28 눈후갬\\nico29 흐려져비\\nico30 흐려져눈\\n-->\\n<span class=\"ico_weather\"><i class=\"imsc ico ico@iconNo@\">@7@</i></span>\\n<em class=\"degree\">@8@<sup class=\"celsius\">°</sup></em>\\n</span>\\n</span>\\n</a>\\n</div>\\n<!-- 정답형 템플릿 : 사이트 바로가기 -->\\n<!-- [AU] _answer 클래스를 추가해주세요. -->\\n<!-- [AU] data-template-type=\"answer_17\" data-code=\"@code@\" data-keyword=\"@1@\" attribute를 추가해주세요. -->\\n<div class=\"atcmp_correct type_site _answer\" data-template-type=\"answer_17\" data-code=\"@code@\" data-keyword=\"@1@\">\\n<a href=\"@5@\" class=\"link_item\" target=\"_blank\">\\n<span class=\"common_ico_kwd\"><i class=\"imsc ico_url\"></i></span>\\n<div class=\"dsc_area\">\\n<span class=\"tit\">@txt@</span>\\n<span class=\"dsc\">\\n<span class=\"item\">@5@</span>\\n</span>\\n</div>\\n<span class=\"etc_area\">\\n<span class=\"etc\">바로가기</span>\\n</span>\\n</a>\\n</div>\\n<!-- [AU] _kwd_list 클래스를 추가해주세요. -->\\n<ul class=\"kwd_lst _kwd_list\">\\n<!-- [AU] 자동완성 검색어 템플릿 -->\\n<!-- [AU] _item 클래스를 추가해주세요. -->\\n<!-- [AU] data-rank=\"@rank@\" data-template-type=\"suggestion\" data-keyword=\"@in_txt@\" attribute를 추가해주세요. -->\\n<li class=\"item _item\" data-rank=\"@rank@\" data-template-type=\"suggestion\" data-keyword=\"@in_txt@\">\\n<a href=\"#\" class=\"kwd\">\\n<span class=\"fix\"><span class=\"common_ico_kwd\"><i class=\"imsc ico_search\"></i></span>@txt@</span>\\n</a>\\n<span class=\"etc\">\\n<a href=\"#\" role=\"button\" class=\"bt_item _add\" aria-pressed=\"false\"><i class=\"imsc ico_insert\">추가</i></a>\\n</span>\\n</li>\\n<!-- [AU] 최근검색어 템플릿 -->\\n<!-- [AU] _item 클래스를 추가해주세요. -->\\n<!-- [AU] data-rank=\"@rank@\" data-template-type=\"history\" data-keyword=\"@in_txt@\" attribute를 추가해주세요. -->\\n<li class=\"item has_correct _item\" data-rank=\"@rank@\" data-template-type=\"history\" data-keyword=\"@in_txt@\">\\n<a href=\"#\" class=\"kwd\">\\n<span class=\"fix\"><span class=\"common_ico_kwd\"><i class=\"imsc ico_search\"></i></span>@txt@</span>\\n</a>\\n<span class=\"etc\">\\n<!-- 최근검색어 있으면 날짜 표시 -->\\n<em class=\"date\">@date@.</em>\\n<a href=\"#\" role=\"button\" class=\"bt_item _add\" aria-pressed=\"false\"><i class=\"imsc ico_insert\">추가</i></a>\\n</span>\\n</li>\\n</ul>\\n<!-- [AU] 문맥검색 템플릿 -->\\n<!-- [AU] _item 클래스를 추가해주세요. -->\\n<!-- [AU] data-rank=\"@rank@\" data-template-type=\"intend\" data-keyword=\"@transQuery@\" attribute를 추가해주세요. -->\\n<li class=\"item has_correct _item\" data-rank=\"@rank@\" data-intend-rank=\"@intendRank@\" data-template-type=\"intend\" data-keyword=\"@transQuery@\">\\n<a href=\"#\" class=\"kwd\">\\n<span class=\"fix\"><span class=\"common_ico_kwd\"><i class=\"imsc ico_search\"></i></span>@query@ <span class=\"context\">@intend@</span></span>\\n</a>\\n<span class=\"etc\">\\n<a href=\"#\" role=\"button\" class=\"bt_item _add\" aria-pressed=\"false\"><i class=\"imsc ico_insert\">추가</i></a>\\n</span>\\n</li>\\n<!-- [D] 선거안내문구 -->\\n<!-- [AU] _alert 클래스를 추가해주세요. -->\\n<div class=\"atcmp_alert _alert\">\\n<div class=\"dsc_election\">\\n<p class=\"dsc\">\\n<i class=\"imsc ico_election\"></i><span class=\"_alert_passage\"></span>\\n</p>\\n<span class=\"dsc_inner\">\\n<!-- [AU] _alert_passage2 클래스를 추가해주세요. -->\\n<span class=\"_alert_passage2\"></span>\\n<!-- [AU] _alert_link 클래스를 추가해주세요. -->\\n<a href=\"#\" class=\"link _alert_link\" target=\"_blank\">자세히보기</a>\\n</span>\\n</div>\\n</div>\\n<!-- [AU] _plus 클래스를 추가해주세요. -->\\n<div class=\"atcmp_plus _plus\">\\n<div class=\"dsc_plus\">\\n<a href=\"https://help.naver.com/support/alias/search/word/word_16.naver\" class=\"link_dsc\" data-clk=\"sug.cxhelp\" target=\"_blank\">관심사를 반영한 컨텍스트 자동완성<i class=\"imsc ico_help\">도움말</i></a>\\n</div>\\n<div class=\"switch\">\\n<!-- [D] 선택시 aria-pressed=\"ture/false\" -->\\n<!-- [AU] _plus_btn 클래스를 추가해주세요. -->\\n<a role=\"button\" href=\"#\" class=\"bt_switch active _plus_btn\" aria-pressed=\"false\"><i class=\"imsc ico_option\">컨텍스트 자동완성</i></a>\\n</div>\\n<!-- [AU] _plus_layer 클래스를 추가해주세요. -->\\n<div class=\"layer_plus _plus_layer\">\\n<strong class=\"tit\">컨텍스트 자동완성</strong>\\n<!-- [AU] _plus_layer_isloggedin 클래스를 추가해주세요. -->\\n<!-- [AU] style=\"display:none\" 추가해주세요. -->\\n<div class=\"_plus_layer_isloggedin\" style=\"display:none\">\\n<p class=\"dsc\">ON/OFF 설정은<br>해당기기(브라우저)에 저장됩니다.</p>\\n<div class=\"btn_area\">\\n<a href=\"https://help.naver.com/support/alias/search/word/word_16.naver\" class=\"btn btn_view\" data-clk=\"sug.cxlink\" target=\"_blank\">자세히</a>\\n</div>\\n</div>\\n<!-- [AU] _plus_layer_isnotloggedin 클래스를 추가해주세요. -->\\n<!-- [AU] style=\"display:none\" 추가해주세요. -->\\n<div class=\"_plus_layer_isnotloggedin\" style=\"display:none\">\\n<p class=\"dsc\"><em class=\"txt\">동일한 시간대/연령/남녀별</em> 사용자 그룹의<br>관심사에 맞춰 자동완성을 제공합니다.</p>\\n<div class=\"btn_area\">\\n<a href=\"https://nid.naver.com/nidlogin.login\" class=\"btn btn_login\" data-clk=\"sug.cxlogin\">로그인</a>\\n<a href=\"https://help.naver.com/support/alias/search/word/word_16.naver\" class=\"btn btn_view\" data-clk=\"sug.cxlink\" target=\"_blank\">자세히</a>\\n</div>\\n</div>\\n<!-- [AU] _plus_layer_close 클래스를 추가해주세요. -->\\n<a href=\"#\" role=\"button\" class=\"btn_close _plus_layer_close\"><i class=\"imsc ico_close\">컨텍스트 자동완성 레이어 닫기</i></a>\\n</div>\\n</div>\\n</div>\\n<div class=\"atcmp_footer\">\\n<span class=\"side_opt_area\">\\n<span class=\"opt_item\"><a href=\"https://help.naver.com/support/service/main.help?serviceNo=605&categoryNo=1987\" data-clk=\"sug.help\" target=\"_blank\">도움말</a></span>\\n<span class=\"opt_item\"><a href=\"https://help.naver.com/support/contents/contents.help?serviceNo=605&categoryNo=18215\" class=\"report\" data-clk=\"sug.report\" target=\"_blank\">신고</a></span>\\n</span>\\n<span class=\"rside_opt_area\">\\n<span class=\"opt_item\">\\n<!-- [AU] _suggestOnOff 클래스를 추가해주세요. -->\\n<a href=\"#\" class=\"close _suggestOnOff\">자동완성 끄기</a>\\n</span>\\n</span>\\n</div>\\n</div>\\n</div>\\n</div>\\n</div>\\n</div>\\n\\n</div>\\n</div>\\n\\n<!--EMPTY-->\\n<div id=\"gnb\">\\n<div id=\"NM_FAVORITE\" class=\"gnb_inner\">\\n<div class=\"group_nav\">\\n<ul class=\"list_nav type_fix\">\\n<li class=\"nav_item\">\\n<a href=\"https://mail.naver.com/\" class=\"nav\" data-clk=\"svc.mail\"><i class=\"ico_mail\"></i>메일</a>\\n</li>\\n<li class=\"nav_item\"><a href=\"https://section.cafe.naver.com/\" class=\"nav\" data-clk=\"svc.cafe\">카페</a></li>\\n<li class=\"nav_item\"><a href=\"https://section.blog.naver.com/\" class=\"nav\" data-clk=\"svc.blog\">블로그</a></li>\\n<li class=\"nav_item\"><a href=\"https://kin.naver.com/\" class=\"nav\" data-clk=\"svc.kin\">지식iN</a></li>\\n<li class=\"nav_item\"><a href=\"https://shopping.naver.com/\" class=\"nav shop\" data-clk=\"svc.shopping\"><span class=\"blind\">쇼핑</span></a></li>\\n<li class=\"nav_item\"><a href=\"https://shoppinglive.naver.com/home\" class=\"nav shoplive\"\\ndata-clk=\"svc.shoppinglive\"><span class=\"blind\">쇼핑LIVE</span></a></li>\\n<li class=\"nav_item\"><a href=\"https://order.pay.naver.com/home\" class=\"nav\" data-clk=\"svc.pay\">Pay</a></li>\\n<li class=\"nav_item\">\\n<a href=\"https://tv.naver.com/\" class=\"nav\" data-clk=\"svc.tvcast\"><i class=\"ico_tv\"></i>TV</a>\\n</li>\\n</ul>\\n<ul\\nclass=\"list_nav NM_FAVORITE_LIST\"\\n>\\n<li class=\"nav_item\"><a href=\"https://dict.naver.com/\" class=\"nav\" data-clk=\"svc.dic\">사전</a></li>\\n<li class=\"nav_item\"><a href=\"https://news.naver.com/\" class=\"nav\" data-clk=\"svc.news\">뉴스</a></li>\\n<li class=\"nav_item\"><a href=\"https://finance.naver.com/\" class=\"nav\" data-clk=\"svc.stock\">증권</a></li>\\n<li class=\"nav_item\"><a href=\"https://land.naver.com/\" class=\"nav\" data-clk=\"svc.land\">부동산</a></li>\\n<li class=\"nav_item\"><a href=\"https://map.naver.com/\" class=\"nav\" data-clk=\"svc.map\">지도</a></li>\\n<li class=\"nav_item\"><a href=\"https://vibe.naver.com/\" class=\"nav\" data-clk=\"svc.vibe\">VIBE</a></li>\\n<li class=\"nav_item\"><a href=\"https://book.naver.com/\" class=\"nav\" data-clk=\"svc.book\">책</a></li>\\n<li class=\"nav_item\"><a href=\"https://comic.naver.com/\" class=\"nav\" data-clk=\"svc.webtoon\">웹툰</a></li>\\n\\n</ul>\\n<ul class=\"list_nav type_empty\" style=\"display: none;\"></ul>\\n<a href=\"#\" role=\"button\" class=\"btn_more\" data-clk=\"svc.more\">더보기</a>\\n<div class=\"ly_btn_area\">\\n<a href=\"more.html\" class=\"btn NM_FAVORITE_ALL\" data-clk=\"map.svcmore\">서비스 전체보기</a>\\n<a href=\"#\" role=\"button\" class=\"btn btn_set\" data-clk=\"map.edit\">메뉴설정</a>\\n<a href=\"#\" role=\"button\" class=\"btn btn_reset\" data-clk=\"edt.reset\">초기화</a>\\n<a href=\"#\" role=\"button\" class=\"btn btn_save\" data-clk=\"edt.save\">저장</a>\\n</div>\\n</div>\\n<div id=\"NM_WEATHER\" class=\"group_weather\">\\n<div>\\n<a data-clk=\"squ.weat\" href=\"https://weather.naver.com/today/WDJPN00047\" class=\"weather_area ico_w01\">\\n<div class=\"current_box\">\\n<strong class=\"current\" aria-label=\"현재기온\">21.0°</strong><strong class=\"state\">맑음(낮)</strong>\\n</div>\\n<div class=\"degree_box\">\\n<span class=\"min\" aria-label=\"최저기온\">26.0°</span><span class=\"max\" aria-label=\"최고기온\">26.0°</span>\\n</div>\\n<span class=\"location\">도쿄</span>\\n</a>\\n</div>\\n</div>\\n</div>\\n<div class=\"ly_service\">\\n<div class=\"group_service NM_FAVORITE_ALL_LY\"></div>\\n<div class=\"group_service NM_FAVORITE_EDIT_LY\" style=\"display: none;\"></div>\\n</div>\\n</div>\\n</div>\\n <div id=\"container\" role=\"main\"> <div style=\"position:relative;width:1130px;margin:0 auto;z-index:11\"> <div id=\"da_top\"></div> <div id=\"da_expwide\"></div> </div> <div id=\"NM_INT_LEFT\" class=\"column_left\"> <div id=\"veta_top\"> <div id=\"veta_top_inner\" style=\"height:135px\"> </div> <span class=\"veta_bd_t\"></span> <span class=\"veta_bd_b\"></span> <span class=\"veta_bd_l\"></span> <span class=\"veta_bd_r\"></span> </div> <div id=\"newsstand\" class=\"sc_newscast\"> <h2 class=\"blind\">뉴스스탠드</h2> <div id=\"NM_NEWSSTAND_HEADER\" class=\"group_issue\" data-clk-prefix=\"ncy\"> <div class=\"issue_area\"> <a class=\"link_media\" href=\"https://news.naver.com/main/list.naver?mode=LPOD&mid=sec&sid1=001&sid2=140&oid=001&isYeonhapFlash=Y\" data-clk=\"newsflash\">연합뉴스</a> <div id=\"NM_ONELINE_ROLLING\" class=\"list_issue\" data-nm-ui=\"rolling\"> <div><a href=\"https://news.naver.com/main/list.naver?mode=LPOD&mid=sec&sid1=001&sid2=140&oid=001&isYeonhapFlash=Y&aid=0013136832\" class=\"issue\" data-clk=\"quickarticle\">민주 지도부, 검수완박 중재안 강행 태세…\\'원안 통과\\' 주장도</a></div>\\n<div><a href=\"https://news.naver.com/main/list.naver?mode=LPOD&mid=sec&sid1=001&sid2=140&oid=001&isYeonhapFlash=Y&aid=0013136921\" class=\"issue\" data-clk=\"quickarticle\">한덕수 인사청문회 파행 끝 산회…민주·정의 \\'보이콧\\'</a></div>\\n<div><a href=\"https://news.naver.com/main/list.naver?mode=LPOD&mid=sec&sid1=001&sid2=140&oid=001&isYeonhapFlash=Y&aid=0013136619\" class=\"issue\" data-clk=\"quickarticle\">靑, 5월10일 정오 일반에 개방…TF \"권력의 상징 국민 품으로\"</a></div>\\n<div><a href=\"https://news.naver.com/main/list.naver?mode=LPOD&mid=sec&sid1=001&sid2=140&oid=001&isYeonhapFlash=Y&aid=0013136694\" class=\"issue\" data-clk=\"quickarticle\">1기 신도시 재건축, 속도조절 한다…안전진단 완화 공약도 손질</a></div>\\n<div><a href=\"https://news.naver.com/main/list.naver?mode=LPOD&mid=sec&sid1=001&sid2=140&oid=001&isYeonhapFlash=Y&aid=0013136624\" class=\"issue\" data-clk=\"quickarticle\">이창용 \"물가가 성장보다 더 걱정\"…기준금리 추가 인상 시사</a></div>\\n<div><a href=\"https://news.naver.com/main/list.naver?mode=LPOD&mid=sec&sid1=001&sid2=140&oid=001&isYeonhapFlash=Y&aid=0013136850\" class=\"issue\" data-clk=\"quickarticle\">美자이언트스텝 가능성에 금융시장 \\'출렁\\'…주가·원화가치 급락</a></div>\\n<div><a href=\"https://news.naver.com/main/list.naver?mode=LPOD&mid=sec&sid1=001&sid2=140&oid=001&isYeonhapFlash=Y&aid=0013136938\" class=\"issue\" data-clk=\"quickarticle\">뚝 떨어진 전세가율…내 집 마련 더 어려워져</a></div>\\n<div><a href=\"https://news.naver.com/main/list.naver?mode=LPOD&mid=sec&sid1=001&sid2=140&oid=001&isYeonhapFlash=Y&aid=0013136117\" class=\"issue\" data-clk=\"quickarticle\">\\'미성년 공저자 끼워넣기\\' 논문 96건…조민 포함 5명 입학취소</a></div>\\n<div><a href=\"https://news.naver.com/main/list.naver?mode=LPOD&mid=sec&sid1=001&sid2=140&oid=001&isYeonhapFlash=Y&aid=0013136815\" class=\"issue\" data-clk=\"quickarticle\">전장연 대표, 경찰 조사받아…\"지하철시위, 어쩔수 없었다\"</a></div>\\n<div><a href=\"https://news.naver.com/main/list.naver?mode=LPOD&mid=sec&sid1=001&sid2=140&oid=001&isYeonhapFlash=Y&aid=0013136737\" class=\"issue\" data-clk=\"quickarticle\">기차로 키이우 찾은 美국무 \"우크라, 푸틴보다 오래갈 것\"</a></div> </div> </div> <div class=\"direct_area\"> <a href=\"http://news.naver.com/\" class=\"link_news\" data-clk=\"newshome\">뉴스홈</a>\\n<a href=\"http://entertain.naver.com/home\" class=\"link_direct\" data-clk=\"entertainment\">연예</a>\\n<a href=\"http://sports.news.naver.com/\" class=\"link_direct\" data-clk=\"sports\">스포츠</a>\\n<a href=\"http://news.naver.com/main/main.naver?mode=LSD&mid=shm&sid1=101\" class=\"link_direct\" data-clk=\"economy\">경제</a> </div> </div>        <div id=\"NM_NEWSSTAND_TITLE\" class=\"group_title\" data-clk-prefix=\"nsd\"> <a href=\"http://newsstand.naver.com/\" class=\"link_newsstand\" data-clk=\"title\" target=\"_blank\">뉴스스탠드</a> <div id=\"NM_NEWSSTAND_data_buttons\" class=\"sort_area\" role=\"tablist\">  <a href=\"#\" role=\"tab\" data-type=\"my\" data-clk=\"my\" class=\"btn_sort\" aria-controls=\"NM_NEWSSTAND_MY_LIST\" aria-selected=\"false\">구독한 언론사</a> <a href=\"#\" role=\"tab\" data-type=\"all\" data-clk=\"all\" class=\"btn_sort\" aria-controls=\"NM_NEWSSTAND_DEFAULT_THUMB\" aria-selected=\"true\">전체언론사</a>  </div> <div id=\"NM_NEWSSTAND_view_buttons\" class=\"set_area\" role=\"tablist\">  <a href=\"#\" role=\"tab\" data-type=\"list\" data-clk=\"articleview\" class=\"btn_set\" aria-controls=\"NM_NEWSSTAND_DEFAULT_LIST\" aria-selected=\"false\"> <i class=\"ico_list\"><span class=\"blind\">리스트형</span></i></a> <a href=\"#\" role=\"tab\" data-type=\"thumb\" data-clk=\"pressview\" class=\"btn_set\" aria-controls=\"NM_NEWSSTAND_DEFAULT_THUMB\" aria-selected=\"true\"> <i class=\"ico_tile\"><span class=\"blind\">썸네일형</span></i></a>  <a href=\"http://newsstand.naver.com/config.html\" class=\"btn_set\" data-clk=\"set\" target=\"_blank\"> <i class=\"ico_set\"><span class=\"blind\">설정</span></i></a> </div> </div> <div id=\"NM_NEWSSTAND_VIEW_CONTAINER\" style=\"position:relative\"> <div id=\"NM_NEWSSTAND_DEFAULT_LIST\" class=\"group_news\" role=\"tabpanel\" style=\"display:none\" data-clk-prefix=\"nsd_all\"> <a href=\"#\" role=\"button\" class=\"pm_btn_prev_l _NM_NEWSSTAND_LIST_prev_btn\" data-clk-custom=\"prev\"><i class=\"ico_btn\"><span class=\"blind\">이전</span></i></a> <a href=\"#\" role=\"button\" class=\"pm_btn_next_l _NM_NEWSSTAND_LIST_next_btn\" data-clk-custom=\"next\"><i class=\"ico_btn\"><span class=\"blind\">다음</span></i></a> <div class=\"list_view\"> <div class=\"option_area\"> <div class=\"list_option_wrap\"> <ul class=\"list_option\"> <li class=\"option_item\" data-cateid=\"ct2\"><a href=\"#\" class=\"option\" data-clk=\"daei\">종합/경제</a></li> <li class=\"option_item\" data-cateid=\"ct3\"><a href=\"#\" class=\"option\" data-clk=\"dtvcom\">방송/통신</a></li> <li class=\"option_item\" data-cateid=\"ct4\"><a href=\"#\" class=\"option\" data-clk=\"dit\">IT</a></li> <li class=\"option_item\" data-cateid=\"ct5\"><a href=\"#\" class=\"option\" data-clk=\"deng\">영자지</a></li> <li class=\"option_item\" data-cateid=\"ct6\"><a href=\"#\" class=\"option\" data-clk=\"dsporent\">스포츠/연예</a></li> <li class=\"option_item\" data-cateid=\"ct7\"><a href=\"#\" class=\"option\" data-clk=\"dmagtec\">매거진/전문지</a></li> <li class=\"option_item\" data-cateid=\"ct8\"><a href=\"#\" class=\"option\" data-clk=\"dloc\">지역</a></li> </ul> </div> </div> <div class=\"_NM_NEWSSTAND_ARTICLE_CONTAINER\" data-clk-sub=\"*a\"></div> </div> <div class=\"ly_popup NM_NEWSSTAND_POPUP NM_NEWSSTAND_invalid\" style=\"display:none\" data-clk-sub=\"*a\"> <a href=\"#\" role=\"button\" class=\"btn_close NM_NEWSSTAND_POPUP_CLOSE\"><i class=\"ico_close\"></i><span class=\"blind\">닫기</span></a> <p class=\"popup_msg\">해당 언론사 사정으로 접근이 제한됩니다.</p> <div class=\"popup_btn\"> <a href=\"#\" role=\"button\" class=\"btn_confirm NM_NEWSSTAND_POPUP_CLOSE\">확인</a> </div> </div> <div class=\"ly_popup NM_NEWSSTAND_POPUP NM_NEWSSTAND_undescribe_confirm\" style=\"display:none\" data-clk-sub=\"*a\"> <a href=\"#\" role=\"button\" class=\"btn_close NM_NEWSSTAND_POPUP_CLOSE\" data-clk=\"usclose\"><i class=\"ico_close\"></i><span class=\"blind\">닫기</span></a> <p class=\"popup_msg\"><strong class=\"NM_NEWSSTAND_POPUP_PNAME\"></strong>을(를)<br>구독해지 하시겠습니까?</p> <div class=\"popup_btn\"> <a href=\"#\" role=\"button\" class=\"btn_confirm NM_NEWSSTAND_POPUP_CONFIRM\" data-clk=\"usdone\">확인</a> <a href=\"#\" role=\"button\" class=\"btn_confirm NM_NEWSSTAND_POPUP_CLOSE\" data-clk=\"uscancel\">취소</a> </div> </div> <div class=\"ly_toast NM_NEWSSTAND_TOAST\" style=\"display:none\"> <p class=\"toast_msg\">구독한 언론사에 추가되었습니다.</p> </div> </div>   <div id=\"NM_NEWSSTAND_DEFAULT_THUMB\" class=\"group_news\" role=\"tabpanel\" style=\"display:block\" data-clk-prefix=\"nsd_all\"> <a href=\"#\" role=\"button\" class=\"pm_btn_prev_l _NM_UI_PAGE_PREV\" data-clk-custom=\"prev\"><i class=\"ico_btn\"><span class=\"blind\">이전</span></i></a> <a href=\"#\" role=\"button\" class=\"pm_btn_next_l _NM_UI_PAGE_NEXT\" data-clk-custom=\"next\"><i class=\"ico_btn\"><span class=\"blind\">다음</span></i></a> <div class=\"_NM_UI_PAGE_CONTAINER\" style=\"height:100%;overflow:hidden\" data-clk-sub=\"*p\">   <div style=\"width: 750px; float: left;\">\\n<div class=\"tile_view\">\\n<div class=\"frame_area\">\\n<i class=\"line to_right1\"></i>\\n<i class=\"line to_right2\"></i>\\n<i class=\"line to_right3\"></i>\\n<i class=\"line to_bottom1\"></i>\\n<i class=\"line to_bottom2\"></i>\\n<i class=\"line to_bottom3\"></i>\\n<i class=\"line to_bottom4\"></i>\\n<i class=\"line to_bottom5\"></i>\\n</div>\\n<div class=\"thumb_area\">\\n<div\\nclass=\"thumb_box _NM_NEWSSTAND_THUMB _NM_NEWSSTAND_THUMB_press_valid\"\\ndata-pid=\"005\"\\n>\\n<a href=\"#\" class=\"thumb\">\\n<img\\nsrc=\"https://s.pstatic.net/static/newsstand/2020/logo/light/0604/005.png\"\\nheight=\"20\"\\nalt=\"국민일보\"\\nclass=\"news_logo\"\\n/>\\n<span class=\"thumb_dim\"></span\\n></a>\\n<div class=\"popup_wrap\">\\n<a\\nhref=\"#\"\\nrole=\"button\"\\nclass=\"btn_popup _NM_NEWSSTAND_THUMB_subscribe_press\"\\ndata-pid=\"005\"\\ndata-clk=\"sub\"\\n>구독</a\\n>\\n<a\\nhref=\"#\"\\nrole=\"button\"\\nclass=\"btn_popup _NM_NEWSSTAND_THUMB_unsubscribe_press\"\\ndata-pid=\"005\"\\ndata-clk=\"unsub\"\\n>해지</a\\n>\\n<a\\nhref=\"http://newsstand.naver.com/?list=&pcode=005\"\\ntarget=\"_blank\"\\nclass=\"btn_popup\"\\ndata-clk=\"logo\"\\ndata-pid=\"005\"\\n>기사보기</a\\n>\\n</div>\\n</div>\\n<div\\nclass=\"thumb_box _NM_NEWSSTAND_THUMB _NM_NEWSSTAND_THUMB_press_valid\"\\ndata-pid=\"029\"\\n>\\n<a href=\"#\" class=\"thumb\">\\n<img\\nsrc=\"https://s.pstatic.net/static/newsstand/2020/logo/light/0604/029.png\"\\nheight=\"20\"\\nalt=\"디지털타임스\"\\nclass=\"news_logo\"\\n/>\\n<span class=\"thumb_dim\"></span\\n></a>\\n<div class=\"popup_wrap\">\\n<a\\nhref=\"#\"\\nrole=\"button\"\\nclass=\"btn_popup _NM_NEWSSTAND_THUMB_subscribe_press\"\\ndata-pid=\"029\"\\ndata-clk=\"sub\"\\n>구독</a\\n>\\n<a\\nhref=\"#\"\\nrole=\"button\"\\nclass=\"btn_popup _NM_NEWSSTAND_THUMB_unsubscribe_press\"\\ndata-pid=\"029\"\\ndata-clk=\"unsub\"\\n>해지</a\\n>\\n<a\\nhref=\"http://newsstand.naver.com/?list=&pcode=029\"\\ntarget=\"_blank\"\\nclass=\"btn_popup\"\\ndata-clk=\"logo\"\\ndata-pid=\"029\"\\n>기사보기</a\\n>\\n</div>\\n</div>\\n<div\\nclass=\"thumb_box _NM_NEWSSTAND_THUMB _NM_NEWSSTAND_THUMB_press_valid\"\\ndata-pid=\"327\"\\n>\\n<a href=\"#\" class=\"thumb\">\\n<img\\nsrc=\"https://s.pstatic.net/static/newsstand/2020/logo/light/0604/327.png\"\\nheight=\"20\"\\nalt=\"뉴데일리\"\\nclass=\"news_logo\"\\n/>\\n<span class=\"thumb_dim\"></span\\n></a>\\n<div class=\"popup_wrap\">\\n<a\\nhref=\"#\"\\nrole=\"button\"\\nclass=\"btn_popup _NM_NEWSSTAND_THUMB_subscribe_press\"\\ndata-pid=\"327\"\\ndata-clk=\"sub\"\\n>구독</a\\n>\\n<a\\nhref=\"#\"\\nrole=\"button\"\\nclass=\"btn_popup _NM_NEWSSTAND_THUMB_unsubscribe_press\"\\ndata-pid=\"327\"\\ndata-clk=\"unsub\"\\n>해지</a\\n>\\n<a\\nhref=\"http://newsstand.naver.com/?list=&pcode=327\"\\ntarget=\"_blank\"\\nclass=\"btn_popup\"\\ndata-clk=\"logo\"\\ndata-pid=\"327\"\\n>기사보기</a\\n>\\n</div>\\n</div>\\n<div\\nclass=\"thumb_box _NM_NEWSSTAND_THUMB _NM_NEWSSTAND_THUMB_press_valid\"\\ndata-pid=\"214\"\\n>\\n<a href=\"#\" class=\"thumb\">\\n<img\\nsrc=\"https://s.pstatic.net/static/newsstand/2020/logo/light/0604/214.png\"\\nheight=\"20\"\\nalt=\"MBC\"\\nclass=\"news_logo\"\\n/>\\n<span class=\"thumb_dim\"></span\\n></a>\\n<div class=\"popup_wrap\">\\n<a\\nhref=\"#\"\\nrole=\"button\"\\nclass=\"btn_popup _NM_NEWSSTAND_THUMB_subscribe_press\"\\ndata-pid=\"214\"\\ndata-clk=\"sub\"\\n>구독</a\\n>\\n<a\\nhref=\"#\"\\nrole=\"button\"\\nclass=\"btn_popup _NM_NEWSSTAND_THUMB_unsubscribe_press\"\\ndata-pid=\"214\"\\ndata-clk=\"unsub\"\\n>해지</a\\n>\\n<a\\nhref=\"http://newsstand.naver.com/?list=&pcode=214\"\\ntarget=\"_blank\"\\nclass=\"btn_popup\"\\ndata-clk=\"logo\"\\ndata-pid=\"214\"\\n>기사보기</a\\n>\\n</div>\\n</div>\\n<div\\nclass=\"thumb_box _NM_NEWSSTAND_THUMB _NM_NEWSSTAND_THUMB_press_valid\"\\ndata-pid=\"368\"\\n>\\n<a href=\"#\" class=\"thumb\">\\n<img\\nsrc=\"https://s.pstatic.net/static/newsstand/2020/logo/light/0604/368.png\"\\nheight=\"20\"\\nalt=\"데일리안\"\\nclass=\"news_logo\"\\n/>\\n<span class=\"thumb_dim\"></span\\n></a>\\n<div class=\"popup_wrap\">\\n<a\\nhref=\"#\"\\nrole=\"button\"\\nclass=\"btn_popup _NM_NEWSSTAND_THUMB_subscribe_press\"\\ndata-pid=\"368\"\\ndata-clk=\"sub\"\\n>구독</a\\n>\\n<a\\nhref=\"#\"\\nrole=\"button\"\\nclass=\"btn_popup _NM_NEWSSTAND_THUMB_unsubscribe_press\"\\ndata-pid=\"368\"\\ndata-clk=\"unsub\"\\n>해지</a\\n>\\n<a\\nhref=\"http://newsstand.naver.com/?list=&pcode=368\"\\ntarget=\"_blank\"\\nclass=\"btn_popup\"\\ndata-clk=\"logo\"\\ndata-pid=\"368\"\\n>기사보기</a\\n>\\n</div>\\n</div>\\n<div\\nclass=\"thumb_box _NM_NEWSSTAND_THUMB _NM_NEWSSTAND_THUMB_press_valid\"\\ndata-pid=\"079\"\\n>\\n<a href=\"#\" class=\"thumb\">\\n<img\\nsrc=\"https://s.pstatic.net/static/newsstand/2020/logo/light/0604/079.png\"\\nheight=\"20\"\\nalt=\"노컷뉴스\"\\nclass=\"news_logo\"\\n/>\\n<span class=\"thumb_dim\"></span\\n></a>\\n<div class=\"popup_wrap\">\\n<a\\nhref=\"#\"\\nrole=\"button\"\\nclass=\"btn_popup _NM_NEWSSTAND_THUMB_subscribe_press\"\\ndata-pid=\"079\"\\ndata-clk=\"sub\"\\n>구독</a\\n>\\n<a\\nhref=\"#\"\\nrole=\"button\"\\nclass=\"btn_popup _NM_NEWSSTAND_THUMB_unsubscribe_press\"\\ndata-pid=\"079\"\\ndata-clk=\"unsub\"\\n>해지</a\\n>\\n<a\\nhref=\"http://newsstand.naver.com/?list=&pcode=079\"\\ntarget=\"_blank\"\\nclass=\"btn_popup\"\\ndata-clk=\"logo\"\\ndata-pid=\"079\"\\n>기사보기</a\\n>\\n</div>\\n</div>\\n<div\\nclass=\"thumb_box _NM_NEWSSTAND_THUMB _NM_NEWSSTAND_THUMB_press_valid\"\\ndata-pid=\"003\"\\n>\\n<a href=\"#\" class=\"thumb\">\\n<img\\nsrc=\"https://s.pstatic.net/static/newsstand/2020/logo/light/0604/003.png\"\\nheight=\"20\"\\nalt=\"뉴시스\"\\nclass=\"news_logo\"\\n/>\\n<span class=\"thumb_dim\"></span\\n></a>\\n<div class=\"popup_wrap\">\\n<a\\nhref=\"#\"\\nrole=\"button\"\\nclass=\"btn_popup _NM_NEWSSTAND_THUMB_subscribe_press\"\\ndata-pid=\"003\"\\ndata-clk=\"sub\"\\n>구독</a\\n>\\n<a\\nhref=\"#\"\\nrole=\"button\"\\nclass=\"btn_popup _NM_NEWSSTAND_THUMB_unsubscribe_press\"\\ndata-pid=\"003\"\\ndata-clk=\"unsub\"\\n>해지</a\\n>\\n<a\\nhref=\"http://newsstand.naver.com/?list=&pcode=003\"\\ntarget=\"_blank\"\\nclass=\"btn_popup\"\\ndata-clk=\"logo\"\\ndata-pid=\"003\"\\n>기사보기</a\\n>\\n</div>\\n</div>\\n<div\\nclass=\"thumb_box _NM_NEWSSTAND_THUMB _NM_NEWSSTAND_THUMB_press_valid\"\\ndata-pid=\"055\"\\n>\\n<a href=\"#\" class=\"thumb\">\\n<img\\nsrc=\"https://s.pstatic.net/static/newsstand/2020/logo/light/0604/055.png\"\\nheight=\"20\"\\nalt=\"SBS\"\\nclass=\"news_logo\"\\n/>\\n<span class=\"thumb_dim\"></span\\n></a>\\n<div class=\"popup_wrap\">\\n<a\\nhref=\"#\"\\nrole=\"button\"\\nclass=\"btn_popup _NM_NEWSSTAND_THUMB_subscribe_press\"\\ndata-pid=\"055\"\\ndata-clk=\"sub\"\\n>구독</a\\n>\\n<a\\nhref=\"#\"\\nrole=\"button\"\\nclass=\"btn_popup _NM_NEWSSTAND_THUMB_unsubscribe_press\"\\ndata-pid=\"055\"\\ndata-clk=\"unsub\"\\n>해지</a\\n>\\n<a\\nhref=\"http://newsstand.naver.com/?list=&pcode=055\"\\ntarget=\"_blank\"\\nclass=\"btn_popup\"\\ndata-clk=\"logo\"\\ndata-pid=\"055\"\\n>기사보기</a\\n>\\n</div>\\n</div>\\n<div\\nclass=\"thumb_box _NM_NEWSSTAND_THUMB _NM_NEWSSTAND_THUMB_press_valid\"\\ndata-pid=\"215\"\\n>\\n<a href=\"#\" class=\"thumb\">\\n<img\\nsrc=\"https://s.pstatic.net/static/newsstand/2020/logo/light/0604/215.png\"\\nheight=\"20\"\\nalt=\"한국경제TV\"\\nclass=\"news_logo\"\\n/>\\n<span class=\"thumb_dim\"></span\\n></a>\\n<div class=\"popup_wrap\">\\n<a\\nhref=\"#\"\\nrole=\"button\"\\nclass=\"btn_popup _NM_NEWSSTAND_THUMB_subscribe_press\"\\ndata-pid=\"215\"\\ndata-clk=\"sub\"\\n>구독</a\\n>\\n<a\\nhref=\"#\"\\nrole=\"button\"\\nclass=\"btn_popup _NM_NEWSSTAND_THUMB_unsubscribe_press\"\\ndata-pid=\"215\"\\ndata-clk=\"unsub\"\\n>해지</a\\n>\\n<a\\nhref=\"http://newsstand.naver.com/?list=&pcode=215\"\\ntarget=\"_blank\"\\nclass=\"btn_popup\"\\ndata-clk=\"logo\"\\ndata-pid=\"215\"\\n>기사보기</a\\n>\\n</div>\\n</div>\\n<div\\nclass=\"thumb_box _NM_NEWSSTAND_THUMB _NM_NEWSSTAND_THUMB_press_valid\"\\ndata-pid=\"038\"\\n>\\n<a href=\"#\" class=\"thumb\">\\n<img\\nsrc=\"https://s.pstatic.net/static/newsstand/2020/logo/light/0604/038.png\"\\nheight=\"20\"\\nalt=\"한국일보\"\\nclass=\"news_logo\"\\n/>\\n<span class=\"thumb_dim\"></span\\n></a>\\n<div class=\"popup_wrap\">\\n<a\\nhref=\"#\"\\nrole=\"button\"\\nclass=\"btn_popup _NM_NEWSSTAND_THUMB_subscribe_press\"\\ndata-pid=\"038\"\\ndata-clk=\"sub\"\\n>구독</a\\n>\\n<a\\nhref=\"#\"\\nrole=\"button\"\\nclass=\"btn_popup _NM_NEWSSTAND_THUMB_unsubscribe_press\"\\ndata-pid=\"038\"\\ndata-clk=\"unsub\"\\n>해지</a\\n>\\n<a\\nhref=\"http://newsstand.naver.com/?list=&pcode=038\"\\ntarget=\"_blank\"\\nclass=\"btn_popup\"\\ndata-clk=\"logo\"\\ndata-pid=\"038\"\\n>기사보기</a\\n>\\n</div>\\n</div>\\n<div\\nclass=\"thumb_box _NM_NEWSSTAND_THUMB _NM_NEWSSTAND_THUMB_press_valid\"\\ndata-pid=\"020\"\\n>\\n<a href=\"#\" class=\"thumb\">\\n<img\\nsrc=\"https://s.pstatic.net/static/newsstand/2020/logo/light/0604/020.png\"\\nheight=\"20\"\\nalt=\"동아일보\"\\nclass=\"news_logo\"\\n/>\\n<span class=\"thumb_dim\"></span\\n></a>\\n<div class=\"popup_wrap\">\\n<a\\nhref=\"#\"\\nrole=\"button\"\\nclass=\"btn_popup _NM_NEWSSTAND_THUMB_subscribe_press\"\\ndata-pid=\"020\"\\ndata-clk=\"sub\"\\n>구독</a\\n>\\n<a\\nhref=\"#\"\\nrole=\"button\"\\nclass=\"btn_popup _NM_NEWSSTAND_THUMB_unsubscribe_press\"\\ndata-pid=\"020\"\\ndata-clk=\"unsub\"\\n>해지</a\\n>\\n<a\\nhref=\"http://newsstand.naver.com/?list=&pcode=020\"\\ntarget=\"_blank\"\\nclass=\"btn_popup\"\\ndata-clk=\"logo\"\\ndata-pid=\"020\"\\n>기사보기</a\\n>\\n</div>\\n</div>\\n<div\\nclass=\"thumb_box _NM_NEWSSTAND_THUMB _NM_NEWSSTAND_THUMB_press_valid\"\\ndata-pid=\"241\"\\n>\\n<a href=\"#\" class=\"thumb\">\\n<img\\nsrc=\"https://s.pstatic.net/static/newsstand/2020/logo/light/0604/241.png\"\\nheight=\"20\"\\nalt=\"일간스포츠\"\\nclass=\"news_logo\"\\n/>\\n<span class=\"thumb_dim\"></span\\n></a>\\n<div class=\"popup_wrap\">\\n<a\\nhref=\"#\"\\nrole=\"button\"\\nclass=\"btn_popup _NM_NEWSSTAND_THUMB_subscribe_press\"\\ndata-pid=\"241\"\\ndata-clk=\"sub\"\\n>구독</a\\n>\\n<a\\nhref=\"#\"\\nrole=\"button\"\\nclass=\"btn_popup _NM_NEWSSTAND_THUMB_unsubscribe_press\"\\ndata-pid=\"241\"\\ndata-clk=\"unsub\"\\n>해지</a\\n>\\n<a\\nhref=\"http://newsstand.naver.com/?list=&pcode=241\"\\ntarget=\"_blank\"\\nclass=\"btn_popup\"\\ndata-clk=\"logo\"\\ndata-pid=\"241\"\\n>기사보기</a\\n>\\n</div>\\n</div>\\n<div\\nclass=\"thumb_box _NM_NEWSSTAND_THUMB _NM_NEWSSTAND_THUMB_press_valid\"\\ndata-pid=\"015\"\\n>\\n<a href=\"#\" class=\"thumb\">\\n<img\\nsrc=\"https://s.pstatic.net/static/newsstand/2020/logo/light/0604/015.png\"\\nheight=\"20\"\\nalt=\"한국경제\"\\nclass=\"news_logo\"\\n/>\\n<span class=\"thumb_dim\"></span\\n></a>\\n<div class=\"popup_wrap\">\\n<a\\nhref=\"#\"\\nrole=\"button\"\\nclass=\"btn_popup _NM_NEWSSTAND_THUMB_subscribe_press\"\\ndata-pid=\"015\"\\ndata-clk=\"sub\"\\n>구독</a\\n>\\n<a\\nhref=\"#\"\\nrole=\"button\"\\nclass=\"btn_popup _NM_NEWSSTAND_THUMB_unsubscribe_press\"\\ndata-pid=\"015\"\\ndata-clk=\"unsub\"\\n>해지</a\\n>\\n<a\\nhref=\"http://newsstand.naver.com/?list=&pcode=015\"\\ntarget=\"_blank\"\\nclass=\"btn_popup\"\\ndata-clk=\"logo\"\\ndata-pid=\"015\"\\n>기사보기</a\\n>\\n</div>\\n</div>\\n<div\\nclass=\"thumb_box _NM_NEWSSTAND_THUMB _NM_NEWSSTAND_THUMB_press_valid\"\\ndata-pid=\"056\"\\n>\\n<a href=\"#\" class=\"thumb\">\\n<img\\nsrc=\"https://s.pstatic.net/static/newsstand/2020/logo/light/0604/056.png\"\\nheight=\"20\"\\nalt=\"KBS\"\\nclass=\"news_logo\"\\n/>\\n<span class=\"thumb_dim\"></span\\n></a>\\n<div class=\"popup_wrap\">\\n<a\\nhref=\"#\"\\nrole=\"button\"\\nclass=\"btn_popup _NM_NEWSSTAND_THUMB_subscribe_press\"\\ndata-pid=\"056\"\\ndata-clk=\"sub\"\\n>구독</a\\n>\\n<a\\nhref=\"#\"\\nrole=\"button\"\\nclass=\"btn_popup _NM_NEWSSTAND_THUMB_unsubscribe_press\"\\ndata-pid=\"056\"\\ndata-clk=\"unsub\"\\n>해지</a\\n>\\n<a\\nhref=\"http://newsstand.naver.com/?list=&pcode=056\"\\ntarget=\"_blank\"\\nclass=\"btn_popup\"\\ndata-clk=\"logo\"\\ndata-pid=\"056\"\\n>기사보기</a\\n>\\n</div>\\n</div>\\n<div\\nclass=\"thumb_box _NM_NEWSSTAND_THUMB _NM_NEWSSTAND_THUMB_press_valid\"\\ndata-pid=\"023\"\\n>\\n<a href=\"#\" class=\"thumb\">\\n<img\\nsrc=\"https://s.pstatic.net/static/newsstand/up/2020/0903/nsd185255316.png\"\\nheight=\"20\"\\nalt=\"조선일보\"\\nclass=\"news_logo\"\\n/>\\n<span class=\"thumb_dim\"></span\\n></a>\\n<div class=\"popup_wrap\">\\n<a\\nhref=\"#\"\\nrole=\"button\"\\nclass=\"btn_popup _NM_NEWSSTAND_THUMB_subscribe_press\"\\ndata-pid=\"023\"\\ndata-clk=\"sub\"\\n>구독</a\\n>\\n<a\\nhref=\"#\"\\nrole=\"button\"\\nclass=\"btn_popup _NM_NEWSSTAND_THUMB_unsubscribe_press\"\\ndata-pid=\"023\"\\ndata-clk=\"unsub\"\\n>해지</a\\n>\\n<a\\nhref=\"http://newsstand.naver.com/?list=&pcode=023\"\\ntarget=\"_blank\"\\nclass=\"btn_popup\"\\ndata-clk=\"logo\"\\ndata-pid=\"023\"\\n>기사보기</a\\n>\\n</div>\\n</div>\\n<div\\nclass=\"thumb_box _NM_NEWSSTAND_THUMB _NM_NEWSSTAND_THUMB_press_valid\"\\ndata-pid=\"336\"\\n>\\n<a href=\"#\" class=\"thumb\">\\n<img\\nsrc=\"https://s.pstatic.net/static/newsstand/2020/logo/light/0604/336.png\"\\nheight=\"20\"\\nalt=\"전북일보\"\\nclass=\"news_logo\"\\n/>\\n<span class=\"thumb_dim\"></span\\n></a>\\n<div class=\"popup_wrap\">\\n<a\\nhref=\"#\"\\nrole=\"button\"\\nclass=\"btn_popup _NM_NEWSSTAND_THUMB_subscribe_press\"\\ndata-pid=\"336\"\\ndata-clk=\"sub\"\\n>구독</a\\n>\\n<a\\nhref=\"#\"\\nrole=\"button\"\\nclass=\"btn_popup _NM_NEWSSTAND_THUMB_unsubscribe_press\"\\ndata-pid=\"336\"\\ndata-clk=\"unsub\"\\n>해지</a\\n>\\n<a\\nhref=\"http://newsstand.naver.com/?list=&pcode=336\"\\ntarget=\"_blank\"\\nclass=\"btn_popup\"\\ndata-clk=\"logo\"\\ndata-pid=\"336\"\\n>기사보기</a\\n>\\n</div>\\n</div>\\n<div\\nclass=\"thumb_box _NM_NEWSSTAND_THUMB _NM_NEWSSTAND_THUMB_press_valid\"\\ndata-pid=\"082\"\\n>\\n<a href=\"#\" class=\"thumb\">\\n<img\\nsrc=\"https://s.pstatic.net/static/newsstand/up/2021/0322/nsd21527882.png\"\\nheight=\"20\"\\nalt=\"부산일보\"\\nclass=\"news_logo\"\\n/>\\n<span class=\"thumb_dim\"></span\\n></a>\\n<div class=\"popup_wrap\">\\n<a\\nhref=\"#\"\\nrole=\"button\"\\nclass=\"btn_popup _NM_NEWSSTAND_THUMB_subscribe_press\"\\ndata-pid=\"082\"\\ndata-clk=\"sub\"\\n>구독</a\\n>\\n<a\\nhref=\"#\"\\nrole=\"button\"\\nclass=\"btn_popup _NM_NEWSSTAND_THUMB_unsubscribe_press\"\\ndata-pid=\"082\"\\ndata-clk=\"unsub\"\\n>해지</a\\n>\\n<a\\nhref=\"http://newsstand.naver.com/?list=&pcode=082\"\\ntarget=\"_blank\"\\nclass=\"btn_popup\"\\ndata-clk=\"logo\"\\ndata-pid=\"082\"\\n>기사보기</a\\n>\\n</div>\\n</div>\\n<div\\nclass=\"thumb_box _NM_NEWSSTAND_THUMB _NM_NEWSSTAND_THUMB_press_valid\"\\ndata-pid=\"337\"\\n>\\n<a href=\"#\" class=\"thumb\">\\n<img\\nsrc=\"https://s.pstatic.net/static/newsstand/2020/logo/light/0604/337.png\"\\nheight=\"20\"\\nalt=\"경북일보\"\\nclass=\"news_logo\"\\n/>\\n<span class=\"thumb_dim\"></span\\n></a>\\n<div class=\"popup_wrap\">\\n<a\\nhref=\"#\"\\nrole=\"button\"\\nclass=\"btn_popup _NM_NEWSSTAND_THUMB_subscribe_press\"\\ndata-pid=\"337\"\\ndata-clk=\"sub\"\\n>구독</a\\n>\\n<a\\nhref=\"#\"\\nrole=\"button\"\\nclass=\"btn_popup _NM_NEWSSTAND_THUMB_unsubscribe_press\"\\ndata-pid=\"337\"\\ndata-clk=\"unsub\"\\n>해지</a\\n>\\n<a\\nhref=\"http://newsstand.naver.com/?list=&pcode=337\"\\ntarget=\"_blank\"\\nclass=\"btn_popup\"\\ndata-clk=\"logo\"\\ndata-pid=\"337\"\\n>기사보기</a\\n>\\n</div>\\n</div>\\n<div\\nclass=\"thumb_box _NM_NEWSSTAND_THUMB _NM_NEWSSTAND_THUMB_press_valid\"\\ndata-pid=\"310\"\\n>\\n<a href=\"#\" class=\"thumb\">\\n<img\\nsrc=\"https://s.pstatic.net/static/newsstand/2020/logo/light/0604/310.png\"\\nheight=\"20\"\\nalt=\"여성신문\"\\nclass=\"news_logo\"\\n/>\\n<span class=\"thumb_dim\"></span\\n></a>\\n<div class=\"popup_wrap\">\\n<a\\nhref=\"#\"\\nrole=\"button\"\\nclass=\"btn_popup _NM_NEWSSTAND_THUMB_subscribe_press\"\\ndata-pid=\"310\"\\ndata-clk=\"sub\"\\n>구독</a\\n>\\n<a\\nhref=\"#\"\\nrole=\"button\"\\nclass=\"btn_popup _NM_NEWSSTAND_THUMB_unsubscribe_press\"\\ndata-pid=\"310\"\\ndata-clk=\"unsub\"\\n>해지</a\\n>\\n<a\\nhref=\"http://newsstand.naver.com/?list=&pcode=310\"\\ntarget=\"_blank\"\\nclass=\"btn_popup\"\\ndata-clk=\"logo\"\\ndata-pid=\"310\"\\n>기사보기</a\\n>\\n</div>\\n</div>\\n<div\\nclass=\"thumb_box _NM_NEWSSTAND_THUMB _NM_NEWSSTAND_THUMB_press_valid\"\\ndata-pid=\"363\"\\n>\\n<a href=\"#\" class=\"thumb\">\\n<img\\nsrc=\"https://s.pstatic.net/static/newsstand/2020/logo/light/0604/363.png\"\\nheight=\"20\"\\nalt=\"과학동아\"\\nclass=\"news_logo\"\\n/>\\n<span class=\"thumb_dim\"></span\\n></a>\\n<div class=\"popup_wrap\">\\n<a\\nhref=\"#\"\\nrole=\"button\"\\nclass=\"btn_popup _NM_NEWSSTAND_THUMB_subscribe_press\"\\ndata-pid=\"363\"\\ndata-clk=\"sub\"\\n>구독</a\\n>\\n<a\\nhref=\"#\"\\nrole=\"button\"\\nclass=\"btn_popup _NM_NEWSSTAND_THUMB_unsubscribe_press\"\\ndata-pid=\"363\"\\ndata-clk=\"unsub\"\\n>해지</a\\n>\\n<a\\nhref=\"http://newsstand.naver.com/?list=&pcode=363\"\\ntarget=\"_blank\"\\nclass=\"btn_popup\"\\ndata-clk=\"logo\"\\ndata-pid=\"363\"\\n>기사보기</a\\n>\\n</div>\\n</div>\\n<div\\nclass=\"thumb_box _NM_NEWSSTAND_THUMB _NM_NEWSSTAND_THUMB_press_valid\"\\ndata-pid=\"384\"\\n>\\n<a href=\"#\" class=\"thumb\">\\n<img\\nsrc=\"https://s.pstatic.net/static/newsstand/2020/logo/light/0604/384.png\"\\nheight=\"20\"\\nalt=\"한국대학신문\"\\nclass=\"news_logo\"\\n/>\\n<span class=\"thumb_dim\"></span\\n></a>\\n<div class=\"popup_wrap\">\\n<a\\nhref=\"#\"\\nrole=\"button\"\\nclass=\"btn_popup _NM_NEWSSTAND_THUMB_subscribe_press\"\\ndata-pid=\"384\"\\ndata-clk=\"sub\"\\n>구독</a\\n>\\n<a\\nhref=\"#\"\\nrole=\"button\"\\nclass=\"btn_popup _NM_NEWSSTAND_THUMB_unsubscribe_press\"\\ndata-pid=\"384\"\\ndata-clk=\"unsub\"\\n>해지</a\\n>\\n<a\\nhref=\"http://newsstand.naver.com/?list=&pcode=384\"\\ntarget=\"_blank\"\\nclass=\"btn_popup\"\\ndata-clk=\"logo\"\\ndata-pid=\"384\"\\n>기사보기</a\\n>\\n</div>\\n</div>\\n<div\\nclass=\"thumb_box _NM_NEWSSTAND_THUMB _NM_NEWSSTAND_THUMB_press_valid\"\\ndata-pid=\"938\"\\n>\\n<a href=\"#\" class=\"thumb\">\\n<img\\nsrc=\"https://s.pstatic.net/static/newsstand/2020/logo/light/0604/938.png\"\\nheight=\"20\"\\nalt=\"그린포스트코리아\"\\nclass=\"news_logo\"\\n/>\\n<span class=\"thumb_dim\"></span\\n></a>\\n<div class=\"popup_wrap\">\\n<a\\nhref=\"#\"\\nrole=\"button\"\\nclass=\"btn_popup _NM_NEWSSTAND_THUMB_subscribe_press\"\\ndata-pid=\"938\"\\ndata-clk=\"sub\"\\n>구독</a\\n>\\n<a\\nhref=\"#\"\\nrole=\"button\"\\nclass=\"btn_popup _NM_NEWSSTAND_THUMB_unsubscribe_press\"\\ndata-pid=\"938\"\\ndata-clk=\"unsub\"\\n>해지</a\\n>\\n<a\\nhref=\"http://newsstand.naver.com/?list=&pcode=938\"\\ntarget=\"_blank\"\\nclass=\"btn_popup\"\\ndata-clk=\"logo\"\\ndata-pid=\"938\"\\n>기사보기</a\\n>\\n</div>\\n</div>\\n<div\\nclass=\"thumb_box _NM_NEWSSTAND_THUMB _NM_NEWSSTAND_THUMB_press_valid\"\\ndata-pid=\"815\"\\n>\\n<a href=\"#\" class=\"thumb\">\\n<img\\nsrc=\"https://s.pstatic.net/static/newsstand/2020/logo/light/0604/815.png\"\\nheight=\"20\"\\nalt=\"법률방송뉴스\"\\nclass=\"news_logo\"\\n/>\\n<span class=\"thumb_dim\"></span\\n></a>\\n<div class=\"popup_wrap\">\\n<a\\nhref=\"#\"\\nrole=\"button\"\\nclass=\"btn_popup _NM_NEWSSTAND_THUMB_subscribe_press\"\\ndata-pid=\"815\"\\ndata-clk=\"sub\"\\n>구독</a\\n>\\n<a\\nhref=\"#\"\\nrole=\"button\"\\nclass=\"btn_popup _NM_NEWSSTAND_THUMB_unsubscribe_press\"\\ndata-pid=\"815\"\\ndata-clk=\"unsub\"\\n>해지</a\\n>\\n<a\\nhref=\"http://newsstand.naver.com/?list=&pcode=815\"\\ntarget=\"_blank\"\\nclass=\"btn_popup\"\\ndata-clk=\"logo\"\\ndata-pid=\"815\"\\n>기사보기</a\\n>\\n</div>\\n</div>\\n<div\\nclass=\"thumb_box _NM_NEWSSTAND_THUMB _NM_NEWSSTAND_THUMB_press_valid\"\\ndata-pid=\"979\"\\n>\\n<a href=\"#\" class=\"thumb\">\\n<img\\nsrc=\"https://s.pstatic.net/static/newsstand/2020/logo/light/0604/979.png\"\\nheight=\"20\"\\nalt=\"약사공론\"\\nclass=\"news_logo\"\\n/>\\n<span class=\"thumb_dim\"></span\\n></a>\\n<div class=\"popup_wrap\">\\n<a\\nhref=\"#\"\\nrole=\"button\"\\nclass=\"btn_popup _NM_NEWSSTAND_THUMB_subscribe_press\"\\ndata-pid=\"979\"\\ndata-clk=\"sub\"\\n>구독</a\\n>\\n<a\\nhref=\"#\"\\nrole=\"button\"\\nclass=\"btn_popup _NM_NEWSSTAND_THUMB_unsubscribe_press\"\\ndata-pid=\"979\"\\ndata-clk=\"unsub\"\\n>해지</a\\n>\\n<a\\nhref=\"http://newsstand.naver.com/?list=&pcode=979\"\\ntarget=\"_blank\"\\nclass=\"btn_popup\"\\ndata-clk=\"logo\"\\ndata-pid=\"979\"\\n>기사보기</a\\n>\\n</div>\\n</div>\\n</div>\\n</div>\\n</div>  </div> <div class=\"ly_popup NM_NEWSSTAND_POPUP NM_NEWSSTAND_invalid\" style=\"display:none\"> <a href=\"#\" role=\"button\" class=\"btn_close NM_NEWSSTAND_POPUP_CLOSE\"><i class=\"ico_close\"></i><span class=\"blind\">닫기</span></a> <p class=\"popup_msg\">해당 언론사 사정으로 접근이 제한됩니다.</p> <div class=\"popup_btn\"> <a href=\"#\" role=\"button\" class=\"btn_confirm NM_NEWSSTAND_POPUP_CLOSE\">확인</a> </div> </div> <div class=\"ly_popup NM_NEWSSTAND_POPUP NM_NEWSSTAND_undescribe_confirm\" style=\"display:none\" data-clk-sub=\"*a\"> <a href=\"#\" role=\"button\" class=\"btn_close NM_NEWSSTAND_POPUP_CLOSE\" data-clk=\"usclose\"><i class=\"ico_close\"></i><span class=\"blind\">닫기</span></a> <p class=\"popup_msg\"><strong class=\"NM_NEWSSTAND_POPUP_PNAME\"></strong>을(를)<br/>구독해지 하시겠습니까?</p> <div class=\"popup_btn\"> <a href=\"#\" role=\"button\" class=\"btn_confirm NM_NEWSSTAND_POPUP_CONFIRM\" data-clk=\"usdone\">확인</a> <a href=\"#\" role=\"button\" class=\"btn_confirm NM_NEWSSTAND_POPUP_CLOSE\" data-clk=\"uscancel\">취소</a> </div> </div> <div class=\"ly_toast NM_NEWSSTAND_TOAST\" style=\"display:none\"> <p class=\"toast_msg\">구독한 언론사에 추가되었습니다.</p> </div> </div> <div id=\"NM_NEWSSTAND_MY_LIST\" class=\"group_news\" role=\"tabpanel\" style=\"display:none\" data-clk-prefix=\"nsd_myn\"> <a href=\"#\" role=\"button\" class=\"pm_btn_prev_l _NM_NEWSSTAND_LIST_prev_btn\" data-clk-custom=\"prev\"><i class=\"ico_btn\"></i><span class=\"blind\">이전</span></a> <a href=\"#\" role=\"button\" class=\"pm_btn_next_l _NM_NEWSSTAND_LIST_next_btn\" data-clk-custom=\"next\"><i class=\"ico_btn\"></i><span class=\"blind\">다음</span><span class=\"blind\">다음</span></a> <div class=\"list_view\"> <div class=\"option_area\"> <div class=\"list_option_wrap\"> <ul class=\"list_option _NM_NEWSSTAND_MY_presslist\"> <!-- nvpaperlist:empty --> </ul> </div> </div> <div class=\"_NM_NEWSSTAND_ARTICLE_CONTAINER\" data-clk-sub=\"*a\">  </div> </div> <div class=\"ly_popup NM_NEWSSTAND_POPUP NM_NEWSSTAND_invalid\" style=\"display:none\"> <a href=\"#\" role=\"button\" class=\"btn_close NM_NEWSSTAND_POPUP_CLOSE\"><i class=\"ico_close\"></i><span class=\"blind\">닫기</span></a> <p class=\"popup_msg\">해당 언론사 사정으로 접근이 일시 제한됩니다.</p> <div class=\"popup_btn\"> <a href=\"#\" role=\"button\" class=\"btn_confirm NM_NEWSSTAND_POPUP_CLOSE\">확인</a> </div> </div> <div class=\"ly_popup NM_NEWSSTAND_POPUP NM_NEWSSTAND_undescribe_confirm\" style=\"display:none\" data-clk-sub=\"*a\"> <a href=\"#\" role=\"button\" class=\"btn_close NM_NEWSSTAND_POPUP_CLOSE\" data-clk=\"usclose\"><i class=\"ico_close\"></i><span class=\"blind\">닫기</span></a> <p class=\"popup_msg\"><strong class=\"NM_NEWSSTAND_POPUP_PNAME\"></strong>을(를)<br>구독해지 하시겠습니까?</p> <div class=\"popup_btn\"> <a href=\"#\" role=\"button\" class=\"btn_confirm NM_NEWSSTAND_POPUP_CONFIRM\" data-clk=\"usdone\">확인</a> <a href=\"#\" role=\"button\" class=\"btn_confirm NM_NEWSSTAND_POPUP_CLOSE\" data-clk=\"uscancel\">취소</a> </div> </div> </div> <div id=\"NM_NEWSSTAND_MY_THUMB\" class=\"group_news\" role=\"tabpanel\" style=\"display:none\" data-clk-prefix=\"nsd_myn\"> <a href=\"#\" role=\"button\" class=\"pm_btn_prev_l _NM_UI_PAGE_PREV\" data-clk-custom=\"prev\"><i class=\"ico_btn\"><span class=\"blind\">이전</span></i></a> <a href=\"#\" role=\"button\" class=\"pm_btn_next_l _NM_UI_PAGE_NEXT\" data-clk-custom=\"next\"><i class=\"ico_btn\"><span class=\"blind\">다음</span></i></a> <div class=\"_NM_UI_PAGE_CONTAINER\" data-clk-sub=\"*p\"></div> <div class=\"ly_popup NM_NEWSSTAND_POPUP NM_NEWSSTAND_invalid\" style=\"display:none\"> <a href=\"#\" role=\"button\" class=\"btn_close NM_NEWSSTAND_POPUP_CLOSE\"><i class=\"ico_close\"></i><span class=\"blind\">닫기</span></a> <p class=\"popup_msg\">해당 언론사 사정으로 접근이 제한됩니다.</p> <div class=\"popup_btn\"> <a href=\"#\" role=\"button\" class=\"btn_confirm NM_NEWSSTAND_POPUP_CLOSE\">확인</a> </div> </div> <div class=\"ly_popup NM_NEWSSTAND_POPUP NM_NEWSSTAND_undescribe_confirm\" style=\"display:none\" data-clk-sub=\"*a\"> <a href=\"#\" role=\"button\" class=\"btn_close NM_NEWSSTAND_POPUP_CLOSE\" data-clk=\"usclose\"><i class=\"ico_close\"></i><span class=\"blind\">닫기</span></a> <p class=\"popup_msg\"><strong class=\"NM_NEWSSTAND_POPUP_PNAME\"></strong>을(를)<br>구독해지 하시겠습니까?</p> <div class=\"popup_btn\"> <a href=\"#\" role=\"button\" class=\"btn_confirm NM_NEWSSTAND_POPUP_CONFIRM\" data-clk=\"usdone\">확인</a> <a href=\"#\" role=\"button\" class=\"btn_confirm NM_NEWSSTAND_POPUP_CLOSE\" data-clk=\"uscancel\">취소</a> </div> </div> </div> <div id=\"NM_NEWSSTAND_MY_EMPTY\" class=\"group_news\" role=\"tabpanel\" style=\"display:none\"> <div class=\"error_view\"> <div class=\"error_area\"> <strong class=\"error_msg\">구독한 언론사가 없습니다.</strong> <p class=\"dsc_msg\">언론사 구독 설정에서 관심있는 언론사를 구독하시면<br>언론사가 직접 편집한 뉴스들을 네이버 홈에서 바로 보실 수 있습니다.</p> <a href=\"http://newsstand.naver.com/config.html\" class=\"link_redirect\" target=\"_blank\">언론사 구독 설정하기</a> </div> </div> </div> </div> </div> <!-- EMPTY -->  <div id=\"NM_THEMECAST_CONTENTS_CONTAINER\"> <div id=\"themecast\" class=\"sc_themecast id_bboom\" >\\n\\t<h2 class=\"blind\">주제별 캐스트</h2>\\n\\t<div class=\"theme_head\">\\n\\t\\t<div class=\"group_title\">\\n\\t<div class=\"title_area\">\\n\\t\\t<strong class=\"title\">오늘 읽을만한 글</strong><span class=\"dsc\">주제별로 분류된 다양한 글 모음</span>\\n\\t</div>\\n\\t<div class=\"info_area\">\\n\\t\\t\\n\\t\\t\\t<span class=\"info\"><strong class=\"new\">710</strong> 개의 글</span>\\n\\t\\t\\n\\t\\t<a id=\"NM_THEME_EDIT_SET\" href=\"#\" role=\"button\" class=\"btn_set\" data-clk=\"tca.like\">관심주제 설정</a>\\n\\t</div>\\n</div>\\n<div id=\"NM_THEME_CATE_GROUPS\" class=\"group_category\" data-demo-key=\"default\">\\n\\t<div class=\"main_category\">\\n\\t\\t<a href=\"#\" role=\"button\" class=\"pm_btn_prev NM_THEME_PREV\" data-clk=\"tct.prev\" style=\"display: none;\">\\n\\t\\t\\t<i class=\"ico_btn\"><span class=\"blind\">이전</span></i>\\n\\t\\t</a>\\n\\t\\t<a href=\"#\" role=\"button\" class=\"pm_btn_next NM_THEME_NEXT\" data-clk=\"tct.next\" style=\"display: none;\">\\n\\t\\t\\t<i class=\"ico_btn\"><span class=\"blind\">다음</span></i>\\n\\t\\t</a>\\n\\t\\t<div class=\"list_category_wrap\">\\n\\t\\t\\t<ul id=\"NM_THEME_CATE_LIST\" class=\"list_category\" role=\"tablist\" data-index=\"0\">\\n\\t\\t\\t\\t\\n\\t\\t\\t\\t\\t<li class=\"category_item\" role=\"presentation\">\\n\\t\\t\\t\\t\\t\\t\\n\\t\\t\\t\\t\\t\\t\\n\\t\\t\\t\\t\\t\\t<a href=\"#\" role=\"tab\" class=\"_NM_THEME_CATE tab id_enter\"\\n\\t\\t\\t\\t\\t\\t   aria-selected=\"false\"\\n\\t\\t\\t\\t\\t\\t   aria-controls=\"NM_THEME_CONTAINER\"\\n\\t\\t\\t\\t\\t\\t   data-clk=\"tct.tvc\" data-panel-code=\"ENTER\">엔터</a>\\n\\t\\t\\t\\t\\t</li>\\n\\t\\t\\t\\t\\n\\t\\t\\t\\t\\t<li class=\"category_item\" role=\"presentation\">\\n\\t\\t\\t\\t\\t\\t\\n\\t\\t\\t\\t\\t\\t\\n\\t\\t\\t\\t\\t\\t<a href=\"#\" role=\"tab\" class=\"_NM_THEME_CATE tab id_sports\"\\n\\t\\t\\t\\t\\t\\t   aria-selected=\"false\"\\n\\t\\t\\t\\t\\t\\t   aria-controls=\"NM_THEME_CONTAINER\"\\n\\t\\t\\t\\t\\t\\t   data-clk=\"tct.spo\" data-panel-code=\"SPORTS\">스포츠</a>\\n\\t\\t\\t\\t\\t</li>\\n\\t\\t\\t\\t\\n\\t\\t\\t\\t\\t<li class=\"category_item\" role=\"presentation\">\\n\\t\\t\\t\\t\\t\\t\\n\\t\\t\\t\\t\\t\\t\\n\\t\\t\\t\\t\\t\\t<a href=\"#\" role=\"tab\" class=\"_NM_THEME_CATE tab id_cargame\"\\n\\t\\t\\t\\t\\t\\t   aria-selected=\"false\"\\n\\t\\t\\t\\t\\t\\t   aria-controls=\"NM_THEME_CONTAINER\"\\n\\t\\t\\t\\t\\t\\t   data-clk=\"tct.aut\" data-panel-code=\"CARGAME\">자동차</a>\\n\\t\\t\\t\\t\\t</li>\\n\\t\\t\\t\\t\\n\\t\\t\\t\\t\\t<li class=\"category_item\" role=\"presentation\">\\n\\t\\t\\t\\t\\t\\t\\n\\t\\t\\t\\t\\t\\t\\n\\t\\t\\t\\t\\t\\t<a href=\"#\" role=\"tab\" class=\"_NM_THEME_CATE tab id_bboom\"\\n\\t\\t\\t\\t\\t\\t   aria-selected=\"true\"\\n\\t\\t\\t\\t\\t\\t   aria-controls=\"NM_THEME_CONTAINER\"\\n\\t\\t\\t\\t\\t\\t   data-clk=\"tct.web\" data-panel-code=\"BBOOM\">웹툰</a>\\n\\t\\t\\t\\t\\t</li>\\n\\t\\t\\t\\t\\n\\t\\t\\t\\t\\t<li class=\"category_item\" role=\"presentation\">\\n\\t\\t\\t\\t\\t\\t\\n\\t\\t\\t\\t\\t\\t\\n\\t\\t\\t\\t\\t\\t<a href=\"#\" role=\"tab\" class=\"_NM_THEME_CATE tab id_finance\"\\n\\t\\t\\t\\t\\t\\t   aria-selected=\"false\"\\n\\t\\t\\t\\t\\t\\t   aria-controls=\"NM_THEME_CONTAINER\"\\n\\t\\t\\t\\t\\t\\t   data-clk=\"tct.fin\" data-panel-code=\"FINANCE\">경제M</a>\\n\\t\\t\\t\\t\\t</li>\\n\\t\\t\\t\\t\\n\\t\\t\\t\\t\\t<li class=\"category_item\" role=\"presentation\">\\n\\t\\t\\t\\t\\t\\t\\n\\t\\t\\t\\t\\t\\t\\n\\t\\t\\t\\t\\t\\t<a href=\"#\" role=\"tab\" class=\"_NM_THEME_CATE tab id_myfeed\"\\n\\t\\t\\t\\t\\t\\t   aria-selected=\"false\"\\n\\t\\t\\t\\t\\t\\t   aria-controls=\"NM_THEME_CONTAINER\"\\n\\t\\t\\t\\t\\t\\t   data-clk=\"tct.sub\" data-panel-code=\"MYFEED\">추천<span class=\\'ico_middot\\'></span>구독</a>\\n\\t\\t\\t\\t\\t</li>\\n\\t\\t\\t\\t\\n\\t\\t\\t\\t\\t<li class=\"category_item\" role=\"presentation\">\\n\\t\\t\\t\\t\\t\\t\\n\\t\\t\\t\\t\\t\\t\\n\\t\\t\\t\\t\\t\\t<a href=\"#\" role=\"tab\" class=\"_NM_THEME_CATE tab id_living\"\\n\\t\\t\\t\\t\\t\\t   aria-selected=\"false\"\\n\\t\\t\\t\\t\\t\\t   aria-controls=\"NM_THEME_CONTAINER\"\\n\\t\\t\\t\\t\\t\\t   data-clk=\"tct.fod\" data-panel-code=\"LIVING\">레시피</a>\\n\\t\\t\\t\\t\\t</li>\\n\\t\\t\\t\\t\\n\\t\\t\\t\\t\\t<li class=\"category_item\" role=\"presentation\">\\n\\t\\t\\t\\t\\t\\t\\n\\t\\t\\t\\t\\t\\t\\n\\t\\t\\t\\t\\t\\t<a href=\"#\" role=\"tab\" class=\"_NM_THEME_CATE tab id_livinghome\"\\n\\t\\t\\t\\t\\t\\t   aria-selected=\"false\"\\n\\t\\t\\t\\t\\t\\t   aria-controls=\"NM_THEME_CONTAINER\"\\n\\t\\t\\t\\t\\t\\t   data-clk=\"tct.lif\" data-panel-code=\"LIVINGHOME\">리빙</a>\\n\\t\\t\\t\\t\\t</li>\\n\\t\\t\\t\\t\\n\\t\\t\\t\\t\\t<li class=\"category_item\" role=\"presentation\">\\n\\t\\t\\t\\t\\t\\t\\n\\t\\t\\t\\t\\t\\t\\n\\t\\t\\t\\t\\t\\t<a href=\"#\" role=\"tab\" class=\"_NM_THEME_CATE tab id_culture\"\\n\\t\\t\\t\\t\\t\\t   aria-selected=\"false\"\\n\\t\\t\\t\\t\\t\\t   aria-controls=\"NM_THEME_CONTAINER\"\\n\\t\\t\\t\\t\\t\\t   data-clk=\"tct.bok\" data-panel-code=\"CULTURE\">책방</a>\\n\\t\\t\\t\\t\\t</li>\\n\\t\\t\\t\\t\\n\\t\\t\\t\\t\\t<li class=\"category_item\" role=\"presentation\">\\n\\t\\t\\t\\t\\t\\t\\n\\t\\t\\t\\t\\t\\t\\n\\t\\t\\t\\t\\t\\t<a href=\"#\" role=\"tab\" class=\"_NM_THEME_CATE tab id_beauty\"\\n\\t\\t\\t\\t\\t\\t   aria-selected=\"false\"\\n\\t\\t\\t\\t\\t\\t   aria-controls=\"NM_THEME_CONTAINER\"\\n\\t\\t\\t\\t\\t\\t   data-clk=\"tct.bty\" data-panel-code=\"BEAUTY\">패션뷰티</a>\\n\\t\\t\\t\\t\\t</li>\\n\\t\\t\\t\\t\\n\\t\\t\\t</ul>\\n\\t\\t</div>\\n\\t</div>\\n</div>\\n\\n\\t</div>\\n\\t<div id=\"NM_THEME_CONTAINER\" class=\"theme_cont\" role=\"tabpanel\" data-panel-code=\"BBOOM\" data-parent-code=\"\">\\n\\t\\t<div class=\"group_topstory\" data-block-id=\"626261505a45f2c6b7bbb3a8\" data-block-code=\"PC-THEME-BBOOM-EDIT-AREA\" data-block-type=\"BLOCKS\" data-template-code=\"PC-THEMECAST-EDIT-AREA\"\\n\\n\\t data-da=\"margin-top\"\\n\\t >\\n\\n\\t<div class=\"topstory_inner\" data-block-id=\"62625fa6139724d5bba38a65\" data-block-code=\"PC-THEME-BBOOM-EDIT-AREA-ITEM\" data-block-type=\"A-MATERIAL\" data-template-code=\"IMAGE1\"\\n\\n\\t >\\n\\n\\t\\n\\t\\t<div class=\"topstory_view \">\\n\\n\\t\\t\\t\\n\\t\\t\\t\\n\\t\\t\\t<a href=\"https://comic.naver.com/webtoon/detail?titleId&#x3D;793944&amp;no&#x3D;1\" class=\"topstory_thumb\"\\n\\t\\t\\t   data-clk=\"tcc_web.editbigimg1\"\\n\\t\\t\\t   target=\"_blank\">\\n\\t\\t\\t\\t<img src=\"https://s.pstatic.net/static/www/mobile/edit/20220422/cropImg_728x360_92554609271117519.jpeg\" data-src=\"https://s.pstatic.net/static/www/mobile/edit/20220422/cropImg_728x360_92554609271117519.jpeg\" alt=\"신작 &lt;오늘의 비너스&gt; 1화 바로보기\" width=\"364\" height=\"180\" onerror=\"this.outerHTML=\\'<span class=\\\\\\'pm_noimg\\\\\\'><span class=\\\\\\'noimg_text\\\\\\'>이미지 준비중</span></span>\\'\">\\n\\n\\t\\t\\t\\t\\n\\t\\t\\t\\t\\t<span class=\"thumb_bd\"></span>\\n\\t\\t\\t\\t\\n\\t\\t\\t</a>\\n\\t\\t\\t<a href=\"https://comic.naver.com/webtoon/detail?titleId&#x3D;793944&amp;no&#x3D;1\" class=\"topstory_info\"\\n\\t\\t\\t   data-clk=\"tcc_web.editbigtxt1\"\\n\\t\\t\\t   target=\"_blank\">\\n\\t\\t\\t\\t\\n\\t\\t\\t\\t\\t<em class=\"theme_category\">웹툰</em>\\n\\t\\t\\t\\t\\n\\n\\t\\t\\t\\t<strong class=\"title  \">신작 <오늘의 비너스> 1화 바로보기</strong>\\n\\t\\t\\t\\t\\n\\t\\t\\t\\t\\t<p class=\"desc\">평범했던 내가... 세상에서 가장 아름답다고? </p>\\n\\t\\t\\t\\t\\n\\n\\t\\t\\t\\t\\n\\t\\t\\t\\t\\t<div class=\"source_area\">\\n\\t\\t\\t\\t\\t\\t<span class=\"source\"><span class=\"source_inner\">엄세윤 / 도달</span></span>\\n\\t\\t\\t\\t\\t</div>\\n\\t\\t\\t\\t\\n\\t\\t\\t</a>\\n\\t\\t\\t\\n\\t\\t</div>\\n\\t\\n</div>\\n<div class=\"topstory_inner\" data-block-id=\"626261293dc8dadcdbd2cb6f\" data-block-code=\"PC-THEME-BBOOM-EDIT-AREA-ITEM\" data-block-type=\"MATERIALS\" data-template-code=\"IMAGE3\"\\n\\n\\t >\\n\\n\\t<div class=\"list_theme_wrap type_topstory\">\\n\\t\\t<ul class=\"list_theme\">\\n\\t\\t\\t\\n\\t\\t\\t<li class=\"theme_item\">\\n\\t\\t\\t\\t\\n\\t\\t\\t\\t\\n\\t\\t\\t\\t<a href=\"https://comic.naver.com/webtoon/weekdayList?week&#x3D;mon\" class=\"theme_thumb\" data-clk=\"tcc_web.editsmallimg1\" target=\"_blank\">\\n\\t\\t\\t\\t\\t<img src=\"https://s.pstatic.net/static/www/mobile/edit/20220422/cropImg_196x196_92554961357060312.jpeg\" data-src=\"https://s.pstatic.net/static/www/mobile/edit/20220422/cropImg_196x196_92554961357060312.jpeg\" alt=\"월요웹툰 안 보는 사람 있나요?\" width=\"98\" height=\"98\" onerror=\"this.outerHTML=\\'<span class=\\\\\\'pm_noimg\\\\\\'><span class=\\\\\\'noimg_text\\\\\\'>이미지 준비중</span></span>\\'\">\\n\\n\\t\\t\\t\\t\\t\\n\\t\\t\\t\\t\\t\\t<span class=\"thumb_bd\"></span>\\n\\t\\t\\t\\t\\t\\n\\t\\t\\t\\t</a>\\n\\t\\t\\t\\t<a href=\"https://comic.naver.com/webtoon/weekdayList?week&#x3D;mon\" class=\"theme_info\" data-clk=\"tcc_web.editsmalltxt1\" target=\"_blank\">\\n\\t\\t\\t\\t\\t<em class=\"theme_category\">웹툰</em>\\n\\t\\t\\t\\t\\t<strong class=\"title\">월요웹툰 안 보는 사람 있나요? <br>없습니다.</strong>\\n\\t\\t\\t\\t\\t<div class=\"source_box\">\\n\\t\\t\\t\\t\\t\\t<span class=\"source\"><span class=\"source_inner\">요일별 웹툰</span></span>\\n\\t\\t\\t\\t\\t</div>\\n\\t\\t\\t\\t</a>\\n\\t\\t\\t</li>\\n\\t\\t\\t\\n\\t\\t\\t<li class=\"theme_item\">\\n\\t\\t\\t\\t\\n\\t\\t\\t\\t\\n\\t\\t\\t\\t<a href=\"http://comic.naver.com/webtoon/detail?titleId&#x3D;183559\" class=\"theme_thumb\" data-clk=\"tcc_web.editsmallimg2\" target=\"_blank\">\\n\\t\\t\\t\\t\\t<img src=\"https://s.pstatic.net/static/www/mobile/edit/20220422/cropImg_196x196_92554992179913072.jpeg\" data-src=\"https://s.pstatic.net/static/www/mobile/edit/20220422/cropImg_196x196_92554992179913072.jpeg\" alt=\"사부님, 이제는 \" width=\"98\" height=\"98\" onerror=\"this.outerHTML=\\'<span class=\\\\\\'pm_noimg\\\\\\'><span class=\\\\\\'noimg_text\\\\\\'>이미지 준비중</span></span>\\'\">\\n\\n\\t\\t\\t\\t\\t\\n\\t\\t\\t\\t\\t\\t<span class=\"thumb_bd\"></span>\\n\\t\\t\\t\\t\\t\\n\\t\\t\\t\\t</a>\\n\\t\\t\\t\\t<a href=\"http://comic.naver.com/webtoon/detail?titleId&#x3D;183559\" class=\"theme_info\" data-clk=\"tcc_web.editsmalltxt2\" target=\"_blank\">\\n\\t\\t\\t\\t\\t<em class=\"theme_category\">웹툰</em>\\n\\t\\t\\t\\t\\t<strong class=\"title\">사부님, 이제는  <br>제가 도와드릴게요</strong>\\n\\t\\t\\t\\t\\t<div class=\"source_box\">\\n\\t\\t\\t\\t\\t\\t<span class=\"source\"><span class=\"source_inner\">신의 탑</span></span>\\n\\t\\t\\t\\t\\t</div>\\n\\t\\t\\t\\t</a>\\n\\t\\t\\t</li>\\n\\t\\t\\t\\n\\t\\t\\t<li class=\"theme_item\">\\n\\t\\t\\t\\t\\n\\t\\t\\t\\t\\n\\t\\t\\t\\t<a href=\"http://comic.naver.com/webtoon/detail?titleId&#x3D;728750\" class=\"theme_thumb\" data-clk=\"tcc_web.editsmallimg3\" target=\"_blank\">\\n\\t\\t\\t\\t\\t<img src=\"https://s.pstatic.net/static/www/mobile/edit/20220422/cropImg_196x196_92555035018236132.jpeg\" data-src=\"https://s.pstatic.net/static/www/mobile/edit/20220422/cropImg_196x196_92555035018236132.jpeg\" alt=\"나는 혼자가 아니오. \" width=\"98\" height=\"98\" onerror=\"this.outerHTML=\\'<span class=\\\\\\'pm_noimg\\\\\\'><span class=\\\\\\'noimg_text\\\\\\'>이미지 준비중</span></span>\\'\">\\n\\n\\t\\t\\t\\t\\t\\n\\t\\t\\t\\t\\t\\t<span class=\"thumb_bd\"></span>\\n\\t\\t\\t\\t\\t\\n\\t\\t\\t\\t</a>\\n\\t\\t\\t\\t<a href=\"http://comic.naver.com/webtoon/detail?titleId&#x3D;728750\" class=\"theme_info\" data-clk=\"tcc_web.editsmalltxt3\" target=\"_blank\">\\n\\t\\t\\t\\t\\t<em class=\"theme_category\">웹툰</em>\\n\\t\\t\\t\\t\\t<strong class=\"title\">나는 혼자가 아니오.  <br>전원 소집 완료! </strong>\\n\\t\\t\\t\\t\\t<div class=\"source_box\">\\n\\t\\t\\t\\t\\t\\t<span class=\"source\"><span class=\"source_inner\">장씨세가 호위무사</span></span>\\n\\t\\t\\t\\t\\t</div>\\n\\t\\t\\t\\t</a>\\n\\t\\t\\t</li>\\n\\t\\t\\t\\n\\t\\t</ul>\\n\\t</div>\\n</div>\\n</div>\\n<div class=\"theme_link\" data-block-id=\"5ea6a541d6902f284ec45fd9\" data-block-code=\"PC-THEME-BBOOM-SHORTCUTS\" data-block-type=\"MATERIALS\" data-template-code=\"THEME-SHORTCUT\"\\n\\n\\t >\\n\\n\\t\\n\\t\\t<a href=\"https://comic.naver.com/index.nhn\" class=\"link_bboom\" data-clk=\"tcc_web.short1\" target=\"_blank\">웹툰 홈 바로가기</a>\\n\\t\\n\\t<ul class=\"list_service\">\\n\\t\\t\\n\\t\\t\\t\\n\\t\\t\\n\\t\\t\\t\\n\\t\\t\\t\\t<li class=\"service_item\" data-gdid=\"PC-THEME-BBOOM-SHORTCUT[materials][1]\">\\n\\t\\t\\t\\t\\t<a href=\"https://comic.naver.com/webtoon/weekdayList.nhn\" class=\"service\" data-clk=\"tcc_web.short3\" target=\"_blank\">요일별 웹툰</a>\\n\\t\\t\\t\\t</li>\\n\\t\\t\\t\\n\\t\\t\\n\\t\\t\\t\\n\\t\\t\\t\\t<li class=\"service_item\" data-gdid=\"PC-THEME-BBOOM-SHORTCUT[materials][2]\">\\n\\t\\t\\t\\t\\t<a href=\"https://comic.naver.com/genre/bestChallenge.nhn\" class=\"service\" data-clk=\"tcc_web.short4\" target=\"_blank\">베스트 도전</a>\\n\\t\\t\\t\\t</li>\\n\\t\\t\\t\\n\\t\\t\\n\\t\\t\\t\\n\\t\\t\\t\\t<li class=\"service_item\" data-gdid=\"PC-THEME-BBOOM-SHORTCUT[materials][3]\">\\n\\t\\t\\t\\t\\t<a href=\"https://comic.naver.com/genre/challenge.nhn\" class=\"service\" data-clk=\"tcc_web.short5\" target=\"_blank\">도전만화</a>\\n\\t\\t\\t\\t</li>\\n\\t\\t\\t\\n\\t\\t\\n\\t\\t\\t\\n\\t\\t\\t\\t<li class=\"service_item\" data-gdid=\"PC-THEME-BBOOM-SHORTCUT[materials][4]\">\\n\\t\\t\\t\\t\\t<a href=\"https://series.naver.com/novel/home.nhn\" class=\"service\" data-clk=\"tcc_web.short6\" target=\"_blank\">시리즈 장르소설</a>\\n\\t\\t\\t\\t</li>\\n\\t\\t\\t\\n\\t\\t\\n\\t\\t\\t\\n\\t\\t\\t\\t<li class=\"service_item\" data-gdid=\"PC-THEME-BBOOM-SHORTCUT[materials][5]\">\\n\\t\\t\\t\\t\\t<a href=\"https://series.naver.com/comic/home.nhn\" class=\"service\" data-clk=\"tcc_web.short7\" target=\"_blank\">시리즈 만화</a>\\n\\t\\t\\t\\t</li>\\n\\t\\t\\t\\n\\t\\t\\n\\t\\t\\t\\n\\t\\t\\t\\t<li class=\"service_item\" data-gdid=\"PC-THEME-BBOOM-SHORTCUT[materials][6]\">\\n\\t\\t\\t\\t\\t<a href=\"https://novel.naver.com/webnovel/weekday.nhn\" class=\"service\" data-clk=\"tcc_web.short8\" target=\"_blank\">웹소설</a>\\n\\t\\t\\t\\t</li>\\n\\t\\t\\t\\n\\t\\t\\n\\t</ul>\\n</div>\\n<div class=\"group_theme _NM_THEME_TAB\" data-block-id=\"5e5755a1d6902f284e278888\" data-block-code=\"PC-THEME-BBOOM-API-ALL\" data-block-type=\"BLOCKS\" data-template-code=\"PC-THEME-BBOOM-API-ALL\"\\n\\n\\tdata-tab-cookie=\"theme-bboom-api-all\" data-tab-cookie-expire=\"1\"\\n\\t>\\n\\t<div class=\"theme_title\">\\n\\t\\t<strong class=\"title\">인기 급상승</strong>\\n\\t\\t<ul class=\"title_sub_tab\" role=\"tablist\">\\n\\t\\t\\t\\n\\t\\t\\t\\n\\t\\t\\t<li class=\"tab_item tab_on\" role=\"presentation\">\\n\\t\\t\\t\\t<a href=\"#\" role=\"tab\" class=\"tab\" aria-selected=\"true\" data-tab=\"theme-bboom-api-all-0\"\\n\\t\\t\\t\\t\\tdata-clk=\"tcc_web.hottab1\">웹툰</a>\\n\\t\\t\\t</li>\\n\\t\\t\\t\\n\\t\\t\\t\\n\\t\\t\\t\\n\\t\\t\\t<li class=\"tab_item\" role=\"presentation\">\\n\\t\\t\\t\\t<a href=\"#\" role=\"tab\" class=\"tab\" aria-selected=\"false\" data-tab=\"theme-bboom-api-all-1\"\\n\\t\\t\\t\\t\\tdata-clk=\"tcc_web.hottab2\">시리즈 장르소설</a>\\n\\t\\t\\t</li>\\n\\t\\t\\t\\n\\t\\t\\t\\n\\t\\t\\t\\n\\t\\t\\t<li class=\"tab_item\" role=\"presentation\">\\n\\t\\t\\t\\t<a href=\"#\" role=\"tab\" class=\"tab\" aria-selected=\"false\" data-tab=\"theme-bboom-api-all-2\"\\n\\t\\t\\t\\t\\tdata-clk=\"tcc_web.hottab3\">시리즈 만화</a>\\n\\t\\t\\t</li>\\n\\t\\t\\t\\n\\t\\t\\t\\n\\t\\t\\t\\n\\t\\t\\t<li class=\"tab_item\" role=\"presentation\">\\n\\t\\t\\t\\t<a href=\"#\" role=\"tab\" class=\"tab\" aria-selected=\"false\" data-tab=\"theme-bboom-api-all-3\"\\n\\t\\t\\t\\t\\tdata-clk=\"tcc_web.hottab4\">웹소설</a>\\n\\t\\t\\t</li>\\n\\t\\t\\t\\n\\t\\t\\t\\n\\t\\t</ul>\\n\\t</div>\\n\\t\\n\\t<div class=\"chart_view_wrap type_webtoon\" data-tab-panel=\"theme-bboom-api-all-0\" \\n\\t\\taria-selected=\"true\" >\\n\\t\\t\\n\\t\\t<div class=\"chart_view\">\\n\\t\\t\\t\\n\\t\\t\\t<a href=\"https://comic.naver.com/webtoon/detail?titleId&#x3D;758037&amp;no&#x3D;77\" class=\"chart_area\" target=\"_blank\"\\n\\t\\t\\t\\tdata-clk=\"tcc_web.hottab1cont1\">\\n\\t\\t\\t\\t<div class=\"chart_rank\">\\n\\t\\t\\t\\t\\t<em class=\"rank\">1<span class=\"blind\">위</span></em>\\n\\t\\t\\t\\t\\t<div class=\"state\">\\n\\t\\t\\t\\t\\t\\t\\n\\t\\t\\t\\t\\t\\t<i class=\"ico_dash\"><span class=\"blind\">유지</span></i>\\n\\t\\t\\t\\t\\t\\t\\n\\t\\t\\t\\t\\t</div>\\n\\t\\t\\t\\t</div>\\n\\t\\t\\t\\t<div class=\"chart_info\">\\n\\t\\t\\t\\t\\t<div class=\"thumb_box\">\\n\\t\\t\\t\\t\\t\\t<img src=\"https://s.pstatic.net/dthumb.phinf/?src&#x3D;%22https%3A%2F%2Fshared-comic.pstatic.net%2Fthumb%2Fwebtoon%2F758037%2Fthumbnail%2Fthumbnail_IMAG19_67290a02-fe7f-448d-aed9-6ec88e558088.jpg%22&amp;type&#x3D;navermain_n100_100\"\\n\\t\\t\\t\\t\\t\\t\\talt=\"\" height=\"50\" width=\"50\" onerror=\"this.outerHTML=\\'<span class=\\\\\\'pm_noimg_s\\\\\\'><span class=\\\\\\'blind\\\\\\'>이미지 준비중</span></span>\\'\"><span class=\"thumb_bd\"></span>\\n\\t\\t\\t\\t\\t</div>\\n\\t\\t\\t\\t\\t<div class=\"info_box\">\\n\\t\\t\\t\\t\\t\\t<strong class=\"title\">참교육</strong>\\n\\t\\t\\t\\t\\t\\t<div class=\"dsc_wrap\"><span class=\"dsc\">\\n\\t\\t\\t\\t\\t\\t\\t\\t채용택, \\n\\t\\t\\t\\t\\t\\t\\t\\t한가람\\n\\t\\t\\t\\t\\t\\t\\t</span><span class=\"dsc\">77화</span></div>\\n\\t\\t\\t\\t\\t</div>\\n\\t\\t\\t\\t</div>\\n\\t\\t\\t</a>\\n\\t\\t\\t\\n\\t\\t\\t<a href=\"https://comic.naver.com/webtoon/detail?titleId&#x3D;783052&amp;no&#x3D;27\" class=\"chart_area\" target=\"_blank\"\\n\\t\\t\\t\\tdata-clk=\"tcc_web.hottab1cont2\">\\n\\t\\t\\t\\t<div class=\"chart_rank\">\\n\\t\\t\\t\\t\\t<em class=\"rank\">2<span class=\"blind\">위</span></em>\\n\\t\\t\\t\\t\\t<div class=\"state\">\\n\\t\\t\\t\\t\\t\\t\\n\\t\\t\\t\\t\\t\\t<i class=\"ico_dash\"><span class=\"blind\">유지</span></i>\\n\\t\\t\\t\\t\\t\\t\\n\\t\\t\\t\\t\\t</div>\\n\\t\\t\\t\\t</div>\\n\\t\\t\\t\\t<div class=\"chart_info\">\\n\\t\\t\\t\\t\\t<div class=\"thumb_box\">\\n\\t\\t\\t\\t\\t\\t<img src=\"https://s.pstatic.net/dthumb.phinf/?src&#x3D;%22https%3A%2F%2Fshared-comic.pstatic.net%2Fthumb%2Fwebtoon%2F783052%2Fthumbnail%2Fthumbnail_IMAG19_d78070dc-5d7f-4c71-b1f4-669182391a3e.jpg%22&amp;type&#x3D;navermain_n100_100\"\\n\\t\\t\\t\\t\\t\\t\\talt=\"\" height=\"50\" width=\"50\" onerror=\"this.outerHTML=\\'<span class=\\\\\\'pm_noimg_s\\\\\\'><span class=\\\\\\'blind\\\\\\'>이미지 준비중</span></span>\\'\"><span class=\"thumb_bd\"></span>\\n\\t\\t\\t\\t\\t</div>\\n\\t\\t\\t\\t\\t<div class=\"info_box\">\\n\\t\\t\\t\\t\\t\\t<strong class=\"title\">퀘스트지상주의</strong>\\n\\t\\t\\t\\t\\t\\t<div class=\"dsc_wrap\"><span class=\"dsc\">\\n\\t\\t\\t\\t\\t\\t\\t\\t\\n\\t\\t\\t\\t\\t\\t\\t\\t박태준 만화회사\\n\\t\\t\\t\\t\\t\\t\\t</span><span class=\"dsc\">27화 뽀... 뽀뽀하고 싶은 거야?</span></div>\\n\\t\\t\\t\\t\\t</div>\\n\\t\\t\\t\\t</div>\\n\\t\\t\\t</a>\\n\\t\\t\\t\\n\\t\\t\\t<a href=\"https://comic.naver.com/webtoon/detail?titleId&#x3D;602910&amp;no&#x3D;385\" class=\"chart_area\" target=\"_blank\"\\n\\t\\t\\t\\tdata-clk=\"tcc_web.hottab1cont3\">\\n\\t\\t\\t\\t<div class=\"chart_rank\">\\n\\t\\t\\t\\t\\t<em class=\"rank\">3<span class=\"blind\">위</span></em>\\n\\t\\t\\t\\t\\t<div class=\"state\">\\n\\t\\t\\t\\t\\t\\t\\n\\t\\t\\t\\t\\t\\t<i class=\"ico_dash\"><span class=\"blind\">유지</span></i>\\n\\t\\t\\t\\t\\t\\t\\n\\t\\t\\t\\t\\t</div>\\n\\t\\t\\t\\t</div>\\n\\t\\t\\t\\t<div class=\"chart_info\">\\n\\t\\t\\t\\t\\t<div class=\"thumb_box\">\\n\\t\\t\\t\\t\\t\\t<img src=\"https://s.pstatic.net/dthumb.phinf/?src&#x3D;%22https%3A%2F%2Fshared-comic.pstatic.net%2Fthumb%2Fwebtoon%2F602910%2Fthumbnail%2Fthumbnail_IMAG19_8057e22e-fb78-4c74-a009-d7356f74f14c.jpg%22&amp;type&#x3D;navermain_n100_100\"\\n\\t\\t\\t\\t\\t\\t\\talt=\"\" height=\"50\" width=\"50\" onerror=\"this.outerHTML=\\'<span class=\\\\\\'pm_noimg_s\\\\\\'><span class=\\\\\\'blind\\\\\\'>이미지 준비중</span></span>\\'\"><span class=\"thumb_bd\"></span>\\n\\t\\t\\t\\t\\t</div>\\n\\t\\t\\t\\t\\t<div class=\"info_box\">\\n\\t\\t\\t\\t\\t\\t<strong class=\"title\">윈드브레이커</strong>\\n\\t\\t\\t\\t\\t\\t<div class=\"dsc_wrap\"><span class=\"dsc\">\\n\\t\\t\\t\\t\\t\\t\\t\\t\\n\\t\\t\\t\\t\\t\\t\\t\\t조용석\\n\\t\\t\\t\\t\\t\\t\\t</span><span class=\"dsc\">4부 - 7화 하체운동</span></div>\\n\\t\\t\\t\\t\\t</div>\\n\\t\\t\\t\\t</div>\\n\\t\\t\\t</a>\\n\\t\\t\\t\\n\\t\\t\\t<a href=\"https://comic.naver.com/webtoon/detail?titleId&#x3D;733074&amp;no&#x3D;124\" class=\"chart_area\" target=\"_blank\"\\n\\t\\t\\t\\tdata-clk=\"tcc_web.hottab1cont4\">\\n\\t\\t\\t\\t<div class=\"chart_rank\">\\n\\t\\t\\t\\t\\t<em class=\"rank\">4<span class=\"blind\">위</span></em>\\n\\t\\t\\t\\t\\t<div class=\"state\">\\n\\t\\t\\t\\t\\t\\t<i class=\"ico_up\"><span class=\"blind\">상승</span></i>1\\n\\t\\t\\t\\t\\t\\t\\n\\t\\t\\t\\t\\t\\t\\n\\t\\t\\t\\t\\t</div>\\n\\t\\t\\t\\t</div>\\n\\t\\t\\t\\t<div class=\"chart_info\">\\n\\t\\t\\t\\t\\t<div class=\"thumb_box\">\\n\\t\\t\\t\\t\\t\\t<img src=\"https://s.pstatic.net/dthumb.phinf/?src&#x3D;%22https%3A%2F%2Fshared-comic.pstatic.net%2Fthumb%2Fwebtoon%2F733074%2Fthumbnail%2Fthumbnail_IMAG19_1fee0ed7-afb3-4b11-9547-e8a4a1340740.jpg%22&amp;type&#x3D;navermain_n100_100\"\\n\\t\\t\\t\\t\\t\\t\\talt=\"\" height=\"50\" width=\"50\" onerror=\"this.outerHTML=\\'<span class=\\\\\\'pm_noimg_s\\\\\\'><span class=\\\\\\'blind\\\\\\'>이미지 준비중</span></span>\\'\"><span class=\"thumb_bd\"></span>\\n\\t\\t\\t\\t\\t</div>\\n\\t\\t\\t\\t\\t<div class=\"info_box\">\\n\\t\\t\\t\\t\\t\\t<strong class=\"title\">백수세끼</strong>\\n\\t\\t\\t\\t\\t\\t<div class=\"dsc_wrap\"><span class=\"dsc\">\\n\\t\\t\\t\\t\\t\\t\\t\\t\\n\\t\\t\\t\\t\\t\\t\\t\\t치즈\\n\\t\\t\\t\\t\\t\\t\\t</span><span class=\"dsc\">124화 순대볶음</span></div>\\n\\t\\t\\t\\t\\t</div>\\n\\t\\t\\t\\t</div>\\n\\t\\t\\t</a>\\n\\t\\t\\t\\n\\t\\t\\t<a href=\"https://comic.naver.com/webtoon/detail?titleId&#x3D;654774&amp;no&#x3D;316\" class=\"chart_area\" target=\"_blank\"\\n\\t\\t\\t\\tdata-clk=\"tcc_web.hottab1cont5\">\\n\\t\\t\\t\\t<div class=\"chart_rank\">\\n\\t\\t\\t\\t\\t<em class=\"rank\">5<span class=\"blind\">위</span></em>\\n\\t\\t\\t\\t\\t<div class=\"state\">\\n\\t\\t\\t\\t\\t\\t\\n\\t\\t\\t\\t\\t\\t\\n\\t\\t\\t\\t\\t\\t<i class=\"ico_down\"><span class=\"blind\">하락</span></i>1\\n\\t\\t\\t\\t\\t</div>\\n\\t\\t\\t\\t</div>\\n\\t\\t\\t\\t<div class=\"chart_info\">\\n\\t\\t\\t\\t\\t<div class=\"thumb_box\">\\n\\t\\t\\t\\t\\t\\t<img src=\"https://s.pstatic.net/dthumb.phinf/?src&#x3D;%22https%3A%2F%2Fshared-comic.pstatic.net%2Fthumb%2Fwebtoon%2F654774%2Fthumbnail%2Fthumbnail_IMAG19_c0ee61e4-52d7-4064-b911-3ea471d637f4.jpg%22&amp;type&#x3D;navermain_n100_100\"\\n\\t\\t\\t\\t\\t\\t\\talt=\"\" height=\"50\" width=\"50\" onerror=\"this.outerHTML=\\'<span class=\\\\\\'pm_noimg_s\\\\\\'><span class=\\\\\\'blind\\\\\\'>이미지 준비중</span></span>\\'\"><span class=\"thumb_bd\"></span>\\n\\t\\t\\t\\t\\t</div>\\n\\t\\t\\t\\t\\t<div class=\"info_box\">\\n\\t\\t\\t\\t\\t\\t<strong class=\"title\">소녀의 세계</strong>\\n\\t\\t\\t\\t\\t\\t<div class=\"dsc_wrap\"><span class=\"dsc\">\\n\\t\\t\\t\\t\\t\\t\\t\\t\\n\\t\\t\\t\\t\\t\\t\\t\\t모랑지\\n\\t\\t\\t\\t\\t\\t\\t</span><span class=\"dsc\">2부 98화</span></div>\\n\\t\\t\\t\\t\\t</div>\\n\\t\\t\\t\\t</div>\\n\\t\\t\\t</a>\\n\\t\\t\\t\\n\\t\\t</div>\\n\\t\\t\\n\\t\\t<div class=\"chart_view\">\\n\\t\\t\\t\\n\\t\\t\\t<a href=\"https://comic.naver.com/webtoon/detail?titleId&#x3D;183559&amp;no&#x3D;537\" class=\"chart_area\" target=\"_blank\"\\n\\t\\t\\t\\tdata-clk=\"tcc_web.hottab1cont6\">\\n\\t\\t\\t\\t<div class=\"chart_rank\">\\n\\t\\t\\t\\t\\t<em class=\"rank\">6<span class=\"blind\">위</span></em>\\n\\t\\t\\t\\t\\t<div class=\"state\">\\n\\t\\t\\t\\t\\t\\t\\n\\t\\t\\t\\t\\t\\t<i class=\"ico_dash\"><span class=\"blind\">유지</span></i>\\n\\t\\t\\t\\t\\t\\t\\n\\t\\t\\t\\t\\t</div>\\n\\t\\t\\t\\t</div>\\n\\t\\t\\t\\t<div class=\"chart_info\">\\n\\t\\t\\t\\t\\t<div class=\"thumb_box\">\\n\\t\\t\\t\\t\\t\\t<img src=\"https://s.pstatic.net/dthumb.phinf/?src&#x3D;%22https%3A%2F%2Fshared-comic.pstatic.net%2Fthumb%2Fwebtoon%2F183559%2Fthumbnail%2Fthumbnail_IMAG19_d2896e3f-1775-4717-a6a6-8a84fd508226.jpg%22&amp;type&#x3D;navermain_n100_100\"\\n\\t\\t\\t\\t\\t\\t\\talt=\"\" height=\"50\" width=\"50\" onerror=\"this.outerHTML=\\'<span class=\\\\\\'pm_noimg_s\\\\\\'><span class=\\\\\\'blind\\\\\\'>이미지 준비중</span></span>\\'\"><span class=\"thumb_bd\"></span>\\n\\t\\t\\t\\t\\t</div>\\n\\t\\t\\t\\t\\t<div class=\"info_box\">\\n\\t\\t\\t\\t\\t\\t<strong class=\"title\">신의 탑</strong>\\n\\t\\t\\t\\t\\t\\t<div class=\"dsc_wrap\"><span class=\"dsc\">\\n\\t\\t\\t\\t\\t\\t\\t\\t\\n\\t\\t\\t\\t\\t\\t\\t\\tSIU\\n\\t\\t\\t\\t\\t\\t\\t</span><span class=\"dsc\">3부 118화</span></div>\\n\\t\\t\\t\\t\\t</div>\\n\\t\\t\\t\\t</div>\\n\\t\\t\\t</a>\\n\\t\\t\\t\\n\\t\\t\\t<a href=\"https://comic.naver.com/webtoon/detail?titleId&#x3D;648419&amp;no&#x3D;331\" class=\"chart_area\" target=\"_blank\"\\n\\t\\t\\t\\tdata-clk=\"tcc_web.hottab1cont7\">\\n\\t\\t\\t\\t<div class=\"chart_rank\">\\n\\t\\t\\t\\t\\t<em class=\"rank\">7<span class=\"blind\">위</span></em>\\n\\t\\t\\t\\t\\t<div class=\"state\">\\n\\t\\t\\t\\t\\t\\t\\n\\t\\t\\t\\t\\t\\t<i class=\"ico_dash\"><span class=\"blind\">유지</span></i>\\n\\t\\t\\t\\t\\t\\t\\n\\t\\t\\t\\t\\t</div>\\n\\t\\t\\t\\t</div>\\n\\t\\t\\t\\t<div class=\"chart_info\">\\n\\t\\t\\t\\t\\t<div class=\"thumb_box\">\\n\\t\\t\\t\\t\\t\\t<img src=\"https://s.pstatic.net/dthumb.phinf/?src&#x3D;%22https%3A%2F%2Fshared-comic.pstatic.net%2Fthumb%2Fwebtoon%2F648419%2Fthumbnail%2Fthumbnail_IMAG19_14aedc9f-792e-4bdd-b462-bd55087ad096.jpg%22&amp;type&#x3D;navermain_n100_100\"\\n\\t\\t\\t\\t\\t\\t\\talt=\"\" height=\"50\" width=\"50\" onerror=\"this.outerHTML=\\'<span class=\\\\\\'pm_noimg_s\\\\\\'><span class=\\\\\\'blind\\\\\\'>이미지 준비중</span></span>\\'\"><span class=\"thumb_bd\"></span>\\n\\t\\t\\t\\t\\t</div>\\n\\t\\t\\t\\t\\t<div class=\"info_box\">\\n\\t\\t\\t\\t\\t\\t<strong class=\"title\">뷰티풀 군바리</strong>\\n\\t\\t\\t\\t\\t\\t<div class=\"dsc_wrap\"><span class=\"dsc\">\\n\\t\\t\\t\\t\\t\\t\\t\\t설이, \\n\\t\\t\\t\\t\\t\\t\\t\\t윤성원\\n\\t\\t\\t\\t\\t\\t\\t</span><span class=\"dsc\">325화_소이와 주리</span></div>\\n\\t\\t\\t\\t\\t</div>\\n\\t\\t\\t\\t</div>\\n\\t\\t\\t</a>\\n\\t\\t\\t\\n\\t\\t\\t<a href=\"https://comic.naver.com/webtoon/detail?titleId&#x3D;774863&amp;no&#x3D;41\" class=\"chart_area\" target=\"_blank\"\\n\\t\\t\\t\\tdata-clk=\"tcc_web.hottab1cont8\">\\n\\t\\t\\t\\t<div class=\"chart_rank\">\\n\\t\\t\\t\\t\\t<em class=\"rank\">8<span class=\"blind\">위</span></em>\\n\\t\\t\\t\\t\\t<div class=\"state\">\\n\\t\\t\\t\\t\\t\\t\\n\\t\\t\\t\\t\\t\\t<i class=\"ico_dash\"><span class=\"blind\">유지</span></i>\\n\\t\\t\\t\\t\\t\\t\\n\\t\\t\\t\\t\\t</div>\\n\\t\\t\\t\\t</div>\\n\\t\\t\\t\\t<div class=\"chart_info\">\\n\\t\\t\\t\\t\\t<div class=\"thumb_box\">\\n\\t\\t\\t\\t\\t\\t<img src=\"https://s.pstatic.net/dthumb.phinf/?src&#x3D;%22https%3A%2F%2Fshared-comic.pstatic.net%2Fthumb%2Fwebtoon%2F774863%2Fthumbnail%2Fthumbnail_IMAG19_85a44927-ccf8-47c1-b0ab-5a63c0f04ce4.jpg%22&amp;type&#x3D;navermain_n100_100\"\\n\\t\\t\\t\\t\\t\\t\\talt=\"\" height=\"50\" width=\"50\" onerror=\"this.outerHTML=\\'<span class=\\\\\\'pm_noimg_s\\\\\\'><span class=\\\\\\'blind\\\\\\'>이미지 준비중</span></span>\\'\"><span class=\"thumb_bd\"></span>\\n\\t\\t\\t\\t\\t</div>\\n\\t\\t\\t\\t\\t<div class=\"info_box\">\\n\\t\\t\\t\\t\\t\\t<strong class=\"title\">팔이피플</strong>\\n\\t\\t\\t\\t\\t\\t<div class=\"dsc_wrap\"><span class=\"dsc\">\\n\\t\\t\\t\\t\\t\\t\\t\\t매미, \\n\\t\\t\\t\\t\\t\\t\\t\\t희세\\n\\t\\t\\t\\t\\t\\t\\t</span><span class=\"dsc\">41화 - 분노의 브리트니</span></div>\\n\\t\\t\\t\\t\\t</div>\\n\\t\\t\\t\\t</div>\\n\\t\\t\\t</a>\\n\\t\\t\\t\\n\\t\\t\\t<a href=\"https://comic.naver.com/webtoon/detail?titleId&#x3D;728750&amp;no&#x3D;154\" class=\"chart_area\" target=\"_blank\"\\n\\t\\t\\t\\tdata-clk=\"tcc_web.hottab1cont9\">\\n\\t\\t\\t\\t<div class=\"chart_rank\">\\n\\t\\t\\t\\t\\t<em class=\"rank\">9<span class=\"blind\">위</span></em>\\n\\t\\t\\t\\t\\t<div class=\"state\">\\n\\t\\t\\t\\t\\t\\t<i class=\"ico_up\"><span class=\"blind\">상승</span></i>1\\n\\t\\t\\t\\t\\t\\t\\n\\t\\t\\t\\t\\t\\t\\n\\t\\t\\t\\t\\t</div>\\n\\t\\t\\t\\t</div>\\n\\t\\t\\t\\t<div class=\"chart_info\">\\n\\t\\t\\t\\t\\t<div class=\"thumb_box\">\\n\\t\\t\\t\\t\\t\\t<img src=\"https://s.pstatic.net/dthumb.phinf/?src&#x3D;%22https%3A%2F%2Fshared-comic.pstatic.net%2Fthumb%2Fwebtoon%2F728750%2Fthumbnail%2Fthumbnail_IMAG19_330fd93c-d370-4d74-b4a8-bae5af6d0d61.jpg%22&amp;type&#x3D;navermain_n100_100\"\\n\\t\\t\\t\\t\\t\\t\\talt=\"\" height=\"50\" width=\"50\" onerror=\"this.outerHTML=\\'<span class=\\\\\\'pm_noimg_s\\\\\\'><span class=\\\\\\'blind\\\\\\'>이미지 준비중</span></span>\\'\"><span class=\"thumb_bd\"></span>\\n\\t\\t\\t\\t\\t</div>\\n\\t\\t\\t\\t\\t<div class=\"info_box\">\\n\\t\\t\\t\\t\\t\\t<strong class=\"title\">장씨세가 호위무사</strong>\\n\\t\\t\\t\\t\\t\\t<div class=\"dsc_wrap\"><span class=\"dsc\">\\n\\t\\t\\t\\t\\t\\t\\t\\t\\n\\t\\t\\t\\t\\t\\t\\t\\t김인호\\n\\t\\t\\t\\t\\t\\t\\t</span><span class=\"dsc\">154화</span></div>\\n\\t\\t\\t\\t\\t</div>\\n\\t\\t\\t\\t</div>\\n\\t\\t\\t</a>\\n\\t\\t\\t\\n\\t\\t\\t<a href=\"https://comic.naver.com/webtoon/detail?titleId&#x3D;703849&amp;no&#x3D;183\" class=\"chart_area\" target=\"_blank\"\\n\\t\\t\\t\\tdata-clk=\"tcc_web.hottab1cont10\">\\n\\t\\t\\t\\t<div class=\"chart_rank\">\\n\\t\\t\\t\\t\\t<em class=\"rank\">10<span class=\"blind\">위</span></em>\\n\\t\\t\\t\\t\\t<div class=\"state\">\\n\\t\\t\\t\\t\\t\\t\\n\\t\\t\\t\\t\\t\\t\\n\\t\\t\\t\\t\\t\\t<i class=\"ico_down\"><span class=\"blind\">하락</span></i>1\\n\\t\\t\\t\\t\\t</div>\\n\\t\\t\\t\\t</div>\\n\\t\\t\\t\\t<div class=\"chart_info\">\\n\\t\\t\\t\\t\\t<div class=\"thumb_box\">\\n\\t\\t\\t\\t\\t\\t<img src=\"https://s.pstatic.net/dthumb.phinf/?src&#x3D;%22https%3A%2F%2Fshared-comic.pstatic.net%2Fthumb%2Fwebtoon%2F703849%2Fthumbnail%2Fthumbnail_IMAG19_82586650-587d-408c-9fb7-2932262ee8a7.jpg%22&amp;type&#x3D;navermain_n100_100\"\\n\\t\\t\\t\\t\\t\\t\\talt=\"\" height=\"50\" width=\"50\" onerror=\"this.outerHTML=\\'<span class=\\\\\\'pm_noimg_s\\\\\\'><span class=\\\\\\'blind\\\\\\'>이미지 준비중</span></span>\\'\"><span class=\"thumb_bd\"></span>\\n\\t\\t\\t\\t\\t</div>\\n\\t\\t\\t\\t\\t<div class=\"info_box\">\\n\\t\\t\\t\\t\\t\\t<strong class=\"title\">요리GO</strong>\\n\\t\\t\\t\\t\\t\\t<div class=\"dsc_wrap\"><span class=\"dsc\">\\n\\t\\t\\t\\t\\t\\t\\t\\t\\n\\t\\t\\t\\t\\t\\t\\t\\tHO9\\n\\t\\t\\t\\t\\t\\t\\t</span><span class=\"dsc\">시즌3. 76화 세계대회 (2)</span></div>\\n\\t\\t\\t\\t\\t</div>\\n\\t\\t\\t\\t</div>\\n\\t\\t\\t</a>\\n\\t\\t\\t\\n\\t\\t</div>\\n\\t\\t\\n\\t</div>\\n\\t\\n\\t<div class=\"chart_view_wrap type_webnobel\" data-tab-panel=\"theme-bboom-api-all-1\"  aria-selected=\"false\" style=\"display: none;\" hidden=\"hidden\" >\\n\\t\\t\\n\\t\\t<div class=\"chart_view\">\\n\\t\\t\\t\\n\\t\\t\\t<a href=\"http://series.naver.com/novel/detail.nhn?originalProductId&#x3D;379196\" class=\"chart_area\" target=\"_blank\"\\n\\t\\t\\t\\tdata-clk=\"tcc_web.hottab2cont1\">\\n\\t\\t\\t\\t<div class=\"chart_rank\">\\n\\t\\t\\t\\t\\t<em class=\"rank\">1<span class=\"blind\">위</span></em>\\n\\t\\t\\t\\t\\t<div class=\"state\">\\n\\t\\t\\t\\t\\t\\t<i class=\"ico_up\"><span class=\"blind\">상승</span></i>1\\n\\t\\t\\t\\t\\t\\t\\n\\t\\t\\t\\t\\t\\t\\n\\t\\t\\t\\t\\t</div>\\n\\t\\t\\t\\t</div>\\n\\t\\t\\t\\t<div class=\"chart_info\">\\n\\t\\t\\t\\t\\t<div class=\"thumb_box\">\\n\\t\\t\\t\\t\\t\\t<img src=\"https://s.pstatic.net/dthumb.phinf/?src&#x3D;%22https%3A%2F%2Fcomicthumb-phinf.pstatic.net%2F20191018_140%2Fpocket_1571376484417WcBDT_JPEG%2F-_.jpg%22&amp;type&#x3D;navermain_n76_108\"\\n\\t\\t\\t\\t\\t\\t\\talt=\"\" height=\"54\" width=\"38\" onerror=\"this.outerHTML=\\'<span class=\\\\\\'pm_noimg_s\\\\\\'><span class=\\\\\\'blind\\\\\\'>이미지 준비중</span></span>\\'\"><span class=\"thumb_bd\"></span>\\n\\t\\t\\t\\t\\t</div>\\n\\t\\t\\t\\t\\t<div class=\"info_box\">\\n\\t\\t\\t\\t\\t\\t<strong class=\"title\">대군주</strong>\\n\\t\\t\\t\\t\\t\\t<div class=\"dsc_wrap\"><span class=\"dsc\">\\n\\t\\t\\t\\t\\t\\t\\t\\t진설우\\n\\t\\t\\t\\t\\t\\t\\t\\t\\n\\t\\t\\t\\t\\t\\t\\t</span><span class=\"dsc\">100화 무료</span></div>\\n\\t\\t\\t\\t\\t</div>\\n\\t\\t\\t\\t</div>\\n\\t\\t\\t</a>\\n\\t\\t\\t\\n\\t\\t\\t<a href=\"http://series.naver.com/novel/detail.nhn?originalProductId&#x3D;427931\" class=\"chart_area\" target=\"_blank\"\\n\\t\\t\\t\\tdata-clk=\"tcc_web.hottab2cont2\">\\n\\t\\t\\t\\t<div class=\"chart_rank\">\\n\\t\\t\\t\\t\\t<em class=\"rank\">2<span class=\"blind\">위</span></em>\\n\\t\\t\\t\\t\\t<div class=\"state\">\\n\\t\\t\\t\\t\\t\\t\\n\\t\\t\\t\\t\\t\\t<i class=\"ico_dash\"><span class=\"blind\">유지</span></i>\\n\\t\\t\\t\\t\\t\\t\\n\\t\\t\\t\\t\\t</div>\\n\\t\\t\\t\\t</div>\\n\\t\\t\\t\\t<div class=\"chart_info\">\\n\\t\\t\\t\\t\\t<div class=\"thumb_box\">\\n\\t\\t\\t\\t\\t\\t<img src=\"https://s.pstatic.net/dthumb.phinf/?src&#x3D;%22https%3A%2F%2Fcomicthumb-phinf.pstatic.net%2F20211110_119%2Fpocket_1636521259638stwnq_JPEG%2F427931_12_w.jpg%22&amp;type&#x3D;navermain_n76_108\"\\n\\t\\t\\t\\t\\t\\t\\talt=\"\" height=\"54\" width=\"38\" onerror=\"this.outerHTML=\\'<span class=\\\\\\'pm_noimg_s\\\\\\'><span class=\\\\\\'blind\\\\\\'>이미지 준비중</span></span>\\'\"><span class=\"thumb_bd\"></span>\\n\\t\\t\\t\\t\\t</div>\\n\\t\\t\\t\\t\\t<div class=\"info_box\">\\n\\t\\t\\t\\t\\t\\t<strong class=\"title\">전지적 독자 시점 [단행본]</strong>\\n\\t\\t\\t\\t\\t\\t<div class=\"dsc_wrap\"><span class=\"dsc\">\\n\\t\\t\\t\\t\\t\\t\\t\\t싱숑\\n\\t\\t\\t\\t\\t\\t\\t\\t\\n\\t\\t\\t\\t\\t\\t\\t</span><span class=\"dsc\">1화 무료</span></div>\\n\\t\\t\\t\\t\\t</div>\\n\\t\\t\\t\\t</div>\\n\\t\\t\\t</a>\\n\\t\\t\\t\\n\\t\\t\\t<a href=\"http://series.naver.com/novel/detail.nhn?originalProductId&#x3D;466948\" class=\"chart_area\" target=\"_blank\"\\n\\t\\t\\t\\tdata-clk=\"tcc_web.hottab2cont3\">\\n\\t\\t\\t\\t<div class=\"chart_rank\">\\n\\t\\t\\t\\t\\t<em class=\"rank\">3<span class=\"blind\">위</span></em>\\n\\t\\t\\t\\t\\t<div class=\"state\">\\n\\t\\t\\t\\t\\t\\t\\n\\t\\t\\t\\t\\t\\t\\n\\t\\t\\t\\t\\t\\t<i class=\"ico_down\"><span class=\"blind\">하락</span></i>2\\n\\t\\t\\t\\t\\t</div>\\n\\t\\t\\t\\t</div>\\n\\t\\t\\t\\t<div class=\"chart_info\">\\n\\t\\t\\t\\t\\t<div class=\"thumb_box\">\\n\\t\\t\\t\\t\\t\\t<img src=\"https://s.pstatic.net/dthumb.phinf/?src&#x3D;%22https%3A%2F%2Fcomicthumb-phinf.pstatic.net%2F20220418_285%2Fpocket_16502413309585ev2T_JPEG%2Fimage.JPEG%22&amp;type&#x3D;navermain_n76_108\"\\n\\t\\t\\t\\t\\t\\t\\talt=\"\" height=\"54\" width=\"38\" onerror=\"this.outerHTML=\\'<span class=\\\\\\'pm_noimg_s\\\\\\'><span class=\\\\\\'blind\\\\\\'>이미지 준비중</span></span>\\'\"><span class=\"thumb_bd\"></span>\\n\\t\\t\\t\\t\\t</div>\\n\\t\\t\\t\\t\\t<div class=\"info_box\">\\n\\t\\t\\t\\t\\t\\t<strong class=\"title\">헌원세가의 데릴사위</strong>\\n\\t\\t\\t\\t\\t\\t<div class=\"dsc_wrap\"><span class=\"dsc\">\\n\\t\\t\\t\\t\\t\\t\\t\\t연하늘\\n\\t\\t\\t\\t\\t\\t\\t\\t\\n\\t\\t\\t\\t\\t\\t\\t</span><span class=\"dsc\">25화 무료</span></div>\\n\\t\\t\\t\\t\\t</div>\\n\\t\\t\\t\\t</div>\\n\\t\\t\\t</a>\\n\\t\\t\\t\\n\\t\\t\\t<a href=\"http://series.naver.com/novel/detail.nhn?originalProductId&#x3D;360163\" class=\"chart_area\" target=\"_blank\"\\n\\t\\t\\t\\tdata-clk=\"tcc_web.hottab2cont4\">\\n\\t\\t\\t\\t<div class=\"chart_rank\">\\n\\t\\t\\t\\t\\t<em class=\"rank\">4<span class=\"blind\">위</span></em>\\n\\t\\t\\t\\t\\t<div class=\"state\">\\n\\t\\t\\t\\t\\t\\t\\n\\t\\t\\t\\t\\t\\t<i class=\"ico_dash\"><span class=\"blind\">유지</span></i>\\n\\t\\t\\t\\t\\t\\t\\n\\t\\t\\t\\t\\t</div>\\n\\t\\t\\t\\t</div>\\n\\t\\t\\t\\t<div class=\"chart_info\">\\n\\t\\t\\t\\t\\t<div class=\"thumb_box\">\\n\\t\\t\\t\\t\\t\\t<img src=\"https://s.pstatic.net/dthumb.phinf/?src&#x3D;%22https%3A%2F%2Fcomicthumb-phinf.pstatic.net%2F20210730_276%2Fpocket_1627613698107iTNBd_JPEG%2F_%25284%2529.jpg%22&amp;type&#x3D;navermain_n76_108\"\\n\\t\\t\\t\\t\\t\\t\\talt=\"\" height=\"54\" width=\"38\" onerror=\"this.outerHTML=\\'<span class=\\\\\\'pm_noimg_s\\\\\\'><span class=\\\\\\'blind\\\\\\'>이미지 준비중</span></span>\\'\"><span class=\"thumb_bd\"></span>\\n\\t\\t\\t\\t\\t</div>\\n\\t\\t\\t\\t\\t<div class=\"info_box\">\\n\\t\\t\\t\\t\\t\\t<strong class=\"title\">화산귀환 [독점]</strong>\\n\\t\\t\\t\\t\\t\\t<div class=\"dsc_wrap\"><span class=\"dsc\">\\n\\t\\t\\t\\t\\t\\t\\t\\t비가\\n\\t\\t\\t\\t\\t\\t\\t\\t\\n\\t\\t\\t\\t\\t\\t\\t</span><span class=\"dsc\">25화 무료</span></div>\\n\\t\\t\\t\\t\\t</div>\\n\\t\\t\\t\\t</div>\\n\\t\\t\\t</a>\\n\\t\\t\\t\\n\\t\\t\\t<a href=\"http://series.naver.com/novel/detail.nhn?originalProductId&#x3D;223300\" class=\"chart_area\" target=\"_blank\"\\n\\t\\t\\t\\tdata-clk=\"tcc_web.hottab2cont5\">\\n\\t\\t\\t\\t<div class=\"chart_rank\">\\n\\t\\t\\t\\t\\t<em class=\"rank\">5<span class=\"blind\">위</span></em>\\n\\t\\t\\t\\t\\t<div class=\"state\">\\n\\t\\t\\t\\t\\t\\t<i class=\"ico_up\"><span class=\"blind\">상승</span></i>3\\n\\t\\t\\t\\t\\t\\t\\n\\t\\t\\t\\t\\t\\t\\n\\t\\t\\t\\t\\t</div>\\n\\t\\t\\t\\t</div>\\n\\t\\t\\t\\t<div class=\"chart_info\">\\n\\t\\t\\t\\t\\t<div class=\"thumb_box\">\\n\\t\\t\\t\\t\\t\\t<img src=\"https://s.pstatic.net/dthumb.phinf/?src&#x3D;%22https%3A%2F%2Fcomicthumb-phinf.pstatic.net%2F20200909_236%2Fpocket_1599642879411P9IdK_JPEG%2F_.jpg%22&amp;type&#x3D;navermain_n76_108\"\\n\\t\\t\\t\\t\\t\\t\\talt=\"\" height=\"54\" width=\"38\" onerror=\"this.outerHTML=\\'<span class=\\\\\\'pm_noimg_s\\\\\\'><span class=\\\\\\'blind\\\\\\'>이미지 준비중</span></span>\\'\"><span class=\"thumb_bd\"></span>\\n\\t\\t\\t\\t\\t</div>\\n\\t\\t\\t\\t\\t<div class=\"info_box\">\\n\\t\\t\\t\\t\\t\\t<strong class=\"title\">서울역 네크로맨서</strong>\\n\\t\\t\\t\\t\\t\\t<div class=\"dsc_wrap\"><span class=\"dsc\">\\n\\t\\t\\t\\t\\t\\t\\t\\t진설우\\n\\t\\t\\t\\t\\t\\t\\t\\t\\n\\t\\t\\t\\t\\t\\t\\t</span><span class=\"dsc\">100화 무료</span></div>\\n\\t\\t\\t\\t\\t</div>\\n\\t\\t\\t\\t</div>\\n\\t\\t\\t</a>\\n\\t\\t\\t\\n\\t\\t</div>\\n\\t\\t\\n\\t\\t<div class=\"chart_view\">\\n\\t\\t\\t\\n\\t\\t\\t<a href=\"http://series.naver.com/novel/detail.nhn?originalProductId&#x3D;363170\" class=\"chart_area\" target=\"_blank\"\\n\\t\\t\\t\\tdata-clk=\"tcc_web.hottab2cont6\">\\n\\t\\t\\t\\t<div class=\"chart_rank\">\\n\\t\\t\\t\\t\\t<em class=\"rank\">6<span class=\"blind\">위</span></em>\\n\\t\\t\\t\\t\\t<div class=\"state\">\\n\\t\\t\\t\\t\\t\\t<i class=\"ico_up\"><span class=\"blind\">상승</span></i>10\\n\\t\\t\\t\\t\\t\\t\\n\\t\\t\\t\\t\\t\\t\\n\\t\\t\\t\\t\\t</div>\\n\\t\\t\\t\\t</div>\\n\\t\\t\\t\\t<div class=\"chart_info\">\\n\\t\\t\\t\\t\\t<div class=\"thumb_box\">\\n\\t\\t\\t\\t\\t\\t<img src=\"https://s.pstatic.net/dthumb.phinf/?src&#x3D;%22https%3A%2F%2Fcomicthumb-phinf.pstatic.net%2F20201104_181%2Fpocket_1604475520593wvaLc_JPEG%2F___.jpg%22&amp;type&#x3D;navermain_n76_108\"\\n\\t\\t\\t\\t\\t\\t\\talt=\"\" height=\"54\" width=\"38\" onerror=\"this.outerHTML=\\'<span class=\\\\\\'pm_noimg_s\\\\\\'><span class=\\\\\\'blind\\\\\\'>이미지 준비중</span></span>\\'\"><span class=\"thumb_bd\"></span>\\n\\t\\t\\t\\t\\t</div>\\n\\t\\t\\t\\t\\t<div class=\"info_box\">\\n\\t\\t\\t\\t\\t\\t<strong class=\"title\">역대급 영지 설계사 [독점]</strong>\\n\\t\\t\\t\\t\\t\\t<div class=\"dsc_wrap\"><span class=\"dsc\">\\n\\t\\t\\t\\t\\t\\t\\t\\t문백경, \\n\\t\\t\\t\\t\\t\\t\\t\\t망기\\n\\t\\t\\t\\t\\t\\t\\t</span><span class=\"dsc\">303화 무료</span></div>\\n\\t\\t\\t\\t\\t</div>\\n\\t\\t\\t\\t</div>\\n\\t\\t\\t</a>\\n\\t\\t\\t\\n\\t\\t\\t<a href=\"http://series.naver.com/novel/detail.nhn?originalProductId&#x3D;422880\" class=\"chart_area\" target=\"_blank\"\\n\\t\\t\\t\\tdata-clk=\"tcc_web.hottab2cont7\">\\n\\t\\t\\t\\t<div class=\"chart_rank\">\\n\\t\\t\\t\\t\\t<em class=\"rank\">7<span class=\"blind\">위</span></em>\\n\\t\\t\\t\\t\\t<div class=\"state\">\\n\\t\\t\\t\\t\\t\\t<i class=\"ico_up\"><span class=\"blind\">상승</span></i>5\\n\\t\\t\\t\\t\\t\\t\\n\\t\\t\\t\\t\\t\\t\\n\\t\\t\\t\\t\\t</div>\\n\\t\\t\\t\\t</div>\\n\\t\\t\\t\\t<div class=\"chart_info\">\\n\\t\\t\\t\\t\\t<div class=\"thumb_box\">\\n\\t\\t\\t\\t\\t\\t<img src=\"https://s.pstatic.net/dthumb.phinf/?src&#x3D;%22https%3A%2F%2Fcomicthumb-phinf.pstatic.net%2F20210122_8%2Fpocket_1611291180243hOcm3_JPEG%2F--.jpg%22&amp;type&#x3D;navermain_n76_108\"\\n\\t\\t\\t\\t\\t\\t\\talt=\"\" height=\"54\" width=\"38\" onerror=\"this.outerHTML=\\'<span class=\\\\\\'pm_noimg_s\\\\\\'><span class=\\\\\\'blind\\\\\\'>이미지 준비중</span></span>\\'\"><span class=\"thumb_bd\"></span>\\n\\t\\t\\t\\t\\t</div>\\n\\t\\t\\t\\t\\t<div class=\"info_box\">\\n\\t\\t\\t\\t\\t\\t<strong class=\"title\">사채왕의 천재손자</strong>\\n\\t\\t\\t\\t\\t\\t<div class=\"dsc_wrap\"><span class=\"dsc\">\\n\\t\\t\\t\\t\\t\\t\\t\\t김귀랑\\n\\t\\t\\t\\t\\t\\t\\t\\t\\n\\t\\t\\t\\t\\t\\t\\t</span><span class=\"dsc\">25화 무료</span></div>\\n\\t\\t\\t\\t\\t</div>\\n\\t\\t\\t\\t</div>\\n\\t\\t\\t</a>\\n\\t\\t\\t\\n\\t\\t\\t<a href=\"http://series.naver.com/novel/detail.nhn?originalProductId&#x3D;356892\" class=\"chart_area\" target=\"_blank\"\\n\\t\\t\\t\\tdata-clk=\"tcc_web.hottab2cont8\">\\n\\t\\t\\t\\t<div class=\"chart_rank\">\\n\\t\\t\\t\\t\\t<em class=\"rank\">8<span class=\"blind\">위</span></em>\\n\\t\\t\\t\\t\\t<div class=\"state\">\\n\\t\\t\\t\\t\\t\\t<i class=\"ico_up\"><span class=\"blind\">상승</span></i>1\\n\\t\\t\\t\\t\\t\\t\\n\\t\\t\\t\\t\\t\\t\\n\\t\\t\\t\\t\\t</div>\\n\\t\\t\\t\\t</div>\\n\\t\\t\\t\\t<div class=\"chart_info\">\\n\\t\\t\\t\\t\\t<div class=\"thumb_box\">\\n\\t\\t\\t\\t\\t\\t<img src=\"https://s.pstatic.net/dthumb.phinf/?src&#x3D;%22https%3A%2F%2Fcomicthumb-phinf.pstatic.net%2F20190325_297%2Fpocket_1553525262144cfdPJ_JPEG%2Funtitled.jpg%22&amp;type&#x3D;navermain_n76_108\"\\n\\t\\t\\t\\t\\t\\t\\talt=\"\" height=\"54\" width=\"38\" onerror=\"this.outerHTML=\\'<span class=\\\\\\'pm_noimg_s\\\\\\'><span class=\\\\\\'blind\\\\\\'>이미지 준비중</span></span>\\'\"><span class=\"thumb_bd\"></span>\\n\\t\\t\\t\\t\\t</div>\\n\\t\\t\\t\\t\\t<div class=\"info_box\">\\n\\t\\t\\t\\t\\t\\t<strong class=\"title\">서울역 드루이드 [독점]</strong>\\n\\t\\t\\t\\t\\t\\t<div class=\"dsc_wrap\"><span class=\"dsc\">\\n\\t\\t\\t\\t\\t\\t\\t\\t진설우, \\n\\t\\t\\t\\t\\t\\t\\t\\t섶\\n\\t\\t\\t\\t\\t\\t\\t</span><span class=\"dsc\">100화 무료</span></div>\\n\\t\\t\\t\\t\\t</div>\\n\\t\\t\\t\\t</div>\\n\\t\\t\\t</a>\\n\\t\\t\\t\\n\\t\\t\\t<a href=\"http://series.naver.com/novel/detail.nhn?originalProductId&#x3D;366147\" class=\"chart_area\" target=\"_blank\"\\n\\t\\t\\t\\tdata-clk=\"tcc_web.hottab2cont9\">\\n\\t\\t\\t\\t<div class=\"chart_rank\">\\n\\t\\t\\t\\t\\t<em class=\"rank\">9<span class=\"blind\">위</span></em>\\n\\t\\t\\t\\t\\t<div class=\"state\">\\n\\t\\t\\t\\t\\t\\t\\n\\t\\t\\t\\t\\t\\t\\n\\t\\t\\t\\t\\t\\t<i class=\"ico_down\"><span class=\"blind\">하락</span></i>2\\n\\t\\t\\t\\t\\t</div>\\n\\t\\t\\t\\t</div>\\n\\t\\t\\t\\t<div class=\"chart_info\">\\n\\t\\t\\t\\t\\t<div class=\"thumb_box\">\\n\\t\\t\\t\\t\\t\\t<img src=\"https://s.pstatic.net/dthumb.phinf/?src&#x3D;%22https%3A%2F%2Fcomicthumb-phinf.pstatic.net%2F20190619_175%2Fpocket_1560948645965kaEIu_JPEG%2F0.jpg%22&amp;type&#x3D;navermain_n76_108\"\\n\\t\\t\\t\\t\\t\\t\\talt=\"\" height=\"54\" width=\"38\" onerror=\"this.outerHTML=\\'<span class=\\\\\\'pm_noimg_s\\\\\\'><span class=\\\\\\'blind\\\\\\'>이미지 준비중</span></span>\\'\"><span class=\"thumb_bd\"></span>\\n\\t\\t\\t\\t\\t</div>\\n\\t\\t\\t\\t\\t<div class=\"info_box\">\\n\\t\\t\\t\\t\\t\\t<strong class=\"title\">패왕기</strong>\\n\\t\\t\\t\\t\\t\\t<div class=\"dsc_wrap\"><span class=\"dsc\">\\n\\t\\t\\t\\t\\t\\t\\t\\t진설우\\n\\t\\t\\t\\t\\t\\t\\t\\t\\n\\t\\t\\t\\t\\t\\t\\t</span><span class=\"dsc\">100화 무료</span></div>\\n\\t\\t\\t\\t\\t</div>\\n\\t\\t\\t\\t</div>\\n\\t\\t\\t</a>\\n\\t\\t\\t\\n\\t\\t\\t<a href=\"http://series.naver.com/novel/detail.nhn?originalProductId&#x3D;432633\" class=\"chart_area\" target=\"_blank\"\\n\\t\\t\\t\\tdata-clk=\"tcc_web.hottab2cont10\">\\n\\t\\t\\t\\t<div class=\"chart_rank\">\\n\\t\\t\\t\\t\\t<em class=\"rank\">10<span class=\"blind\">위</span></em>\\n\\t\\t\\t\\t\\t<div class=\"state\">\\n\\t\\t\\t\\t\\t\\t<i class=\"ico_up\"><span class=\"blind\">상승</span></i>3\\n\\t\\t\\t\\t\\t\\t\\n\\t\\t\\t\\t\\t\\t\\n\\t\\t\\t\\t\\t</div>\\n\\t\\t\\t\\t</div>\\n\\t\\t\\t\\t<div class=\"chart_info\">\\n\\t\\t\\t\\t\\t<div class=\"thumb_box\">\\n\\t\\t\\t\\t\\t\\t<img src=\"https://s.pstatic.net/dthumb.phinf/?src&#x3D;%22https%3A%2F%2Fcomicthumb-phinf.pstatic.net%2F20210507_28%2Fpocket_16203283146294JEqu_JPEG%2Fcover.jpg%22&amp;type&#x3D;navermain_n76_108\"\\n\\t\\t\\t\\t\\t\\t\\talt=\"\" height=\"54\" width=\"38\" onerror=\"this.outerHTML=\\'<span class=\\\\\\'pm_noimg_s\\\\\\'><span class=\\\\\\'blind\\\\\\'>이미지 준비중</span></span>\\'\"><span class=\"thumb_bd\"></span>\\n\\t\\t\\t\\t\\t</div>\\n\\t\\t\\t\\t\\t<div class=\"info_box\">\\n\\t\\t\\t\\t\\t\\t<strong class=\"title\">천마육성 시뮬레이션 [독점]</strong>\\n\\t\\t\\t\\t\\t\\t<div class=\"dsc_wrap\"><span class=\"dsc\">\\n\\t\\t\\t\\t\\t\\t\\t\\t조형근\\n\\t\\t\\t\\t\\t\\t\\t\\t\\n\\t\\t\\t\\t\\t\\t\\t</span><span class=\"dsc\">100화 무료</span></div>\\n\\t\\t\\t\\t\\t</div>\\n\\t\\t\\t\\t</div>\\n\\t\\t\\t</a>\\n\\t\\t\\t\\n\\t\\t</div>\\n\\t\\t\\n\\t</div>\\n\\t\\n\\t<div class=\"chart_view_wrap type_webnobel\" data-tab-panel=\"theme-bboom-api-all-2\"  aria-selected=\"false\" style=\"display: none;\" hidden=\"hidden\" >\\n\\t\\t\\n\\t\\t<div class=\"chart_view\">\\n\\t\\t\\t\\n\\t\\t\\t<a href=\"http://series.naver.com/comic/detail.nhn?originalProductId&#x3D;414850\" class=\"chart_area\" target=\"_blank\"\\n\\t\\t\\t\\tdata-clk=\"tcc_web.hottab3cont1\">\\n\\t\\t\\t\\t<div class=\"chart_rank\">\\n\\t\\t\\t\\t\\t<em class=\"rank\">1<span class=\"blind\">위</span></em>\\n\\t\\t\\t\\t\\t<div class=\"state\">\\n\\t\\t\\t\\t\\t\\t<i class=\"ico_up\"><span class=\"blind\">상승</span></i>1\\n\\t\\t\\t\\t\\t\\t\\n\\t\\t\\t\\t\\t\\t\\n\\t\\t\\t\\t\\t</div>\\n\\t\\t\\t\\t</div>\\n\\t\\t\\t\\t<div class=\"chart_info\">\\n\\t\\t\\t\\t\\t<div class=\"thumb_box\">\\n\\t\\t\\t\\t\\t\\t<img src=\"https://s.pstatic.net/dthumb.phinf/?src&#x3D;%22https%3A%2F%2Fcomicthumb-phinf.pstatic.net%2F20201104_168%2Fpocket_1604471269389drGo1_JPEG%2F__690X805.jpg%22&amp;type&#x3D;navermain_n76_108\"\\n\\t\\t\\t\\t\\t\\t\\talt=\"\" height=\"54\" width=\"38\" onerror=\"this.outerHTML=\\'<span class=\\\\\\'pm_noimg_s\\\\\\'><span class=\\\\\\'blind\\\\\\'>이미지 준비중</span></span>\\'\"><span class=\"thumb_bd\"></span>\\n\\t\\t\\t\\t\\t</div>\\n\\t\\t\\t\\t\\t<div class=\"info_box\">\\n\\t\\t\\t\\t\\t\\t<strong class=\"title\">참교육</strong>\\n\\t\\t\\t\\t\\t\\t<div class=\"dsc_wrap\"><span class=\"dsc\">\\n\\t\\t\\t\\t\\t\\t\\t\\t채용택, \\n\\t\\t\\t\\t\\t\\t\\t\\t한가람\\n\\t\\t\\t\\t\\t\\t\\t</span><span class=\"dsc\">77화 무료</span></div>\\n\\t\\t\\t\\t\\t</div>\\n\\t\\t\\t\\t</div>\\n\\t\\t\\t</a>\\n\\t\\t\\t\\n\\t\\t\\t<a href=\"http://series.naver.com/comic/detail.nhn?originalProductId&#x3D;223344\" class=\"chart_area\" target=\"_blank\"\\n\\t\\t\\t\\tdata-clk=\"tcc_web.hottab3cont2\">\\n\\t\\t\\t\\t<div class=\"chart_rank\">\\n\\t\\t\\t\\t\\t<em class=\"rank\">2<span class=\"blind\">위</span></em>\\n\\t\\t\\t\\t\\t<div class=\"state\">\\n\\t\\t\\t\\t\\t\\t\\n\\t\\t\\t\\t\\t\\t\\n\\t\\t\\t\\t\\t\\t<i class=\"ico_down\"><span class=\"blind\">하락</span></i>1\\n\\t\\t\\t\\t\\t</div>\\n\\t\\t\\t\\t</div>\\n\\t\\t\\t\\t<div class=\"chart_info\">\\n\\t\\t\\t\\t\\t<div class=\"thumb_box\">\\n\\t\\t\\t\\t\\t\\t<img src=\"https://s.pstatic.net/dthumb.phinf/?src&#x3D;%22https%3A%2F%2Fcomicthumb-phinf.pstatic.net%2F20210514_219%2Fpocket_1620979387001SQOOD_JPEG%2F__650x758.jpg%22&amp;type&#x3D;navermain_n76_108\"\\n\\t\\t\\t\\t\\t\\t\\talt=\"\" height=\"54\" width=\"38\" onerror=\"this.outerHTML=\\'<span class=\\\\\\'pm_noimg_s\\\\\\'><span class=\\\\\\'blind\\\\\\'>이미지 준비중</span></span>\\'\"><span class=\"thumb_bd\"></span>\\n\\t\\t\\t\\t\\t</div>\\n\\t\\t\\t\\t\\t<div class=\"info_box\">\\n\\t\\t\\t\\t\\t\\t<strong class=\"title\">신의 탑</strong>\\n\\t\\t\\t\\t\\t\\t<div class=\"dsc_wrap\"><span class=\"dsc\">\\n\\t\\t\\t\\t\\t\\t\\t\\t\\n\\t\\t\\t\\t\\t\\t\\t\\tSIU\\n\\t\\t\\t\\t\\t\\t\\t</span><span class=\"dsc\">536화 무료</span></div>\\n\\t\\t\\t\\t\\t</div>\\n\\t\\t\\t\\t</div>\\n\\t\\t\\t</a>\\n\\t\\t\\t\\n\\t\\t\\t<a href=\"http://series.naver.com/comic/detail.nhn?originalProductId&#x3D;361639\" class=\"chart_area\" target=\"_blank\"\\n\\t\\t\\t\\tdata-clk=\"tcc_web.hottab3cont3\">\\n\\t\\t\\t\\t<div class=\"chart_rank\">\\n\\t\\t\\t\\t\\t<em class=\"rank\">3<span class=\"blind\">위</span></em>\\n\\t\\t\\t\\t\\t<div class=\"state\">\\n\\t\\t\\t\\t\\t\\t<i class=\"ico_up\"><span class=\"blind\">상승</span></i>1\\n\\t\\t\\t\\t\\t\\t\\n\\t\\t\\t\\t\\t\\t\\n\\t\\t\\t\\t\\t</div>\\n\\t\\t\\t\\t</div>\\n\\t\\t\\t\\t<div class=\"chart_info\">\\n\\t\\t\\t\\t\\t<div class=\"thumb_box\">\\n\\t\\t\\t\\t\\t\\t<img src=\"https://s.pstatic.net/dthumb.phinf/?src&#x3D;%22https%3A%2F%2Fcomicthumb-phinf.pstatic.net%2F20191125_181%2Fpocket_1574644635626jTtM7_JPEG%2F__.jpg%22&amp;type&#x3D;navermain_n76_108\"\\n\\t\\t\\t\\t\\t\\t\\talt=\"\" height=\"54\" width=\"38\" onerror=\"this.outerHTML=\\'<span class=\\\\\\'pm_noimg_s\\\\\\'><span class=\\\\\\'blind\\\\\\'>이미지 준비중</span></span>\\'\"><span class=\"thumb_bd\"></span>\\n\\t\\t\\t\\t\\t</div>\\n\\t\\t\\t\\t\\t<div class=\"info_box\">\\n\\t\\t\\t\\t\\t\\t<strong class=\"title\">장씨세가 호위무사[독점]</strong>\\n\\t\\t\\t\\t\\t\\t<div class=\"dsc_wrap\"><span class=\"dsc\">\\n\\t\\t\\t\\t\\t\\t\\t\\t조형근, \\n\\t\\t\\t\\t\\t\\t\\t\\t김인호\\n\\t\\t\\t\\t\\t\\t\\t</span><span class=\"dsc\">154화 무료</span></div>\\n\\t\\t\\t\\t\\t</div>\\n\\t\\t\\t\\t</div>\\n\\t\\t\\t</a>\\n\\t\\t\\t\\n\\t\\t\\t<a href=\"http://series.naver.com/comic/detail.nhn?originalProductId&#x3D;449359\" class=\"chart_area\" target=\"_blank\"\\n\\t\\t\\t\\tdata-clk=\"tcc_web.hottab3cont4\">\\n\\t\\t\\t\\t<div class=\"chart_rank\">\\n\\t\\t\\t\\t\\t<em class=\"rank\">4<span class=\"blind\">위</span></em>\\n\\t\\t\\t\\t\\t<div class=\"state\">\\n\\t\\t\\t\\t\\t\\t\\n\\t\\t\\t\\t\\t\\t\\n\\t\\t\\t\\t\\t\\t<i class=\"ico_down\"><span class=\"blind\">하락</span></i>1\\n\\t\\t\\t\\t\\t</div>\\n\\t\\t\\t\\t</div>\\n\\t\\t\\t\\t<div class=\"chart_info\">\\n\\t\\t\\t\\t\\t<div class=\"thumb_box\">\\n\\t\\t\\t\\t\\t\\t<img src=\"https://s.pstatic.net/dthumb.phinf/?src&#x3D;%22https%3A%2F%2Fcomicthumb-phinf.pstatic.net%2F20211022_229%2Fpocket_1634897827842fpykX_JPEG%2F%25BD%25C3%25B8%25AE%25C1%25EE_%25C7%25A5%25C1%25F6_650x758.jpg%22&amp;type&#x3D;navermain_n76_108\"\\n\\t\\t\\t\\t\\t\\t\\talt=\"\" height=\"54\" width=\"38\" onerror=\"this.outerHTML=\\'<span class=\\\\\\'pm_noimg_s\\\\\\'><span class=\\\\\\'blind\\\\\\'>이미지 준비중</span></span>\\'\"><span class=\"thumb_bd\"></span>\\n\\t\\t\\t\\t\\t</div>\\n\\t\\t\\t\\t\\t<div class=\"info_box\">\\n\\t\\t\\t\\t\\t\\t<strong class=\"title\">퀘스트지상주의</strong>\\n\\t\\t\\t\\t\\t\\t<div class=\"dsc_wrap\"><span class=\"dsc\">\\n\\t\\t\\t\\t\\t\\t\\t\\t\\n\\t\\t\\t\\t\\t\\t\\t\\t박태준 만화회사\\n\\t\\t\\t\\t\\t\\t\\t</span><span class=\"dsc\">27화 무료</span></div>\\n\\t\\t\\t\\t\\t</div>\\n\\t\\t\\t\\t</div>\\n\\t\\t\\t</a>\\n\\t\\t\\t\\n\\t\\t\\t<a href=\"http://series.naver.com/comic/detail.nhn?originalProductId&#x3D;194156\" class=\"chart_area\" target=\"_blank\"\\n\\t\\t\\t\\tdata-clk=\"tcc_web.hottab3cont5\">\\n\\t\\t\\t\\t<div class=\"chart_rank\">\\n\\t\\t\\t\\t\\t<em class=\"rank\">5<span class=\"blind\">위</span></em>\\n\\t\\t\\t\\t\\t<div class=\"state\">\\n\\t\\t\\t\\t\\t\\t\\n\\t\\t\\t\\t\\t\\t<i class=\"ico_dash\"><span class=\"blind\">유지</span></i>\\n\\t\\t\\t\\t\\t\\t\\n\\t\\t\\t\\t\\t</div>\\n\\t\\t\\t\\t</div>\\n\\t\\t\\t\\t<div class=\"chart_info\">\\n\\t\\t\\t\\t\\t<div class=\"thumb_box\">\\n\\t\\t\\t\\t\\t\\t<img src=\"https://s.pstatic.net/dthumb.phinf/?src&#x3D;%22https%3A%2F%2Fcomicthumb-phinf.pstatic.net%2F20220221_69%2Fpocket_1645385084956MyQ4H_JPEG%2F%25BA%25E4%25B1%25BA_%25B9%25CC%25B8%25AE%25BA%25B8%25B1%25E2_758_%25281%2529.JPG%22&amp;type&#x3D;navermain_n76_108\"\\n\\t\\t\\t\\t\\t\\t\\talt=\"\" height=\"54\" width=\"38\" onerror=\"this.outerHTML=\\'<span class=\\\\\\'pm_noimg_s\\\\\\'><span class=\\\\\\'blind\\\\\\'>이미지 준비중</span></span>\\'\"><span class=\"thumb_bd\"></span>\\n\\t\\t\\t\\t\\t</div>\\n\\t\\t\\t\\t\\t<div class=\"info_box\">\\n\\t\\t\\t\\t\\t\\t<strong class=\"title\">뷰티풀 군바리</strong>\\n\\t\\t\\t\\t\\t\\t<div class=\"dsc_wrap\"><span class=\"dsc\">\\n\\t\\t\\t\\t\\t\\t\\t\\t설이, \\n\\t\\t\\t\\t\\t\\t\\t\\t윤성원\\n\\t\\t\\t\\t\\t\\t\\t</span><span class=\"dsc\">331화 무료</span></div>\\n\\t\\t\\t\\t\\t</div>\\n\\t\\t\\t\\t</div>\\n\\t\\t\\t</a>\\n\\t\\t\\t\\n\\t\\t</div>\\n\\t\\t\\n\\t\\t<div class=\"chart_view\">\\n\\t\\t\\t\\n\\t\\t\\t<a href=\"http://series.naver.com/comic/detail.nhn?originalProductId&#x3D;381824\" class=\"chart_area\" target=\"_blank\"\\n\\t\\t\\t\\tdata-clk=\"tcc_web.hottab3cont6\">\\n\\t\\t\\t\\t<div class=\"chart_rank\">\\n\\t\\t\\t\\t\\t<em class=\"rank\">6<span class=\"blind\">위</span></em>\\n\\t\\t\\t\\t\\t<div class=\"state\">\\n\\t\\t\\t\\t\\t\\t<i class=\"ico_up\"><span class=\"blind\">상승</span></i>2\\n\\t\\t\\t\\t\\t\\t\\n\\t\\t\\t\\t\\t\\t\\n\\t\\t\\t\\t\\t</div>\\n\\t\\t\\t\\t</div>\\n\\t\\t\\t\\t<div class=\"chart_info\">\\n\\t\\t\\t\\t\\t<div class=\"thumb_box\">\\n\\t\\t\\t\\t\\t\\t<img src=\"https://s.pstatic.net/dthumb.phinf/?src&#x3D;%22https%3A%2F%2Fcomicthumb-phinf.pstatic.net%2F20191115_183%2Fpocket_1573808306445XFvXz_JPEG%2F___690-1000.jpg%22&amp;type&#x3D;navermain_n76_108\"\\n\\t\\t\\t\\t\\t\\t\\talt=\"\" height=\"54\" width=\"38\" onerror=\"this.outerHTML=\\'<span class=\\\\\\'pm_noimg_s\\\\\\'><span class=\\\\\\'blind\\\\\\'>이미지 준비중</span></span>\\'\"><span class=\"thumb_bd\"></span>\\n\\t\\t\\t\\t\\t</div>\\n\\t\\t\\t\\t\\t<div class=\"info_box\">\\n\\t\\t\\t\\t\\t\\t<strong class=\"title\">싸움독학</strong>\\n\\t\\t\\t\\t\\t\\t<div class=\"dsc_wrap\"><span class=\"dsc\">\\n\\t\\t\\t\\t\\t\\t\\t\\t박태준, \\n\\t\\t\\t\\t\\t\\t\\t\\t김정현\\n\\t\\t\\t\\t\\t\\t\\t</span><span class=\"dsc\">128화 무료</span></div>\\n\\t\\t\\t\\t\\t</div>\\n\\t\\t\\t\\t</div>\\n\\t\\t\\t</a>\\n\\t\\t\\t\\n\\t\\t\\t<a href=\"http://series.naver.com/comic/detail.nhn?originalProductId&#x3D;408034\" class=\"chart_area\" target=\"_blank\"\\n\\t\\t\\t\\tdata-clk=\"tcc_web.hottab3cont7\">\\n\\t\\t\\t\\t<div class=\"chart_rank\">\\n\\t\\t\\t\\t\\t<em class=\"rank\">7<span class=\"blind\">위</span></em>\\n\\t\\t\\t\\t\\t<div class=\"state\">\\n\\t\\t\\t\\t\\t\\t<i class=\"ico_up\"><span class=\"blind\">상승</span></i>3\\n\\t\\t\\t\\t\\t\\t\\n\\t\\t\\t\\t\\t\\t\\n\\t\\t\\t\\t\\t</div>\\n\\t\\t\\t\\t</div>\\n\\t\\t\\t\\t<div class=\"chart_info\">\\n\\t\\t\\t\\t\\t<div class=\"thumb_box\">\\n\\t\\t\\t\\t\\t\\t<img src=\"https://s.pstatic.net/dthumb.phinf/?src&#x3D;%22https%3A%2F%2Fcomicthumb-phinf.pstatic.net%2F20200814_299%2Fpocket_1597406388173O2ojz_JPEG%2F300x430.jpg%22&amp;type&#x3D;navermain_n76_108\"\\n\\t\\t\\t\\t\\t\\t\\talt=\"\" height=\"54\" width=\"38\" onerror=\"this.outerHTML=\\'<span class=\\\\\\'pm_noimg_s\\\\\\'><span class=\\\\\\'blind\\\\\\'>이미지 준비중</span></span>\\'\"><span class=\"thumb_bd\"></span>\\n\\t\\t\\t\\t\\t</div>\\n\\t\\t\\t\\t\\t<div class=\"info_box\">\\n\\t\\t\\t\\t\\t\\t<strong class=\"title\">40억 vs 1[독점]</strong>\\n\\t\\t\\t\\t\\t\\t<div class=\"dsc_wrap\"><span class=\"dsc\">\\n\\t\\t\\t\\t\\t\\t\\t\\t\\n\\t\\t\\t\\t\\t\\t\\t\\t김진태(JTK)\\n\\t\\t\\t\\t\\t\\t\\t</span><span class=\"dsc\">9화 무료</span></div>\\n\\t\\t\\t\\t\\t</div>\\n\\t\\t\\t\\t</div>\\n\\t\\t\\t</a>\\n\\t\\t\\t\\n\\t\\t\\t<a href=\"http://series.naver.com/comic/detail.nhn?originalProductId&#x3D;230514\" class=\"chart_area\" target=\"_blank\"\\n\\t\\t\\t\\tdata-clk=\"tcc_web.hottab3cont8\">\\n\\t\\t\\t\\t<div class=\"chart_rank\">\\n\\t\\t\\t\\t\\t<em class=\"rank\">8<span class=\"blind\">위</span></em>\\n\\t\\t\\t\\t\\t<div class=\"state\">\\n\\t\\t\\t\\t\\t\\t\\n\\t\\t\\t\\t\\t\\t\\n\\t\\t\\t\\t\\t\\t<i class=\"ico_down\"><span class=\"blind\">하락</span></i>1\\n\\t\\t\\t\\t\\t</div>\\n\\t\\t\\t\\t</div>\\n\\t\\t\\t\\t<div class=\"chart_info\">\\n\\t\\t\\t\\t\\t<div class=\"thumb_box\">\\n\\t\\t\\t\\t\\t\\t<img src=\"https://s.pstatic.net/dthumb.phinf/?src&#x3D;%22https%3A%2F%2Fcomicthumb-phinf.pstatic.net%2F20200601_189%2Fpocket_1591001490793bfHEC_JPEG%2Fimage.JPEG%22&amp;type&#x3D;navermain_n76_108\"\\n\\t\\t\\t\\t\\t\\t\\talt=\"\" height=\"54\" width=\"38\" onerror=\"this.outerHTML=\\'<span class=\\\\\\'pm_noimg_s\\\\\\'><span class=\\\\\\'blind\\\\\\'>이미지 준비중</span></span>\\'\"><span class=\"thumb_bd\"></span>\\n\\t\\t\\t\\t\\t</div>\\n\\t\\t\\t\\t\\t<div class=\"info_box\">\\n\\t\\t\\t\\t\\t\\t<strong class=\"title\">소녀의 세계</strong>\\n\\t\\t\\t\\t\\t\\t<div class=\"dsc_wrap\"><span class=\"dsc\">\\n\\t\\t\\t\\t\\t\\t\\t\\t\\n\\t\\t\\t\\t\\t\\t\\t\\t모랑지\\n\\t\\t\\t\\t\\t\\t\\t</span><span class=\"dsc\">316화 무료</span></div>\\n\\t\\t\\t\\t\\t</div>\\n\\t\\t\\t\\t</div>\\n\\t\\t\\t</a>\\n\\t\\t\\t\\n\\t\\t\\t<a href=\"http://series.naver.com/comic/detail.nhn?originalProductId&#x3D;224274\" class=\"chart_area\" target=\"_blank\"\\n\\t\\t\\t\\tdata-clk=\"tcc_web.hottab3cont9\">\\n\\t\\t\\t\\t<div class=\"chart_rank\">\\n\\t\\t\\t\\t\\t<em class=\"rank\">9<span class=\"blind\">위</span></em>\\n\\t\\t\\t\\t\\t<div class=\"state\">\\n\\t\\t\\t\\t\\t\\t\\n\\t\\t\\t\\t\\t\\t\\n\\t\\t\\t\\t\\t\\t<i class=\"ico_down\"><span class=\"blind\">하락</span></i>3\\n\\t\\t\\t\\t\\t</div>\\n\\t\\t\\t\\t</div>\\n\\t\\t\\t\\t<div class=\"chart_info\">\\n\\t\\t\\t\\t\\t<div class=\"thumb_box\">\\n\\t\\t\\t\\t\\t\\t<img src=\"https://s.pstatic.net/dthumb.phinf/?src&#x3D;%22https%3A%2F%2Fcomicthumb-phinf.pstatic.net%2F20170314_10%2Fpocket_1489467220338ooh7R_JPEG%2Fimage.JPEG%22&amp;type&#x3D;navermain_n76_108\"\\n\\t\\t\\t\\t\\t\\t\\talt=\"\" height=\"54\" width=\"38\" onerror=\"this.outerHTML=\\'<span class=\\\\\\'pm_noimg_s\\\\\\'><span class=\\\\\\'blind\\\\\\'>이미지 준비중</span></span>\\'\"><span class=\"thumb_bd\"></span>\\n\\t\\t\\t\\t\\t</div>\\n\\t\\t\\t\\t\\t<div class=\"info_box\">\\n\\t\\t\\t\\t\\t\\t<strong class=\"title\">윈드브레이커</strong>\\n\\t\\t\\t\\t\\t\\t<div class=\"dsc_wrap\"><span class=\"dsc\">\\n\\t\\t\\t\\t\\t\\t\\t\\t\\n\\t\\t\\t\\t\\t\\t\\t\\t조용석\\n\\t\\t\\t\\t\\t\\t\\t</span><span class=\"dsc\">385화 무료</span></div>\\n\\t\\t\\t\\t\\t</div>\\n\\t\\t\\t\\t</div>\\n\\t\\t\\t</a>\\n\\t\\t\\t\\n\\t\\t\\t<a href=\"http://series.naver.com/comic/detail.nhn?originalProductId&#x3D;139499\" class=\"chart_area\" target=\"_blank\"\\n\\t\\t\\t\\tdata-clk=\"tcc_web.hottab3cont10\">\\n\\t\\t\\t\\t<div class=\"chart_rank\">\\n\\t\\t\\t\\t\\t<em class=\"rank\">10<span class=\"blind\">위</span></em>\\n\\t\\t\\t\\t\\t<div class=\"state\">\\n\\t\\t\\t\\t\\t\\t\\n\\t\\t\\t\\t\\t\\t<i class=\"ico_dash\"><span class=\"blind\">유지</span></i>\\n\\t\\t\\t\\t\\t\\t\\n\\t\\t\\t\\t\\t</div>\\n\\t\\t\\t\\t</div>\\n\\t\\t\\t\\t<div class=\"chart_info\">\\n\\t\\t\\t\\t\\t<div class=\"thumb_box\">\\n\\t\\t\\t\\t\\t\\t<img src=\"https://s.pstatic.net/dthumb.phinf/?src&#x3D;%22https%3A%2F%2Fcomicthumb-phinf.pstatic.net%2F20170406_105%2Fpocket_1491466098694tkVQ6_JPEG%2F001.jpg%22&amp;type&#x3D;navermain_n76_108\"\\n\\t\\t\\t\\t\\t\\t\\talt=\"\" height=\"54\" width=\"38\" onerror=\"this.outerHTML=\\'<span class=\\\\\\'pm_noimg_s\\\\\\'><span class=\\\\\\'blind\\\\\\'>이미지 준비중</span></span>\\'\"><span class=\"thumb_bd\"></span>\\n\\t\\t\\t\\t\\t</div>\\n\\t\\t\\t\\t\\t<div class=\"info_box\">\\n\\t\\t\\t\\t\\t\\t<strong class=\"title\">멋지다!! 마사루 [단행본]</strong>\\n\\t\\t\\t\\t\\t\\t<div class=\"dsc_wrap\"><span class=\"dsc\">\\n\\t\\t\\t\\t\\t\\t\\t\\t\\n\\t\\t\\t\\t\\t\\t\\t\\tUsuta Kyosuke\\n\\t\\t\\t\\t\\t\\t\\t</span></div>\\n\\t\\t\\t\\t\\t</div>\\n\\t\\t\\t\\t</div>\\n\\t\\t\\t</a>\\n\\t\\t\\t\\n\\t\\t</div>\\n\\t\\t\\n\\t</div>\\n\\t\\n\\t<div class=\"chart_view_wrap type_webtoon\" data-tab-panel=\"theme-bboom-api-all-3\"  aria-selected=\"false\" style=\"display: none;\" hidden=\"hidden\" >\\n\\t\\t\\n\\t\\t<div class=\"chart_view\">\\n\\t\\t\\t\\n\\t\\t\\t<a href=\"https://novel.naver.com/webnovel/list?novelId&#x3D;970355\" class=\"chart_area\" target=\"_blank\"\\n\\t\\t\\t\\tdata-clk=\"tcc_web.hottab4cont1\">\\n\\t\\t\\t\\t<div class=\"chart_rank\">\\n\\t\\t\\t\\t\\t<em class=\"rank\">1<span class=\"blind\">위</span></em>\\n\\t\\t\\t\\t\\t<div class=\"state\">\\n\\t\\t\\t\\t\\t\\t\\n\\t\\t\\t\\t\\t\\t<i class=\"ico_dash\"><span class=\"blind\">유지</span></i>\\n\\t\\t\\t\\t\\t\\t\\n\\t\\t\\t\\t\\t</div>\\n\\t\\t\\t\\t</div>\\n\\t\\t\\t\\t<div class=\"chart_info\">\\n\\t\\t\\t\\t\\t<div class=\"thumb_box\">\\n\\t\\t\\t\\t\\t\\t<img src=\"https://s.pstatic.net/dthumb.phinf/?src&#x3D;%22https%3A%2F%2Fnovel-phinf.pstatic.net%2F20210428_55%2Fnovel_1619588203068xgKqT_JPEG%2F320%252B320.jpg%22&amp;type&#x3D;navermain_n100_100\"\\n\\t\\t\\t\\t\\t\\t\\talt=\"\" height=\"50\" width=\"50\" onerror=\"this.outerHTML=\\'<span class=\\\\\\'pm_noimg_s\\\\\\'><span class=\\\\\\'blind\\\\\\'>이미지 준비중</span></span>\\'\"><span class=\"thumb_bd\"></span>\\n\\t\\t\\t\\t\\t</div>\\n\\t\\t\\t\\t\\t<div class=\"info_box\">\\n\\t\\t\\t\\t\\t\\t<strong class=\"title\">부부, 어디까지 가능해?</strong>\\n\\t\\t\\t\\t\\t\\t<div class=\"dsc_wrap\"><span class=\"dsc\">\\n\\t\\t\\t\\t\\t\\t\\t\\t태소영, \\n\\t\\t\\t\\t\\t\\t\\t\\t라바니즈\\n\\t\\t\\t\\t\\t\\t\\t</span><span class=\"dsc\">총 103회</span></div>\\n\\t\\t\\t\\t\\t</div>\\n\\t\\t\\t\\t</div>\\n\\t\\t\\t</a>\\n\\t\\t\\t\\n\\t\\t\\t<a href=\"https://novel.naver.com/webnovel/list?novelId&#x3D;853016\" class=\"chart_area\" target=\"_blank\"\\n\\t\\t\\t\\tdata-clk=\"tcc_web.hottab4cont2\">\\n\\t\\t\\t\\t<div class=\"chart_rank\">\\n\\t\\t\\t\\t\\t<em class=\"rank\">2<span class=\"blind\">위</span></em>\\n\\t\\t\\t\\t\\t<div class=\"state\">\\n\\t\\t\\t\\t\\t\\t\\n\\t\\t\\t\\t\\t\\t<i class=\"ico_dash\"><span class=\"blind\">유지</span></i>\\n\\t\\t\\t\\t\\t\\t\\n\\t\\t\\t\\t\\t</div>\\n\\t\\t\\t\\t</div>\\n\\t\\t\\t\\t<div class=\"chart_info\">\\n\\t\\t\\t\\t\\t<div class=\"thumb_box\">\\n\\t\\t\\t\\t\\t\\t<img src=\"https://s.pstatic.net/dthumb.phinf/?src&#x3D;%22https%3A%2F%2Fnovel-phinf.pstatic.net%2F20200226_172%2Fnovel_1582709354644OqWSN_JPEG%2F3202B320.jpg%22&amp;type&#x3D;navermain_n100_100\"\\n\\t\\t\\t\\t\\t\\t\\talt=\"\" height=\"50\" width=\"50\" onerror=\"this.outerHTML=\\'<span class=\\\\\\'pm_noimg_s\\\\\\'><span class=\\\\\\'blind\\\\\\'>이미지 준비중</span></span>\\'\"><span class=\"thumb_bd\"></span>\\n\\t\\t\\t\\t\\t</div>\\n\\t\\t\\t\\t\\t<div class=\"info_box\">\\n\\t\\t\\t\\t\\t\\t<strong class=\"title\">하렘의 남자들</strong>\\n\\t\\t\\t\\t\\t\\t<div class=\"dsc_wrap\"><span class=\"dsc\">\\n\\t\\t\\t\\t\\t\\t\\t\\t알파타르트, \\n\\t\\t\\t\\t\\t\\t\\t\\t치런\\n\\t\\t\\t\\t\\t\\t\\t</span><span class=\"dsc\">총 225회</span></div>\\n\\t\\t\\t\\t\\t</div>\\n\\t\\t\\t\\t</div>\\n\\t\\t\\t</a>\\n\\t\\t\\t\\n\\t\\t\\t<a href=\"https://novel.naver.com/webnovel/list?novelId&#x3D;994958\" class=\"chart_area\" target=\"_blank\"\\n\\t\\t\\t\\tdata-clk=\"tcc_web.hottab4cont3\">\\n\\t\\t\\t\\t<div class=\"chart_rank\">\\n\\t\\t\\t\\t\\t<em class=\"rank\">3<span class=\"blind\">위</span></em>\\n\\t\\t\\t\\t\\t<div class=\"state\">\\n\\t\\t\\t\\t\\t\\t\\n\\t\\t\\t\\t\\t\\t<i class=\"ico_dash\"><span class=\"blind\">유지</span></i>\\n\\t\\t\\t\\t\\t\\t\\n\\t\\t\\t\\t\\t</div>\\n\\t\\t\\t\\t</div>\\n\\t\\t\\t\\t<div class=\"chart_info\">\\n\\t\\t\\t\\t\\t<div class=\"thumb_box\">\\n\\t\\t\\t\\t\\t\\t<img src=\"https://s.pstatic.net/dthumb.phinf/?src&#x3D;%22https%3A%2F%2Fnovel-phinf.pstatic.net%2F20210729_233%2Fnovel_1627552110410lf2fB_JPEG%2F320%252B320.jpg%22&amp;type&#x3D;navermain_n100_100\"\\n\\t\\t\\t\\t\\t\\t\\talt=\"\" height=\"50\" width=\"50\" onerror=\"this.outerHTML=\\'<span class=\\\\\\'pm_noimg_s\\\\\\'><span class=\\\\\\'blind\\\\\\'>이미지 준비중</span></span>\\'\"><span class=\"thumb_bd\"></span>\\n\\t\\t\\t\\t\\t</div>\\n\\t\\t\\t\\t\\t<div class=\"info_box\">\\n\\t\\t\\t\\t\\t\\t<strong class=\"title\">미친 중독</strong>\\n\\t\\t\\t\\t\\t\\t<div class=\"dsc_wrap\"><span class=\"dsc\">\\n\\t\\t\\t\\t\\t\\t\\t\\t놀마, \\n\\t\\t\\t\\t\\t\\t\\t\\tBADegg\\n\\t\\t\\t\\t\\t\\t\\t</span><span class=\"dsc\">총 77회</span></div>\\n\\t\\t\\t\\t\\t</div>\\n\\t\\t\\t\\t</div>\\n\\t\\t\\t</a>\\n\\t\\t\\t\\n\\t\\t\\t<a href=\"https://novel.naver.com/webnovel/list?novelId&#x3D;920930\" class=\"chart_area\" target=\"_blank\"\\n\\t\\t\\t\\tdata-clk=\"tcc_web.hottab4cont4\">\\n\\t\\t\\t\\t<div class=\"chart_rank\">\\n\\t\\t\\t\\t\\t<em class=\"rank\">4<span class=\"blind\">위</span></em>\\n\\t\\t\\t\\t\\t<div class=\"state\">\\n\\t\\t\\t\\t\\t\\t\\n\\t\\t\\t\\t\\t\\t<i class=\"ico_dash\"><span class=\"blind\">유지</span></i>\\n\\t\\t\\t\\t\\t\\t\\n\\t\\t\\t\\t\\t</div>\\n\\t\\t\\t\\t</div>\\n\\t\\t\\t\\t<div class=\"chart_info\">\\n\\t\\t\\t\\t\\t<div class=\"thumb_box\">\\n\\t\\t\\t\\t\\t\\t<img src=\"https://s.pstatic.net/dthumb.phinf/?src&#x3D;%22https%3A%2F%2Fnovel-phinf.pstatic.net%2F20200925_55%2Fnovel_160101985706876LCE_JPEG%2F320%252B320.jpg%22&amp;type&#x3D;navermain_n100_100\"\\n\\t\\t\\t\\t\\t\\t\\talt=\"\" height=\"50\" width=\"50\" onerror=\"this.outerHTML=\\'<span class=\\\\\\'pm_noimg_s\\\\\\'><span class=\\\\\\'blind\\\\\\'>이미지 준비중</span></span>\\'\"><span class=\"thumb_bd\"></span>\\n\\t\\t\\t\\t\\t</div>\\n\\t\\t\\t\\t\\t<div class=\"info_box\">\\n\\t\\t\\t\\t\\t\\t<strong class=\"title\">공녀님의 꽃밭에는 그들이 산다</strong>\\n\\t\\t\\t\\t\\t\\t<div class=\"dsc_wrap\"><span class=\"dsc\">\\n\\t\\t\\t\\t\\t\\t\\t\\t고겨울, \\n\\t\\t\\t\\t\\t\\t\\t\\t유레트\\n\\t\\t\\t\\t\\t\\t\\t</span><span class=\"dsc\">총 164회</span></div>\\n\\t\\t\\t\\t\\t</div>\\n\\t\\t\\t\\t</div>\\n\\t\\t\\t</a>\\n\\t\\t\\t\\n\\t\\t\\t<a href=\"https://novel.naver.com/webnovel/list?novelId&#x3D;970359\" class=\"chart_area\" target=\"_blank\"\\n\\t\\t\\t\\tdata-clk=\"tcc_web.hottab4cont5\">\\n\\t\\t\\t\\t<div class=\"chart_rank\">\\n\\t\\t\\t\\t\\t<em class=\"rank\">5<span class=\"blind\">위</span></em>\\n\\t\\t\\t\\t\\t<div class=\"state\">\\n\\t\\t\\t\\t\\t\\t\\n\\t\\t\\t\\t\\t\\t<i class=\"ico_dash\"><span class=\"blind\">유지</span></i>\\n\\t\\t\\t\\t\\t\\t\\n\\t\\t\\t\\t\\t</div>\\n\\t\\t\\t\\t</div>\\n\\t\\t\\t\\t<div class=\"chart_info\">\\n\\t\\t\\t\\t\\t<div class=\"thumb_box\">\\n\\t\\t\\t\\t\\t\\t<img src=\"https://s.pstatic.net/dthumb.phinf/?src&#x3D;%22https%3A%2F%2Fnovel-phinf.pstatic.net%2F20210428_297%2Fnovel_1619587437337JkkbI_JPEG%2F320%252B320.jpg%22&amp;type&#x3D;navermain_n100_100\"\\n\\t\\t\\t\\t\\t\\t\\talt=\"\" height=\"50\" width=\"50\" onerror=\"this.outerHTML=\\'<span class=\\\\\\'pm_noimg_s\\\\\\'><span class=\\\\\\'blind\\\\\\'>이미지 준비중</span></span>\\'\"><span class=\"thumb_bd\"></span>\\n\\t\\t\\t\\t\\t</div>\\n\\t\\t\\t\\t\\t<div class=\"info_box\">\\n\\t\\t\\t\\t\\t\\t<strong class=\"title\">나를 버린 가족에게 돌아가지 않습니다</strong>\\n\\t\\t\\t\\t\\t\\t<div class=\"dsc_wrap\"><span class=\"dsc\">\\n\\t\\t\\t\\t\\t\\t\\t\\t차은도, \\n\\t\\t\\t\\t\\t\\t\\t\\t슈에뜨\\n\\t\\t\\t\\t\\t\\t\\t</span><span class=\"dsc\">총 102회</span></div>\\n\\t\\t\\t\\t\\t</div>\\n\\t\\t\\t\\t</div>\\n\\t\\t\\t</a>\\n\\t\\t\\t\\n\\t\\t</div>\\n\\t\\t\\n\\t\\t<div class=\"chart_view\">\\n\\t\\t\\t\\n\\t\\t\\t<a href=\"https://novel.naver.com/webnovel/list?novelId&#x3D;934373\" class=\"chart_area\" target=\"_blank\"\\n\\t\\t\\t\\tdata-clk=\"tcc_web.hottab4cont6\">\\n\\t\\t\\t\\t<div class=\"chart_rank\">\\n\\t\\t\\t\\t\\t<em class=\"rank\">6<span class=\"blind\">위</span></em>\\n\\t\\t\\t\\t\\t<div class=\"state\">\\n\\t\\t\\t\\t\\t\\t\\n\\t\\t\\t\\t\\t\\t<i class=\"ico_dash\"><span class=\"blind\">유지</span></i>\\n\\t\\t\\t\\t\\t\\t\\n\\t\\t\\t\\t\\t</div>\\n\\t\\t\\t\\t</div>\\n\\t\\t\\t\\t<div class=\"chart_info\">\\n\\t\\t\\t\\t\\t<div class=\"thumb_box\">\\n\\t\\t\\t\\t\\t\\t<img src=\"https://s.pstatic.net/dthumb.phinf/?src&#x3D;%22https%3A%2F%2Fnovel-phinf.pstatic.net%2F20201127_246%2Fnovel_1606471202696L5jFX_JPEG%2F320x320.jpg%22&amp;type&#x3D;navermain_n100_100\"\\n\\t\\t\\t\\t\\t\\t\\talt=\"\" height=\"50\" width=\"50\" onerror=\"this.outerHTML=\\'<span class=\\\\\\'pm_noimg_s\\\\\\'><span class=\\\\\\'blind\\\\\\'>이미지 준비중</span></span>\\'\"><span class=\"thumb_bd\"></span>\\n\\t\\t\\t\\t\\t</div>\\n\\t\\t\\t\\t\\t<div class=\"info_box\">\\n\\t\\t\\t\\t\\t\\t<strong class=\"title\">언니, 이번 생엔 내가 왕비야</strong>\\n\\t\\t\\t\\t\\t\\t<div class=\"dsc_wrap\"><span class=\"dsc\">\\n\\t\\t\\t\\t\\t\\t\\t\\t레팔진프, \\n\\t\\t\\t\\t\\t\\t\\t\\t미완\\n\\t\\t\\t\\t\\t\\t\\t</span><span class=\"dsc\">총 145회</span></div>\\n\\t\\t\\t\\t\\t</div>\\n\\t\\t\\t\\t</div>\\n\\t\\t\\t</a>\\n\\t\\t\\t\\n\\t\\t\\t<a href=\"https://novel.naver.com/webnovel/list?novelId&#x3D;987034\" class=\"chart_area\" target=\"_blank\"\\n\\t\\t\\t\\tdata-clk=\"tcc_web.hottab4cont7\">\\n\\t\\t\\t\\t<div class=\"chart_rank\">\\n\\t\\t\\t\\t\\t<em class=\"rank\">7<span class=\"blind\">위</span></em>\\n\\t\\t\\t\\t\\t<div class=\"state\">\\n\\t\\t\\t\\t\\t\\t\\n\\t\\t\\t\\t\\t\\t<i class=\"ico_dash\"><span class=\"blind\">유지</span></i>\\n\\t\\t\\t\\t\\t\\t\\n\\t\\t\\t\\t\\t</div>\\n\\t\\t\\t\\t</div>\\n\\t\\t\\t\\t<div class=\"chart_info\">\\n\\t\\t\\t\\t\\t<div class=\"thumb_box\">\\n\\t\\t\\t\\t\\t\\t<img src=\"https://s.pstatic.net/dthumb.phinf/?src&#x3D;%22https%3A%2F%2Fnovel-phinf.pstatic.net%2F20210630_44%2Fnovel_16250492604789wgGh_JPEG%2F320%252B320.jpg%22&amp;type&#x3D;navermain_n100_100\"\\n\\t\\t\\t\\t\\t\\t\\talt=\"\" height=\"50\" width=\"50\" onerror=\"this.outerHTML=\\'<span class=\\\\\\'pm_noimg_s\\\\\\'><span class=\\\\\\'blind\\\\\\'>이미지 준비중</span></span>\\'\"><span class=\"thumb_bd\"></span>\\n\\t\\t\\t\\t\\t</div>\\n\\t\\t\\t\\t\\t<div class=\"info_box\">\\n\\t\\t\\t\\t\\t\\t<strong class=\"title\">사랑 같은 건, 처음</strong>\\n\\t\\t\\t\\t\\t\\t<div class=\"dsc_wrap\"><span class=\"dsc\">\\n\\t\\t\\t\\t\\t\\t\\t\\t로즈빈, \\n\\t\\t\\t\\t\\t\\t\\t\\tDabom\\n\\t\\t\\t\\t\\t\\t\\t</span><span class=\"dsc\">총 85회</span></div>\\n\\t\\t\\t\\t\\t</div>\\n\\t\\t\\t\\t</div>\\n\\t\\t\\t</a>\\n\\t\\t\\t\\n\\t\\t\\t<a href=\"https://novel.naver.com/webnovel/list?novelId&#x3D;1002527\" class=\"chart_area\" target=\"_blank\"\\n\\t\\t\\t\\tdata-clk=\"tcc_web.hottab4cont8\">\\n\\t\\t\\t\\t<div class=\"chart_rank\">\\n\\t\\t\\t\\t\\t<em class=\"rank\">8<span class=\"blind\">위</span></em>\\n\\t\\t\\t\\t\\t<div class=\"state\">\\n\\t\\t\\t\\t\\t\\t\\n\\t\\t\\t\\t\\t\\t<i class=\"ico_dash\"><span class=\"blind\">유지</span></i>\\n\\t\\t\\t\\t\\t\\t\\n\\t\\t\\t\\t\\t</div>\\n\\t\\t\\t\\t</div>\\n\\t\\t\\t\\t<div class=\"chart_info\">\\n\\t\\t\\t\\t\\t<div class=\"thumb_box\">\\n\\t\\t\\t\\t\\t\\t<img src=\"https://s.pstatic.net/dthumb.phinf/?src&#x3D;%22https%3A%2F%2Fnovel-phinf.pstatic.net%2F20210826_156%2Fnovel_1629946087113oi0dA_JPEG%2F320%252B320.jpg%22&amp;type&#x3D;navermain_n100_100\"\\n\\t\\t\\t\\t\\t\\t\\talt=\"\" height=\"50\" width=\"50\" onerror=\"this.outerHTML=\\'<span class=\\\\\\'pm_noimg_s\\\\\\'><span class=\\\\\\'blind\\\\\\'>이미지 준비중</span></span>\\'\"><span class=\"thumb_bd\"></span>\\n\\t\\t\\t\\t\\t</div>\\n\\t\\t\\t\\t\\t<div class=\"info_box\">\\n\\t\\t\\t\\t\\t\\t<strong class=\"title\">하녀와의 계약결혼</strong>\\n\\t\\t\\t\\t\\t\\t<div class=\"dsc_wrap\"><span class=\"dsc\">\\n\\t\\t\\t\\t\\t\\t\\t\\t달새울, \\n\\t\\t\\t\\t\\t\\t\\t\\t샛다\\n\\t\\t\\t\\t\\t\\t\\t</span><span class=\"dsc\">총 68회</span></div>\\n\\t\\t\\t\\t\\t</div>\\n\\t\\t\\t\\t</div>\\n\\t\\t\\t</a>\\n\\t\\t\\t\\n\\t\\t\\t<a href=\"https://novel.naver.com/webnovel/list?novelId&#x3D;963511\" class=\"chart_area\" target=\"_blank\"\\n\\t\\t\\t\\tdata-clk=\"tcc_web.hottab4cont9\">\\n\\t\\t\\t\\t<div class=\"chart_rank\">\\n\\t\\t\\t\\t\\t<em class=\"rank\">9<span class=\"blind\">위</span></em>\\n\\t\\t\\t\\t\\t<div class=\"state\">\\n\\t\\t\\t\\t\\t\\t\\n\\t\\t\\t\\t\\t\\t<i class=\"ico_dash\"><span class=\"blind\">유지</span></i>\\n\\t\\t\\t\\t\\t\\t\\n\\t\\t\\t\\t\\t</div>\\n\\t\\t\\t\\t</div>\\n\\t\\t\\t\\t<div class=\"chart_info\">\\n\\t\\t\\t\\t\\t<div class=\"thumb_box\">\\n\\t\\t\\t\\t\\t\\t<img src=\"https://s.pstatic.net/dthumb.phinf/?src&#x3D;%22https%3A%2F%2Fnovel-phinf.pstatic.net%2F20210331_51%2Fnovel_1617157156384YSn6z_JPEG%2F320%252B320.jpg%22&amp;type&#x3D;navermain_n100_100\"\\n\\t\\t\\t\\t\\t\\t\\talt=\"\" height=\"50\" width=\"50\" onerror=\"this.outerHTML=\\'<span class=\\\\\\'pm_noimg_s\\\\\\'><span class=\\\\\\'blind\\\\\\'>이미지 준비중</span></span>\\'\"><span class=\"thumb_bd\"></span>\\n\\t\\t\\t\\t\\t</div>\\n\\t\\t\\t\\t\\t<div class=\"info_box\">\\n\\t\\t\\t\\t\\t\\t<strong class=\"title\">야만의 청혼</strong>\\n\\t\\t\\t\\t\\t\\t<div class=\"dsc_wrap\"><span class=\"dsc\">\\n\\t\\t\\t\\t\\t\\t\\t\\t이윤아, \\n\\t\\t\\t\\t\\t\\t\\t\\t마끼\\n\\t\\t\\t\\t\\t\\t\\t</span><span class=\"dsc\">총 111회</span></div>\\n\\t\\t\\t\\t\\t</div>\\n\\t\\t\\t\\t</div>\\n\\t\\t\\t</a>\\n\\t\\t\\t\\n\\t\\t\\t<a href=\"https://novel.naver.com/webnovel/list?novelId&#x3D;987035\" class=\"chart_area\" target=\"_blank\"\\n\\t\\t\\t\\tdata-clk=\"tcc_web.hottab4cont10\">\\n\\t\\t\\t\\t<div class=\"chart_rank\">\\n\\t\\t\\t\\t\\t<em class=\"rank\">10<span class=\"blind\">위</span></em>\\n\\t\\t\\t\\t\\t<div class=\"state\">\\n\\t\\t\\t\\t\\t\\t\\n\\t\\t\\t\\t\\t\\t<i class=\"ico_dash\"><span class=\"blind\">유지</span></i>\\n\\t\\t\\t\\t\\t\\t\\n\\t\\t\\t\\t\\t</div>\\n\\t\\t\\t\\t</div>\\n\\t\\t\\t\\t<div class=\"chart_info\">\\n\\t\\t\\t\\t\\t<div class=\"thumb_box\">\\n\\t\\t\\t\\t\\t\\t<img src=\"https://s.pstatic.net/dthumb.phinf/?src&#x3D;%22https%3A%2F%2Fnovel-phinf.pstatic.net%2F20210630_152%2Fnovel_1625049091159nbJO4_JPEG%2F320%252B320.jpg%22&amp;type&#x3D;navermain_n100_100\"\\n\\t\\t\\t\\t\\t\\t\\talt=\"\" height=\"50\" width=\"50\" onerror=\"this.outerHTML=\\'<span class=\\\\\\'pm_noimg_s\\\\\\'><span class=\\\\\\'blind\\\\\\'>이미지 준비중</span></span>\\'\"><span class=\"thumb_bd\"></span>\\n\\t\\t\\t\\t\\t</div>\\n\\t\\t\\t\\t\\t<div class=\"info_box\">\\n\\t\\t\\t\\t\\t\\t<strong class=\"title\">더 캐슬</strong>\\n\\t\\t\\t\\t\\t\\t<div class=\"dsc_wrap\"><span class=\"dsc\">\\n\\t\\t\\t\\t\\t\\t\\t\\t꽃제이(진소예), \\n\\t\\t\\t\\t\\t\\t\\t\\tDELTA\\n\\t\\t\\t\\t\\t\\t\\t</span><span class=\"dsc\">총 86회</span></div>\\n\\t\\t\\t\\t\\t</div>\\n\\t\\t\\t\\t</div>\\n\\t\\t\\t</a>\\n\\t\\t\\t\\n\\t\\t</div>\\n\\t\\t\\n\\t</div>\\n\\t\\n</div>\\n\\n<div class=\"group_theme\" data-block-id=\"\" data-block-code=\"PC-THEME-BBOOM-IMG-0\" data-block-type=\"MATERIALS\" data-template-code=\"3X3\"\\n\\n\\t data-page=\"1\"\\n\\t >\\n\\n\\t<div class=\"media_view_wrap type_column\">\\n\\t\\t<div class=\"media_view\">\\n\\t\\t\\t\\n\\t\\t\\t\\t\\n\\t\\t\\t\\t\\t<a href=\"https://series.naver.com/comic/detail.series?productNo&#x3D;4871158\" class=\"media_area\" data-da-position=\"true\" data-gdid=\"CAS_126844ae-b4c6-11ec-b39d-b7bf175c5463\" data-clk=\"tcc_web.list1cont1\" target=\"_blank\">\\n\\t\\t\\t\\t\\t\\t<div class=\"media_thumb\">\\n\\t\\t\\t\\t\\t\\t\\t<img src=\"https://s.pstatic.net/dthumb.phinf/?src&#x3D;%22https%3A%2F%2Fs.pstatic.net%2Fstatic%2Fwww%2Fmobile%2Fedit%2F20220405_1095%2Fupload_1649152325776W4rMU.jpg%22&amp;type&#x3D;nf464_260\" data-src=\"https://s.pstatic.net/dthumb.phinf/?src&#x3D;%22https%3A%2F%2Fs.pstatic.net%2Fstatic%2Fwww%2Fmobile%2Fedit%2F20220405_1095%2Fupload_1649152325776W4rMU.jpg%22&amp;type&#x3D;nf464_260\" alt=\"\" width=\"232\" height=\"130\" onerror=\"this.outerHTML=\\'<span class=\\\\\\'pm_noimg\\\\\\'><span class=\\\\\\'noimg_text\\\\\\'>이미지 준비중</span></span>\\'\">\\n\\n\\t\\t\\t\\t\\t\\t\\t\\n\\t\\t\\t\\t\\t\\t\\t\\t<span class=\"thumb_bd\"></span>\\n\\t\\t\\t\\t\\t\\t\\t\\t\\n\\t\\t\\t\\t\\t\\t\\t\\n\\t\\t\\t\\t\\t\\t</div>\\n\\t\\t\\t\\t\\t\\t<div class=\"media_info\">\\n\\t\\t\\t\\t\\t\\t\\t<div class=\"info_box\">\\n\\t\\t\\t\\t\\t\\t\\t\\t\\n\\t\\t\\t\\t\\t\\t\\t\\t<strong class=\"title elss\">왕도를 걷는 이세계 전생 러브 코미디!</strong>\\n\\t\\t\\t\\t\\t\\t\\t\\t<div class=\"source_wrap\">\\n\\t\\t\\t\\t\\t\\t\\t\\t\\t<span class=\"date\">2주일 전</span>\\n\\t\\t\\t\\t\\t\\t\\t\\t\\t<span class=\"source\">\\n                                    \\n\\t\\t\\t\\t\\t\\t\\t\\t\\t\\t<span class=\"source_inner\">악역 영애는 서민에게 시집가고 싶어!!</span>\\n                                </span>\\n\\t\\t\\t\\t\\t\\t\\t\\t</div>\\n\\t\\t\\t\\t\\t\\t\\t</div>\\n\\t\\t\\t\\t\\t\\t</div>\\n\\t\\t\\t\\t\\t</a>\\n\\t\\t\\t\\t\\n\\t\\t\\t\\n\\t\\t\\t\\t\\n\\t\\t\\t\\t\\t<a href=\"https://series.naver.com/comic/detail.series?productNo&#x3D;5408552\" class=\"media_area\" data-da-position=\"true\" data-gdid=\"CAS_f21b01b4-b295-11ec-97d6-e95cc8658281\" data-clk=\"tcc_web.list1cont2\" target=\"_blank\">\\n\\t\\t\\t\\t\\t\\t<div class=\"media_thumb\">\\n\\t\\t\\t\\t\\t\\t\\t<img src=\"https://s.pstatic.net/dthumb.phinf/?src&#x3D;%22https%3A%2F%2Fs.pstatic.net%2Fstatic%2Fwww%2Fmobile%2Fedit%2F20220403_1095%2Fupload_1648911905755WlepH.jpg%22&amp;type&#x3D;nf464_260\" data-src=\"https://s.pstatic.net/dthumb.phinf/?src&#x3D;%22https%3A%2F%2Fs.pstatic.net%2Fstatic%2Fwww%2Fmobile%2Fedit%2F20220403_1095%2Fupload_1648911905755WlepH.jpg%22&amp;type&#x3D;nf464_260\" alt=\"\" width=\"232\" height=\"130\" onerror=\"this.outerHTML=\\'<span class=\\\\\\'pm_noimg\\\\\\'><span class=\\\\\\'noimg_text\\\\\\'>이미지 준비중</span></span>\\'\">\\n\\n\\t\\t\\t\\t\\t\\t\\t\\n\\t\\t\\t\\t\\t\\t\\t\\t<span class=\"thumb_bd\"></span>\\n\\t\\t\\t\\t\\t\\t\\t\\t\\n\\t\\t\\t\\t\\t\\t\\t\\n\\t\\t\\t\\t\\t\\t</div>\\n\\t\\t\\t\\t\\t\\t<div class=\"media_info\">\\n\\t\\t\\t\\t\\t\\t\\t<div class=\"info_box\">\\n\\t\\t\\t\\t\\t\\t\\t\\t\\n\\t\\t\\t\\t\\t\\t\\t\\t<strong class=\"title elss\">치욕스럽고 고통스러운 생존기</strong>\\n\\t\\t\\t\\t\\t\\t\\t\\t<div class=\"source_wrap\">\\n\\t\\t\\t\\t\\t\\t\\t\\t\\t<span class=\"date\">3주일 전</span>\\n\\t\\t\\t\\t\\t\\t\\t\\t\\t<span class=\"source\">\\n                                    \\n\\t\\t\\t\\t\\t\\t\\t\\t\\t\\t<span class=\"source_inner\">40억 vs 1</span>\\n                                </span>\\n\\t\\t\\t\\t\\t\\t\\t\\t</div>\\n\\t\\t\\t\\t\\t\\t\\t</div>\\n\\t\\t\\t\\t\\t\\t</div>\\n\\t\\t\\t\\t\\t</a>\\n\\t\\t\\t\\t\\n\\t\\t\\t\\n\\t\\t\\t\\t\\n\\t\\t\\t\\t\\t<a href=\"https://series.naver.com/comic/detail.series?productNo&#x3D;6747395\" class=\"media_area\" data-da-position=\"true\" data-gdid=\"CAS_4c6c1a87-b0cd-11ec-a463-ed2da9a8a65e\" data-clk=\"tcc_web.list1cont3\" target=\"_blank\">\\n\\t\\t\\t\\t\\t\\t<div class=\"media_thumb\">\\n\\t\\t\\t\\t\\t\\t\\t<img src=\"https://s.pstatic.net/dthumb.phinf/?src&#x3D;%22https%3A%2F%2Fs.pstatic.net%2Fstatic%2Fwww%2Fmobile%2Fedit%2F20220331_1095%2Fupload_16487158245135fmU6.jpg%22&amp;type&#x3D;nf464_260\" data-src=\"https://s.pstatic.net/dthumb.phinf/?src&#x3D;%22https%3A%2F%2Fs.pstatic.net%2Fstatic%2Fwww%2Fmobile%2Fedit%2F20220331_1095%2Fupload_16487158245135fmU6.jpg%22&amp;type&#x3D;nf464_260\" alt=\"\" width=\"232\" height=\"130\" onerror=\"this.outerHTML=\\'<span class=\\\\\\'pm_noimg\\\\\\'><span class=\\\\\\'noimg_text\\\\\\'>이미지 준비중</span></span>\\'\">\\n\\n\\t\\t\\t\\t\\t\\t\\t\\n\\t\\t\\t\\t\\t\\t\\t\\t<span class=\"thumb_bd\"></span>\\n\\t\\t\\t\\t\\t\\t\\t\\t\\n\\t\\t\\t\\t\\t\\t\\t\\n\\t\\t\\t\\t\\t\\t</div>\\n\\t\\t\\t\\t\\t\\t<div class=\"media_info\">\\n\\t\\t\\t\\t\\t\\t\\t<div class=\"info_box\">\\n\\t\\t\\t\\t\\t\\t\\t\\t\\n\\t\\t\\t\\t\\t\\t\\t\\t<strong class=\"title elss\">이 나라의 유일한 영웅으로 선택받았다</strong>\\n\\t\\t\\t\\t\\t\\t\\t\\t<div class=\"source_wrap\">\\n\\t\\t\\t\\t\\t\\t\\t\\t\\t<span class=\"date\">3주일 전</span>\\n\\t\\t\\t\\t\\t\\t\\t\\t\\t<span class=\"source\">\\n                                    \\n\\t\\t\\t\\t\\t\\t\\t\\t\\t\\t<span class=\"source_inner\">한 달 서른 날</span>\\n                                </span>\\n\\t\\t\\t\\t\\t\\t\\t\\t</div>\\n\\t\\t\\t\\t\\t\\t\\t</div>\\n\\t\\t\\t\\t\\t\\t</div>\\n\\t\\t\\t\\t\\t</a>\\n\\t\\t\\t\\t\\n\\t\\t\\t\\n\\t\\t\\t\\t\\n\\t\\t\\t\\t\\t<a href=\"https://series.naver.com/comic/detail.series?productNo&#x3D;8030453\" class=\"media_area\" data-da-position=\"true\" data-gdid=\"CAS_be58f9e8-b0c9-11ec-97d6-3bd6f0b8f6cd\" data-clk=\"tcc_web.list1cont4\" target=\"_blank\">\\n\\t\\t\\t\\t\\t\\t<div class=\"media_thumb\">\\n\\t\\t\\t\\t\\t\\t\\t<img src=\"https://s.pstatic.net/dthumb.phinf/?src&#x3D;%22https%3A%2F%2Fs.pstatic.net%2Fstatic%2Fwww%2Fmobile%2Fedit%2F20220331_1095%2Fupload_1648715526070ECmdD.jpg%22&amp;type&#x3D;nf464_260\" data-src=\"https://s.pstatic.net/dthumb.phinf/?src&#x3D;%22https%3A%2F%2Fs.pstatic.net%2Fstatic%2Fwww%2Fmobile%2Fedit%2F20220331_1095%2Fupload_1648715526070ECmdD.jpg%22&amp;type&#x3D;nf464_260\" alt=\"\" width=\"232\" height=\"130\" onerror=\"this.outerHTML=\\'<span class=\\\\\\'pm_noimg\\\\\\'><span class=\\\\\\'noimg_text\\\\\\'>이미지 준비중</span></span>\\'\">\\n\\n\\t\\t\\t\\t\\t\\t\\t\\n\\t\\t\\t\\t\\t\\t\\t\\t<span class=\"thumb_bd\"></span>\\n\\t\\t\\t\\t\\t\\t\\t\\t\\n\\t\\t\\t\\t\\t\\t\\t\\n\\t\\t\\t\\t\\t\\t</div>\\n\\t\\t\\t\\t\\t\\t<div class=\"media_info\">\\n\\t\\t\\t\\t\\t\\t\\t<div class=\"info_box\">\\n\\t\\t\\t\\t\\t\\t\\t\\t\\n\\t\\t\\t\\t\\t\\t\\t\\t<strong class=\"title elss\">금빛 복을 부르는 작은 검은 고양이</strong>\\n\\t\\t\\t\\t\\t\\t\\t\\t<div class=\"source_wrap\">\\n\\t\\t\\t\\t\\t\\t\\t\\t\\t<span class=\"date\">3주일 전</span>\\n\\t\\t\\t\\t\\t\\t\\t\\t\\t<span class=\"source\">\\n                                    \\n\\t\\t\\t\\t\\t\\t\\t\\t\\t\\t<span class=\"source_inner\">금복이 이야기</span>\\n                                </span>\\n\\t\\t\\t\\t\\t\\t\\t\\t</div>\\n\\t\\t\\t\\t\\t\\t\\t</div>\\n\\t\\t\\t\\t\\t\\t</div>\\n\\t\\t\\t\\t\\t</a>\\n\\t\\t\\t\\t\\n\\t\\t\\t\\n\\t\\t\\t\\t\\n\\t\\t\\t\\t\\t<a href=\"https://series.naver.com/comic/detail.series?productNo&#x3D;8033671\" class=\"media_area\" data-da-position=\"true\" data-gdid=\"CAS_be58d2d6-b0c9-11ec-97d6-99ba541c44c6\" data-clk=\"tcc_web.list1cont5\" target=\"_blank\">\\n\\t\\t\\t\\t\\t\\t<div class=\"media_thumb\">\\n\\t\\t\\t\\t\\t\\t\\t<img src=\"https://s.pstatic.net/dthumb.phinf/?src&#x3D;%22https%3A%2F%2Fs.pstatic.net%2Fstatic%2Fwww%2Fmobile%2Fedit%2F20220331_1095%2Fupload_1648714734169rtOXZ.jpg%22&amp;type&#x3D;nf464_260\" data-src=\"https://s.pstatic.net/dthumb.phinf/?src&#x3D;%22https%3A%2F%2Fs.pstatic.net%2Fstatic%2Fwww%2Fmobile%2Fedit%2F20220331_1095%2Fupload_1648714734169rtOXZ.jpg%22&amp;type&#x3D;nf464_260\" alt=\"\" width=\"232\" height=\"130\" onerror=\"this.outerHTML=\\'<span class=\\\\\\'pm_noimg\\\\\\'><span class=\\\\\\'noimg_text\\\\\\'>이미지 준비중</span></span>\\'\">\\n\\n\\t\\t\\t\\t\\t\\t\\t\\n\\t\\t\\t\\t\\t\\t\\t\\t<span class=\"thumb_bd\"></span>\\n\\t\\t\\t\\t\\t\\t\\t\\t\\n\\t\\t\\t\\t\\t\\t\\t\\n\\t\\t\\t\\t\\t\\t</div>\\n\\t\\t\\t\\t\\t\\t<div class=\"media_info\">\\n\\t\\t\\t\\t\\t\\t\\t<div class=\"info_box\">\\n\\t\\t\\t\\t\\t\\t\\t\\t\\n\\t\\t\\t\\t\\t\\t\\t\\t<strong class=\"title elss\">나는 그를 절대 사랑하지 않아</strong>\\n\\t\\t\\t\\t\\t\\t\\t\\t<div class=\"source_wrap\">\\n\\t\\t\\t\\t\\t\\t\\t\\t\\t<span class=\"date\">3주일 전</span>\\n\\t\\t\\t\\t\\t\\t\\t\\t\\t<span class=\"source\">\\n                                    \\n\\t\\t\\t\\t\\t\\t\\t\\t\\t\\t<span class=\"source_inner\">레이디 투 퀸</span>\\n                                </span>\\n\\t\\t\\t\\t\\t\\t\\t\\t</div>\\n\\t\\t\\t\\t\\t\\t\\t</div>\\n\\t\\t\\t\\t\\t\\t</div>\\n\\t\\t\\t\\t\\t</a>\\n\\t\\t\\t\\t\\n\\t\\t\\t\\n\\t\\t\\t\\t\\n\\t\\t\\t\\t\\t<a href=\"https://series.naver.com/comic/detail.series?productNo&#x3D;3236999\" class=\"media_area\" data-da-position=\"true\" data-gdid=\"CAS_be58f9e9-b0c9-11ec-97d6-ddea8ebeba7c\" data-clk=\"tcc_web.list1cont6\" target=\"_blank\">\\n\\t\\t\\t\\t\\t\\t<div class=\"media_thumb\">\\n\\t\\t\\t\\t\\t\\t\\t<img src=\"https://s.pstatic.net/dthumb.phinf/?src&#x3D;%22https%3A%2F%2Fs.pstatic.net%2Fstatic%2Fwww%2Fmobile%2Fedit%2F20220331_1095%2Fupload_16487155993226FkVw.jpg%22&amp;type&#x3D;nf464_260\" data-src=\"https://s.pstatic.net/dthumb.phinf/?src&#x3D;%22https%3A%2F%2Fs.pstatic.net%2Fstatic%2Fwww%2Fmobile%2Fedit%2F20220331_1095%2Fupload_16487155993226FkVw.jpg%22&amp;type&#x3D;nf464_260\" alt=\"\" width=\"232\" height=\"130\" onerror=\"this.outerHTML=\\'<span class=\\\\\\'pm_noimg\\\\\\'><span class=\\\\\\'noimg_text\\\\\\'>이미지 준비중</span></span>\\'\">\\n\\n\\t\\t\\t\\t\\t\\t\\t\\n\\t\\t\\t\\t\\t\\t\\t\\t<span class=\"thumb_bd\"></span>\\n\\t\\t\\t\\t\\t\\t\\t\\t\\n\\t\\t\\t\\t\\t\\t\\t\\n\\t\\t\\t\\t\\t\\t</div>\\n\\t\\t\\t\\t\\t\\t<div class=\"media_info\">\\n\\t\\t\\t\\t\\t\\t\\t<div class=\"info_box\">\\n\\t\\t\\t\\t\\t\\t\\t\\t\\n\\t\\t\\t\\t\\t\\t\\t\\t<strong class=\"title elss\">가슴을 울리는 신파 로맨스!</strong>\\n\\t\\t\\t\\t\\t\\t\\t\\t<div class=\"source_wrap\">\\n\\t\\t\\t\\t\\t\\t\\t\\t\\t<span class=\"date\">3주일 전</span>\\n\\t\\t\\t\\t\\t\\t\\t\\t\\t<span class=\"source\">\\n                                    \\n\\t\\t\\t\\t\\t\\t\\t\\t\\t\\t<span class=\"source_inner\">솔미솔파, 나의 노래</span>\\n                                </span>\\n\\t\\t\\t\\t\\t\\t\\t\\t</div>\\n\\t\\t\\t\\t\\t\\t\\t</div>\\n\\t\\t\\t\\t\\t\\t</div>\\n\\t\\t\\t\\t\\t</a>\\n\\t\\t\\t\\t\\n\\t\\t\\t\\n\\t\\t\\t\\t\\n\\t\\t\\t\\t\\t<a href=\"https://novel.naver.com/webnovel/detail?novelId&#x3D;1016938&amp;volumeNo&#x3D;44\" class=\"media_area\" data-da-position=\"true\" data-gdid=\"CAS_26d15bc8-b011-11ec-bf90-53eb9b8f6755\" data-clk=\"tcc_web.list1cont7\" target=\"_blank\">\\n\\t\\t\\t\\t\\t\\t<div class=\"media_thumb\">\\n\\t\\t\\t\\t\\t\\t\\t<img src=\"https://s.pstatic.net/dthumb.phinf/?src&#x3D;%22https%3A%2F%2Fs.pstatic.net%2Fstatic%2Fwww%2Fmobile%2Fedit%2F20220330_1095%2Fupload_16486350599885SVdE.jpg%22&amp;type&#x3D;nf464_260\" data-src=\"https://s.pstatic.net/dthumb.phinf/?src&#x3D;%22https%3A%2F%2Fs.pstatic.net%2Fstatic%2Fwww%2Fmobile%2Fedit%2F20220330_1095%2Fupload_16486350599885SVdE.jpg%22&amp;type&#x3D;nf464_260\" alt=\"\" width=\"232\" height=\"130\" onerror=\"this.outerHTML=\\'<span class=\\\\\\'pm_noimg\\\\\\'><span class=\\\\\\'noimg_text\\\\\\'>이미지 준비중</span></span>\\'\">\\n\\n\\t\\t\\t\\t\\t\\t\\t\\n\\t\\t\\t\\t\\t\\t\\t\\t<span class=\"thumb_bd\"></span>\\n\\t\\t\\t\\t\\t\\t\\t\\t\\n\\t\\t\\t\\t\\t\\t\\t\\n\\t\\t\\t\\t\\t\\t</div>\\n\\t\\t\\t\\t\\t\\t<div class=\"media_info\">\\n\\t\\t\\t\\t\\t\\t\\t<div class=\"info_box\">\\n\\t\\t\\t\\t\\t\\t\\t\\t\\n\\t\\t\\t\\t\\t\\t\\t\\t<strong class=\"title elss\">참지 말라는 말이 왜 이렇게 다정한 건지..💘</strong>\\n\\t\\t\\t\\t\\t\\t\\t\\t<div class=\"source_wrap\">\\n\\t\\t\\t\\t\\t\\t\\t\\t\\t<span class=\"date\">3주일 전</span>\\n\\t\\t\\t\\t\\t\\t\\t\\t\\t<span class=\"source\">\\n                                    \\n\\t\\t\\t\\t\\t\\t\\t\\t\\t\\t<span class=\"source_inner\">짐승의 구애법</span>\\n                                </span>\\n\\t\\t\\t\\t\\t\\t\\t\\t</div>\\n\\t\\t\\t\\t\\t\\t\\t</div>\\n\\t\\t\\t\\t\\t\\t</div>\\n\\t\\t\\t\\t\\t</a>\\n\\t\\t\\t\\t\\n\\t\\t\\t\\n\\t\\t\\t\\t\\n\\t\\t\\t\\t\\t<a href=\"https://comic.naver.com/webtoon/detail.nhn?titleId&#x3D;748105\" class=\"media_area\" data-da-position=\"true\" data-gdid=\"CAS_cb135d12-b00d-11ec-9c7b-c9c007d71626\" data-clk=\"tcc_web.list1cont8\" target=\"_blank\">\\n\\t\\t\\t\\t\\t\\t<div class=\"media_thumb\">\\n\\t\\t\\t\\t\\t\\t\\t<img src=\"https://s.pstatic.net/dthumb.phinf/?src&#x3D;%22https%3A%2F%2Fs.pstatic.net%2Fstatic%2Fwww%2Fmobile%2Fedit%2F20220330_1095%2Fupload_1648633452370jcR6O.jpg%22&amp;type&#x3D;nf464_260\" data-src=\"https://s.pstatic.net/dthumb.phinf/?src&#x3D;%22https%3A%2F%2Fs.pstatic.net%2Fstatic%2Fwww%2Fmobile%2Fedit%2F20220330_1095%2Fupload_1648633452370jcR6O.jpg%22&amp;type&#x3D;nf464_260\" alt=\"\" width=\"232\" height=\"130\" onerror=\"this.outerHTML=\\'<span class=\\\\\\'pm_noimg\\\\\\'><span class=\\\\\\'noimg_text\\\\\\'>이미지 준비중</span></span>\\'\">\\n\\n\\t\\t\\t\\t\\t\\t\\t\\n\\t\\t\\t\\t\\t\\t\\t\\t<span class=\"thumb_bd\"></span>\\n\\t\\t\\t\\t\\t\\t\\t\\t\\n\\t\\t\\t\\t\\t\\t\\t\\n\\t\\t\\t\\t\\t\\t</div>\\n\\t\\t\\t\\t\\t\\t<div class=\"media_info\">\\n\\t\\t\\t\\t\\t\\t\\t<div class=\"info_box\">\\n\\t\\t\\t\\t\\t\\t\\t\\t\\n\\t\\t\\t\\t\\t\\t\\t\\t<strong class=\"title elss\">선인장이 원래 이렇게 자라던가..?🌵</strong>\\n\\t\\t\\t\\t\\t\\t\\t\\t<div class=\"source_wrap\">\\n\\t\\t\\t\\t\\t\\t\\t\\t\\t<span class=\"date\">3주일 전</span>\\n\\t\\t\\t\\t\\t\\t\\t\\t\\t<span class=\"source\">\\n                                    \\n\\t\\t\\t\\t\\t\\t\\t\\t\\t\\t<span class=\"source_inner\">독립일기</span>\\n                                </span>\\n\\t\\t\\t\\t\\t\\t\\t\\t</div>\\n\\t\\t\\t\\t\\t\\t\\t</div>\\n\\t\\t\\t\\t\\t\\t</div>\\n\\t\\t\\t\\t\\t</a>\\n\\t\\t\\t\\t\\n\\t\\t\\t\\n\\t\\t\\t\\t\\n\\t\\t\\t\\t\\t<a href=\"https://novel.naver.com/webnovel/detail?novelId&#x3D;1031878&amp;volumeNo&#x3D;35\" class=\"media_area\" data-da-position=\"true\" data-gdid=\"CAS_26d15bc7-b011-11ec-bf90-0782f6c84f99\" data-clk=\"tcc_web.list1cont9\" target=\"_blank\">\\n\\t\\t\\t\\t\\t\\t<div class=\"media_thumb\">\\n\\t\\t\\t\\t\\t\\t\\t<img src=\"https://s.pstatic.net/dthumb.phinf/?src&#x3D;%22https%3A%2F%2Fs.pstatic.net%2Fstatic%2Fwww%2Fmobile%2Fedit%2F20220330_1095%2Fupload_164863493868755bMk.jpg%22&amp;type&#x3D;nf464_260\" data-src=\"https://s.pstatic.net/dthumb.phinf/?src&#x3D;%22https%3A%2F%2Fs.pstatic.net%2Fstatic%2Fwww%2Fmobile%2Fedit%2F20220330_1095%2Fupload_164863493868755bMk.jpg%22&amp;type&#x3D;nf464_260\" alt=\"\" width=\"232\" height=\"130\" onerror=\"this.outerHTML=\\'<span class=\\\\\\'pm_noimg\\\\\\'><span class=\\\\\\'noimg_text\\\\\\'>이미지 준비중</span></span>\\'\">\\n\\n\\t\\t\\t\\t\\t\\t\\t\\n\\t\\t\\t\\t\\t\\t\\t\\t<span class=\"thumb_bd\"></span>\\n\\t\\t\\t\\t\\t\\t\\t\\t\\n\\t\\t\\t\\t\\t\\t\\t\\n\\t\\t\\t\\t\\t\\t</div>\\n\\t\\t\\t\\t\\t\\t<div class=\"media_info\">\\n\\t\\t\\t\\t\\t\\t\\t<div class=\"info_box\">\\n\\t\\t\\t\\t\\t\\t\\t\\t\\n\\t\\t\\t\\t\\t\\t\\t\\t<strong class=\"title elss\">넌 내가 선택한 유일한 사랑이야</strong>\\n\\t\\t\\t\\t\\t\\t\\t\\t<div class=\"source_wrap\">\\n\\t\\t\\t\\t\\t\\t\\t\\t\\t<span class=\"date\">3주일 전</span>\\n\\t\\t\\t\\t\\t\\t\\t\\t\\t<span class=\"source\">\\n                                    \\n\\t\\t\\t\\t\\t\\t\\t\\t\\t\\t<span class=\"source_inner\">이혼했는데 한집에</span>\\n                                </span>\\n\\t\\t\\t\\t\\t\\t\\t\\t</div>\\n\\t\\t\\t\\t\\t\\t\\t</div>\\n\\t\\t\\t\\t\\t\\t</div>\\n\\t\\t\\t\\t\\t</a>\\n\\t\\t\\t\\t\\n\\t\\t\\t\\n\\t\\t</div>\\n\\t</div>\\n</div>\\n\\n<div class=\"group_theme\" data-block-id=\"\" data-block-code=\"PC-THEME-BBOOM-IMG-1\" data-block-type=\"MATERIALS\" data-template-code=\"3X3\"\\n\\n\\t data-page=\"1\"\\n\\t >\\n\\n\\t<div class=\"media_view_wrap type_column\">\\n\\t\\t<div class=\"media_view\">\\n\\t\\t\\t\\n\\t\\t\\t\\t\\n\\t\\t\\t\\t\\t<a href=\"https://comic.naver.com/webtoon/detail.nhn?titleId&#x3D;570503\" class=\"media_area\" data-da-position=\"true\" data-gdid=\"CAS_cb135d11-b00d-11ec-9c7b-d59ea63c5e4e\" data-clk=\"tcc_web.list2cont1\" target=\"_blank\">\\n\\t\\t\\t\\t\\t\\t<div class=\"media_thumb\">\\n\\t\\t\\t\\t\\t\\t\\t<img src=\"https://s.pstatic.net/dthumb.phinf/?src&#x3D;%22https%3A%2F%2Fs.pstatic.net%2Fstatic%2Fwww%2Fmobile%2Fedit%2F20220330_1095%2Fupload_1648633419129cKC2S.jpg%22&amp;type&#x3D;nf464_260\" data-src=\"https://s.pstatic.net/dthumb.phinf/?src&#x3D;%22https%3A%2F%2Fs.pstatic.net%2Fstatic%2Fwww%2Fmobile%2Fedit%2F20220330_1095%2Fupload_1648633419129cKC2S.jpg%22&amp;type&#x3D;nf464_260\" alt=\"\" width=\"232\" height=\"130\" onerror=\"this.outerHTML=\\'<span class=\\\\\\'pm_noimg\\\\\\'><span class=\\\\\\'noimg_text\\\\\\'>이미지 준비중</span></span>\\'\">\\n\\n\\t\\t\\t\\t\\t\\t\\t\\n\\t\\t\\t\\t\\t\\t\\t\\t<span class=\"thumb_bd\"></span>\\n\\t\\t\\t\\t\\t\\t\\t\\t\\n\\t\\t\\t\\t\\t\\t\\t\\n\\t\\t\\t\\t\\t\\t</div>\\n\\t\\t\\t\\t\\t\\t<div class=\"media_info\">\\n\\t\\t\\t\\t\\t\\t\\t<div class=\"info_box\">\\n\\t\\t\\t\\t\\t\\t\\t\\t\\n\\t\\t\\t\\t\\t\\t\\t\\t<strong class=\"title elss\">벚꽃피는 계절, 우리한테도 봄이 오나봐</strong>\\n\\t\\t\\t\\t\\t\\t\\t\\t<div class=\"source_wrap\">\\n\\t\\t\\t\\t\\t\\t\\t\\t\\t<span class=\"date\">3주일 전</span>\\n\\t\\t\\t\\t\\t\\t\\t\\t\\t<span class=\"source\">\\n                                    \\n\\t\\t\\t\\t\\t\\t\\t\\t\\t\\t<span class=\"source_inner\">연애혁명</span>\\n                                </span>\\n\\t\\t\\t\\t\\t\\t\\t\\t</div>\\n\\t\\t\\t\\t\\t\\t\\t</div>\\n\\t\\t\\t\\t\\t\\t</div>\\n\\t\\t\\t\\t\\t</a>\\n\\t\\t\\t\\t\\n\\t\\t\\t\\n\\t\\t\\t\\t\\n\\t\\t\\t\\t\\t<a href=\"https://series.naver.com/novel/detail.series?productNo&#x3D;6529383\" class=\"media_area\" data-da-position=\"true\" data-gdid=\"CAS_6ce2df75-b007-11ec-bf90-f9c1dec976cd\" data-clk=\"tcc_web.list2cont2\" target=\"_blank\">\\n\\t\\t\\t\\t\\t\\t<div class=\"media_thumb\">\\n\\t\\t\\t\\t\\t\\t\\t<img src=\"https://s.pstatic.net/dthumb.phinf/?src&#x3D;%22https%3A%2F%2Fs.pstatic.net%2Fstatic%2Fwww%2Fmobile%2Fedit%2F20220330_1095%2Fupload_1648631220723LtX1s.jpg%22&amp;type&#x3D;nf464_260\" data-src=\"https://s.pstatic.net/dthumb.phinf/?src&#x3D;%22https%3A%2F%2Fs.pstatic.net%2Fstatic%2Fwww%2Fmobile%2Fedit%2F20220330_1095%2Fupload_1648631220723LtX1s.jpg%22&amp;type&#x3D;nf464_260\" alt=\"\" width=\"232\" height=\"130\" onerror=\"this.outerHTML=\\'<span class=\\\\\\'pm_noimg\\\\\\'><span class=\\\\\\'noimg_text\\\\\\'>이미지 준비중</span></span>\\'\">\\n\\n\\t\\t\\t\\t\\t\\t\\t\\n\\t\\t\\t\\t\\t\\t\\t\\t<span class=\"thumb_bd\"></span>\\n\\t\\t\\t\\t\\t\\t\\t\\t\\n\\t\\t\\t\\t\\t\\t\\t\\n\\t\\t\\t\\t\\t\\t</div>\\n\\t\\t\\t\\t\\t\\t<div class=\"media_info\">\\n\\t\\t\\t\\t\\t\\t\\t<div class=\"info_box\">\\n\\t\\t\\t\\t\\t\\t\\t\\t\\n\\t\\t\\t\\t\\t\\t\\t\\t<strong class=\"title elss\">흑표범 같던 최애가 왜 여우가 됐지?</strong>\\n\\t\\t\\t\\t\\t\\t\\t\\t<div class=\"source_wrap\">\\n\\t\\t\\t\\t\\t\\t\\t\\t\\t<span class=\"date\">3주일 전</span>\\n\\t\\t\\t\\t\\t\\t\\t\\t\\t<span class=\"source\">\\n                                    \\n\\t\\t\\t\\t\\t\\t\\t\\t\\t\\t<span class=\"source_inner\">곱게 미친 흑막의 첫사랑입니다</span>\\n                                </span>\\n\\t\\t\\t\\t\\t\\t\\t\\t</div>\\n\\t\\t\\t\\t\\t\\t\\t</div>\\n\\t\\t\\t\\t\\t\\t</div>\\n\\t\\t\\t\\t\\t</a>\\n\\t\\t\\t\\t\\n\\t\\t\\t\\n\\t\\t\\t\\t\\n\\t\\t\\t\\t\\t<a href=\"https://novel.naver.com/webnovel/detail?novelId&#x3D;994960&amp;volumeNo&#x3D;69\" class=\"media_area\" data-da-position=\"true\" data-gdid=\"CAS_9ee00f95-af3e-11ec-bf90-01bd405d0ec6\" data-clk=\"tcc_web.list2cont3\" target=\"_blank\">\\n\\t\\t\\t\\t\\t\\t<div class=\"media_thumb\">\\n\\t\\t\\t\\t\\t\\t\\t<img src=\"https://s.pstatic.net/dthumb.phinf/?src&#x3D;%22https%3A%2F%2Fs.pstatic.net%2Fstatic%2Fwww%2Fmobile%2Fedit%2F20220329_1095%2Fupload_1648546421340Qp9JU.jpg%22&amp;type&#x3D;nf464_260\" data-src=\"https://s.pstatic.net/dthumb.phinf/?src&#x3D;%22https%3A%2F%2Fs.pstatic.net%2Fstatic%2Fwww%2Fmobile%2Fedit%2F20220329_1095%2Fupload_1648546421340Qp9JU.jpg%22&amp;type&#x3D;nf464_260\" alt=\"\" width=\"232\" height=\"130\" onerror=\"this.outerHTML=\\'<span class=\\\\\\'pm_noimg\\\\\\'><span class=\\\\\\'noimg_text\\\\\\'>이미지 준비중</span></span>\\'\">\\n\\n\\t\\t\\t\\t\\t\\t\\t\\n\\t\\t\\t\\t\\t\\t\\t\\t<span class=\"thumb_bd\"></span>\\n\\t\\t\\t\\t\\t\\t\\t\\t\\n\\t\\t\\t\\t\\t\\t\\t\\n\\t\\t\\t\\t\\t\\t</div>\\n\\t\\t\\t\\t\\t\\t<div class=\"media_info\">\\n\\t\\t\\t\\t\\t\\t\\t<div class=\"info_box\">\\n\\t\\t\\t\\t\\t\\t\\t\\t\\n\\t\\t\\t\\t\\t\\t\\t\\t<strong class=\"title elss\">진지하게 나랑 만나 보는 거야, 결혼을 전제로</strong>\\n\\t\\t\\t\\t\\t\\t\\t\\t<div class=\"source_wrap\">\\n\\t\\t\\t\\t\\t\\t\\t\\t\\t<span class=\"date\">3주일 전</span>\\n\\t\\t\\t\\t\\t\\t\\t\\t\\t<span class=\"source\">\\n                                    \\n\\t\\t\\t\\t\\t\\t\\t\\t\\t\\t<span class=\"source_inner\">강제 맞선</span>\\n                                </span>\\n\\t\\t\\t\\t\\t\\t\\t\\t</div>\\n\\t\\t\\t\\t\\t\\t\\t</div>\\n\\t\\t\\t\\t\\t\\t</div>\\n\\t\\t\\t\\t\\t</a>\\n\\t\\t\\t\\t\\n\\t\\t\\t\\n\\t\\t\\t\\t\\n\\t\\t\\t\\t\\t<a href=\"https://novel.naver.com/webnovel/detail?novelId&#x3D;1041788&amp;volumeNo&#x3D;17\" class=\"media_area\" data-da-position=\"true\" data-gdid=\"CAS_9ee00f96-af3e-11ec-bf90-b9f55ad92ccb\" data-clk=\"tcc_web.list2cont4\" target=\"_blank\">\\n\\t\\t\\t\\t\\t\\t<div class=\"media_thumb\">\\n\\t\\t\\t\\t\\t\\t\\t<img src=\"https://s.pstatic.net/dthumb.phinf/?src&#x3D;%22https%3A%2F%2Fs.pstatic.net%2Fstatic%2Fwww%2Fmobile%2Fedit%2F20220329_1095%2Fupload_1648546628722DL6DL.jpg%22&amp;type&#x3D;nf464_260\" data-src=\"https://s.pstatic.net/dthumb.phinf/?src&#x3D;%22https%3A%2F%2Fs.pstatic.net%2Fstatic%2Fwww%2Fmobile%2Fedit%2F20220329_1095%2Fupload_1648546628722DL6DL.jpg%22&amp;type&#x3D;nf464_260\" alt=\"\" width=\"232\" height=\"130\" onerror=\"this.outerHTML=\\'<span class=\\\\\\'pm_noimg\\\\\\'><span class=\\\\\\'noimg_text\\\\\\'>이미지 준비중</span></span>\\'\">\\n\\n\\t\\t\\t\\t\\t\\t\\t\\n\\t\\t\\t\\t\\t\\t\\t\\t<span class=\"thumb_bd\"></span>\\n\\t\\t\\t\\t\\t\\t\\t\\t\\n\\t\\t\\t\\t\\t\\t\\t\\n\\t\\t\\t\\t\\t\\t</div>\\n\\t\\t\\t\\t\\t\\t<div class=\"media_info\">\\n\\t\\t\\t\\t\\t\\t\\t<div class=\"info_box\">\\n\\t\\t\\t\\t\\t\\t\\t\\t\\n\\t\\t\\t\\t\\t\\t\\t\\t<strong class=\"title elss\">의사 남주.. 너무 매력적이잖아요 +_+</strong>\\n\\t\\t\\t\\t\\t\\t\\t\\t<div class=\"source_wrap\">\\n\\t\\t\\t\\t\\t\\t\\t\\t\\t<span class=\"date\">3주일 전</span>\\n\\t\\t\\t\\t\\t\\t\\t\\t\\t<span class=\"source\">\\n                                    \\n\\t\\t\\t\\t\\t\\t\\t\\t\\t\\t<span class=\"source_inner\">특별한 끌림의 조건</span>\\n                                </span>\\n\\t\\t\\t\\t\\t\\t\\t\\t</div>\\n\\t\\t\\t\\t\\t\\t\\t</div>\\n\\t\\t\\t\\t\\t\\t</div>\\n\\t\\t\\t\\t\\t</a>\\n\\t\\t\\t\\t\\n\\t\\t\\t\\n\\t\\t\\t\\t\\n\\t\\t\\t\\t\\t<a href=\"https://series.naver.com/comic/detail.series?productNo&#x3D;3147407\" class=\"media_area\" data-da-position=\"true\" data-gdid=\"CAS_3c912848-afff-11ec-bf90-c7b03c912b7e\" data-clk=\"tcc_web.list2cont5\" target=\"_blank\">\\n\\t\\t\\t\\t\\t\\t<div class=\"media_thumb\">\\n\\t\\t\\t\\t\\t\\t\\t<img src=\"https://s.pstatic.net/dthumb.phinf/?src&#x3D;%22https%3A%2F%2Fs.pstatic.net%2Fstatic%2Fwww%2Fmobile%2Fedit%2F20220330_1095%2Fupload_1648627125229ObCT7.jpg%22&amp;type&#x3D;nf464_260\" data-src=\"https://s.pstatic.net/dthumb.phinf/?src&#x3D;%22https%3A%2F%2Fs.pstatic.net%2Fstatic%2Fwww%2Fmobile%2Fedit%2F20220330_1095%2Fupload_1648627125229ObCT7.jpg%22&amp;type&#x3D;nf464_260\" alt=\"\" width=\"232\" height=\"130\" onerror=\"this.outerHTML=\\'<span class=\\\\\\'pm_noimg\\\\\\'><span class=\\\\\\'noimg_text\\\\\\'>이미지 준비중</span></span>\\'\">\\n\\n\\t\\t\\t\\t\\t\\t\\t\\n\\t\\t\\t\\t\\t\\t\\t\\t<span class=\"thumb_bd\"></span>\\n\\t\\t\\t\\t\\t\\t\\t\\t\\n\\t\\t\\t\\t\\t\\t\\t\\n\\t\\t\\t\\t\\t\\t</div>\\n\\t\\t\\t\\t\\t\\t<div class=\"media_info\">\\n\\t\\t\\t\\t\\t\\t\\t<div class=\"info_box\">\\n\\t\\t\\t\\t\\t\\t\\t\\t\\n\\t\\t\\t\\t\\t\\t\\t\\t<strong class=\"title elss\">낭만을 아는 마흔 살 핵주먹 등장!</strong>\\n\\t\\t\\t\\t\\t\\t\\t\\t<div class=\"source_wrap\">\\n\\t\\t\\t\\t\\t\\t\\t\\t\\t<span class=\"date\">3주일 전</span>\\n\\t\\t\\t\\t\\t\\t\\t\\t\\t<span class=\"source\">\\n                                    \\n\\t\\t\\t\\t\\t\\t\\t\\t\\t\\t<span class=\"source_inner\">돈게쓰</span>\\n                                </span>\\n\\t\\t\\t\\t\\t\\t\\t\\t</div>\\n\\t\\t\\t\\t\\t\\t\\t</div>\\n\\t\\t\\t\\t\\t\\t</div>\\n\\t\\t\\t\\t\\t</a>\\n\\t\\t\\t\\t\\n\\t\\t\\t\\n\\t\\t\\t\\t\\n\\t\\t\\t\\t\\t<a href=\"https://comic.naver.com/webtoon/detail.nhn?titleId&#x3D;778747\" class=\"media_area\" data-da-position=\"true\" data-gdid=\"CAS_4fa5d4f4-af13-11ec-9c7b-c716cc3058b4\" data-clk=\"tcc_web.list2cont6\" target=\"_blank\">\\n\\t\\t\\t\\t\\t\\t<div class=\"media_thumb\">\\n\\t\\t\\t\\t\\t\\t\\t<img src=\"https://s.pstatic.net/dthumb.phinf/?src&#x3D;%22https%3A%2F%2Fs.pstatic.net%2Fstatic%2Fwww%2Fmobile%2Fedit%2F20220329_1095%2Fupload_1648525888877n449x.jpg%22&amp;type&#x3D;nf464_260\" data-src=\"https://s.pstatic.net/dthumb.phinf/?src&#x3D;%22https%3A%2F%2Fs.pstatic.net%2Fstatic%2Fwww%2Fmobile%2Fedit%2F20220329_1095%2Fupload_1648525888877n449x.jpg%22&amp;type&#x3D;nf464_260\" alt=\"\" width=\"232\" height=\"130\" onerror=\"this.outerHTML=\\'<span class=\\\\\\'pm_noimg\\\\\\'><span class=\\\\\\'noimg_text\\\\\\'>이미지 준비중</span></span>\\'\">\\n\\n\\t\\t\\t\\t\\t\\t\\t\\n\\t\\t\\t\\t\\t\\t\\t\\t<span class=\"thumb_bd\"></span>\\n\\t\\t\\t\\t\\t\\t\\t\\t\\n\\t\\t\\t\\t\\t\\t\\t\\n\\t\\t\\t\\t\\t\\t</div>\\n\\t\\t\\t\\t\\t\\t<div class=\"media_info\">\\n\\t\\t\\t\\t\\t\\t\\t<div class=\"info_box\">\\n\\t\\t\\t\\t\\t\\t\\t\\t\\n\\t\\t\\t\\t\\t\\t\\t\\t<strong class=\"title elss\">모든 게 우리 작전대로 진행됐어!</strong>\\n\\t\\t\\t\\t\\t\\t\\t\\t<div class=\"source_wrap\">\\n\\t\\t\\t\\t\\t\\t\\t\\t\\t<span class=\"date\">3주일 전</span>\\n\\t\\t\\t\\t\\t\\t\\t\\t\\t<span class=\"source\">\\n                                    \\n\\t\\t\\t\\t\\t\\t\\t\\t\\t\\t<span class=\"source_inner\">밤낚시</span>\\n                                </span>\\n\\t\\t\\t\\t\\t\\t\\t\\t</div>\\n\\t\\t\\t\\t\\t\\t\\t</div>\\n\\t\\t\\t\\t\\t\\t</div>\\n\\t\\t\\t\\t\\t</a>\\n\\t\\t\\t\\t\\n\\t\\t\\t\\n\\t\\t\\t\\t\\n\\t\\t\\t\\t\\t<a href=\"https://comic.naver.com/webtoon/detail?titleId&#x3D;792654&amp;no&#x3D;1\" class=\"media_area\" data-da-position=\"true\" data-gdid=\"CAS_4fa5d4f3-af13-11ec-9c7b-b382de094d8a\" data-clk=\"tcc_web.list2cont7\" target=\"_blank\">\\n\\t\\t\\t\\t\\t\\t<div class=\"media_thumb\">\\n\\t\\t\\t\\t\\t\\t\\t<img src=\"https://s.pstatic.net/dthumb.phinf/?src&#x3D;%22https%3A%2F%2Fs.pstatic.net%2Fstatic%2Fwww%2Fmobile%2Fedit%2F20220329_1095%2Fupload_1648525853478ZvBZh.jpg%22&amp;type&#x3D;nf464_260\" data-src=\"https://s.pstatic.net/dthumb.phinf/?src&#x3D;%22https%3A%2F%2Fs.pstatic.net%2Fstatic%2Fwww%2Fmobile%2Fedit%2F20220329_1095%2Fupload_1648525853478ZvBZh.jpg%22&amp;type&#x3D;nf464_260\" alt=\"\" width=\"232\" height=\"130\" onerror=\"this.outerHTML=\\'<span class=\\\\\\'pm_noimg\\\\\\'><span class=\\\\\\'noimg_text\\\\\\'>이미지 준비중</span></span>\\'\">\\n\\n\\t\\t\\t\\t\\t\\t\\t\\n\\t\\t\\t\\t\\t\\t\\t\\t<span class=\"thumb_bd\"></span>\\n\\t\\t\\t\\t\\t\\t\\t\\t\\n\\t\\t\\t\\t\\t\\t\\t\\n\\t\\t\\t\\t\\t\\t</div>\\n\\t\\t\\t\\t\\t\\t<div class=\"media_info\">\\n\\t\\t\\t\\t\\t\\t\\t<div class=\"info_box\">\\n\\t\\t\\t\\t\\t\\t\\t\\t\\n\\t\\t\\t\\t\\t\\t\\t\\t<strong class=\"title elss\">조선 팔도를 뒤집은 왁자지껄 로맨스</strong>\\n\\t\\t\\t\\t\\t\\t\\t\\t<div class=\"source_wrap\">\\n\\t\\t\\t\\t\\t\\t\\t\\t\\t<span class=\"date\">3주일 전</span>\\n\\t\\t\\t\\t\\t\\t\\t\\t\\t<span class=\"source\">\\n                                    \\n\\t\\t\\t\\t\\t\\t\\t\\t\\t\\t<span class=\"source_inner\">밀행</span>\\n                                </span>\\n\\t\\t\\t\\t\\t\\t\\t\\t</div>\\n\\t\\t\\t\\t\\t\\t\\t</div>\\n\\t\\t\\t\\t\\t\\t</div>\\n\\t\\t\\t\\t\\t</a>\\n\\t\\t\\t\\t\\n\\t\\t\\t\\n\\t\\t\\t\\t\\n\\t\\t\\t\\t\\t<a href=\"https://novel.naver.com/webnovel/detail?novelId&#x3D;1036903&amp;volumeNo&#x3D;25\" class=\"media_area\" data-da-position=\"true\" data-gdid=\"CAS_cfc3c0ab-ae72-11ec-bf90-d5b8926a7284\" data-clk=\"tcc_web.list2cont8\" target=\"_blank\">\\n\\t\\t\\t\\t\\t\\t<div class=\"media_thumb\">\\n\\t\\t\\t\\t\\t\\t\\t<img src=\"https://s.pstatic.net/dthumb.phinf/?src&#x3D;%22https%3A%2F%2Fs.pstatic.net%2Fstatic%2Fwww%2Fmobile%2Fedit%2F20220328_1095%2Fupload_1648457243122NTFWq.jpg%22&amp;type&#x3D;nf464_260\" data-src=\"https://s.pstatic.net/dthumb.phinf/?src&#x3D;%22https%3A%2F%2Fs.pstatic.net%2Fstatic%2Fwww%2Fmobile%2Fedit%2F20220328_1095%2Fupload_1648457243122NTFWq.jpg%22&amp;type&#x3D;nf464_260\" alt=\"\" width=\"232\" height=\"130\" onerror=\"this.outerHTML=\\'<span class=\\\\\\'pm_noimg\\\\\\'><span class=\\\\\\'noimg_text\\\\\\'>이미지 준비중</span></span>\\'\">\\n\\n\\t\\t\\t\\t\\t\\t\\t\\n\\t\\t\\t\\t\\t\\t\\t\\t<span class=\"thumb_bd\"></span>\\n\\t\\t\\t\\t\\t\\t\\t\\t\\n\\t\\t\\t\\t\\t\\t\\t\\n\\t\\t\\t\\t\\t\\t</div>\\n\\t\\t\\t\\t\\t\\t<div class=\"media_info\">\\n\\t\\t\\t\\t\\t\\t\\t<div class=\"info_box\">\\n\\t\\t\\t\\t\\t\\t\\t\\t\\n\\t\\t\\t\\t\\t\\t\\t\\t<strong class=\"title elss\">누가 봐도 질투에 활활 불타고 계시는 중.jpg</strong>\\n\\t\\t\\t\\t\\t\\t\\t\\t<div class=\"source_wrap\">\\n\\t\\t\\t\\t\\t\\t\\t\\t\\t<span class=\"date\">3주일 전</span>\\n\\t\\t\\t\\t\\t\\t\\t\\t\\t<span class=\"source\">\\n                                    \\n\\t\\t\\t\\t\\t\\t\\t\\t\\t\\t<span class=\"source_inner\">신입은 낮져밤이</span>\\n                                </span>\\n\\t\\t\\t\\t\\t\\t\\t\\t</div>\\n\\t\\t\\t\\t\\t\\t\\t</div>\\n\\t\\t\\t\\t\\t\\t</div>\\n\\t\\t\\t\\t\\t</a>\\n\\t\\t\\t\\t\\n\\t\\t\\t\\n\\t\\t\\t\\t\\n\\t\\t\\t\\t\\t<a href=\"https://series.naver.com/novel/detail.series?productNo&#x3D;8300461\" class=\"media_area\" data-da-position=\"true\" data-gdid=\"CAS_37f1aa9c-af28-11ec-864d-593b105bedf1\" data-clk=\"tcc_web.list2cont9\" target=\"_blank\">\\n\\t\\t\\t\\t\\t\\t<div class=\"media_thumb\">\\n\\t\\t\\t\\t\\t\\t\\t<img src=\"https://s.pstatic.net/dthumb.phinf/?src&#x3D;%22https%3A%2F%2Fs.pstatic.net%2Fstatic%2Fwww%2Fmobile%2Fedit%2F20220329_1095%2Fupload_16485351699375MWki.jpg%22&amp;type&#x3D;nf464_260\" data-src=\"https://s.pstatic.net/dthumb.phinf/?src&#x3D;%22https%3A%2F%2Fs.pstatic.net%2Fstatic%2Fwww%2Fmobile%2Fedit%2F20220329_1095%2Fupload_16485351699375MWki.jpg%22&amp;type&#x3D;nf464_260\" alt=\"\" width=\"232\" height=\"130\" onerror=\"this.outerHTML=\\'<span class=\\\\\\'pm_noimg\\\\\\'><span class=\\\\\\'noimg_text\\\\\\'>이미지 준비중</span></span>\\'\">\\n\\n\\t\\t\\t\\t\\t\\t\\t\\n\\t\\t\\t\\t\\t\\t\\t\\t<span class=\"thumb_bd\"></span>\\n\\t\\t\\t\\t\\t\\t\\t\\t\\n\\t\\t\\t\\t\\t\\t\\t\\n\\t\\t\\t\\t\\t\\t</div>\\n\\t\\t\\t\\t\\t\\t<div class=\"media_info\">\\n\\t\\t\\t\\t\\t\\t\\t<div class=\"info_box\">\\n\\t\\t\\t\\t\\t\\t\\t\\t\\n\\t\\t\\t\\t\\t\\t\\t\\t<strong class=\"title elss\">안 받아 줄 땐 언제고, 이제 내가 좋다고?!</strong>\\n\\t\\t\\t\\t\\t\\t\\t\\t<div class=\"source_wrap\">\\n\\t\\t\\t\\t\\t\\t\\t\\t\\t<span class=\"date\">3주일 전</span>\\n\\t\\t\\t\\t\\t\\t\\t\\t\\t<span class=\"source\">\\n                                    \\n\\t\\t\\t\\t\\t\\t\\t\\t\\t\\t<span class=\"source_inner\">집착 남주의 유일한 안정제가 되었습니다</span>\\n                                </span>\\n\\t\\t\\t\\t\\t\\t\\t\\t</div>\\n\\t\\t\\t\\t\\t\\t\\t</div>\\n\\t\\t\\t\\t\\t\\t</div>\\n\\t\\t\\t\\t\\t</a>\\n\\t\\t\\t\\t\\n\\t\\t\\t\\n\\t\\t</div>\\n\\t</div>\\n</div>\\n\\n<div class=\"group_theme\" data-block-id=\"\" data-block-code=\"PC-THEME-BBOOM-IMG-2\" data-block-type=\"MATERIALS\" data-template-code=\"3X3\"\\n\\n\\t data-page=\"2\"\\n\\t style=\"display:none\">\\n\\n\\t<div class=\"media_view_wrap type_column\">\\n\\t\\t<div class=\"media_view\">\\n\\t\\t\\t\\n\\t\\t\\t\\t\\n\\t\\t\\t\\t\\t<a href=\"https://comic.naver.com/webtoon/detail.nhn?titleId&#x3D;783053\" class=\"media_area\" data-da-position=\"true\" data-gdid=\"CAS_36475f7f-ae4b-11ec-864d-d509ad5c6dbb\" data-clk=\"tcc_web.list3cont1\" target=\"_blank\">\\n\\t\\t\\t\\t\\t\\t<div class=\"media_thumb\">\\n\\t\\t\\t\\t\\t\\t\\t<img  data-src=\"https://s.pstatic.net/dthumb.phinf/?src&#x3D;%22https%3A%2F%2Fs.pstatic.net%2Fstatic%2Fwww%2Fmobile%2Fedit%2F20220328_1095%2Fupload_1648439962350ZgPYv.jpg%22&amp;type&#x3D;nf464_260\" alt=\"\" width=\"232\" height=\"130\" onerror=\"this.outerHTML=\\'<span class=\\\\\\'pm_noimg\\\\\\'><span class=\\\\\\'noimg_text\\\\\\'>이미지 준비중</span></span>\\'\">\\n\\n\\t\\t\\t\\t\\t\\t\\t\\n\\t\\t\\t\\t\\t\\t\\t\\t<span class=\"thumb_bd\"></span>\\n\\t\\t\\t\\t\\t\\t\\t\\t\\n\\t\\t\\t\\t\\t\\t\\t\\n\\t\\t\\t\\t\\t\\t</div>\\n\\t\\t\\t\\t\\t\\t<div class=\"media_info\">\\n\\t\\t\\t\\t\\t\\t\\t<div class=\"info_box\">\\n\\t\\t\\t\\t\\t\\t\\t\\t\\n\\t\\t\\t\\t\\t\\t\\t\\t<strong class=\"title elss\">드디어 아빠와 재회! 왜 이렇게 늦은 거야</strong>\\n\\t\\t\\t\\t\\t\\t\\t\\t<div class=\"source_wrap\">\\n\\t\\t\\t\\t\\t\\t\\t\\t\\t<span class=\"date\">3주일 전</span>\\n\\t\\t\\t\\t\\t\\t\\t\\t\\t<span class=\"source\">\\n                                    \\n\\t\\t\\t\\t\\t\\t\\t\\t\\t\\t<span class=\"source_inner\">김부장</span>\\n                                </span>\\n\\t\\t\\t\\t\\t\\t\\t\\t</div>\\n\\t\\t\\t\\t\\t\\t\\t</div>\\n\\t\\t\\t\\t\\t\\t</div>\\n\\t\\t\\t\\t\\t</a>\\n\\t\\t\\t\\t\\n\\t\\t\\t\\n\\t\\t\\t\\t\\n\\t\\t\\t\\t\\t<a href=\"https://comic.naver.com/webtoon/detail.nhn?titleId&#x3D;784248\" class=\"media_area\" data-da-position=\"true\" data-gdid=\"CAS_36475f7e-ae4b-11ec-864d-f1ed9979fe18\" data-clk=\"tcc_web.list3cont2\" target=\"_blank\">\\n\\t\\t\\t\\t\\t\\t<div class=\"media_thumb\">\\n\\t\\t\\t\\t\\t\\t\\t<img  data-src=\"https://s.pstatic.net/dthumb.phinf/?src&#x3D;%22https%3A%2F%2Fs.pstatic.net%2Fstatic%2Fwww%2Fmobile%2Fedit%2F20220328_1095%2Fupload_1648439935518yJfTW.jpg%22&amp;type&#x3D;nf464_260\" alt=\"\" width=\"232\" height=\"130\" onerror=\"this.outerHTML=\\'<span class=\\\\\\'pm_noimg\\\\\\'><span class=\\\\\\'noimg_text\\\\\\'>이미지 준비중</span></span>\\'\">\\n\\n\\t\\t\\t\\t\\t\\t\\t\\n\\t\\t\\t\\t\\t\\t\\t\\t<span class=\"thumb_bd\"></span>\\n\\t\\t\\t\\t\\t\\t\\t\\t\\n\\t\\t\\t\\t\\t\\t\\t\\n\\t\\t\\t\\t\\t\\t</div>\\n\\t\\t\\t\\t\\t\\t<div class=\"media_info\">\\n\\t\\t\\t\\t\\t\\t\\t<div class=\"info_box\">\\n\\t\\t\\t\\t\\t\\t\\t\\t\\n\\t\\t\\t\\t\\t\\t\\t\\t<strong class=\"title elss\">첫 던전 공략 실습! 꼭 활약하겠어!!</strong>\\n\\t\\t\\t\\t\\t\\t\\t\\t<div class=\"source_wrap\">\\n\\t\\t\\t\\t\\t\\t\\t\\t\\t<span class=\"date\">3주일 전</span>\\n\\t\\t\\t\\t\\t\\t\\t\\t\\t<span class=\"source\">\\n                                    \\n\\t\\t\\t\\t\\t\\t\\t\\t\\t\\t<span class=\"source_inner\">내가 키운 S급들</span>\\n                                </span>\\n\\t\\t\\t\\t\\t\\t\\t\\t</div>\\n\\t\\t\\t\\t\\t\\t\\t</div>\\n\\t\\t\\t\\t\\t\\t</div>\\n\\t\\t\\t\\t\\t</a>\\n\\t\\t\\t\\t\\n\\t\\t\\t\\n\\t\\t\\t\\t\\n\\t\\t\\t\\t\\t<a href=\"https://novel.naver.com/webnovel/detail?novelId&#x3D;1041781&amp;volumeNo&#x3D;16\" class=\"media_area\" data-da-position=\"true\" data-gdid=\"CAS_5a437b6e-ac22-11ec-9c7b-6f4f00eaa497\" data-clk=\"tcc_web.list3cont3\" target=\"_blank\">\\n\\t\\t\\t\\t\\t\\t<div class=\"media_thumb\">\\n\\t\\t\\t\\t\\t\\t\\t<img  data-src=\"https://s.pstatic.net/dthumb.phinf/?src&#x3D;%22https%3A%2F%2Fs.pstatic.net%2Fstatic%2Fwww%2Fmobile%2Fedit%2F20220325_1095%2Fupload_1648203044377mYzuC.jpg%22&amp;type&#x3D;nf464_260\" alt=\"\" width=\"232\" height=\"130\" onerror=\"this.outerHTML=\\'<span class=\\\\\\'pm_noimg\\\\\\'><span class=\\\\\\'noimg_text\\\\\\'>이미지 준비중</span></span>\\'\">\\n\\n\\t\\t\\t\\t\\t\\t\\t\\n\\t\\t\\t\\t\\t\\t\\t\\t<span class=\"thumb_bd\"></span>\\n\\t\\t\\t\\t\\t\\t\\t\\t\\n\\t\\t\\t\\t\\t\\t\\t\\n\\t\\t\\t\\t\\t\\t</div>\\n\\t\\t\\t\\t\\t\\t<div class=\"media_info\">\\n\\t\\t\\t\\t\\t\\t\\t<div class=\"info_box\">\\n\\t\\t\\t\\t\\t\\t\\t\\t\\n\\t\\t\\t\\t\\t\\t\\t\\t<strong class=\"title elss\">차라리 옆에 있어, 보호라는 거 해줄 테니까</strong>\\n\\t\\t\\t\\t\\t\\t\\t\\t<div class=\"source_wrap\">\\n\\t\\t\\t\\t\\t\\t\\t\\t\\t<span class=\"date\">4주일 전</span>\\n\\t\\t\\t\\t\\t\\t\\t\\t\\t<span class=\"source\">\\n                                    \\n\\t\\t\\t\\t\\t\\t\\t\\t\\t\\t<span class=\"source_inner\">본능적인 소유욕</span>\\n                                </span>\\n\\t\\t\\t\\t\\t\\t\\t\\t</div>\\n\\t\\t\\t\\t\\t\\t\\t</div>\\n\\t\\t\\t\\t\\t\\t</div>\\n\\t\\t\\t\\t\\t</a>\\n\\t\\t\\t\\t\\n\\t\\t\\t\\n\\t\\t\\t\\t\\n\\t\\t\\t\\t\\t<a href=\"https://novel.naver.com/webnovel/detail?novelId&#x3D;1046679&amp;volumeNo&#x3D;8\" class=\"media_area\" data-da-position=\"true\" data-gdid=\"CAS_5a437b6f-ac22-11ec-9c7b-d1fe2c8ccd13\" data-clk=\"tcc_web.list3cont4\" target=\"_blank\">\\n\\t\\t\\t\\t\\t\\t<div class=\"media_thumb\">\\n\\t\\t\\t\\t\\t\\t\\t<img  data-src=\"https://s.pstatic.net/dthumb.phinf/?src&#x3D;%22https%3A%2F%2Fs.pstatic.net%2Fstatic%2Fwww%2Fmobile%2Fedit%2F20220325_1095%2Fupload_1648203119325ilT7W.jpg%22&amp;type&#x3D;nf464_260\" alt=\"\" width=\"232\" height=\"130\" onerror=\"this.outerHTML=\\'<span class=\\\\\\'pm_noimg\\\\\\'><span class=\\\\\\'noimg_text\\\\\\'>이미지 준비중</span></span>\\'\">\\n\\n\\t\\t\\t\\t\\t\\t\\t\\n\\t\\t\\t\\t\\t\\t\\t\\t<span class=\"thumb_bd\"></span>\\n\\t\\t\\t\\t\\t\\t\\t\\t\\n\\t\\t\\t\\t\\t\\t\\t\\n\\t\\t\\t\\t\\t\\t</div>\\n\\t\\t\\t\\t\\t\\t<div class=\"media_info\">\\n\\t\\t\\t\\t\\t\\t\\t<div class=\"info_box\">\\n\\t\\t\\t\\t\\t\\t\\t\\t\\n\\t\\t\\t\\t\\t\\t\\t\\t<strong class=\"title elss\">아내의 외도 사진이 담긴 봉투를 받았다..?!</strong>\\n\\t\\t\\t\\t\\t\\t\\t\\t<div class=\"source_wrap\">\\n\\t\\t\\t\\t\\t\\t\\t\\t\\t<span class=\"date\">4주일 전</span>\\n\\t\\t\\t\\t\\t\\t\\t\\t\\t<span class=\"source\">\\n                                    \\n\\t\\t\\t\\t\\t\\t\\t\\t\\t\\t<span class=\"source_inner\">이혼 유예</span>\\n                                </span>\\n\\t\\t\\t\\t\\t\\t\\t\\t</div>\\n\\t\\t\\t\\t\\t\\t\\t</div>\\n\\t\\t\\t\\t\\t\\t</div>\\n\\t\\t\\t\\t\\t</a>\\n\\t\\t\\t\\t\\n\\t\\t\\t\\n\\t\\t\\t\\t\\n\\t\\t\\t\\t\\t<a href=\"https://comic.naver.com/webtoon/detail.nhn?titleId&#x3D;183559\" class=\"media_area\" data-da-position=\"true\" data-gdid=\"CAS_2042fdbf-ab4f-11ec-9c7b-3fd563899f35\" data-clk=\"tcc_web.list3cont5\" target=\"_blank\">\\n\\t\\t\\t\\t\\t\\t<div class=\"media_thumb\">\\n\\t\\t\\t\\t\\t\\t\\t<img  data-src=\"https://s.pstatic.net/dthumb.phinf/?src&#x3D;%22https%3A%2F%2Fs.pstatic.net%2Fstatic%2Fwww%2Fmobile%2Fedit%2F20220324_1095%2Fupload_1648112127896JZOaI.jpg%22&amp;type&#x3D;nf464_260\" alt=\"\" width=\"232\" height=\"130\" onerror=\"this.outerHTML=\\'<span class=\\\\\\'pm_noimg\\\\\\'><span class=\\\\\\'noimg_text\\\\\\'>이미지 준비중</span></span>\\'\">\\n\\n\\t\\t\\t\\t\\t\\t\\t\\n\\t\\t\\t\\t\\t\\t\\t\\t<span class=\"thumb_bd\"></span>\\n\\t\\t\\t\\t\\t\\t\\t\\t\\n\\t\\t\\t\\t\\t\\t\\t\\n\\t\\t\\t\\t\\t\\t</div>\\n\\t\\t\\t\\t\\t\\t<div class=\"media_info\">\\n\\t\\t\\t\\t\\t\\t\\t<div class=\"info_box\">\\n\\t\\t\\t\\t\\t\\t\\t\\t\\n\\t\\t\\t\\t\\t\\t\\t\\t<strong class=\"title elss\">스물다섯번째 밤, 너에게 힘을 빌려주마</strong>\\n\\t\\t\\t\\t\\t\\t\\t\\t<div class=\"source_wrap\">\\n\\t\\t\\t\\t\\t\\t\\t\\t\\t<span class=\"date\">4주일 전</span>\\n\\t\\t\\t\\t\\t\\t\\t\\t\\t<span class=\"source\">\\n                                    \\n\\t\\t\\t\\t\\t\\t\\t\\t\\t\\t<span class=\"source_inner\">신의 탑</span>\\n                                </span>\\n\\t\\t\\t\\t\\t\\t\\t\\t</div>\\n\\t\\t\\t\\t\\t\\t\\t</div>\\n\\t\\t\\t\\t\\t\\t</div>\\n\\t\\t\\t\\t\\t</a>\\n\\t\\t\\t\\t\\n\\t\\t\\t\\n\\t\\t\\t\\t\\n\\t\\t\\t\\t\\t<a href=\"https://comic.naver.com/webtoon/detail.nhn?titleId&#x3D;654774\" class=\"media_area\" data-da-position=\"true\" data-gdid=\"CAS_2042fdc0-ab4f-11ec-9c7b-415b243d340a\" data-clk=\"tcc_web.list3cont6\" target=\"_blank\">\\n\\t\\t\\t\\t\\t\\t<div class=\"media_thumb\">\\n\\t\\t\\t\\t\\t\\t\\t<img  data-src=\"https://s.pstatic.net/dthumb.phinf/?src&#x3D;%22https%3A%2F%2Fs.pstatic.net%2Fstatic%2Fwww%2Fmobile%2Fedit%2F20220324_1095%2Fupload_1648112136501AcMnD.jpg%22&amp;type&#x3D;nf464_260\" alt=\"\" width=\"232\" height=\"130\" onerror=\"this.outerHTML=\\'<span class=\\\\\\'pm_noimg\\\\\\'><span class=\\\\\\'noimg_text\\\\\\'>이미지 준비중</span></span>\\'\">\\n\\n\\t\\t\\t\\t\\t\\t\\t\\n\\t\\t\\t\\t\\t\\t\\t\\t<span class=\"thumb_bd\"></span>\\n\\t\\t\\t\\t\\t\\t\\t\\t\\n\\t\\t\\t\\t\\t\\t\\t\\n\\t\\t\\t\\t\\t\\t</div>\\n\\t\\t\\t\\t\\t\\t<div class=\"media_info\">\\n\\t\\t\\t\\t\\t\\t\\t<div class=\"info_box\">\\n\\t\\t\\t\\t\\t\\t\\t\\t\\n\\t\\t\\t\\t\\t\\t\\t\\t<strong class=\"title elss\">친구로서의 선? 난 너랑 같이 있고 싶어🥺</strong>\\n\\t\\t\\t\\t\\t\\t\\t\\t<div class=\"source_wrap\">\\n\\t\\t\\t\\t\\t\\t\\t\\t\\t<span class=\"date\">4주일 전</span>\\n\\t\\t\\t\\t\\t\\t\\t\\t\\t<span class=\"source\">\\n                                    \\n\\t\\t\\t\\t\\t\\t\\t\\t\\t\\t<span class=\"source_inner\">소녀의 세계</span>\\n                                </span>\\n\\t\\t\\t\\t\\t\\t\\t\\t</div>\\n\\t\\t\\t\\t\\t\\t\\t</div>\\n\\t\\t\\t\\t\\t\\t</div>\\n\\t\\t\\t\\t\\t</a>\\n\\t\\t\\t\\t\\n\\t\\t\\t\\n\\t\\t\\t\\t\\n\\t\\t\\t\\t\\t<a href=\"https://novel.naver.com/webnovel/detail?novelId&#x3D;994963&amp;volumeNo&#x3D;69\" class=\"media_area\" data-da-position=\"true\" data-gdid=\"CAS_58c0abfd-ac22-11ec-9c7b-e9fae111a420\" data-clk=\"tcc_web.list3cont7\" target=\"_blank\">\\n\\t\\t\\t\\t\\t\\t<div class=\"media_thumb\">\\n\\t\\t\\t\\t\\t\\t\\t<img  data-src=\"https://s.pstatic.net/dthumb.phinf/?src&#x3D;%22https%3A%2F%2Fs.pstatic.net%2Fstatic%2Fwww%2Fmobile%2Fedit%2F20220325_1095%2Fupload_1648202979353uy2Ya.jpg%22&amp;type&#x3D;nf464_260\" alt=\"\" width=\"232\" height=\"130\" onerror=\"this.outerHTML=\\'<span class=\\\\\\'pm_noimg\\\\\\'><span class=\\\\\\'noimg_text\\\\\\'>이미지 준비중</span></span>\\'\">\\n\\n\\t\\t\\t\\t\\t\\t\\t\\n\\t\\t\\t\\t\\t\\t\\t\\t<span class=\"thumb_bd\"></span>\\n\\t\\t\\t\\t\\t\\t\\t\\t\\n\\t\\t\\t\\t\\t\\t\\t\\n\\t\\t\\t\\t\\t\\t</div>\\n\\t\\t\\t\\t\\t\\t<div class=\"media_info\">\\n\\t\\t\\t\\t\\t\\t\\t<div class=\"info_box\">\\n\\t\\t\\t\\t\\t\\t\\t\\t\\n\\t\\t\\t\\t\\t\\t\\t\\t<strong class=\"title elss\">그러니까 저를 마음껏 이용해 보세요</strong>\\n\\t\\t\\t\\t\\t\\t\\t\\t<div class=\"source_wrap\">\\n\\t\\t\\t\\t\\t\\t\\t\\t\\t<span class=\"date\">4주일 전</span>\\n\\t\\t\\t\\t\\t\\t\\t\\t\\t<span class=\"source\">\\n                                    \\n\\t\\t\\t\\t\\t\\t\\t\\t\\t\\t<span class=\"source_inner\">계약직 대공비</span>\\n                                </span>\\n\\t\\t\\t\\t\\t\\t\\t\\t</div>\\n\\t\\t\\t\\t\\t\\t\\t</div>\\n\\t\\t\\t\\t\\t\\t</div>\\n\\t\\t\\t\\t\\t</a>\\n\\t\\t\\t\\t\\n\\t\\t\\t\\n\\t\\t\\t\\t\\n\\t\\t\\t\\t\\t<a href=\"https://novel.naver.com/webnovel/detail?novelId&#x3D;963511&amp;volumeNo&#x3D;103\" class=\"media_area\" data-da-position=\"true\" data-gdid=\"CAS_58c0abfc-ac22-11ec-9c7b-dfa763ac2191\" data-clk=\"tcc_web.list3cont8\" target=\"_blank\">\\n\\t\\t\\t\\t\\t\\t<div class=\"media_thumb\">\\n\\t\\t\\t\\t\\t\\t\\t<img  data-src=\"https://s.pstatic.net/dthumb.phinf/?src&#x3D;%22https%3A%2F%2Fs.pstatic.net%2Fstatic%2Fwww%2Fmobile%2Fedit%2F20220325_1095%2Fupload_1648202863090Hbpoz.jpg%22&amp;type&#x3D;nf464_260\" alt=\"\" width=\"232\" height=\"130\" onerror=\"this.outerHTML=\\'<span class=\\\\\\'pm_noimg\\\\\\'><span class=\\\\\\'noimg_text\\\\\\'>이미지 준비중</span></span>\\'\">\\n\\n\\t\\t\\t\\t\\t\\t\\t\\n\\t\\t\\t\\t\\t\\t\\t\\t<span class=\"thumb_bd\"></span>\\n\\t\\t\\t\\t\\t\\t\\t\\t\\n\\t\\t\\t\\t\\t\\t\\t\\n\\t\\t\\t\\t\\t\\t</div>\\n\\t\\t\\t\\t\\t\\t<div class=\"media_info\">\\n\\t\\t\\t\\t\\t\\t\\t<div class=\"info_box\">\\n\\t\\t\\t\\t\\t\\t\\t\\t\\n\\t\\t\\t\\t\\t\\t\\t\\t<strong class=\"title elss\">제가 손을 쓸 일이 없도록 만들어 줄게요❤️</strong>\\n\\t\\t\\t\\t\\t\\t\\t\\t<div class=\"source_wrap\">\\n\\t\\t\\t\\t\\t\\t\\t\\t\\t<span class=\"date\">4주일 전</span>\\n\\t\\t\\t\\t\\t\\t\\t\\t\\t<span class=\"source\">\\n                                    \\n\\t\\t\\t\\t\\t\\t\\t\\t\\t\\t<span class=\"source_inner\">야만의 청혼</span>\\n                                </span>\\n\\t\\t\\t\\t\\t\\t\\t\\t</div>\\n\\t\\t\\t\\t\\t\\t\\t</div>\\n\\t\\t\\t\\t\\t\\t</div>\\n\\t\\t\\t\\t\\t</a>\\n\\t\\t\\t\\t\\n\\t\\t\\t\\n\\t\\t\\t\\t\\n\\t\\t\\t\\t\\t<a href=\"https://series.naver.com/novel/detail.series?productNo&#x3D;8280448\" class=\"media_area\" data-da-position=\"true\" data-gdid=\"CAS_b81c716d-ac22-11ec-bf90-d51e05c1ba8f\" data-clk=\"tcc_web.list3cont9\" target=\"_blank\">\\n\\t\\t\\t\\t\\t\\t<div class=\"media_thumb\">\\n\\t\\t\\t\\t\\t\\t\\t<img  data-src=\"https://s.pstatic.net/dthumb.phinf/?src&#x3D;%22https%3A%2F%2Fs.pstatic.net%2Fstatic%2Fwww%2Fmobile%2Fedit%2F20220325_1095%2Fupload_1648203014982ORus1.jpg%22&amp;type&#x3D;nf464_260\" alt=\"\" width=\"232\" height=\"130\" onerror=\"this.outerHTML=\\'<span class=\\\\\\'pm_noimg\\\\\\'><span class=\\\\\\'noimg_text\\\\\\'>이미지 준비중</span></span>\\'\">\\n\\n\\t\\t\\t\\t\\t\\t\\t\\n\\t\\t\\t\\t\\t\\t\\t\\t<span class=\"thumb_bd\"></span>\\n\\t\\t\\t\\t\\t\\t\\t\\t\\n\\t\\t\\t\\t\\t\\t\\t\\n\\t\\t\\t\\t\\t\\t</div>\\n\\t\\t\\t\\t\\t\\t<div class=\"media_info\">\\n\\t\\t\\t\\t\\t\\t\\t<div class=\"info_box\">\\n\\t\\t\\t\\t\\t\\t\\t\\t\\n\\t\\t\\t\\t\\t\\t\\t\\t<strong class=\"title elss\">원하는 대로 계약하죠, 그게 무엇이든 </strong>\\n\\t\\t\\t\\t\\t\\t\\t\\t<div class=\"source_wrap\">\\n\\t\\t\\t\\t\\t\\t\\t\\t\\t<span class=\"date\">4주일 전</span>\\n\\t\\t\\t\\t\\t\\t\\t\\t\\t<span class=\"source\">\\n                                    \\n\\t\\t\\t\\t\\t\\t\\t\\t\\t\\t<span class=\"source_inner\">찢긴 결혼</span>\\n                                </span>\\n\\t\\t\\t\\t\\t\\t\\t\\t</div>\\n\\t\\t\\t\\t\\t\\t\\t</div>\\n\\t\\t\\t\\t\\t\\t</div>\\n\\t\\t\\t\\t\\t</a>\\n\\t\\t\\t\\t\\n\\t\\t\\t\\n\\t\\t</div>\\n\\t</div>\\n</div>\\n\\n<div class=\"group_theme\" data-block-id=\"\" data-block-code=\"PC-THEME-BBOOM-IMG-3\" data-block-type=\"MATERIALS\" data-template-code=\"3X3\"\\n\\n\\t data-page=\"2\"\\n\\t style=\"display:none\">\\n\\n\\t<div class=\"media_view_wrap type_column\">\\n\\t\\t<div class=\"media_view\">\\n\\t\\t\\t\\n\\t\\t\\t\\t\\n\\t\\t\\t\\t\\t<a href=\"https://comic.naver.com/webtoon/detail.nhn?titleId&#x3D;792694&amp;no&#x3D;1\" class=\"media_area\" data-da-position=\"true\" data-gdid=\"CAS_778315b8-ab52-11ec-864d-e9a20e3bfd98\" data-clk=\"tcc_web.list4cont1\" target=\"_blank\">\\n\\t\\t\\t\\t\\t\\t<div class=\"media_thumb\">\\n\\t\\t\\t\\t\\t\\t\\t<img  data-src=\"https://s.pstatic.net/dthumb.phinf/?src&#x3D;%22https%3A%2F%2Fs.pstatic.net%2Fstatic%2Fwww%2Fmobile%2Fedit%2F20220324_1095%2Fupload_1648113157658azlNE.jpg%22&amp;type&#x3D;nf464_260\" alt=\"\" width=\"232\" height=\"130\" onerror=\"this.outerHTML=\\'<span class=\\\\\\'pm_noimg\\\\\\'><span class=\\\\\\'noimg_text\\\\\\'>이미지 준비중</span></span>\\'\">\\n\\n\\t\\t\\t\\t\\t\\t\\t\\n\\t\\t\\t\\t\\t\\t\\t\\t<span class=\"thumb_bd\"></span>\\n\\t\\t\\t\\t\\t\\t\\t\\t\\n\\t\\t\\t\\t\\t\\t\\t\\n\\t\\t\\t\\t\\t\\t</div>\\n\\t\\t\\t\\t\\t\\t<div class=\"media_info\">\\n\\t\\t\\t\\t\\t\\t\\t<div class=\"info_box\">\\n\\t\\t\\t\\t\\t\\t\\t\\t\\n\\t\\t\\t\\t\\t\\t\\t\\t<strong class=\"title elss\"><극야> 시즌2! 이번엔 태평양이다</strong>\\n\\t\\t\\t\\t\\t\\t\\t\\t<div class=\"source_wrap\">\\n\\t\\t\\t\\t\\t\\t\\t\\t\\t<span class=\"date\">4주일 전</span>\\n\\t\\t\\t\\t\\t\\t\\t\\t\\t<span class=\"source\">\\n                                    \\n\\t\\t\\t\\t\\t\\t\\t\\t\\t\\t<span class=\"source_inner\">폰투스</span>\\n                                </span>\\n\\t\\t\\t\\t\\t\\t\\t\\t</div>\\n\\t\\t\\t\\t\\t\\t\\t</div>\\n\\t\\t\\t\\t\\t\\t</div>\\n\\t\\t\\t\\t\\t</a>\\n\\t\\t\\t\\t\\n\\t\\t\\t\\n\\t\\t\\t\\t\\n\\t\\t\\t\\t\\t<a href=\"https://comic.naver.com/webtoon/detail.nhn?titleId&#x3D;791937&amp;no&#x3D;1\" class=\"media_area\" data-da-position=\"true\" data-gdid=\"CAS_778315b7-ab52-11ec-864d-65a620a890d0\" data-clk=\"tcc_web.list4cont2\" target=\"_blank\">\\n\\t\\t\\t\\t\\t\\t<div class=\"media_thumb\">\\n\\t\\t\\t\\t\\t\\t\\t<img  data-src=\"https://s.pstatic.net/dthumb.phinf/?src&#x3D;%22https%3A%2F%2Fs.pstatic.net%2Fstatic%2Fwww%2Fmobile%2Fedit%2F20220324_1095%2Fupload_1648113145533HztP5.jpg%22&amp;type&#x3D;nf464_260\" alt=\"\" width=\"232\" height=\"130\" onerror=\"this.outerHTML=\\'<span class=\\\\\\'pm_noimg\\\\\\'><span class=\\\\\\'noimg_text\\\\\\'>이미지 준비중</span></span>\\'\">\\n\\n\\t\\t\\t\\t\\t\\t\\t\\n\\t\\t\\t\\t\\t\\t\\t\\t<span class=\"thumb_bd\"></span>\\n\\t\\t\\t\\t\\t\\t\\t\\t\\n\\t\\t\\t\\t\\t\\t\\t\\n\\t\\t\\t\\t\\t\\t</div>\\n\\t\\t\\t\\t\\t\\t<div class=\"media_info\">\\n\\t\\t\\t\\t\\t\\t\\t<div class=\"info_box\">\\n\\t\\t\\t\\t\\t\\t\\t\\t\\n\\t\\t\\t\\t\\t\\t\\t\\t<strong class=\"title elss\">잊혀지지 않는 향기를 가진 나의 친구</strong>\\n\\t\\t\\t\\t\\t\\t\\t\\t<div class=\"source_wrap\">\\n\\t\\t\\t\\t\\t\\t\\t\\t\\t<span class=\"date\">4주일 전</span>\\n\\t\\t\\t\\t\\t\\t\\t\\t\\t<span class=\"source\">\\n                                    \\n\\t\\t\\t\\t\\t\\t\\t\\t\\t\\t<span class=\"source_inner\">6월의 라벤더</span>\\n                                </span>\\n\\t\\t\\t\\t\\t\\t\\t\\t</div>\\n\\t\\t\\t\\t\\t\\t\\t</div>\\n\\t\\t\\t\\t\\t\\t</div>\\n\\t\\t\\t\\t\\t</a>\\n\\t\\t\\t\\t\\n\\t\\t\\t\\n\\t\\t\\t\\t\\n\\t\\t\\t\\t\\t<a href=\"https://novel.naver.com/webnovel/detail?novelId&#x3D;970353&amp;volumeNo&#x3D;95\" class=\"media_area\" data-da-position=\"true\" data-gdid=\"CAS_5769ce75-ac22-11ec-864d-ef21a132decd\" data-clk=\"tcc_web.list4cont3\" target=\"_blank\">\\n\\t\\t\\t\\t\\t\\t<div class=\"media_thumb\">\\n\\t\\t\\t\\t\\t\\t\\t<img  data-src=\"https://s.pstatic.net/dthumb.phinf/?src&#x3D;%22https%3A%2F%2Fs.pstatic.net%2Fstatic%2Fwww%2Fmobile%2Fedit%2F20220325_1095%2Fupload_1648202637618vwRY6.jpg%22&amp;type&#x3D;nf464_260\" alt=\"\" width=\"232\" height=\"130\" onerror=\"this.outerHTML=\\'<span class=\\\\\\'pm_noimg\\\\\\'><span class=\\\\\\'noimg_text\\\\\\'>이미지 준비중</span></span>\\'\">\\n\\n\\t\\t\\t\\t\\t\\t\\t\\n\\t\\t\\t\\t\\t\\t\\t\\t<span class=\"thumb_bd\"></span>\\n\\t\\t\\t\\t\\t\\t\\t\\t\\n\\t\\t\\t\\t\\t\\t\\t\\n\\t\\t\\t\\t\\t\\t</div>\\n\\t\\t\\t\\t\\t\\t<div class=\"media_info\">\\n\\t\\t\\t\\t\\t\\t\\t<div class=\"info_box\">\\n\\t\\t\\t\\t\\t\\t\\t\\t\\n\\t\\t\\t\\t\\t\\t\\t\\t<strong class=\"title elss\">\\'사랑해\\'를 어떻게 7년이나 아끼냐구..!ㅠㅠ</strong>\\n\\t\\t\\t\\t\\t\\t\\t\\t<div class=\"source_wrap\">\\n\\t\\t\\t\\t\\t\\t\\t\\t\\t<span class=\"date\">4주일 전</span>\\n\\t\\t\\t\\t\\t\\t\\t\\t\\t<span class=\"source\">\\n                                    \\n\\t\\t\\t\\t\\t\\t\\t\\t\\t\\t<span class=\"source_inner\">날 닮은 아이</span>\\n                                </span>\\n\\t\\t\\t\\t\\t\\t\\t\\t</div>\\n\\t\\t\\t\\t\\t\\t\\t</div>\\n\\t\\t\\t\\t\\t\\t</div>\\n\\t\\t\\t\\t\\t</a>\\n\\t\\t\\t\\t\\n\\t\\t\\t\\n\\t\\t\\t\\t\\n\\t\\t\\t\\t\\t<a href=\"https://novel.naver.com/webnovel/detail?novelId&#x3D;1031870&amp;volumeNo&#x3D;33\" class=\"media_area\" data-da-position=\"true\" data-gdid=\"CAS_5769ce74-ac22-11ec-864d-676a59c1e7f0\" data-clk=\"tcc_web.list4cont4\" target=\"_blank\">\\n\\t\\t\\t\\t\\t\\t<div class=\"media_thumb\">\\n\\t\\t\\t\\t\\t\\t\\t<img  data-src=\"https://s.pstatic.net/dthumb.phinf/?src&#x3D;%22https%3A%2F%2Fs.pstatic.net%2Fstatic%2Fwww%2Fmobile%2Fedit%2F20220325_1095%2Fupload_1648202526263LRRpu.jpg%22&amp;type&#x3D;nf464_260\" alt=\"\" width=\"232\" height=\"130\" onerror=\"this.outerHTML=\\'<span class=\\\\\\'pm_noimg\\\\\\'><span class=\\\\\\'noimg_text\\\\\\'>이미지 준비중</span></span>\\'\">\\n\\n\\t\\t\\t\\t\\t\\t\\t\\n\\t\\t\\t\\t\\t\\t\\t\\t<span class=\"thumb_bd\"></span>\\n\\t\\t\\t\\t\\t\\t\\t\\t\\n\\t\\t\\t\\t\\t\\t\\t\\n\\t\\t\\t\\t\\t\\t</div>\\n\\t\\t\\t\\t\\t\\t<div class=\"media_info\">\\n\\t\\t\\t\\t\\t\\t\\t<div class=\"info_box\">\\n\\t\\t\\t\\t\\t\\t\\t\\t\\n\\t\\t\\t\\t\\t\\t\\t\\t<strong class=\"title elss\">연인 관계인 이상, 진도는 빠르게 나갈 생각이야</strong>\\n\\t\\t\\t\\t\\t\\t\\t\\t<div class=\"source_wrap\">\\n\\t\\t\\t\\t\\t\\t\\t\\t\\t<span class=\"date\">4주일 전</span>\\n\\t\\t\\t\\t\\t\\t\\t\\t\\t<span class=\"source\">\\n                                    \\n\\t\\t\\t\\t\\t\\t\\t\\t\\t\\t<span class=\"source_inner\">사장님이 미쳤어요</span>\\n                                </span>\\n\\t\\t\\t\\t\\t\\t\\t\\t</div>\\n\\t\\t\\t\\t\\t\\t\\t</div>\\n\\t\\t\\t\\t\\t\\t</div>\\n\\t\\t\\t\\t\\t</a>\\n\\t\\t\\t\\t\\n\\t\\t\\t\\n\\t\\t\\t\\t\\n\\t\\t\\t\\t\\t<a href=\"https://comic.naver.com/webtoon/detail.nhn?titleId&#x3D;792651&amp;no&#x3D;1\" class=\"media_area\" data-da-position=\"true\" data-gdid=\"CAS_ab06685b-ab5b-11ec-864d-8da2ffb0e682\" data-clk=\"tcc_web.list4cont5\" target=\"_blank\">\\n\\t\\t\\t\\t\\t\\t<div class=\"media_thumb\">\\n\\t\\t\\t\\t\\t\\t\\t<img  data-src=\"https://s.pstatic.net/dthumb.phinf/?src&#x3D;%22https%3A%2F%2Fs.pstatic.net%2Fstatic%2Fwww%2Fmobile%2Fedit%2F20220324_1095%2Fupload_1648117214949EkajI.jpg%22&amp;type&#x3D;nf464_260\" alt=\"\" width=\"232\" height=\"130\" onerror=\"this.outerHTML=\\'<span class=\\\\\\'pm_noimg\\\\\\'><span class=\\\\\\'noimg_text\\\\\\'>이미지 준비중</span></span>\\'\">\\n\\n\\t\\t\\t\\t\\t\\t\\t\\n\\t\\t\\t\\t\\t\\t\\t\\t<span class=\"thumb_bd\"></span>\\n\\t\\t\\t\\t\\t\\t\\t\\t\\n\\t\\t\\t\\t\\t\\t\\t\\n\\t\\t\\t\\t\\t\\t</div>\\n\\t\\t\\t\\t\\t\\t<div class=\"media_info\">\\n\\t\\t\\t\\t\\t\\t\\t<div class=\"info_box\">\\n\\t\\t\\t\\t\\t\\t\\t\\t\\n\\t\\t\\t\\t\\t\\t\\t\\t<strong class=\"title elss\">초보자용 나무몽둥이를 +99 강화 성공?</strong>\\n\\t\\t\\t\\t\\t\\t\\t\\t<div class=\"source_wrap\">\\n\\t\\t\\t\\t\\t\\t\\t\\t\\t<span class=\"date\">4주일 전</span>\\n\\t\\t\\t\\t\\t\\t\\t\\t\\t<span class=\"source\">\\n                                    \\n\\t\\t\\t\\t\\t\\t\\t\\t\\t\\t<span class=\"source_inner\">99강화나무몽둥이</span>\\n                                </span>\\n\\t\\t\\t\\t\\t\\t\\t\\t</div>\\n\\t\\t\\t\\t\\t\\t\\t</div>\\n\\t\\t\\t\\t\\t\\t</div>\\n\\t\\t\\t\\t\\t</a>\\n\\t\\t\\t\\t\\n\\t\\t\\t\\n\\t\\t\\t\\t\\n\\t\\t\\t\\t\\t<a href=\"https://comic.naver.com/webtoon/detail.nhn?titleId&#x3D;792720&amp;no&#x3D;1\" class=\"media_area\" data-da-position=\"true\" data-gdid=\"CAS_ab06685c-ab5b-11ec-864d-9d34f633827d\" data-clk=\"tcc_web.list4cont6\" target=\"_blank\">\\n\\t\\t\\t\\t\\t\\t<div class=\"media_thumb\">\\n\\t\\t\\t\\t\\t\\t\\t<img  data-src=\"https://s.pstatic.net/dthumb.phinf/?src&#x3D;%22https%3A%2F%2Fs.pstatic.net%2Fstatic%2Fwww%2Fmobile%2Fedit%2F20220324_1095%2Fupload_1648117261774oOeN5.jpg%22&amp;type&#x3D;nf464_260\" alt=\"\" width=\"232\" height=\"130\" onerror=\"this.outerHTML=\\'<span class=\\\\\\'pm_noimg\\\\\\'><span class=\\\\\\'noimg_text\\\\\\'>이미지 준비중</span></span>\\'\">\\n\\n\\t\\t\\t\\t\\t\\t\\t\\n\\t\\t\\t\\t\\t\\t\\t\\t<span class=\"thumb_bd\"></span>\\n\\t\\t\\t\\t\\t\\t\\t\\t\\n\\t\\t\\t\\t\\t\\t\\t\\n\\t\\t\\t\\t\\t\\t</div>\\n\\t\\t\\t\\t\\t\\t<div class=\"media_info\">\\n\\t\\t\\t\\t\\t\\t\\t<div class=\"info_box\">\\n\\t\\t\\t\\t\\t\\t\\t\\t\\n\\t\\t\\t\\t\\t\\t\\t\\t<strong class=\"title elss\">연기만 풍기는 알 수 없는 연애</strong>\\n\\t\\t\\t\\t\\t\\t\\t\\t<div class=\"source_wrap\">\\n\\t\\t\\t\\t\\t\\t\\t\\t\\t<span class=\"date\">4주일 전</span>\\n\\t\\t\\t\\t\\t\\t\\t\\t\\t<span class=\"source\">\\n                                    \\n\\t\\t\\t\\t\\t\\t\\t\\t\\t\\t<span class=\"source_inner\">이건 그냥 연애 이야기</span>\\n                                </span>\\n\\t\\t\\t\\t\\t\\t\\t\\t</div>\\n\\t\\t\\t\\t\\t\\t\\t</div>\\n\\t\\t\\t\\t\\t\\t</div>\\n\\t\\t\\t\\t\\t</a>\\n\\t\\t\\t\\t\\n\\t\\t\\t\\n\\t\\t\\t\\t\\n\\t\\t\\t\\t\\t<a href=\"https://series.naver.com/novel/detail.series?productNo&#x3D;8271656\" class=\"media_area\" data-da-position=\"true\" data-gdid=\"CAS_b612beba-ac22-11ec-bf90-279c7f0a9494\" data-clk=\"tcc_web.list4cont7\" target=\"_blank\">\\n\\t\\t\\t\\t\\t\\t<div class=\"media_thumb\">\\n\\t\\t\\t\\t\\t\\t\\t<img  data-src=\"https://s.pstatic.net/dthumb.phinf/?src&#x3D;%22https%3A%2F%2Fs.pstatic.net%2Fstatic%2Fwww%2Fmobile%2Fedit%2F20220325_1095%2Fupload_1648202751581uRIPK.jpg%22&amp;type&#x3D;nf464_260\" alt=\"\" width=\"232\" height=\"130\" onerror=\"this.outerHTML=\\'<span class=\\\\\\'pm_noimg\\\\\\'><span class=\\\\\\'noimg_text\\\\\\'>이미지 준비중</span></span>\\'\">\\n\\n\\t\\t\\t\\t\\t\\t\\t\\n\\t\\t\\t\\t\\t\\t\\t\\t<span class=\"thumb_bd\"></span>\\n\\t\\t\\t\\t\\t\\t\\t\\t\\n\\t\\t\\t\\t\\t\\t\\t\\n\\t\\t\\t\\t\\t\\t</div>\\n\\t\\t\\t\\t\\t\\t<div class=\"media_info\">\\n\\t\\t\\t\\t\\t\\t\\t<div class=\"info_box\">\\n\\t\\t\\t\\t\\t\\t\\t\\t\\n\\t\\t\\t\\t\\t\\t\\t\\t<strong class=\"title elss\">남편이 다른 여자를 선택했다</strong>\\n\\t\\t\\t\\t\\t\\t\\t\\t<div class=\"source_wrap\">\\n\\t\\t\\t\\t\\t\\t\\t\\t\\t<span class=\"date\">4주일 전</span>\\n\\t\\t\\t\\t\\t\\t\\t\\t\\t<span class=\"source\">\\n                                    \\n\\t\\t\\t\\t\\t\\t\\t\\t\\t\\t<span class=\"source_inner\">당신이 나를 함부로 버린다면</span>\\n                                </span>\\n\\t\\t\\t\\t\\t\\t\\t\\t</div>\\n\\t\\t\\t\\t\\t\\t\\t</div>\\n\\t\\t\\t\\t\\t\\t</div>\\n\\t\\t\\t\\t\\t</a>\\n\\t\\t\\t\\t\\n\\t\\t\\t\\n\\t\\t\\t\\t\\n\\t\\t\\t\\t\\t<a href=\"https://series.naver.com/novel/detail.series?productNo&#x3D;8282035\" class=\"media_area\" data-da-position=\"true\" data-gdid=\"CAS_b612bebc-ac22-11ec-bf90-f173ca5be6a0\" data-clk=\"tcc_web.list4cont8\" target=\"_blank\">\\n\\t\\t\\t\\t\\t\\t<div class=\"media_thumb\">\\n\\t\\t\\t\\t\\t\\t\\t<img  data-src=\"https://s.pstatic.net/dthumb.phinf/?src&#x3D;%22https%3A%2F%2Fs.pstatic.net%2Fstatic%2Fwww%2Fmobile%2Fedit%2F20220325_1095%2Fupload_16482028406614p14Y.jpg%22&amp;type&#x3D;nf464_260\" alt=\"\" width=\"232\" height=\"130\" onerror=\"this.outerHTML=\\'<span class=\\\\\\'pm_noimg\\\\\\'><span class=\\\\\\'noimg_text\\\\\\'>이미지 준비중</span></span>\\'\">\\n\\n\\t\\t\\t\\t\\t\\t\\t\\n\\t\\t\\t\\t\\t\\t\\t\\t<span class=\"thumb_bd\"></span>\\n\\t\\t\\t\\t\\t\\t\\t\\t\\n\\t\\t\\t\\t\\t\\t\\t\\n\\t\\t\\t\\t\\t\\t</div>\\n\\t\\t\\t\\t\\t\\t<div class=\"media_info\">\\n\\t\\t\\t\\t\\t\\t\\t<div class=\"info_box\">\\n\\t\\t\\t\\t\\t\\t\\t\\t\\n\\t\\t\\t\\t\\t\\t\\t\\t<strong class=\"title elss\">대표님에게 저는, 무슨 의미죠?</strong>\\n\\t\\t\\t\\t\\t\\t\\t\\t<div class=\"source_wrap\">\\n\\t\\t\\t\\t\\t\\t\\t\\t\\t<span class=\"date\">4주일 전</span>\\n\\t\\t\\t\\t\\t\\t\\t\\t\\t<span class=\"source\">\\n                                    \\n\\t\\t\\t\\t\\t\\t\\t\\t\\t\\t<span class=\"source_inner\">우아한 보스의 족쇄</span>\\n                                </span>\\n\\t\\t\\t\\t\\t\\t\\t\\t</div>\\n\\t\\t\\t\\t\\t\\t\\t</div>\\n\\t\\t\\t\\t\\t\\t</div>\\n\\t\\t\\t\\t\\t</a>\\n\\t\\t\\t\\t\\n\\t\\t\\t\\n\\t\\t\\t\\t\\n\\t\\t\\t\\t\\t<a href=\"https://series.naver.com/novel/detail.series?productNo&#x3D;8272832\" class=\"media_area\" data-da-position=\"true\" data-gdid=\"CAS_b612beb9-ac22-11ec-bf90-31f9f76dba15\" data-clk=\"tcc_web.list4cont9\" target=\"_blank\">\\n\\t\\t\\t\\t\\t\\t<div class=\"media_thumb\">\\n\\t\\t\\t\\t\\t\\t\\t<img  data-src=\"https://s.pstatic.net/dthumb.phinf/?src&#x3D;%22https%3A%2F%2Fs.pstatic.net%2Fstatic%2Fwww%2Fmobile%2Fedit%2F20220325_1095%2Fupload_1648202627769Mqod3.jpg%22&amp;type&#x3D;nf464_260\" alt=\"\" width=\"232\" height=\"130\" onerror=\"this.outerHTML=\\'<span class=\\\\\\'pm_noimg\\\\\\'><span class=\\\\\\'noimg_text\\\\\\'>이미지 준비중</span></span>\\'\">\\n\\n\\t\\t\\t\\t\\t\\t\\t\\n\\t\\t\\t\\t\\t\\t\\t\\t<span class=\"thumb_bd\"></span>\\n\\t\\t\\t\\t\\t\\t\\t\\t\\n\\t\\t\\t\\t\\t\\t\\t\\n\\t\\t\\t\\t\\t\\t</div>\\n\\t\\t\\t\\t\\t\\t<div class=\"media_info\">\\n\\t\\t\\t\\t\\t\\t\\t<div class=\"info_box\">\\n\\t\\t\\t\\t\\t\\t\\t\\t\\n\\t\\t\\t\\t\\t\\t\\t\\t<strong class=\"title elss\">뒷골목에서 왕궁으로, 평민에서 기사로!</strong>\\n\\t\\t\\t\\t\\t\\t\\t\\t<div class=\"source_wrap\">\\n\\t\\t\\t\\t\\t\\t\\t\\t\\t<span class=\"date\">4주일 전</span>\\n\\t\\t\\t\\t\\t\\t\\t\\t\\t<span class=\"source\">\\n                                    \\n\\t\\t\\t\\t\\t\\t\\t\\t\\t\\t<span class=\"source_inner\">와이번 길들이기</span>\\n                                </span>\\n\\t\\t\\t\\t\\t\\t\\t\\t</div>\\n\\t\\t\\t\\t\\t\\t\\t</div>\\n\\t\\t\\t\\t\\t\\t</div>\\n\\t\\t\\t\\t\\t</a>\\n\\t\\t\\t\\t\\n\\t\\t\\t\\n\\t\\t</div>\\n\\t</div>\\n</div>\\n\\n<div class=\"group_theme\" data-block-id=\"\" data-block-code=\"PC-THEME-BBOOM-IMG-4\" data-block-type=\"MATERIALS\" data-template-code=\"3X3\"\\n\\n\\t data-page=\"3\"\\n\\t style=\"display:none\">\\n\\n\\t<div class=\"media_view_wrap type_column\">\\n\\t\\t<div class=\"media_view\">\\n\\t\\t\\t\\n\\t\\t\\t\\t\\n\\t\\t\\t\\t\\t<a href=\"https://series.naver.com/novel/detail.series?productNo&#x3D;8275807\" class=\"media_area\" data-da-position=\"true\" data-gdid=\"CAS_b612bebb-ac22-11ec-bf90-4d0fba1395f6\" data-clk=\"tcc_web.list5cont1\" target=\"_blank\">\\n\\t\\t\\t\\t\\t\\t<div class=\"media_thumb\">\\n\\t\\t\\t\\t\\t\\t\\t<img  data-src=\"https://s.pstatic.net/dthumb.phinf/?src&#x3D;%22https%3A%2F%2Fs.pstatic.net%2Fstatic%2Fwww%2Fmobile%2Fedit%2F20220325_1095%2Fupload_1648202933791U02Ku.jpg%22&amp;type&#x3D;nf464_260\" alt=\"\" width=\"232\" height=\"130\" onerror=\"this.outerHTML=\\'<span class=\\\\\\'pm_noimg\\\\\\'><span class=\\\\\\'noimg_text\\\\\\'>이미지 준비중</span></span>\\'\">\\n\\n\\t\\t\\t\\t\\t\\t\\t\\n\\t\\t\\t\\t\\t\\t\\t\\t<span class=\"thumb_bd\"></span>\\n\\t\\t\\t\\t\\t\\t\\t\\t\\n\\t\\t\\t\\t\\t\\t\\t\\n\\t\\t\\t\\t\\t\\t</div>\\n\\t\\t\\t\\t\\t\\t<div class=\"media_info\">\\n\\t\\t\\t\\t\\t\\t\\t<div class=\"info_box\">\\n\\t\\t\\t\\t\\t\\t\\t\\t\\n\\t\\t\\t\\t\\t\\t\\t\\t<strong class=\"title elss\">날 사랑하는 그녀가, 어딘가 변했다</strong>\\n\\t\\t\\t\\t\\t\\t\\t\\t<div class=\"source_wrap\">\\n\\t\\t\\t\\t\\t\\t\\t\\t\\t<span class=\"date\">4주일 전</span>\\n\\t\\t\\t\\t\\t\\t\\t\\t\\t<span class=\"source\">\\n                                    \\n\\t\\t\\t\\t\\t\\t\\t\\t\\t\\t<span class=\"source_inner\">내게만 불친절한 당신에게</span>\\n                                </span>\\n\\t\\t\\t\\t\\t\\t\\t\\t</div>\\n\\t\\t\\t\\t\\t\\t\\t</div>\\n\\t\\t\\t\\t\\t\\t</div>\\n\\t\\t\\t\\t\\t</a>\\n\\t\\t\\t\\t\\n\\t\\t\\t\\n\\t\\t\\t\\t\\n\\t\\t\\t\\t\\t<a href=\"https://novel.naver.com/webnovel/detail?novelId&#x3D;987035&amp;volumeNo&#x3D;77\" class=\"media_area\" data-da-position=\"true\" data-gdid=\"CAS_e37d2832-ab56-11ec-864d-f1d3aa41c10d\" data-clk=\"tcc_web.list5cont2\" target=\"_blank\">\\n\\t\\t\\t\\t\\t\\t<div class=\"media_thumb\">\\n\\t\\t\\t\\t\\t\\t\\t<img  data-src=\"https://s.pstatic.net/dthumb.phinf/?src&#x3D;%22https%3A%2F%2Fs.pstatic.net%2Fstatic%2Fwww%2Fmobile%2Fedit%2F20220324_1095%2Fupload_1648115607296ixUDH.jpg%22&amp;type&#x3D;nf464_260\" alt=\"\" width=\"232\" height=\"130\" onerror=\"this.outerHTML=\\'<span class=\\\\\\'pm_noimg\\\\\\'><span class=\\\\\\'noimg_text\\\\\\'>이미지 준비중</span></span>\\'\">\\n\\n\\t\\t\\t\\t\\t\\t\\t\\n\\t\\t\\t\\t\\t\\t\\t\\t<span class=\"thumb_bd\"></span>\\n\\t\\t\\t\\t\\t\\t\\t\\t\\n\\t\\t\\t\\t\\t\\t\\t\\n\\t\\t\\t\\t\\t\\t</div>\\n\\t\\t\\t\\t\\t\\t<div class=\"media_info\">\\n\\t\\t\\t\\t\\t\\t\\t<div class=\"info_box\">\\n\\t\\t\\t\\t\\t\\t\\t\\t\\n\\t\\t\\t\\t\\t\\t\\t\\t<strong class=\"title elss\">영루의 주인이 이렇게 멋있어도 되는 건가요..❤️</strong>\\n\\t\\t\\t\\t\\t\\t\\t\\t<div class=\"source_wrap\">\\n\\t\\t\\t\\t\\t\\t\\t\\t\\t<span class=\"date\">1개월 전</span>\\n\\t\\t\\t\\t\\t\\t\\t\\t\\t<span class=\"source\">\\n                                    \\n\\t\\t\\t\\t\\t\\t\\t\\t\\t\\t<span class=\"source_inner\">더 캐슬</span>\\n                                </span>\\n\\t\\t\\t\\t\\t\\t\\t\\t</div>\\n\\t\\t\\t\\t\\t\\t\\t</div>\\n\\t\\t\\t\\t\\t\\t</div>\\n\\t\\t\\t\\t\\t</a>\\n\\t\\t\\t\\t\\n\\t\\t\\t\\n\\t\\t\\t\\t\\n\\t\\t\\t\\t\\t<a href=\"https://novel.naver.com/webnovel/detail?novelId&#x3D;1016931&amp;volumeNo&#x3D;42\" class=\"media_area\" data-da-position=\"true\" data-gdid=\"CAS_e37d2831-ab56-11ec-864d-efdf532439a4\" data-clk=\"tcc_web.list5cont3\" target=\"_blank\">\\n\\t\\t\\t\\t\\t\\t<div class=\"media_thumb\">\\n\\t\\t\\t\\t\\t\\t\\t<img  data-src=\"https://s.pstatic.net/dthumb.phinf/?src&#x3D;%22https%3A%2F%2Fs.pstatic.net%2Fstatic%2Fwww%2Fmobile%2Fedit%2F20220324_1095%2Fupload_1648115196663aCiwq.jpg%22&amp;type&#x3D;nf464_260\" alt=\"\" width=\"232\" height=\"130\" onerror=\"this.outerHTML=\\'<span class=\\\\\\'pm_noimg\\\\\\'><span class=\\\\\\'noimg_text\\\\\\'>이미지 준비중</span></span>\\'\">\\n\\n\\t\\t\\t\\t\\t\\t\\t\\n\\t\\t\\t\\t\\t\\t\\t\\t<span class=\"thumb_bd\"></span>\\n\\t\\t\\t\\t\\t\\t\\t\\t\\n\\t\\t\\t\\t\\t\\t\\t\\n\\t\\t\\t\\t\\t\\t</div>\\n\\t\\t\\t\\t\\t\\t<div class=\"media_info\">\\n\\t\\t\\t\\t\\t\\t\\t<div class=\"info_box\">\\n\\t\\t\\t\\t\\t\\t\\t\\t\\n\\t\\t\\t\\t\\t\\t\\t\\t<strong class=\"title elss\">오늘은 술 안 마시려고 했는데, 위험해서</strong>\\n\\t\\t\\t\\t\\t\\t\\t\\t<div class=\"source_wrap\">\\n\\t\\t\\t\\t\\t\\t\\t\\t\\t<span class=\"date\">1개월 전</span>\\n\\t\\t\\t\\t\\t\\t\\t\\t\\t<span class=\"source\">\\n                                    \\n\\t\\t\\t\\t\\t\\t\\t\\t\\t\\t<span class=\"source_inner\">비서 일탈</span>\\n                                </span>\\n\\t\\t\\t\\t\\t\\t\\t\\t</div>\\n\\t\\t\\t\\t\\t\\t\\t</div>\\n\\t\\t\\t\\t\\t\\t</div>\\n\\t\\t\\t\\t\\t</a>\\n\\t\\t\\t\\t\\n\\t\\t\\t\\n\\t\\t\\t\\t\\n\\t\\t\\t\\t\\t<a href=\"https://comic.naver.com/webtoon/detail.nhn?titleId&#x3D;641253\" class=\"media_area\" data-da-position=\"true\" data-gdid=\"CAS_a66da59f-ab5b-11ec-bf90-07dd300a31ae\" data-clk=\"tcc_web.list5cont4\" target=\"_blank\">\\n\\t\\t\\t\\t\\t\\t<div class=\"media_thumb\">\\n\\t\\t\\t\\t\\t\\t\\t<img  data-src=\"https://s.pstatic.net/dthumb.phinf/?src&#x3D;%22https%3A%2F%2Fs.pstatic.net%2Fstatic%2Fwww%2Fmobile%2Fedit%2F20220323_1095%2Fupload_164801643561546zF1.jpg%22&amp;type&#x3D;nf464_260\" alt=\"\" width=\"232\" height=\"130\" onerror=\"this.outerHTML=\\'<span class=\\\\\\'pm_noimg\\\\\\'><span class=\\\\\\'noimg_text\\\\\\'>이미지 준비중</span></span>\\'\">\\n\\n\\t\\t\\t\\t\\t\\t\\t\\n\\t\\t\\t\\t\\t\\t\\t\\t<span class=\"thumb_bd\"></span>\\n\\t\\t\\t\\t\\t\\t\\t\\t\\n\\t\\t\\t\\t\\t\\t\\t\\n\\t\\t\\t\\t\\t\\t</div>\\n\\t\\t\\t\\t\\t\\t<div class=\"media_info\">\\n\\t\\t\\t\\t\\t\\t\\t<div class=\"info_box\">\\n\\t\\t\\t\\t\\t\\t\\t\\t\\n\\t\\t\\t\\t\\t\\t\\t\\t<strong class=\"title elss\">분명 기명이는 죽었다고 했는데?</strong>\\n\\t\\t\\t\\t\\t\\t\\t\\t<div class=\"source_wrap\">\\n\\t\\t\\t\\t\\t\\t\\t\\t\\t<span class=\"date\">4주일 전</span>\\n\\t\\t\\t\\t\\t\\t\\t\\t\\t<span class=\"source\">\\n                                    \\n\\t\\t\\t\\t\\t\\t\\t\\t\\t\\t<span class=\"source_inner\">외모지상주의</span>\\n                                </span>\\n\\t\\t\\t\\t\\t\\t\\t\\t</div>\\n\\t\\t\\t\\t\\t\\t\\t</div>\\n\\t\\t\\t\\t\\t\\t</div>\\n\\t\\t\\t\\t\\t</a>\\n\\t\\t\\t\\t\\n\\t\\t\\t\\n\\t\\t\\t\\t\\n\\t\\t\\t\\t\\t<a href=\"https://comic.naver.com/webtoon/detail.nhn?titleId&#x3D;792452&amp;no&#x3D;1\" class=\"media_area\" data-da-position=\"true\" data-gdid=\"CAS_a66da59e-ab5b-11ec-bf90-5397cdb3a979\" data-clk=\"tcc_web.list5cont5\" target=\"_blank\">\\n\\t\\t\\t\\t\\t\\t<div class=\"media_thumb\">\\n\\t\\t\\t\\t\\t\\t\\t<img  data-src=\"https://s.pstatic.net/dthumb.phinf/?src&#x3D;%22https%3A%2F%2Fs.pstatic.net%2Fstatic%2Fwww%2Fmobile%2Fedit%2F20220323_1095%2Fupload_1648016253865WXlIo.jpg%22&amp;type&#x3D;nf464_260\" alt=\"\" width=\"232\" height=\"130\" onerror=\"this.outerHTML=\\'<span class=\\\\\\'pm_noimg\\\\\\'><span class=\\\\\\'noimg_text\\\\\\'>이미지 준비중</span></span>\\'\">\\n\\n\\t\\t\\t\\t\\t\\t\\t\\n\\t\\t\\t\\t\\t\\t\\t\\t<span class=\"thumb_bd\"></span>\\n\\t\\t\\t\\t\\t\\t\\t\\t\\n\\t\\t\\t\\t\\t\\t\\t\\n\\t\\t\\t\\t\\t\\t</div>\\n\\t\\t\\t\\t\\t\\t<div class=\"media_info\">\\n\\t\\t\\t\\t\\t\\t\\t<div class=\"info_box\">\\n\\t\\t\\t\\t\\t\\t\\t\\t\\n\\t\\t\\t\\t\\t\\t\\t\\t<strong class=\"title elss\">모텔 방에서 하루 사이에 벌어진 일</strong>\\n\\t\\t\\t\\t\\t\\t\\t\\t<div class=\"source_wrap\">\\n\\t\\t\\t\\t\\t\\t\\t\\t\\t<span class=\"date\">4주일 전</span>\\n\\t\\t\\t\\t\\t\\t\\t\\t\\t<span class=\"source\">\\n                                    \\n\\t\\t\\t\\t\\t\\t\\t\\t\\t\\t<span class=\"source_inner\">모텔 304호</span>\\n                                </span>\\n\\t\\t\\t\\t\\t\\t\\t\\t</div>\\n\\t\\t\\t\\t\\t\\t\\t</div>\\n\\t\\t\\t\\t\\t\\t</div>\\n\\t\\t\\t\\t\\t</a>\\n\\t\\t\\t\\t\\n\\t\\t\\t\\n\\t\\t\\t\\t\\n\\t\\t\\t\\t\\t<a href=\"https://series.naver.com/comic/detail.series?productNo&#x3D;3640815\" class=\"media_area\" data-da-position=\"true\" data-gdid=\"CAS_39a4cff2-ab48-11ec-bf90-cb130e4157b0\" data-clk=\"tcc_web.list5cont6\" target=\"_blank\">\\n\\t\\t\\t\\t\\t\\t<div class=\"media_thumb\">\\n\\t\\t\\t\\t\\t\\t\\t<img  data-src=\"https://s.pstatic.net/dthumb.phinf/?src&#x3D;%22https%3A%2F%2Fs.pstatic.net%2Fstatic%2Fwww%2Fmobile%2Fedit%2F20220324_1095%2Fupload_1648109060514NzIzx.jpg%22&amp;type&#x3D;nf464_260\" alt=\"\" width=\"232\" height=\"130\" onerror=\"this.outerHTML=\\'<span class=\\\\\\'pm_noimg\\\\\\'><span class=\\\\\\'noimg_text\\\\\\'>이미지 준비중</span></span>\\'\">\\n\\n\\t\\t\\t\\t\\t\\t\\t\\n\\t\\t\\t\\t\\t\\t\\t\\t<span class=\"thumb_bd\"></span>\\n\\t\\t\\t\\t\\t\\t\\t\\t\\n\\t\\t\\t\\t\\t\\t\\t\\n\\t\\t\\t\\t\\t\\t</div>\\n\\t\\t\\t\\t\\t\\t<div class=\"media_info\">\\n\\t\\t\\t\\t\\t\\t\\t<div class=\"info_box\">\\n\\t\\t\\t\\t\\t\\t\\t\\t\\n\\t\\t\\t\\t\\t\\t\\t\\t<strong class=\"title elss\">새로운 세계가 이제 시작된다</strong>\\n\\t\\t\\t\\t\\t\\t\\t\\t<div class=\"source_wrap\">\\n\\t\\t\\t\\t\\t\\t\\t\\t\\t<span class=\"date\">4주일 전</span>\\n\\t\\t\\t\\t\\t\\t\\t\\t\\t<span class=\"source\">\\n                                    \\n\\t\\t\\t\\t\\t\\t\\t\\t\\t\\t<span class=\"source_inner\">블러드레인2: 천외천</span>\\n                                </span>\\n\\t\\t\\t\\t\\t\\t\\t\\t</div>\\n\\t\\t\\t\\t\\t\\t\\t</div>\\n\\t\\t\\t\\t\\t\\t</div>\\n\\t\\t\\t\\t\\t</a>\\n\\t\\t\\t\\t\\n\\t\\t\\t\\n\\t\\t\\t\\t\\n\\t\\t\\t\\t\\t<a href=\"https://comic.naver.com/webtoon/detail.nhn?titleId&#x3D;740487\" class=\"media_area\" data-da-position=\"true\" data-gdid=\"CAS_cd08fd60-aa70-11ec-a910-7d04f012b18b\" data-clk=\"tcc_web.list5cont7\" target=\"_blank\">\\n\\t\\t\\t\\t\\t\\t<div class=\"media_thumb\">\\n\\t\\t\\t\\t\\t\\t\\t<img  data-src=\"https://s.pstatic.net/dthumb.phinf/?src&#x3D;%22https%3A%2F%2Fs.pstatic.net%2Fstatic%2Fwww%2Fmobile%2Fedit%2F20220323_1095%2Fupload_1648015324572GsXx4.jpg%22&amp;type&#x3D;nf464_260\" alt=\"\" width=\"232\" height=\"130\" onerror=\"this.outerHTML=\\'<span class=\\\\\\'pm_noimg\\\\\\'><span class=\\\\\\'noimg_text\\\\\\'>이미지 준비중</span></span>\\'\">\\n\\n\\t\\t\\t\\t\\t\\t\\t\\n\\t\\t\\t\\t\\t\\t\\t\\t<span class=\"thumb_bd\"></span>\\n\\t\\t\\t\\t\\t\\t\\t\\t\\n\\t\\t\\t\\t\\t\\t\\t\\n\\t\\t\\t\\t\\t\\t</div>\\n\\t\\t\\t\\t\\t\\t<div class=\"media_info\">\\n\\t\\t\\t\\t\\t\\t\\t<div class=\"info_box\">\\n\\t\\t\\t\\t\\t\\t\\t\\t\\n\\t\\t\\t\\t\\t\\t\\t\\t<strong class=\"title elss\">지금 이 상황 꿈은 아니겠지..?</strong>\\n\\t\\t\\t\\t\\t\\t\\t\\t<div class=\"source_wrap\">\\n\\t\\t\\t\\t\\t\\t\\t\\t\\t<span class=\"date\">1개월 전</span>\\n\\t\\t\\t\\t\\t\\t\\t\\t\\t<span class=\"source\">\\n                                    \\n\\t\\t\\t\\t\\t\\t\\t\\t\\t\\t<span class=\"source_inner\">신비</span>\\n                                </span>\\n\\t\\t\\t\\t\\t\\t\\t\\t</div>\\n\\t\\t\\t\\t\\t\\t\\t</div>\\n\\t\\t\\t\\t\\t\\t</div>\\n\\t\\t\\t\\t\\t</a>\\n\\t\\t\\t\\t\\n\\t\\t\\t\\n\\t\\t\\t\\t\\n\\t\\t\\t\\t\\t<a href=\"https://series.naver.com/comic/detail.series?productNo&#x3D;3231078\" class=\"media_area\" data-da-position=\"true\" data-gdid=\"CAS_21f37c2e-ab49-11ec-bf90-39b2d9b42938\" data-clk=\"tcc_web.list5cont8\" target=\"_blank\">\\n\\t\\t\\t\\t\\t\\t<div class=\"media_thumb\">\\n\\t\\t\\t\\t\\t\\t\\t<img  data-src=\"https://s.pstatic.net/dthumb.phinf/?src&#x3D;%22https%3A%2F%2Fs.pstatic.net%2Fstatic%2Fwww%2Fmobile%2Fedit%2F20220324_1095%2Fupload_1648109770920tEXIp.jpg%22&amp;type&#x3D;nf464_260\" alt=\"\" width=\"232\" height=\"130\" onerror=\"this.outerHTML=\\'<span class=\\\\\\'pm_noimg\\\\\\'><span class=\\\\\\'noimg_text\\\\\\'>이미지 준비중</span></span>\\'\">\\n\\n\\t\\t\\t\\t\\t\\t\\t\\n\\t\\t\\t\\t\\t\\t\\t\\t<span class=\"thumb_bd\"></span>\\n\\t\\t\\t\\t\\t\\t\\t\\t\\n\\t\\t\\t\\t\\t\\t\\t\\n\\t\\t\\t\\t\\t\\t</div>\\n\\t\\t\\t\\t\\t\\t<div class=\"media_info\">\\n\\t\\t\\t\\t\\t\\t\\t<div class=\"info_box\">\\n\\t\\t\\t\\t\\t\\t\\t\\t\\n\\t\\t\\t\\t\\t\\t\\t\\t<strong class=\"title elss\">사랑 같은 건 필요 없어!</strong>\\n\\t\\t\\t\\t\\t\\t\\t\\t<div class=\"source_wrap\">\\n\\t\\t\\t\\t\\t\\t\\t\\t\\t<span class=\"date\">1개월 전</span>\\n\\t\\t\\t\\t\\t\\t\\t\\t\\t<span class=\"source\">\\n                                    \\n\\t\\t\\t\\t\\t\\t\\t\\t\\t\\t<span class=\"source_inner\">너는 귀여운 여자아이</span>\\n                                </span>\\n\\t\\t\\t\\t\\t\\t\\t\\t</div>\\n\\t\\t\\t\\t\\t\\t\\t</div>\\n\\t\\t\\t\\t\\t\\t</div>\\n\\t\\t\\t\\t\\t</a>\\n\\t\\t\\t\\t\\n\\t\\t\\t\\n\\t\\t\\t\\t\\n\\t\\t\\t\\t\\t<a href=\"https://comic.naver.com/webtoon/detail.nhn?titleId&#x3D;792379&amp;no&#x3D;1\" class=\"media_area\" data-da-position=\"true\" data-gdid=\"CAS_cd08fd5f-aa70-11ec-a910-11119a51fd0a\" data-clk=\"tcc_web.list5cont9\" target=\"_blank\">\\n\\t\\t\\t\\t\\t\\t<div class=\"media_thumb\">\\n\\t\\t\\t\\t\\t\\t\\t<img  data-src=\"https://s.pstatic.net/dthumb.phinf/?src&#x3D;%22https%3A%2F%2Fs.pstatic.net%2Fstatic%2Fwww%2Fmobile%2Fedit%2F20220323_1095%2Fupload_1648015271307sdtll.jpg%22&amp;type&#x3D;nf464_260\" alt=\"\" width=\"232\" height=\"130\" onerror=\"this.outerHTML=\\'<span class=\\\\\\'pm_noimg\\\\\\'><span class=\\\\\\'noimg_text\\\\\\'>이미지 준비중</span></span>\\'\">\\n\\n\\t\\t\\t\\t\\t\\t\\t\\n\\t\\t\\t\\t\\t\\t\\t\\t<span class=\"thumb_bd\"></span>\\n\\t\\t\\t\\t\\t\\t\\t\\t\\n\\t\\t\\t\\t\\t\\t\\t\\n\\t\\t\\t\\t\\t\\t</div>\\n\\t\\t\\t\\t\\t\\t<div class=\"media_info\">\\n\\t\\t\\t\\t\\t\\t\\t<div class=\"info_box\">\\n\\t\\t\\t\\t\\t\\t\\t\\t\\n\\t\\t\\t\\t\\t\\t\\t\\t<strong class=\"title elss\">낮에는 도도한 상무, 밤에는 바보 곰?!</strong>\\n\\t\\t\\t\\t\\t\\t\\t\\t<div class=\"source_wrap\">\\n\\t\\t\\t\\t\\t\\t\\t\\t\\t<span class=\"date\">1개월 전</span>\\n\\t\\t\\t\\t\\t\\t\\t\\t\\t<span class=\"source\">\\n                                    \\n\\t\\t\\t\\t\\t\\t\\t\\t\\t\\t<span class=\"source_inner\">베어케어</span>\\n                                </span>\\n\\t\\t\\t\\t\\t\\t\\t\\t</div>\\n\\t\\t\\t\\t\\t\\t\\t</div>\\n\\t\\t\\t\\t\\t\\t</div>\\n\\t\\t\\t\\t\\t</a>\\n\\t\\t\\t\\t\\n\\t\\t\\t\\n\\t\\t</div>\\n\\t</div>\\n</div>\\n\\n<div class=\"group_theme\" data-block-id=\"\" data-block-code=\"PC-THEME-BBOOM-IMG-5\" data-block-type=\"MATERIALS\" data-template-code=\"3X3\"\\n\\n\\t data-page=\"3\"\\n\\t style=\"display:none\">\\n\\n\\t<div class=\"media_view_wrap type_column\">\\n\\t\\t<div class=\"media_view\">\\n\\t\\t\\t\\n\\t\\t\\t\\t\\n\\t\\t\\t\\t\\t<a href=\"https://novel.naver.com/webnovel/detail?novelId&#x3D;1012543&amp;volumeNo&#x3D;50\" class=\"media_area\" data-da-position=\"true\" data-gdid=\"CAS_27356bae-aa84-11ec-87cb-a5cb27b5ce26\" data-clk=\"tcc_web.list6cont1\" target=\"_blank\">\\n\\t\\t\\t\\t\\t\\t<div class=\"media_thumb\">\\n\\t\\t\\t\\t\\t\\t\\t<img  data-src=\"https://s.pstatic.net/dthumb.phinf/?src&#x3D;%22https%3A%2F%2Fs.pstatic.net%2Fstatic%2Fwww%2Fmobile%2Fedit%2F20220323_1095%2Fupload_1648025551774l78I4.jpg%22&amp;type&#x3D;nf464_260\" alt=\"\" width=\"232\" height=\"130\" onerror=\"this.outerHTML=\\'<span class=\\\\\\'pm_noimg\\\\\\'><span class=\\\\\\'noimg_text\\\\\\'>이미지 준비중</span></span>\\'\">\\n\\n\\t\\t\\t\\t\\t\\t\\t\\n\\t\\t\\t\\t\\t\\t\\t\\t<span class=\"thumb_bd\"></span>\\n\\t\\t\\t\\t\\t\\t\\t\\t\\n\\t\\t\\t\\t\\t\\t\\t\\n\\t\\t\\t\\t\\t\\t</div>\\n\\t\\t\\t\\t\\t\\t<div class=\"media_info\">\\n\\t\\t\\t\\t\\t\\t\\t<div class=\"info_box\">\\n\\t\\t\\t\\t\\t\\t\\t\\t\\n\\t\\t\\t\\t\\t\\t\\t\\t<strong class=\"title elss\">또 도망치다니, 다음에는 잡아 먹힐 줄 알아</strong>\\n\\t\\t\\t\\t\\t\\t\\t\\t<div class=\"source_wrap\">\\n\\t\\t\\t\\t\\t\\t\\t\\t\\t<span class=\"date\">1개월 전</span>\\n\\t\\t\\t\\t\\t\\t\\t\\t\\t<span class=\"source\">\\n                                    \\n\\t\\t\\t\\t\\t\\t\\t\\t\\t\\t<span class=\"source_inner\">미친 사령관이 집착합니다</span>\\n                                </span>\\n\\t\\t\\t\\t\\t\\t\\t\\t</div>\\n\\t\\t\\t\\t\\t\\t\\t</div>\\n\\t\\t\\t\\t\\t\\t</div>\\n\\t\\t\\t\\t\\t</a>\\n\\t\\t\\t\\t\\n\\t\\t\\t\\n\\t\\t\\t\\t\\n\\t\\t\\t\\t\\t<a href=\"https://novel.naver.com/webnovel/detail?novelId&#x3D;1002527&amp;volumeNo&#x3D;59\" class=\"media_area\" data-da-position=\"true\" data-gdid=\"CAS_27356bad-aa84-11ec-87cb-bb80772c0452\" data-clk=\"tcc_web.list6cont2\" target=\"_blank\">\\n\\t\\t\\t\\t\\t\\t<div class=\"media_thumb\">\\n\\t\\t\\t\\t\\t\\t\\t<img  data-src=\"https://s.pstatic.net/dthumb.phinf/?src&#x3D;%22https%3A%2F%2Fs.pstatic.net%2Fstatic%2Fwww%2Fmobile%2Fedit%2F20220323_1095%2Fupload_1648025410498P69MQ.jpg%22&amp;type&#x3D;nf464_260\" alt=\"\" width=\"232\" height=\"130\" onerror=\"this.outerHTML=\\'<span class=\\\\\\'pm_noimg\\\\\\'><span class=\\\\\\'noimg_text\\\\\\'>이미지 준비중</span></span>\\'\">\\n\\n\\t\\t\\t\\t\\t\\t\\t\\n\\t\\t\\t\\t\\t\\t\\t\\t<span class=\"thumb_bd\"></span>\\n\\t\\t\\t\\t\\t\\t\\t\\t\\n\\t\\t\\t\\t\\t\\t\\t\\n\\t\\t\\t\\t\\t\\t</div>\\n\\t\\t\\t\\t\\t\\t<div class=\"media_info\">\\n\\t\\t\\t\\t\\t\\t\\t<div class=\"info_box\">\\n\\t\\t\\t\\t\\t\\t\\t\\t\\n\\t\\t\\t\\t\\t\\t\\t\\t<strong class=\"title elss\">눈물을 머금고 이별을 준비하는 여주ㅠㅠ</strong>\\n\\t\\t\\t\\t\\t\\t\\t\\t<div class=\"source_wrap\">\\n\\t\\t\\t\\t\\t\\t\\t\\t\\t<span class=\"date\">1개월 전</span>\\n\\t\\t\\t\\t\\t\\t\\t\\t\\t<span class=\"source\">\\n                                    \\n\\t\\t\\t\\t\\t\\t\\t\\t\\t\\t<span class=\"source_inner\">하녀와의 계약결혼</span>\\n                                </span>\\n\\t\\t\\t\\t\\t\\t\\t\\t</div>\\n\\t\\t\\t\\t\\t\\t\\t</div>\\n\\t\\t\\t\\t\\t\\t</div>\\n\\t\\t\\t\\t\\t</a>\\n\\t\\t\\t\\t\\n\\t\\t\\t\\n\\t\\t\\t\\t\\n\\t\\t\\t\\t\\t<a href=\"https://series.naver.com/novel/detail.series?productNo&#x3D;8285149\" class=\"media_area\" data-da-position=\"true\" data-gdid=\"CAS_8b5b89a2-aa8f-11ec-a910-f99440f8d674\" data-clk=\"tcc_web.list6cont3\" target=\"_blank\">\\n\\t\\t\\t\\t\\t\\t<div class=\"media_thumb\">\\n\\t\\t\\t\\t\\t\\t\\t<img  data-src=\"https://s.pstatic.net/dthumb.phinf/?src&#x3D;%22https%3A%2F%2Fs.pstatic.net%2Fstatic%2Fwww%2Fmobile%2Fedit%2F20220323_1095%2Fupload_1648029584552aSL3Z.jpg%22&amp;type&#x3D;nf464_260\" alt=\"\" width=\"232\" height=\"130\" onerror=\"this.outerHTML=\\'<span class=\\\\\\'pm_noimg\\\\\\'><span class=\\\\\\'noimg_text\\\\\\'>이미지 준비중</span></span>\\'\">\\n\\n\\t\\t\\t\\t\\t\\t\\t\\n\\t\\t\\t\\t\\t\\t\\t\\t<span class=\"thumb_bd\"></span>\\n\\t\\t\\t\\t\\t\\t\\t\\t\\n\\t\\t\\t\\t\\t\\t\\t\\n\\t\\t\\t\\t\\t\\t</div>\\n\\t\\t\\t\\t\\t\\t<div class=\"media_info\">\\n\\t\\t\\t\\t\\t\\t\\t<div class=\"info_box\">\\n\\t\\t\\t\\t\\t\\t\\t\\t\\n\\t\\t\\t\\t\\t\\t\\t\\t<strong class=\"title elss\">네가 할 수 있는 건 어디 한번 다 해봐</strong>\\n\\t\\t\\t\\t\\t\\t\\t\\t<div class=\"source_wrap\">\\n\\t\\t\\t\\t\\t\\t\\t\\t\\t<span class=\"date\">1개월 전</span>\\n\\t\\t\\t\\t\\t\\t\\t\\t\\t<span class=\"source\">\\n                                    \\n\\t\\t\\t\\t\\t\\t\\t\\t\\t\\t<span class=\"source_inner\">너를 가져야겠어</span>\\n                                </span>\\n\\t\\t\\t\\t\\t\\t\\t\\t</div>\\n\\t\\t\\t\\t\\t\\t\\t</div>\\n\\t\\t\\t\\t\\t\\t</div>\\n\\t\\t\\t\\t\\t</a>\\n\\t\\t\\t\\t\\n\\t\\t\\t\\n\\t\\t\\t\\t\\n\\t\\t\\t\\t\\t<a href=\"https://comic.naver.com/webtoon/detail.nhn?titleId&#x3D;791892&amp;no&#x3D;1\" class=\"media_area\" data-da-position=\"true\" data-gdid=\"CAS_6cf4808e-aa6e-11ec-a910-c566701d3c3a\" data-clk=\"tcc_web.list6cont4\" target=\"_blank\">\\n\\t\\t\\t\\t\\t\\t<div class=\"media_thumb\">\\n\\t\\t\\t\\t\\t\\t\\t<img  data-src=\"https://s.pstatic.net/dthumb.phinf/?src&#x3D;%22https%3A%2F%2Fs.pstatic.net%2Fstatic%2Fwww%2Fmobile%2Fedit%2F20220322_1095%2Fupload_1647956251338wV13w.jpg%22&amp;type&#x3D;nf464_260\" alt=\"\" width=\"232\" height=\"130\" onerror=\"this.outerHTML=\\'<span class=\\\\\\'pm_noimg\\\\\\'><span class=\\\\\\'noimg_text\\\\\\'>이미지 준비중</span></span>\\'\">\\n\\n\\t\\t\\t\\t\\t\\t\\t\\n\\t\\t\\t\\t\\t\\t\\t\\t<span class=\"thumb_bd\"></span>\\n\\t\\t\\t\\t\\t\\t\\t\\t\\n\\t\\t\\t\\t\\t\\t\\t\\n\\t\\t\\t\\t\\t\\t</div>\\n\\t\\t\\t\\t\\t\\t<div class=\"media_info\">\\n\\t\\t\\t\\t\\t\\t\\t<div class=\"info_box\">\\n\\t\\t\\t\\t\\t\\t\\t\\t\\n\\t\\t\\t\\t\\t\\t\\t\\t<strong class=\"title elss\">재난에 맞서는 능력자들의 이야기</strong>\\n\\t\\t\\t\\t\\t\\t\\t\\t<div class=\"source_wrap\">\\n\\t\\t\\t\\t\\t\\t\\t\\t\\t<span class=\"date\">1개월 전</span>\\n\\t\\t\\t\\t\\t\\t\\t\\t\\t<span class=\"source\">\\n                                    \\n\\t\\t\\t\\t\\t\\t\\t\\t\\t\\t<span class=\"source_inner\">멸종위기종인간</span>\\n                                </span>\\n\\t\\t\\t\\t\\t\\t\\t\\t</div>\\n\\t\\t\\t\\t\\t\\t\\t</div>\\n\\t\\t\\t\\t\\t\\t</div>\\n\\t\\t\\t\\t\\t</a>\\n\\t\\t\\t\\t\\n\\t\\t\\t\\n\\t\\t\\t\\t\\n\\t\\t\\t\\t\\t<a href=\"https://series.naver.com/novel/detail.series?productNo&#x3D;8274532\" class=\"media_area\" data-da-position=\"true\" data-gdid=\"CAS_8b5b89a3-aa8f-11ec-a910-65f507acb2c7\" data-clk=\"tcc_web.list6cont5\" target=\"_blank\">\\n\\t\\t\\t\\t\\t\\t<div class=\"media_thumb\">\\n\\t\\t\\t\\t\\t\\t\\t<img  data-src=\"https://s.pstatic.net/dthumb.phinf/?src&#x3D;%22https%3A%2F%2Fs.pstatic.net%2Fstatic%2Fwww%2Fmobile%2Fedit%2F20220323_1095%2Fupload_1648030009124Mva5s.jpg%22&amp;type&#x3D;nf464_260\" alt=\"\" width=\"232\" height=\"130\" onerror=\"this.outerHTML=\\'<span class=\\\\\\'pm_noimg\\\\\\'><span class=\\\\\\'noimg_text\\\\\\'>이미지 준비중</span></span>\\'\">\\n\\n\\t\\t\\t\\t\\t\\t\\t\\n\\t\\t\\t\\t\\t\\t\\t\\t<span class=\"thumb_bd\"></span>\\n\\t\\t\\t\\t\\t\\t\\t\\t\\n\\t\\t\\t\\t\\t\\t\\t\\n\\t\\t\\t\\t\\t\\t</div>\\n\\t\\t\\t\\t\\t\\t<div class=\"media_info\">\\n\\t\\t\\t\\t\\t\\t\\t<div class=\"info_box\">\\n\\t\\t\\t\\t\\t\\t\\t\\t\\n\\t\\t\\t\\t\\t\\t\\t\\t<strong class=\"title elss\">날 두고 다른 남자를 만나려 했다?</strong>\\n\\t\\t\\t\\t\\t\\t\\t\\t<div class=\"source_wrap\">\\n\\t\\t\\t\\t\\t\\t\\t\\t\\t<span class=\"date\">1개월 전</span>\\n\\t\\t\\t\\t\\t\\t\\t\\t\\t<span class=\"source\">\\n                                    \\n\\t\\t\\t\\t\\t\\t\\t\\t\\t\\t<span class=\"source_inner\">저주를 풀 방법은 당신과의 접촉뿐</span>\\n                                </span>\\n\\t\\t\\t\\t\\t\\t\\t\\t</div>\\n\\t\\t\\t\\t\\t\\t\\t</div>\\n\\t\\t\\t\\t\\t\\t</div>\\n\\t\\t\\t\\t\\t</a>\\n\\t\\t\\t\\t\\n\\t\\t\\t\\n\\t\\t\\t\\t\\n\\t\\t\\t\\t\\t<a href=\"https://comic.naver.com/webtoon/detail.nhn?titleId&#x3D;792120&amp;no&#x3D;1\" class=\"media_area\" data-da-position=\"true\" data-gdid=\"CAS_6cf4808d-aa6e-11ec-a910-55649718ccc2\" data-clk=\"tcc_web.list6cont6\" target=\"_blank\">\\n\\t\\t\\t\\t\\t\\t<div class=\"media_thumb\">\\n\\t\\t\\t\\t\\t\\t\\t<img  data-src=\"https://s.pstatic.net/dthumb.phinf/?src&#x3D;%22https%3A%2F%2Fs.pstatic.net%2Fstatic%2Fwww%2Fmobile%2Fedit%2F20220322_1095%2Fupload_1647956205162WepCq.jpg%22&amp;type&#x3D;nf464_260\" alt=\"\" width=\"232\" height=\"130\" onerror=\"this.outerHTML=\\'<span class=\\\\\\'pm_noimg\\\\\\'><span class=\\\\\\'noimg_text\\\\\\'>이미지 준비중</span></span>\\'\">\\n\\n\\t\\t\\t\\t\\t\\t\\t\\n\\t\\t\\t\\t\\t\\t\\t\\t<span class=\"thumb_bd\"></span>\\n\\t\\t\\t\\t\\t\\t\\t\\t\\n\\t\\t\\t\\t\\t\\t\\t\\n\\t\\t\\t\\t\\t\\t</div>\\n\\t\\t\\t\\t\\t\\t<div class=\"media_info\">\\n\\t\\t\\t\\t\\t\\t\\t<div class=\"info_box\">\\n\\t\\t\\t\\t\\t\\t\\t\\t\\n\\t\\t\\t\\t\\t\\t\\t\\t<strong class=\"title elss\">아이돌에게 영어를 가르쳐야 한다고?!</strong>\\n\\t\\t\\t\\t\\t\\t\\t\\t<div class=\"source_wrap\">\\n\\t\\t\\t\\t\\t\\t\\t\\t\\t<span class=\"date\">1개월 전</span>\\n\\t\\t\\t\\t\\t\\t\\t\\t\\t<span class=\"source\">\\n                                    \\n\\t\\t\\t\\t\\t\\t\\t\\t\\t\\t<span class=\"source_inner\">아이돌의 비밀 스터디</span>\\n                                </span>\\n\\t\\t\\t\\t\\t\\t\\t\\t</div>\\n\\t\\t\\t\\t\\t\\t\\t</div>\\n\\t\\t\\t\\t\\t\\t</div>\\n\\t\\t\\t\\t\\t</a>\\n\\t\\t\\t\\t\\n\\t\\t\\t\\n\\t\\t\\t\\t\\n\\t\\t\\t\\t\\t<a href=\"https://novel.naver.com/webnovel/detail?novelId&#x3D;977079&amp;volumeNo&#x3D;85\" class=\"media_area\" data-da-position=\"true\" data-gdid=\"CAS_c77805a4-a9b1-11ec-a910-a1b3b0d4db35\" data-clk=\"tcc_web.list6cont7\" target=\"_blank\">\\n\\t\\t\\t\\t\\t\\t<div class=\"media_thumb\">\\n\\t\\t\\t\\t\\t\\t\\t<img  data-src=\"https://s.pstatic.net/dthumb.phinf/?src&#x3D;%22https%3A%2F%2Fs.pstatic.net%2Fstatic%2Fwww%2Fmobile%2Fedit%2F20220322_1095%2Fupload_1647940424332uc9Eo.jpg%22&amp;type&#x3D;nf464_260\" alt=\"\" width=\"232\" height=\"130\" onerror=\"this.outerHTML=\\'<span class=\\\\\\'pm_noimg\\\\\\'><span class=\\\\\\'noimg_text\\\\\\'>이미지 준비중</span></span>\\'\">\\n\\n\\t\\t\\t\\t\\t\\t\\t\\n\\t\\t\\t\\t\\t\\t\\t\\t<span class=\"thumb_bd\"></span>\\n\\t\\t\\t\\t\\t\\t\\t\\t\\n\\t\\t\\t\\t\\t\\t\\t\\n\\t\\t\\t\\t\\t\\t</div>\\n\\t\\t\\t\\t\\t\\t<div class=\"media_info\">\\n\\t\\t\\t\\t\\t\\t\\t<div class=\"info_box\">\\n\\t\\t\\t\\t\\t\\t\\t\\t\\n\\t\\t\\t\\t\\t\\t\\t\\t<strong class=\"title elss\">내가 무슨 일이 있어도 너를 지켜줄게</strong>\\n\\t\\t\\t\\t\\t\\t\\t\\t<div class=\"source_wrap\">\\n\\t\\t\\t\\t\\t\\t\\t\\t\\t<span class=\"date\">1개월 전</span>\\n\\t\\t\\t\\t\\t\\t\\t\\t\\t<span class=\"source\">\\n                                    \\n\\t\\t\\t\\t\\t\\t\\t\\t\\t\\t<span class=\"source_inner\">순수한 유부녀</span>\\n                                </span>\\n\\t\\t\\t\\t\\t\\t\\t\\t</div>\\n\\t\\t\\t\\t\\t\\t\\t</div>\\n\\t\\t\\t\\t\\t\\t</div>\\n\\t\\t\\t\\t\\t</a>\\n\\t\\t\\t\\t\\n\\t\\t\\t\\n\\t\\t\\t\\t\\n\\t\\t\\t\\t\\t<a href=\"https://novel.naver.com/webnovel/detail?novelId&#x3D;1046674&amp;volumeNo&#x3D;7\" class=\"media_area\" data-da-position=\"true\" data-gdid=\"CAS_c77805a3-a9b1-11ec-a910-7f18313c8a21\" data-clk=\"tcc_web.list6cont8\" target=\"_blank\">\\n\\t\\t\\t\\t\\t\\t<div class=\"media_thumb\">\\n\\t\\t\\t\\t\\t\\t\\t<img  data-src=\"https://s.pstatic.net/dthumb.phinf/?src&#x3D;%22https%3A%2F%2Fs.pstatic.net%2Fstatic%2Fwww%2Fmobile%2Fedit%2F20220322_1095%2Fupload_1647939707227qi1ua.jpg%22&amp;type&#x3D;nf464_260\" alt=\"\" width=\"232\" height=\"130\" onerror=\"this.outerHTML=\\'<span class=\\\\\\'pm_noimg\\\\\\'><span class=\\\\\\'noimg_text\\\\\\'>이미지 준비중</span></span>\\'\">\\n\\n\\t\\t\\t\\t\\t\\t\\t\\n\\t\\t\\t\\t\\t\\t\\t\\t<span class=\"thumb_bd\"></span>\\n\\t\\t\\t\\t\\t\\t\\t\\t\\n\\t\\t\\t\\t\\t\\t\\t\\n\\t\\t\\t\\t\\t\\t</div>\\n\\t\\t\\t\\t\\t\\t<div class=\"media_info\">\\n\\t\\t\\t\\t\\t\\t\\t<div class=\"info_box\">\\n\\t\\t\\t\\t\\t\\t\\t\\t\\n\\t\\t\\t\\t\\t\\t\\t\\t<strong class=\"title elss\">황제가 키운 개, 그가 돌아왔다</strong>\\n\\t\\t\\t\\t\\t\\t\\t\\t<div class=\"source_wrap\">\\n\\t\\t\\t\\t\\t\\t\\t\\t\\t<span class=\"date\">1개월 전</span>\\n\\t\\t\\t\\t\\t\\t\\t\\t\\t<span class=\"source\">\\n                                    \\n\\t\\t\\t\\t\\t\\t\\t\\t\\t\\t<span class=\"source_inner\">최선을 다해 후회하세요</span>\\n                                </span>\\n\\t\\t\\t\\t\\t\\t\\t\\t</div>\\n\\t\\t\\t\\t\\t\\t\\t</div>\\n\\t\\t\\t\\t\\t\\t</div>\\n\\t\\t\\t\\t\\t</a>\\n\\t\\t\\t\\t\\n\\t\\t\\t\\n\\t\\t\\t\\t\\n\\t\\t\\t\\t\\t<a href=\"https://series.naver.com/comic/detail.series?productNo&#x3D;3821531\" class=\"media_area\" data-da-position=\"true\" data-gdid=\"CAS_8ccaf1c4-aa87-11ec-b1be-cb69167c4b4e\" data-clk=\"tcc_web.list6cont9\" target=\"_blank\">\\n\\t\\t\\t\\t\\t\\t<div class=\"media_thumb\">\\n\\t\\t\\t\\t\\t\\t\\t<img  data-src=\"https://s.pstatic.net/dthumb.phinf/?src&#x3D;%22https%3A%2F%2Fs.pstatic.net%2Fstatic%2Fwww%2Fmobile%2Fedit%2F20220323_1095%2Fupload_1648025966677HpbpE.jpg%22&amp;type&#x3D;nf464_260\" alt=\"\" width=\"232\" height=\"130\" onerror=\"this.outerHTML=\\'<span class=\\\\\\'pm_noimg\\\\\\'><span class=\\\\\\'noimg_text\\\\\\'>이미지 준비중</span></span>\\'\">\\n\\n\\t\\t\\t\\t\\t\\t\\t\\n\\t\\t\\t\\t\\t\\t\\t\\t<span class=\"thumb_bd\"></span>\\n\\t\\t\\t\\t\\t\\t\\t\\t\\n\\t\\t\\t\\t\\t\\t\\t\\n\\t\\t\\t\\t\\t\\t</div>\\n\\t\\t\\t\\t\\t\\t<div class=\"media_info\">\\n\\t\\t\\t\\t\\t\\t\\t<div class=\"info_box\">\\n\\t\\t\\t\\t\\t\\t\\t\\t\\n\\t\\t\\t\\t\\t\\t\\t\\t<strong class=\"title elss\">시간 순삭! 명작 스릴러 추천</strong>\\n\\t\\t\\t\\t\\t\\t\\t\\t<div class=\"source_wrap\">\\n\\t\\t\\t\\t\\t\\t\\t\\t\\t<span class=\"date\">1개월 전</span>\\n\\t\\t\\t\\t\\t\\t\\t\\t\\t<span class=\"source\">\\n                                    \\n\\t\\t\\t\\t\\t\\t\\t\\t\\t\\t<span class=\"source_inner\">개미잡이</span>\\n                                </span>\\n\\t\\t\\t\\t\\t\\t\\t\\t</div>\\n\\t\\t\\t\\t\\t\\t\\t</div>\\n\\t\\t\\t\\t\\t\\t</div>\\n\\t\\t\\t\\t\\t</a>\\n\\t\\t\\t\\t\\n\\t\\t\\t\\n\\t\\t</div>\\n\\t</div>\\n</div>\\n\\n\\n\\n\\n\\n\\t<div class=\"btn_more_wrap\">\\n\\t\\t<button type=\"button\" class=\"btn_more\" data-clk-custom=\"tcc_web.more\" data-next-page=\"2\"><i class=\"ico_more\"></i>새로운 글 더보기</button>\\n\\t</div>\\n\\n\\n<div class=\"NM_THEME_META\" style=\"display: none\" data-panel-code=\"BBOOM\" data-parent-code=\"\"></div>\\n\\n\\t</div>\\n</div>\\n </div> </div> <div id=\"NM_INT_RIGHT\" class=\"column_right\"> <div class=\"column_fix_wrap\"> <div id=\"da_brand\"></div> \\n\\n\\n\\n\\n\\n<div id=\"account\" class=\"sc_login\">\\n<h2 class=\"blind\">Sign in</h2>\\n<p class=\"login_msg\">Connect with people</p>\\n<a href=\"https://nid.naver.com/nidlogin.login?mode=form&url=https%3A%2F%2Fwww.naver.com\" class=\"link_login\" data-clk=\"log_off.login\"><i class=\"ico_naver\"><span class=\"blind\">NAVER</span></i>Sign in</a>\\n<div class=\"sub_area\">\\n<div class=\"look_box\">\\n<a href=\"https://nid.naver.com/user/help.nhn?todo=idinquiry\" class=\"link_look\" data-clk=\"log_off.searchid\">Forgot Username</a>\\n<a href=\"https://nid.naver.com/nidreminder.form\" class=\"link_look\" data-clk=\"log_off.searchpass\">Password</a>\\n</div>\\n<a href=\"https://nid.naver.com/nidregister.form?url=https%3A%2F%2Fwww.naver.com\" class=\"link_join\" data-clk=\"log_off.registration\">Sign up</a>\\n</div>\\n</div>\\n\\n\\n\\n <div id=\"timesquare\" class=\"sc_timesquare\"> <h2 class=\"blind\">타임스퀘어</h2> <div class=\"card_wrap\">\\n<div class=\"card_nav\">\\n<a href=\"#\" role=\"button\" class=\"btn_nav btn_prev\" data-clk=\"squ.pre\"><span class=\"blind\">이전</span></a>\\n<a href=\"#\" role=\"button\" class=\"btn_nav btn_next\" data-clk=\"squ.next\"><span class=\"blind\">다음</span></a>\\n</div>\\n<div id=\"NM_TS_ROLLING_WRAP\" style=\"height: 100%;\">\\n<div>\\n<a href=\"https://search.naver.com/search.naver?sm=top_hty&amp;fbm=0&amp;ie=utf8&amp;query=%EC%BD%94%EB%A1%9C%EB%82%9819\" class=\"card_news\" data-clk=\"squ.line3\"><i class=\"news_badge\">이슈</i><span class=\"news\">코로나바이러스감염증-19 현황</span></a>\\n</div>\\n<div>\\n<a href=\"https://finance.naver.com/world/sise.nhn?symbol=RUI@RTSI\" class=\"card_stock \" data-clk=\"squ.rus\">\\n<strong class=\"stock_title\">증시</strong>\\n<div class=\"stock_box\">\\n<em class=\"name\">러시아</em>\\n<strong class=\"current\">947.11</strong>\\n<span class=\"rate rate_up\"><span class=\"blind\">상승</span>18.81 +2.03%</span>\\n</div>\\n</a>\\n</div>\\n<div>\\n<a href=\"https://finance.naver.com/world/sise.nhn?symbol=XTR@DAX30\" class=\"card_stock \" data-clk=\"squ.ger\">\\n<strong class=\"stock_title\">증시</strong>\\n<div class=\"stock_box\">\\n<em class=\"name\">독일</em>\\n<strong class=\"current\">13,910.54</strong>\\n<span class=\"rate rate_down\"><span class=\"blind\">하락</span>231.55 -1.64%</span>\\n</div>\\n</a>\\n</div>\\n<div>\\n<a href=\"https://finance.naver.com/world/sise.nhn?symbol=STX@SX5E\" class=\"card_stock \" data-clk=\"squ.euro\">\\n<strong class=\"stock_title\">증시</strong>\\n<div class=\"stock_box\">\\n<em class=\"name\">유로스톡스50</em>\\n<strong class=\"current\">3,754.58</strong>\\n<span class=\"rate rate_down\"><span class=\"blind\">하락</span>85.43 -2.22%</span>\\n</div>\\n</a>\\n</div>\\n<div>\\n<a href=\"https://finance.naver.com/marketindex/exchangeDetail.nhn?marketindexCd=FX_USDKRW\" class=\"card_stock type_exchange\" data-clk=\"squ.usd\">\\n<strong class=\"stock_title\">환율</strong>\\n<div class=\"stock_box\">\\n<em class=\"name\">USD</em>\\n<strong class=\"current\">1,250.50</strong>\\n<span class=\"rate rate_up\"><span class=\"blind\">상승</span>7.00 +0.56%</span>\\n</div>\\n</a>\\n</div>\\n</div>\\n</div> <!-- EMPTY --> </div> <div id=\"veta_branding\"> <span class=\"blind\"> <script id=\"veta_service_check\"></script> </span> <div id=\"veta_branding_inner\" style=\"width:350px;height:200px\"> </div> <span class=\"veta_bd_t\"></span> <span class=\"veta_bd_b\"></span> <span class=\"veta_bd_l\"></span> <span class=\"veta_bd_r\"></span> </div> <div id=\"shopcast\" class=\"sc_shopcast\"> <iframe id=\"shopcast_iframe\" data-iframe-src=\"/shoppingbox/shoppingboxnew/main.nhn?domain=N\" title=\"쇼핑캐스트\" width=\"350\" height=\"1539\" marginheight=\"0\" marginwidth=\"0\" scrolling=\"no\" frameborder=\"0\"></iframe> </div> </div> </div> <a id=\"NM_scroll_top_btn\" href=\"#wrap\" class=\"content_top\"><span class=\"blind\">TOP</span></a> <button id=\"NM_darkmode_btn\" type=\"button\" role=\"button\" class=\"btn_theme\" aria-pressed=\"false\"  > <span class=\"blind\">라이트 모드로 보기</span> </button> </div> <div id=\"footer\" role=\"contentinfo\"> <div class=\"footer_inner\"> <div id=\"NM-FOOTER-AD\" class=\"banner_area\"> <div class=\"da_box_wrap\"> <div id=\"da_public_left\"> </div> <div id=\"da_public_right\"> </div> <div id=\"veta_time2\"> </div> </div> </div> <div class=\"notice_area\" data-clk-prefix=\"ntc\"> <div class=\"notice_box\"> <h3 class=\"title\"><a href=\"https://www.naver.com/NOTICE\">공지사항</a> </h3> <a data-clk=\"notice\" href=\"https://www.naver.com/NOTICE/read/1100001014/10000000000030672721\" class=\"notice_msg\" >\\n네이버 ‘개인정보 처리방침’ 변경에 대한 안내 말씀드립니다.\\n</a> </div> <a href=\"more.html\" class=\"link_all\" data-clk=\"svcmap\">서비스 전체보기</a> </div> <div class=\"aside_area\"> <div class=\"partner_box_wrap\"> <div class=\"partner_box\" data-clk-prefix=\"crt\"> <h3 class=\"title\">Creators</h3> <a href=\"https://www.navercorp.com/service/creators\" class=\"link_partner\" data-clk=\"creator\">크리에이터</a> <a href=\"https://www.navercorp.com/service/business\" class=\"link_partner\" data-clk=\"smbusiness\">스몰비즈니스</a> </div> <div class=\"partner_box\" data-clk-prefix=\"crt\"> <h3 class=\"title\">Partners</h3> <a href=\"https://campaign.naver.com/smefullcare/online/\" class=\"link_partner\" data-clk=\"sme\">SME 풀케어 시스템</a> <a href=\"https://business.naver.com/service.html\" class=\"link_partner\" data-clk=\"service\">비즈니스 · 광고</a> <a href=\"https://sell.storefarm.naver.com/#/home/about\" class=\"link_partner\" data-clk=\"store\">스토어 개설</a> <a href=\"https://smartplace.naver.com\" class=\"link_partner\" data-clk=\"place\">지역업체 등록</a> <a href=\"https://expert.naver.com/expert/introduction?tab=guide#join\" class=\"link_partner\" data-clk=\"expert\">엑스퍼트 등록</a> </div> <div class=\"partner_box\" data-clk-prefix=\"crt\"> <h3 class=\"title\">Developers</h3> <a href=\"https://developers.naver.com\" class=\"link_partner\" data-clk=\"center\">네이버 개발자 센터</a> <a href=\"https://developers.naver.com/docs/common/openapiguide/#/apilist.md\" class=\"link_partner\" data-clk=\"openapi\">오픈 API</a> <a href=\"https://naver.github.io\" class=\"link_partner\" data-clk=\"opensource\">오픈소스</a> <a href=\"https://d2.naver.com\" class=\"link_partner\" data-clk=\"d2\">네이버 D2</a> <a href=\"http://d2startup.com\" class=\"link_partner\" data-clk=\"naverD2SF\">네이버 D2SF</a> <a href=\"https://www.naverlabs.com\" class=\"link_partner\" data-clk=\"labs\">네이버 랩스</a> </div> </div> <div class=\"service_box_wrap\"> <div class=\"service_box\" data-clk-prefix=\"wbd\"> <a href=\"http://whale.naver.com/\" class=\"service_logo\" data-clk=\"bt\"> <img src=\"data:image/png;base64,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\" alt=\"웨일\" width=\"48\" height=\"48\"> </a> <div class=\"service_info\"> <strong class=\"title\">웨일 브라우저</strong> <a href=\"http://whale.naver.com/\" class=\"dsc\" data-clk=\"bt\">다운받기</a> </div> </div> <div class=\"service_box\" data-clk-prefix=\"prj\"> <a href=\"https://search.naver.com/search.naver?where=nexearch&sm=top_hty&fbm=1&ie=utf8&query=%ED%94%84%EB%A1%9C%EC%A0%9D%ED%8A%B8%EA%BD%83\" class=\"service_logo\" data-clk=\"link\"> <img src=\"data:image/png;base64,iVBORw0KGgoAAAANSUhEUgAAAF4AAABkCAMAAAA47XeXAAAAgVBMVEUAAADN5PdGm99Gm99Gm99Gm99Gm95Gm99Gm99Gm99Gm99Gm99Gm99Gm99Gm99Gm99Gm99Gm99Gm99Gm99Gm99Gm99Gm99Gmt9Gm99Gm99Gm99Gm95Gm99Gm99Gm95Gm99Hm99Gm99Gm9/////3+/5cp+LO5PfR5/fO5fdcp+P7/f/zv5GhAAAAInRSTlMA/v7vH9u5qJNgGwb6l8a9uqF9WFUyLxYMCtbVmLCwe4OCj8gzEgAAA0NJREFUaN7NmmFz4iAQhkkwMTHGWrWtWvWuq8mF+/8/8Ey2nb0OhSwQZnw+MHQ7pbjAy2s2gsuiLPJMLpcyy4tyISZltnmHbxw3MzEVr/MUNNL5q5iCt2ccXCN9fhPB7CQYkTsRRlWDlboSAexzGCHfC28OKxhldfDOzBMwePLNTw0sauHFFphshQcLCUwkaQRfXYBPSkrEUBdv3jezcXXhw1ciUhc+fCUidQlH7qzqEk5d2dQlnHxvU5dwVgdXdSGclaiGyamt6hLO1qIu4ZASzcFE092SBprk1jagulvXAAw/qb5N7m176xQYmOPoLymYaK/X65/PNhlagE6LGUhfRM8FjNzuf/73//bHmInzoJEpjMyeWpp9RzGz/PT6+QvMNO2Q+67PPeYZY5h7jDVg5OM+/BGikd13JfDAj/Ad1WLMyEyUwKPT00ypN1GKAljQJtFiFgqRe86eYhbWIvPPPR5d+9pKiIgUwKNJdHXBvW9jyRye1EWLWYfnJcd141Byspizz7gbUyWDuqiW0v15D9g3ZgF86JwyKUgUHJaATUmS5rsEdkkTZLjZS8Alw+skFr8Nl6H6uosShaKOp3Zo+/jgFTDe+wcSfv0yFGfQaLX7tDO0reXOPRuMCG4Q11Y3IiYblWgzS7R+h31qdRtlGB7zikeUckz+AB3a8FuMqD7Cd2nhUHLOEIkLubQIkEuLxIdwEwUy3HyXxsbgPMJcGuGox+TSIugxuTQ+KHIaAS5N92eIIuMT5tJoPfHy5q9yKoXLelLuKRri0mjMQdhwTPw6Sv8pzKXhFyhNilEwkSCXRrnAnaPnJdyl0UrqXircpeHVglnv+62K4NJo3lFcGmWd79KO7OQoXAE8XNO6tIQGxj7fpfHTwk8RubQLWEGvgTNGKzj01fixunCMCCYcvSSlaFwUyKVx86J3bczpUR3zimq1LqdosAUbJF54ar+uk5Gju436mPTk8ZAXFdO93HRYTesUVgf3B+y0XdxLfdVputmfKp/iBtNjyl3c0kzUwtJIWewIPvAL9LOyWLsV9WAps3VRzh6hJBm3oOqsRKfHLGYzS/GP+iLBuBKdqkd+iWPkFZTHf4Em4us/uhI5qss/6zK5u8+AXpwAAAAASUVORK5CYII=\" alt=\"꽃\" width=\"47\" height=\"50\"> </a> <div class=\"service_info\"> <strong class=\"title\">프로젝트 꽃</strong> <a href=\"https://search.naver.com/search.naver?where=nexearch&sm=top_hty&fbm=1&ie=utf8&query=%ED%94%84%EB%A1%9C%EC%A0%9D%ED%8A%B8%EA%BD%83\" class=\"dsc\" data-clk=\"link\">바로가기</a> </div> </div> </div> </div> <div class=\"corp_area\" data-clk-prefix=\"plc\"> <h3 class=\"blind\">네이버 정책 및 약관</h3> <ul class=\"list_corp\"> <li class=\"corp_item\"><a href=\"https://www.navercorp.com\" data-clk=\"intronhn\">회사소개</a></li> <li class=\"corp_item\"><a href=\"https://recruit.navercorp.com/naver/recruitMain\" data-clk=\"recruit\">인재채용</a></li> <li class=\"corp_item\"><a href=\"https://www.navercorp.com/naver/proposalGuide\" data-clk=\"contact\">제휴제안</a></li> <li class=\"corp_item\"><a href=\"/policy/service.html\" data-clk=\"service\">이용약관</a></li> <li class=\"corp_item\"><a href=\"/policy/privacy.html\" data-clk=\"privacy\"><strong>개인정보처리방침</strong></a></li> <li class=\"corp_item\"><a href=\"/policy/youthpolicy.html\" data-clk=\"youth\">청소년보호정책</a></li> <li class=\"corp_item\"><a href=\"/policy/spamcheck.html\" data-clk=\"policy\">네이버 정책</a></li> <li class=\"corp_item\"><a href=\"https://help.naver.com/\" data-clk=\"helpcenter\">고객센터</a></li> </ul> <address class=\"addr\"><a href=\"https://www.navercorp.com\" target=\"_blank\" data-clk=\"nhn\">ⓒ NAVER Corp.</a></address> </div> </div> </div> </div> <div id=\"adscript\" style=\"display:none\"></div> </body> </html>\\n'"
            ],
            "application/vnd.google.colaboratory.intrinsic+json": {
              "type": "string"
            }
          },
          "metadata": {},
          "execution_count": 4
        }
      ]
    },
    {
      "cell_type": "code",
      "source": [
        "html = BeautifulSoup(resp.text, 'html.parser')"
      ],
      "metadata": {
        "id": "x2oYjcnxHynp"
      },
      "execution_count": 6,
      "outputs": []
    },
    {
      "cell_type": "markdown",
      "source": [
        "> - 해당페이지의 이미지만 보고 싶다."
      ],
      "metadata": {
        "id": "00NOThtnIB35"
      }
    },
    {
      "cell_type": "code",
      "source": [
        "img = html.select('img')\n",
        "img # img tag로 된 모든 항목을 관측가능하다."
      ],
      "metadata": {
        "colab": {
          "base_uri": "https://localhost:8080/"
        },
        "id": "OybyOh9MH9VH",
        "outputId": "bdd1c07e-e99f-485f-fc45-62c1687abfaa"
      },
      "execution_count": 7,
      "outputs": [
        {
          "output_type": "execute_result",
          "data": {
            "text/plain": [
              "[<img alt=\"\" height=\"49\" src=\"https://static-whale.pstatic.net/main/img_mousegesture_v2@2x.png\" style=\"padding-left: 90px\" width=\"200\"/>,\n",
              " <img alt=\"국민일보\" class=\"news_logo\" height=\"20\" src=\"https://s.pstatic.net/static/newsstand/2020/logo/light/0604/005.png\"/>,\n",
              " <img alt=\"디지털타임스\" class=\"news_logo\" height=\"20\" src=\"https://s.pstatic.net/static/newsstand/2020/logo/light/0604/029.png\"/>,\n",
              " <img alt=\"뉴데일리\" class=\"news_logo\" height=\"20\" src=\"https://s.pstatic.net/static/newsstand/2020/logo/light/0604/327.png\"/>,\n",
              " <img alt=\"MBC\" class=\"news_logo\" height=\"20\" src=\"https://s.pstatic.net/static/newsstand/2020/logo/light/0604/214.png\"/>,\n",
              " <img alt=\"데일리안\" class=\"news_logo\" height=\"20\" src=\"https://s.pstatic.net/static/newsstand/2020/logo/light/0604/368.png\"/>,\n",
              " <img alt=\"노컷뉴스\" class=\"news_logo\" height=\"20\" src=\"https://s.pstatic.net/static/newsstand/2020/logo/light/0604/079.png\"/>,\n",
              " <img alt=\"뉴시스\" class=\"news_logo\" height=\"20\" src=\"https://s.pstatic.net/static/newsstand/2020/logo/light/0604/003.png\"/>,\n",
              " <img alt=\"SBS\" class=\"news_logo\" height=\"20\" src=\"https://s.pstatic.net/static/newsstand/2020/logo/light/0604/055.png\"/>,\n",
              " <img alt=\"한국경제TV\" class=\"news_logo\" height=\"20\" src=\"https://s.pstatic.net/static/newsstand/2020/logo/light/0604/215.png\"/>,\n",
              " <img alt=\"한국일보\" class=\"news_logo\" height=\"20\" src=\"https://s.pstatic.net/static/newsstand/2020/logo/light/0604/038.png\"/>,\n",
              " <img alt=\"동아일보\" class=\"news_logo\" height=\"20\" src=\"https://s.pstatic.net/static/newsstand/2020/logo/light/0604/020.png\"/>,\n",
              " <img alt=\"일간스포츠\" class=\"news_logo\" height=\"20\" src=\"https://s.pstatic.net/static/newsstand/2020/logo/light/0604/241.png\"/>,\n",
              " <img alt=\"한국경제\" class=\"news_logo\" height=\"20\" src=\"https://s.pstatic.net/static/newsstand/2020/logo/light/0604/015.png\"/>,\n",
              " <img alt=\"KBS\" class=\"news_logo\" height=\"20\" src=\"https://s.pstatic.net/static/newsstand/2020/logo/light/0604/056.png\"/>,\n",
              " <img alt=\"조선일보\" class=\"news_logo\" height=\"20\" src=\"https://s.pstatic.net/static/newsstand/up/2020/0903/nsd185255316.png\"/>,\n",
              " <img alt=\"전북일보\" class=\"news_logo\" height=\"20\" src=\"https://s.pstatic.net/static/newsstand/2020/logo/light/0604/336.png\"/>,\n",
              " <img alt=\"부산일보\" class=\"news_logo\" height=\"20\" src=\"https://s.pstatic.net/static/newsstand/up/2021/0322/nsd21527882.png\"/>,\n",
              " <img alt=\"경북일보\" class=\"news_logo\" height=\"20\" src=\"https://s.pstatic.net/static/newsstand/2020/logo/light/0604/337.png\"/>,\n",
              " <img alt=\"여성신문\" class=\"news_logo\" height=\"20\" src=\"https://s.pstatic.net/static/newsstand/2020/logo/light/0604/310.png\"/>,\n",
              " <img alt=\"과학동아\" class=\"news_logo\" height=\"20\" src=\"https://s.pstatic.net/static/newsstand/2020/logo/light/0604/363.png\"/>,\n",
              " <img alt=\"한국대학신문\" class=\"news_logo\" height=\"20\" src=\"https://s.pstatic.net/static/newsstand/2020/logo/light/0604/384.png\"/>,\n",
              " <img alt=\"그린포스트코리아\" class=\"news_logo\" height=\"20\" src=\"https://s.pstatic.net/static/newsstand/2020/logo/light/0604/938.png\"/>,\n",
              " <img alt=\"법률방송뉴스\" class=\"news_logo\" height=\"20\" src=\"https://s.pstatic.net/static/newsstand/2020/logo/light/0604/815.png\"/>,\n",
              " <img alt=\"약사공론\" class=\"news_logo\" height=\"20\" src=\"https://s.pstatic.net/static/newsstand/2020/logo/light/0604/979.png\"/>,\n",
              " <img alt=\"신작 &lt;오늘의 비너스&gt; 1화 바로보기\" data-src=\"https://s.pstatic.net/static/www/mobile/edit/20220422/cropImg_728x360_92554609271117519.jpeg\" height=\"180\" onerror=\"this.outerHTML='&lt;span class=\\'pm_noimg\\'&gt;&lt;span class=\\'noimg_text\\'&gt;이미지 준비중&lt;/span&gt;&lt;/span&gt;'\" src=\"https://s.pstatic.net/static/www/mobile/edit/20220422/cropImg_728x360_92554609271117519.jpeg\" width=\"364\"/>,\n",
              " <img alt=\"월요웹툰 안 보는 사람 있나요?\" data-src=\"https://s.pstatic.net/static/www/mobile/edit/20220422/cropImg_196x196_92554961357060312.jpeg\" height=\"98\" onerror=\"this.outerHTML='&lt;span class=\\'pm_noimg\\'&gt;&lt;span class=\\'noimg_text\\'&gt;이미지 준비중&lt;/span&gt;&lt;/span&gt;'\" src=\"https://s.pstatic.net/static/www/mobile/edit/20220422/cropImg_196x196_92554961357060312.jpeg\" width=\"98\"/>,\n",
              " <img alt=\"사부님, 이제는 \" data-src=\"https://s.pstatic.net/static/www/mobile/edit/20220422/cropImg_196x196_92554992179913072.jpeg\" height=\"98\" onerror=\"this.outerHTML='&lt;span class=\\'pm_noimg\\'&gt;&lt;span class=\\'noimg_text\\'&gt;이미지 준비중&lt;/span&gt;&lt;/span&gt;'\" src=\"https://s.pstatic.net/static/www/mobile/edit/20220422/cropImg_196x196_92554992179913072.jpeg\" width=\"98\"/>,\n",
              " <img alt=\"나는 혼자가 아니오. \" data-src=\"https://s.pstatic.net/static/www/mobile/edit/20220422/cropImg_196x196_92555035018236132.jpeg\" height=\"98\" onerror=\"this.outerHTML='&lt;span class=\\'pm_noimg\\'&gt;&lt;span class=\\'noimg_text\\'&gt;이미지 준비중&lt;/span&gt;&lt;/span&gt;'\" src=\"https://s.pstatic.net/static/www/mobile/edit/20220422/cropImg_196x196_92555035018236132.jpeg\" width=\"98\"/>,\n",
              " <img alt=\"\" height=\"50\" onerror=\"this.outerHTML='&lt;span class=\\'pm_noimg_s\\'&gt;&lt;span class=\\'blind\\'&gt;이미지 준비중&lt;/span&gt;&lt;/span&gt;'\" src=\"https://s.pstatic.net/dthumb.phinf/?src=%22https%3A%2F%2Fshared-comic.pstatic.net%2Fthumb%2Fwebtoon%2F758037%2Fthumbnail%2Fthumbnail_IMAG19_67290a02-fe7f-448d-aed9-6ec88e558088.jpg%22&amp;type=navermain_n100_100\" width=\"50\"/>,\n",
              " <img alt=\"\" height=\"50\" onerror=\"this.outerHTML='&lt;span class=\\'pm_noimg_s\\'&gt;&lt;span class=\\'blind\\'&gt;이미지 준비중&lt;/span&gt;&lt;/span&gt;'\" src=\"https://s.pstatic.net/dthumb.phinf/?src=%22https%3A%2F%2Fshared-comic.pstatic.net%2Fthumb%2Fwebtoon%2F783052%2Fthumbnail%2Fthumbnail_IMAG19_d78070dc-5d7f-4c71-b1f4-669182391a3e.jpg%22&amp;type=navermain_n100_100\" width=\"50\"/>,\n",
              " <img alt=\"\" height=\"50\" onerror=\"this.outerHTML='&lt;span class=\\'pm_noimg_s\\'&gt;&lt;span class=\\'blind\\'&gt;이미지 준비중&lt;/span&gt;&lt;/span&gt;'\" src=\"https://s.pstatic.net/dthumb.phinf/?src=%22https%3A%2F%2Fshared-comic.pstatic.net%2Fthumb%2Fwebtoon%2F602910%2Fthumbnail%2Fthumbnail_IMAG19_8057e22e-fb78-4c74-a009-d7356f74f14c.jpg%22&amp;type=navermain_n100_100\" width=\"50\"/>,\n",
              " <img alt=\"\" height=\"50\" onerror=\"this.outerHTML='&lt;span class=\\'pm_noimg_s\\'&gt;&lt;span class=\\'blind\\'&gt;이미지 준비중&lt;/span&gt;&lt;/span&gt;'\" src=\"https://s.pstatic.net/dthumb.phinf/?src=%22https%3A%2F%2Fshared-comic.pstatic.net%2Fthumb%2Fwebtoon%2F733074%2Fthumbnail%2Fthumbnail_IMAG19_1fee0ed7-afb3-4b11-9547-e8a4a1340740.jpg%22&amp;type=navermain_n100_100\" width=\"50\"/>,\n",
              " <img alt=\"\" height=\"50\" onerror=\"this.outerHTML='&lt;span class=\\'pm_noimg_s\\'&gt;&lt;span class=\\'blind\\'&gt;이미지 준비중&lt;/span&gt;&lt;/span&gt;'\" src=\"https://s.pstatic.net/dthumb.phinf/?src=%22https%3A%2F%2Fshared-comic.pstatic.net%2Fthumb%2Fwebtoon%2F654774%2Fthumbnail%2Fthumbnail_IMAG19_c0ee61e4-52d7-4064-b911-3ea471d637f4.jpg%22&amp;type=navermain_n100_100\" width=\"50\"/>,\n",
              " <img alt=\"\" height=\"50\" onerror=\"this.outerHTML='&lt;span class=\\'pm_noimg_s\\'&gt;&lt;span class=\\'blind\\'&gt;이미지 준비중&lt;/span&gt;&lt;/span&gt;'\" src=\"https://s.pstatic.net/dthumb.phinf/?src=%22https%3A%2F%2Fshared-comic.pstatic.net%2Fthumb%2Fwebtoon%2F183559%2Fthumbnail%2Fthumbnail_IMAG19_d2896e3f-1775-4717-a6a6-8a84fd508226.jpg%22&amp;type=navermain_n100_100\" width=\"50\"/>,\n",
              " <img alt=\"\" height=\"50\" onerror=\"this.outerHTML='&lt;span class=\\'pm_noimg_s\\'&gt;&lt;span class=\\'blind\\'&gt;이미지 준비중&lt;/span&gt;&lt;/span&gt;'\" src=\"https://s.pstatic.net/dthumb.phinf/?src=%22https%3A%2F%2Fshared-comic.pstatic.net%2Fthumb%2Fwebtoon%2F648419%2Fthumbnail%2Fthumbnail_IMAG19_14aedc9f-792e-4bdd-b462-bd55087ad096.jpg%22&amp;type=navermain_n100_100\" width=\"50\"/>,\n",
              " <img alt=\"\" height=\"50\" onerror=\"this.outerHTML='&lt;span class=\\'pm_noimg_s\\'&gt;&lt;span class=\\'blind\\'&gt;이미지 준비중&lt;/span&gt;&lt;/span&gt;'\" src=\"https://s.pstatic.net/dthumb.phinf/?src=%22https%3A%2F%2Fshared-comic.pstatic.net%2Fthumb%2Fwebtoon%2F774863%2Fthumbnail%2Fthumbnail_IMAG19_85a44927-ccf8-47c1-b0ab-5a63c0f04ce4.jpg%22&amp;type=navermain_n100_100\" width=\"50\"/>,\n",
              " <img alt=\"\" height=\"50\" onerror=\"this.outerHTML='&lt;span class=\\'pm_noimg_s\\'&gt;&lt;span class=\\'blind\\'&gt;이미지 준비중&lt;/span&gt;&lt;/span&gt;'\" src=\"https://s.pstatic.net/dthumb.phinf/?src=%22https%3A%2F%2Fshared-comic.pstatic.net%2Fthumb%2Fwebtoon%2F728750%2Fthumbnail%2Fthumbnail_IMAG19_330fd93c-d370-4d74-b4a8-bae5af6d0d61.jpg%22&amp;type=navermain_n100_100\" width=\"50\"/>,\n",
              " <img alt=\"\" height=\"50\" onerror=\"this.outerHTML='&lt;span class=\\'pm_noimg_s\\'&gt;&lt;span class=\\'blind\\'&gt;이미지 준비중&lt;/span&gt;&lt;/span&gt;'\" src=\"https://s.pstatic.net/dthumb.phinf/?src=%22https%3A%2F%2Fshared-comic.pstatic.net%2Fthumb%2Fwebtoon%2F703849%2Fthumbnail%2Fthumbnail_IMAG19_82586650-587d-408c-9fb7-2932262ee8a7.jpg%22&amp;type=navermain_n100_100\" width=\"50\"/>,\n",
              " <img alt=\"\" height=\"54\" onerror=\"this.outerHTML='&lt;span class=\\'pm_noimg_s\\'&gt;&lt;span class=\\'blind\\'&gt;이미지 준비중&lt;/span&gt;&lt;/span&gt;'\" src=\"https://s.pstatic.net/dthumb.phinf/?src=%22https%3A%2F%2Fcomicthumb-phinf.pstatic.net%2F20191018_140%2Fpocket_1571376484417WcBDT_JPEG%2F-_.jpg%22&amp;type=navermain_n76_108\" width=\"38\"/>,\n",
              " <img alt=\"\" height=\"54\" onerror=\"this.outerHTML='&lt;span class=\\'pm_noimg_s\\'&gt;&lt;span class=\\'blind\\'&gt;이미지 준비중&lt;/span&gt;&lt;/span&gt;'\" src=\"https://s.pstatic.net/dthumb.phinf/?src=%22https%3A%2F%2Fcomicthumb-phinf.pstatic.net%2F20211110_119%2Fpocket_1636521259638stwnq_JPEG%2F427931_12_w.jpg%22&amp;type=navermain_n76_108\" width=\"38\"/>,\n",
              " <img alt=\"\" height=\"54\" onerror=\"this.outerHTML='&lt;span class=\\'pm_noimg_s\\'&gt;&lt;span class=\\'blind\\'&gt;이미지 준비중&lt;/span&gt;&lt;/span&gt;'\" src=\"https://s.pstatic.net/dthumb.phinf/?src=%22https%3A%2F%2Fcomicthumb-phinf.pstatic.net%2F20220418_285%2Fpocket_16502413309585ev2T_JPEG%2Fimage.JPEG%22&amp;type=navermain_n76_108\" width=\"38\"/>,\n",
              " <img alt=\"\" height=\"54\" onerror=\"this.outerHTML='&lt;span class=\\'pm_noimg_s\\'&gt;&lt;span class=\\'blind\\'&gt;이미지 준비중&lt;/span&gt;&lt;/span&gt;'\" src=\"https://s.pstatic.net/dthumb.phinf/?src=%22https%3A%2F%2Fcomicthumb-phinf.pstatic.net%2F20210730_276%2Fpocket_1627613698107iTNBd_JPEG%2F_%25284%2529.jpg%22&amp;type=navermain_n76_108\" width=\"38\"/>,\n",
              " <img alt=\"\" height=\"54\" onerror=\"this.outerHTML='&lt;span class=\\'pm_noimg_s\\'&gt;&lt;span class=\\'blind\\'&gt;이미지 준비중&lt;/span&gt;&lt;/span&gt;'\" src=\"https://s.pstatic.net/dthumb.phinf/?src=%22https%3A%2F%2Fcomicthumb-phinf.pstatic.net%2F20200909_236%2Fpocket_1599642879411P9IdK_JPEG%2F_.jpg%22&amp;type=navermain_n76_108\" width=\"38\"/>,\n",
              " <img alt=\"\" height=\"54\" onerror=\"this.outerHTML='&lt;span class=\\'pm_noimg_s\\'&gt;&lt;span class=\\'blind\\'&gt;이미지 준비중&lt;/span&gt;&lt;/span&gt;'\" src=\"https://s.pstatic.net/dthumb.phinf/?src=%22https%3A%2F%2Fcomicthumb-phinf.pstatic.net%2F20201104_181%2Fpocket_1604475520593wvaLc_JPEG%2F___.jpg%22&amp;type=navermain_n76_108\" width=\"38\"/>,\n",
              " <img alt=\"\" height=\"54\" onerror=\"this.outerHTML='&lt;span class=\\'pm_noimg_s\\'&gt;&lt;span class=\\'blind\\'&gt;이미지 준비중&lt;/span&gt;&lt;/span&gt;'\" src=\"https://s.pstatic.net/dthumb.phinf/?src=%22https%3A%2F%2Fcomicthumb-phinf.pstatic.net%2F20210122_8%2Fpocket_1611291180243hOcm3_JPEG%2F--.jpg%22&amp;type=navermain_n76_108\" width=\"38\"/>,\n",
              " <img alt=\"\" height=\"54\" onerror=\"this.outerHTML='&lt;span class=\\'pm_noimg_s\\'&gt;&lt;span class=\\'blind\\'&gt;이미지 준비중&lt;/span&gt;&lt;/span&gt;'\" src=\"https://s.pstatic.net/dthumb.phinf/?src=%22https%3A%2F%2Fcomicthumb-phinf.pstatic.net%2F20190325_297%2Fpocket_1553525262144cfdPJ_JPEG%2Funtitled.jpg%22&amp;type=navermain_n76_108\" width=\"38\"/>,\n",
              " <img alt=\"\" height=\"54\" onerror=\"this.outerHTML='&lt;span class=\\'pm_noimg_s\\'&gt;&lt;span class=\\'blind\\'&gt;이미지 준비중&lt;/span&gt;&lt;/span&gt;'\" src=\"https://s.pstatic.net/dthumb.phinf/?src=%22https%3A%2F%2Fcomicthumb-phinf.pstatic.net%2F20190619_175%2Fpocket_1560948645965kaEIu_JPEG%2F0.jpg%22&amp;type=navermain_n76_108\" width=\"38\"/>,\n",
              " <img alt=\"\" height=\"54\" onerror=\"this.outerHTML='&lt;span class=\\'pm_noimg_s\\'&gt;&lt;span class=\\'blind\\'&gt;이미지 준비중&lt;/span&gt;&lt;/span&gt;'\" src=\"https://s.pstatic.net/dthumb.phinf/?src=%22https%3A%2F%2Fcomicthumb-phinf.pstatic.net%2F20210507_28%2Fpocket_16203283146294JEqu_JPEG%2Fcover.jpg%22&amp;type=navermain_n76_108\" width=\"38\"/>,\n",
              " <img alt=\"\" height=\"54\" onerror=\"this.outerHTML='&lt;span class=\\'pm_noimg_s\\'&gt;&lt;span class=\\'blind\\'&gt;이미지 준비중&lt;/span&gt;&lt;/span&gt;'\" src=\"https://s.pstatic.net/dthumb.phinf/?src=%22https%3A%2F%2Fcomicthumb-phinf.pstatic.net%2F20201104_168%2Fpocket_1604471269389drGo1_JPEG%2F__690X805.jpg%22&amp;type=navermain_n76_108\" width=\"38\"/>,\n",
              " <img alt=\"\" height=\"54\" onerror=\"this.outerHTML='&lt;span class=\\'pm_noimg_s\\'&gt;&lt;span class=\\'blind\\'&gt;이미지 준비중&lt;/span&gt;&lt;/span&gt;'\" src=\"https://s.pstatic.net/dthumb.phinf/?src=%22https%3A%2F%2Fcomicthumb-phinf.pstatic.net%2F20210514_219%2Fpocket_1620979387001SQOOD_JPEG%2F__650x758.jpg%22&amp;type=navermain_n76_108\" width=\"38\"/>,\n",
              " <img alt=\"\" height=\"54\" onerror=\"this.outerHTML='&lt;span class=\\'pm_noimg_s\\'&gt;&lt;span class=\\'blind\\'&gt;이미지 준비중&lt;/span&gt;&lt;/span&gt;'\" src=\"https://s.pstatic.net/dthumb.phinf/?src=%22https%3A%2F%2Fcomicthumb-phinf.pstatic.net%2F20191125_181%2Fpocket_1574644635626jTtM7_JPEG%2F__.jpg%22&amp;type=navermain_n76_108\" width=\"38\"/>,\n",
              " <img alt=\"\" height=\"54\" onerror=\"this.outerHTML='&lt;span class=\\'pm_noimg_s\\'&gt;&lt;span class=\\'blind\\'&gt;이미지 준비중&lt;/span&gt;&lt;/span&gt;'\" src=\"https://s.pstatic.net/dthumb.phinf/?src=%22https%3A%2F%2Fcomicthumb-phinf.pstatic.net%2F20211022_229%2Fpocket_1634897827842fpykX_JPEG%2F%25BD%25C3%25B8%25AE%25C1%25EE_%25C7%25A5%25C1%25F6_650x758.jpg%22&amp;type=navermain_n76_108\" width=\"38\"/>,\n",
              " <img alt=\"\" height=\"54\" onerror=\"this.outerHTML='&lt;span class=\\'pm_noimg_s\\'&gt;&lt;span class=\\'blind\\'&gt;이미지 준비중&lt;/span&gt;&lt;/span&gt;'\" src=\"https://s.pstatic.net/dthumb.phinf/?src=%22https%3A%2F%2Fcomicthumb-phinf.pstatic.net%2F20220221_69%2Fpocket_1645385084956MyQ4H_JPEG%2F%25BA%25E4%25B1%25BA_%25B9%25CC%25B8%25AE%25BA%25B8%25B1%25E2_758_%25281%2529.JPG%22&amp;type=navermain_n76_108\" width=\"38\"/>,\n",
              " <img alt=\"\" height=\"54\" onerror=\"this.outerHTML='&lt;span class=\\'pm_noimg_s\\'&gt;&lt;span class=\\'blind\\'&gt;이미지 준비중&lt;/span&gt;&lt;/span&gt;'\" src=\"https://s.pstatic.net/dthumb.phinf/?src=%22https%3A%2F%2Fcomicthumb-phinf.pstatic.net%2F20191115_183%2Fpocket_1573808306445XFvXz_JPEG%2F___690-1000.jpg%22&amp;type=navermain_n76_108\" width=\"38\"/>,\n",
              " <img alt=\"\" height=\"54\" onerror=\"this.outerHTML='&lt;span class=\\'pm_noimg_s\\'&gt;&lt;span class=\\'blind\\'&gt;이미지 준비중&lt;/span&gt;&lt;/span&gt;'\" src=\"https://s.pstatic.net/dthumb.phinf/?src=%22https%3A%2F%2Fcomicthumb-phinf.pstatic.net%2F20200814_299%2Fpocket_1597406388173O2ojz_JPEG%2F300x430.jpg%22&amp;type=navermain_n76_108\" width=\"38\"/>,\n",
              " <img alt=\"\" height=\"54\" onerror=\"this.outerHTML='&lt;span class=\\'pm_noimg_s\\'&gt;&lt;span class=\\'blind\\'&gt;이미지 준비중&lt;/span&gt;&lt;/span&gt;'\" src=\"https://s.pstatic.net/dthumb.phinf/?src=%22https%3A%2F%2Fcomicthumb-phinf.pstatic.net%2F20200601_189%2Fpocket_1591001490793bfHEC_JPEG%2Fimage.JPEG%22&amp;type=navermain_n76_108\" width=\"38\"/>,\n",
              " <img alt=\"\" height=\"54\" onerror=\"this.outerHTML='&lt;span class=\\'pm_noimg_s\\'&gt;&lt;span class=\\'blind\\'&gt;이미지 준비중&lt;/span&gt;&lt;/span&gt;'\" src=\"https://s.pstatic.net/dthumb.phinf/?src=%22https%3A%2F%2Fcomicthumb-phinf.pstatic.net%2F20170314_10%2Fpocket_1489467220338ooh7R_JPEG%2Fimage.JPEG%22&amp;type=navermain_n76_108\" width=\"38\"/>,\n",
              " <img alt=\"\" height=\"54\" onerror=\"this.outerHTML='&lt;span class=\\'pm_noimg_s\\'&gt;&lt;span class=\\'blind\\'&gt;이미지 준비중&lt;/span&gt;&lt;/span&gt;'\" src=\"https://s.pstatic.net/dthumb.phinf/?src=%22https%3A%2F%2Fcomicthumb-phinf.pstatic.net%2F20170406_105%2Fpocket_1491466098694tkVQ6_JPEG%2F001.jpg%22&amp;type=navermain_n76_108\" width=\"38\"/>,\n",
              " <img alt=\"\" height=\"50\" onerror=\"this.outerHTML='&lt;span class=\\'pm_noimg_s\\'&gt;&lt;span class=\\'blind\\'&gt;이미지 준비중&lt;/span&gt;&lt;/span&gt;'\" src=\"https://s.pstatic.net/dthumb.phinf/?src=%22https%3A%2F%2Fnovel-phinf.pstatic.net%2F20210428_55%2Fnovel_1619588203068xgKqT_JPEG%2F320%252B320.jpg%22&amp;type=navermain_n100_100\" width=\"50\"/>,\n",
              " <img alt=\"\" height=\"50\" onerror=\"this.outerHTML='&lt;span class=\\'pm_noimg_s\\'&gt;&lt;span class=\\'blind\\'&gt;이미지 준비중&lt;/span&gt;&lt;/span&gt;'\" src=\"https://s.pstatic.net/dthumb.phinf/?src=%22https%3A%2F%2Fnovel-phinf.pstatic.net%2F20200226_172%2Fnovel_1582709354644OqWSN_JPEG%2F3202B320.jpg%22&amp;type=navermain_n100_100\" width=\"50\"/>,\n",
              " <img alt=\"\" height=\"50\" onerror=\"this.outerHTML='&lt;span class=\\'pm_noimg_s\\'&gt;&lt;span class=\\'blind\\'&gt;이미지 준비중&lt;/span&gt;&lt;/span&gt;'\" src=\"https://s.pstatic.net/dthumb.phinf/?src=%22https%3A%2F%2Fnovel-phinf.pstatic.net%2F20210729_233%2Fnovel_1627552110410lf2fB_JPEG%2F320%252B320.jpg%22&amp;type=navermain_n100_100\" width=\"50\"/>,\n",
              " <img alt=\"\" height=\"50\" onerror=\"this.outerHTML='&lt;span class=\\'pm_noimg_s\\'&gt;&lt;span class=\\'blind\\'&gt;이미지 준비중&lt;/span&gt;&lt;/span&gt;'\" src=\"https://s.pstatic.net/dthumb.phinf/?src=%22https%3A%2F%2Fnovel-phinf.pstatic.net%2F20200925_55%2Fnovel_160101985706876LCE_JPEG%2F320%252B320.jpg%22&amp;type=navermain_n100_100\" width=\"50\"/>,\n",
              " <img alt=\"\" height=\"50\" onerror=\"this.outerHTML='&lt;span class=\\'pm_noimg_s\\'&gt;&lt;span class=\\'blind\\'&gt;이미지 준비중&lt;/span&gt;&lt;/span&gt;'\" src=\"https://s.pstatic.net/dthumb.phinf/?src=%22https%3A%2F%2Fnovel-phinf.pstatic.net%2F20210428_297%2Fnovel_1619587437337JkkbI_JPEG%2F320%252B320.jpg%22&amp;type=navermain_n100_100\" width=\"50\"/>,\n",
              " <img alt=\"\" height=\"50\" onerror=\"this.outerHTML='&lt;span class=\\'pm_noimg_s\\'&gt;&lt;span class=\\'blind\\'&gt;이미지 준비중&lt;/span&gt;&lt;/span&gt;'\" src=\"https://s.pstatic.net/dthumb.phinf/?src=%22https%3A%2F%2Fnovel-phinf.pstatic.net%2F20201127_246%2Fnovel_1606471202696L5jFX_JPEG%2F320x320.jpg%22&amp;type=navermain_n100_100\" width=\"50\"/>,\n",
              " <img alt=\"\" height=\"50\" onerror=\"this.outerHTML='&lt;span class=\\'pm_noimg_s\\'&gt;&lt;span class=\\'blind\\'&gt;이미지 준비중&lt;/span&gt;&lt;/span&gt;'\" src=\"https://s.pstatic.net/dthumb.phinf/?src=%22https%3A%2F%2Fnovel-phinf.pstatic.net%2F20210630_44%2Fnovel_16250492604789wgGh_JPEG%2F320%252B320.jpg%22&amp;type=navermain_n100_100\" width=\"50\"/>,\n",
              " <img alt=\"\" height=\"50\" onerror=\"this.outerHTML='&lt;span class=\\'pm_noimg_s\\'&gt;&lt;span class=\\'blind\\'&gt;이미지 준비중&lt;/span&gt;&lt;/span&gt;'\" src=\"https://s.pstatic.net/dthumb.phinf/?src=%22https%3A%2F%2Fnovel-phinf.pstatic.net%2F20210826_156%2Fnovel_1629946087113oi0dA_JPEG%2F320%252B320.jpg%22&amp;type=navermain_n100_100\" width=\"50\"/>,\n",
              " <img alt=\"\" height=\"50\" onerror=\"this.outerHTML='&lt;span class=\\'pm_noimg_s\\'&gt;&lt;span class=\\'blind\\'&gt;이미지 준비중&lt;/span&gt;&lt;/span&gt;'\" src=\"https://s.pstatic.net/dthumb.phinf/?src=%22https%3A%2F%2Fnovel-phinf.pstatic.net%2F20210331_51%2Fnovel_1617157156384YSn6z_JPEG%2F320%252B320.jpg%22&amp;type=navermain_n100_100\" width=\"50\"/>,\n",
              " <img alt=\"\" height=\"50\" onerror=\"this.outerHTML='&lt;span class=\\'pm_noimg_s\\'&gt;&lt;span class=\\'blind\\'&gt;이미지 준비중&lt;/span&gt;&lt;/span&gt;'\" src=\"https://s.pstatic.net/dthumb.phinf/?src=%22https%3A%2F%2Fnovel-phinf.pstatic.net%2F20210630_152%2Fnovel_1625049091159nbJO4_JPEG%2F320%252B320.jpg%22&amp;type=navermain_n100_100\" width=\"50\"/>,\n",
              " <img alt=\"\" data-src=\"https://s.pstatic.net/dthumb.phinf/?src=%22https%3A%2F%2Fs.pstatic.net%2Fstatic%2Fwww%2Fmobile%2Fedit%2F20220405_1095%2Fupload_1649152325776W4rMU.jpg%22&amp;type=nf464_260\" height=\"130\" onerror=\"this.outerHTML='&lt;span class=\\'pm_noimg\\'&gt;&lt;span class=\\'noimg_text\\'&gt;이미지 준비중&lt;/span&gt;&lt;/span&gt;'\" src=\"https://s.pstatic.net/dthumb.phinf/?src=%22https%3A%2F%2Fs.pstatic.net%2Fstatic%2Fwww%2Fmobile%2Fedit%2F20220405_1095%2Fupload_1649152325776W4rMU.jpg%22&amp;type=nf464_260\" width=\"232\"/>,\n",
              " <img alt=\"\" data-src=\"https://s.pstatic.net/dthumb.phinf/?src=%22https%3A%2F%2Fs.pstatic.net%2Fstatic%2Fwww%2Fmobile%2Fedit%2F20220403_1095%2Fupload_1648911905755WlepH.jpg%22&amp;type=nf464_260\" height=\"130\" onerror=\"this.outerHTML='&lt;span class=\\'pm_noimg\\'&gt;&lt;span class=\\'noimg_text\\'&gt;이미지 준비중&lt;/span&gt;&lt;/span&gt;'\" src=\"https://s.pstatic.net/dthumb.phinf/?src=%22https%3A%2F%2Fs.pstatic.net%2Fstatic%2Fwww%2Fmobile%2Fedit%2F20220403_1095%2Fupload_1648911905755WlepH.jpg%22&amp;type=nf464_260\" width=\"232\"/>,\n",
              " <img alt=\"\" data-src=\"https://s.pstatic.net/dthumb.phinf/?src=%22https%3A%2F%2Fs.pstatic.net%2Fstatic%2Fwww%2Fmobile%2Fedit%2F20220331_1095%2Fupload_16487158245135fmU6.jpg%22&amp;type=nf464_260\" height=\"130\" onerror=\"this.outerHTML='&lt;span class=\\'pm_noimg\\'&gt;&lt;span class=\\'noimg_text\\'&gt;이미지 준비중&lt;/span&gt;&lt;/span&gt;'\" src=\"https://s.pstatic.net/dthumb.phinf/?src=%22https%3A%2F%2Fs.pstatic.net%2Fstatic%2Fwww%2Fmobile%2Fedit%2F20220331_1095%2Fupload_16487158245135fmU6.jpg%22&amp;type=nf464_260\" width=\"232\"/>,\n",
              " <img alt=\"\" data-src=\"https://s.pstatic.net/dthumb.phinf/?src=%22https%3A%2F%2Fs.pstatic.net%2Fstatic%2Fwww%2Fmobile%2Fedit%2F20220331_1095%2Fupload_1648715526070ECmdD.jpg%22&amp;type=nf464_260\" height=\"130\" onerror=\"this.outerHTML='&lt;span class=\\'pm_noimg\\'&gt;&lt;span class=\\'noimg_text\\'&gt;이미지 준비중&lt;/span&gt;&lt;/span&gt;'\" src=\"https://s.pstatic.net/dthumb.phinf/?src=%22https%3A%2F%2Fs.pstatic.net%2Fstatic%2Fwww%2Fmobile%2Fedit%2F20220331_1095%2Fupload_1648715526070ECmdD.jpg%22&amp;type=nf464_260\" width=\"232\"/>,\n",
              " <img alt=\"\" data-src=\"https://s.pstatic.net/dthumb.phinf/?src=%22https%3A%2F%2Fs.pstatic.net%2Fstatic%2Fwww%2Fmobile%2Fedit%2F20220331_1095%2Fupload_1648714734169rtOXZ.jpg%22&amp;type=nf464_260\" height=\"130\" onerror=\"this.outerHTML='&lt;span class=\\'pm_noimg\\'&gt;&lt;span class=\\'noimg_text\\'&gt;이미지 준비중&lt;/span&gt;&lt;/span&gt;'\" src=\"https://s.pstatic.net/dthumb.phinf/?src=%22https%3A%2F%2Fs.pstatic.net%2Fstatic%2Fwww%2Fmobile%2Fedit%2F20220331_1095%2Fupload_1648714734169rtOXZ.jpg%22&amp;type=nf464_260\" width=\"232\"/>,\n",
              " <img alt=\"\" data-src=\"https://s.pstatic.net/dthumb.phinf/?src=%22https%3A%2F%2Fs.pstatic.net%2Fstatic%2Fwww%2Fmobile%2Fedit%2F20220331_1095%2Fupload_16487155993226FkVw.jpg%22&amp;type=nf464_260\" height=\"130\" onerror=\"this.outerHTML='&lt;span class=\\'pm_noimg\\'&gt;&lt;span class=\\'noimg_text\\'&gt;이미지 준비중&lt;/span&gt;&lt;/span&gt;'\" src=\"https://s.pstatic.net/dthumb.phinf/?src=%22https%3A%2F%2Fs.pstatic.net%2Fstatic%2Fwww%2Fmobile%2Fedit%2F20220331_1095%2Fupload_16487155993226FkVw.jpg%22&amp;type=nf464_260\" width=\"232\"/>,\n",
              " <img alt=\"\" data-src=\"https://s.pstatic.net/dthumb.phinf/?src=%22https%3A%2F%2Fs.pstatic.net%2Fstatic%2Fwww%2Fmobile%2Fedit%2F20220330_1095%2Fupload_16486350599885SVdE.jpg%22&amp;type=nf464_260\" height=\"130\" onerror=\"this.outerHTML='&lt;span class=\\'pm_noimg\\'&gt;&lt;span class=\\'noimg_text\\'&gt;이미지 준비중&lt;/span&gt;&lt;/span&gt;'\" src=\"https://s.pstatic.net/dthumb.phinf/?src=%22https%3A%2F%2Fs.pstatic.net%2Fstatic%2Fwww%2Fmobile%2Fedit%2F20220330_1095%2Fupload_16486350599885SVdE.jpg%22&amp;type=nf464_260\" width=\"232\"/>,\n",
              " <img alt=\"\" data-src=\"https://s.pstatic.net/dthumb.phinf/?src=%22https%3A%2F%2Fs.pstatic.net%2Fstatic%2Fwww%2Fmobile%2Fedit%2F20220330_1095%2Fupload_1648633452370jcR6O.jpg%22&amp;type=nf464_260\" height=\"130\" onerror=\"this.outerHTML='&lt;span class=\\'pm_noimg\\'&gt;&lt;span class=\\'noimg_text\\'&gt;이미지 준비중&lt;/span&gt;&lt;/span&gt;'\" src=\"https://s.pstatic.net/dthumb.phinf/?src=%22https%3A%2F%2Fs.pstatic.net%2Fstatic%2Fwww%2Fmobile%2Fedit%2F20220330_1095%2Fupload_1648633452370jcR6O.jpg%22&amp;type=nf464_260\" width=\"232\"/>,\n",
              " <img alt=\"\" data-src=\"https://s.pstatic.net/dthumb.phinf/?src=%22https%3A%2F%2Fs.pstatic.net%2Fstatic%2Fwww%2Fmobile%2Fedit%2F20220330_1095%2Fupload_164863493868755bMk.jpg%22&amp;type=nf464_260\" height=\"130\" onerror=\"this.outerHTML='&lt;span class=\\'pm_noimg\\'&gt;&lt;span class=\\'noimg_text\\'&gt;이미지 준비중&lt;/span&gt;&lt;/span&gt;'\" src=\"https://s.pstatic.net/dthumb.phinf/?src=%22https%3A%2F%2Fs.pstatic.net%2Fstatic%2Fwww%2Fmobile%2Fedit%2F20220330_1095%2Fupload_164863493868755bMk.jpg%22&amp;type=nf464_260\" width=\"232\"/>,\n",
              " <img alt=\"\" data-src=\"https://s.pstatic.net/dthumb.phinf/?src=%22https%3A%2F%2Fs.pstatic.net%2Fstatic%2Fwww%2Fmobile%2Fedit%2F20220330_1095%2Fupload_1648633419129cKC2S.jpg%22&amp;type=nf464_260\" height=\"130\" onerror=\"this.outerHTML='&lt;span class=\\'pm_noimg\\'&gt;&lt;span class=\\'noimg_text\\'&gt;이미지 준비중&lt;/span&gt;&lt;/span&gt;'\" src=\"https://s.pstatic.net/dthumb.phinf/?src=%22https%3A%2F%2Fs.pstatic.net%2Fstatic%2Fwww%2Fmobile%2Fedit%2F20220330_1095%2Fupload_1648633419129cKC2S.jpg%22&amp;type=nf464_260\" width=\"232\"/>,\n",
              " <img alt=\"\" data-src=\"https://s.pstatic.net/dthumb.phinf/?src=%22https%3A%2F%2Fs.pstatic.net%2Fstatic%2Fwww%2Fmobile%2Fedit%2F20220330_1095%2Fupload_1648631220723LtX1s.jpg%22&amp;type=nf464_260\" height=\"130\" onerror=\"this.outerHTML='&lt;span class=\\'pm_noimg\\'&gt;&lt;span class=\\'noimg_text\\'&gt;이미지 준비중&lt;/span&gt;&lt;/span&gt;'\" src=\"https://s.pstatic.net/dthumb.phinf/?src=%22https%3A%2F%2Fs.pstatic.net%2Fstatic%2Fwww%2Fmobile%2Fedit%2F20220330_1095%2Fupload_1648631220723LtX1s.jpg%22&amp;type=nf464_260\" width=\"232\"/>,\n",
              " <img alt=\"\" data-src=\"https://s.pstatic.net/dthumb.phinf/?src=%22https%3A%2F%2Fs.pstatic.net%2Fstatic%2Fwww%2Fmobile%2Fedit%2F20220329_1095%2Fupload_1648546421340Qp9JU.jpg%22&amp;type=nf464_260\" height=\"130\" onerror=\"this.outerHTML='&lt;span class=\\'pm_noimg\\'&gt;&lt;span class=\\'noimg_text\\'&gt;이미지 준비중&lt;/span&gt;&lt;/span&gt;'\" src=\"https://s.pstatic.net/dthumb.phinf/?src=%22https%3A%2F%2Fs.pstatic.net%2Fstatic%2Fwww%2Fmobile%2Fedit%2F20220329_1095%2Fupload_1648546421340Qp9JU.jpg%22&amp;type=nf464_260\" width=\"232\"/>,\n",
              " <img alt=\"\" data-src=\"https://s.pstatic.net/dthumb.phinf/?src=%22https%3A%2F%2Fs.pstatic.net%2Fstatic%2Fwww%2Fmobile%2Fedit%2F20220329_1095%2Fupload_1648546628722DL6DL.jpg%22&amp;type=nf464_260\" height=\"130\" onerror=\"this.outerHTML='&lt;span class=\\'pm_noimg\\'&gt;&lt;span class=\\'noimg_text\\'&gt;이미지 준비중&lt;/span&gt;&lt;/span&gt;'\" src=\"https://s.pstatic.net/dthumb.phinf/?src=%22https%3A%2F%2Fs.pstatic.net%2Fstatic%2Fwww%2Fmobile%2Fedit%2F20220329_1095%2Fupload_1648546628722DL6DL.jpg%22&amp;type=nf464_260\" width=\"232\"/>,\n",
              " <img alt=\"\" data-src=\"https://s.pstatic.net/dthumb.phinf/?src=%22https%3A%2F%2Fs.pstatic.net%2Fstatic%2Fwww%2Fmobile%2Fedit%2F20220330_1095%2Fupload_1648627125229ObCT7.jpg%22&amp;type=nf464_260\" height=\"130\" onerror=\"this.outerHTML='&lt;span class=\\'pm_noimg\\'&gt;&lt;span class=\\'noimg_text\\'&gt;이미지 준비중&lt;/span&gt;&lt;/span&gt;'\" src=\"https://s.pstatic.net/dthumb.phinf/?src=%22https%3A%2F%2Fs.pstatic.net%2Fstatic%2Fwww%2Fmobile%2Fedit%2F20220330_1095%2Fupload_1648627125229ObCT7.jpg%22&amp;type=nf464_260\" width=\"232\"/>,\n",
              " <img alt=\"\" data-src=\"https://s.pstatic.net/dthumb.phinf/?src=%22https%3A%2F%2Fs.pstatic.net%2Fstatic%2Fwww%2Fmobile%2Fedit%2F20220329_1095%2Fupload_1648525888877n449x.jpg%22&amp;type=nf464_260\" height=\"130\" onerror=\"this.outerHTML='&lt;span class=\\'pm_noimg\\'&gt;&lt;span class=\\'noimg_text\\'&gt;이미지 준비중&lt;/span&gt;&lt;/span&gt;'\" src=\"https://s.pstatic.net/dthumb.phinf/?src=%22https%3A%2F%2Fs.pstatic.net%2Fstatic%2Fwww%2Fmobile%2Fedit%2F20220329_1095%2Fupload_1648525888877n449x.jpg%22&amp;type=nf464_260\" width=\"232\"/>,\n",
              " <img alt=\"\" data-src=\"https://s.pstatic.net/dthumb.phinf/?src=%22https%3A%2F%2Fs.pstatic.net%2Fstatic%2Fwww%2Fmobile%2Fedit%2F20220329_1095%2Fupload_1648525853478ZvBZh.jpg%22&amp;type=nf464_260\" height=\"130\" onerror=\"this.outerHTML='&lt;span class=\\'pm_noimg\\'&gt;&lt;span class=\\'noimg_text\\'&gt;이미지 준비중&lt;/span&gt;&lt;/span&gt;'\" src=\"https://s.pstatic.net/dthumb.phinf/?src=%22https%3A%2F%2Fs.pstatic.net%2Fstatic%2Fwww%2Fmobile%2Fedit%2F20220329_1095%2Fupload_1648525853478ZvBZh.jpg%22&amp;type=nf464_260\" width=\"232\"/>,\n",
              " <img alt=\"\" data-src=\"https://s.pstatic.net/dthumb.phinf/?src=%22https%3A%2F%2Fs.pstatic.net%2Fstatic%2Fwww%2Fmobile%2Fedit%2F20220328_1095%2Fupload_1648457243122NTFWq.jpg%22&amp;type=nf464_260\" height=\"130\" onerror=\"this.outerHTML='&lt;span class=\\'pm_noimg\\'&gt;&lt;span class=\\'noimg_text\\'&gt;이미지 준비중&lt;/span&gt;&lt;/span&gt;'\" src=\"https://s.pstatic.net/dthumb.phinf/?src=%22https%3A%2F%2Fs.pstatic.net%2Fstatic%2Fwww%2Fmobile%2Fedit%2F20220328_1095%2Fupload_1648457243122NTFWq.jpg%22&amp;type=nf464_260\" width=\"232\"/>,\n",
              " <img alt=\"\" data-src=\"https://s.pstatic.net/dthumb.phinf/?src=%22https%3A%2F%2Fs.pstatic.net%2Fstatic%2Fwww%2Fmobile%2Fedit%2F20220329_1095%2Fupload_16485351699375MWki.jpg%22&amp;type=nf464_260\" height=\"130\" onerror=\"this.outerHTML='&lt;span class=\\'pm_noimg\\'&gt;&lt;span class=\\'noimg_text\\'&gt;이미지 준비중&lt;/span&gt;&lt;/span&gt;'\" src=\"https://s.pstatic.net/dthumb.phinf/?src=%22https%3A%2F%2Fs.pstatic.net%2Fstatic%2Fwww%2Fmobile%2Fedit%2F20220329_1095%2Fupload_16485351699375MWki.jpg%22&amp;type=nf464_260\" width=\"232\"/>,\n",
              " <img alt=\"\" data-src=\"https://s.pstatic.net/dthumb.phinf/?src=%22https%3A%2F%2Fs.pstatic.net%2Fstatic%2Fwww%2Fmobile%2Fedit%2F20220328_1095%2Fupload_1648439962350ZgPYv.jpg%22&amp;type=nf464_260\" height=\"130\" onerror=\"this.outerHTML='&lt;span class=\\'pm_noimg\\'&gt;&lt;span class=\\'noimg_text\\'&gt;이미지 준비중&lt;/span&gt;&lt;/span&gt;'\" width=\"232\"/>,\n",
              " <img alt=\"\" data-src=\"https://s.pstatic.net/dthumb.phinf/?src=%22https%3A%2F%2Fs.pstatic.net%2Fstatic%2Fwww%2Fmobile%2Fedit%2F20220328_1095%2Fupload_1648439935518yJfTW.jpg%22&amp;type=nf464_260\" height=\"130\" onerror=\"this.outerHTML='&lt;span class=\\'pm_noimg\\'&gt;&lt;span class=\\'noimg_text\\'&gt;이미지 준비중&lt;/span&gt;&lt;/span&gt;'\" width=\"232\"/>,\n",
              " <img alt=\"\" data-src=\"https://s.pstatic.net/dthumb.phinf/?src=%22https%3A%2F%2Fs.pstatic.net%2Fstatic%2Fwww%2Fmobile%2Fedit%2F20220325_1095%2Fupload_1648203044377mYzuC.jpg%22&amp;type=nf464_260\" height=\"130\" onerror=\"this.outerHTML='&lt;span class=\\'pm_noimg\\'&gt;&lt;span class=\\'noimg_text\\'&gt;이미지 준비중&lt;/span&gt;&lt;/span&gt;'\" width=\"232\"/>,\n",
              " <img alt=\"\" data-src=\"https://s.pstatic.net/dthumb.phinf/?src=%22https%3A%2F%2Fs.pstatic.net%2Fstatic%2Fwww%2Fmobile%2Fedit%2F20220325_1095%2Fupload_1648203119325ilT7W.jpg%22&amp;type=nf464_260\" height=\"130\" onerror=\"this.outerHTML='&lt;span class=\\'pm_noimg\\'&gt;&lt;span class=\\'noimg_text\\'&gt;이미지 준비중&lt;/span&gt;&lt;/span&gt;'\" width=\"232\"/>,\n",
              " <img alt=\"\" data-src=\"https://s.pstatic.net/dthumb.phinf/?src=%22https%3A%2F%2Fs.pstatic.net%2Fstatic%2Fwww%2Fmobile%2Fedit%2F20220324_1095%2Fupload_1648112127896JZOaI.jpg%22&amp;type=nf464_260\" height=\"130\" onerror=\"this.outerHTML='&lt;span class=\\'pm_noimg\\'&gt;&lt;span class=\\'noimg_text\\'&gt;이미지 준비중&lt;/span&gt;&lt;/span&gt;'\" width=\"232\"/>,\n",
              " <img alt=\"\" data-src=\"https://s.pstatic.net/dthumb.phinf/?src=%22https%3A%2F%2Fs.pstatic.net%2Fstatic%2Fwww%2Fmobile%2Fedit%2F20220324_1095%2Fupload_1648112136501AcMnD.jpg%22&amp;type=nf464_260\" height=\"130\" onerror=\"this.outerHTML='&lt;span class=\\'pm_noimg\\'&gt;&lt;span class=\\'noimg_text\\'&gt;이미지 준비중&lt;/span&gt;&lt;/span&gt;'\" width=\"232\"/>,\n",
              " <img alt=\"\" data-src=\"https://s.pstatic.net/dthumb.phinf/?src=%22https%3A%2F%2Fs.pstatic.net%2Fstatic%2Fwww%2Fmobile%2Fedit%2F20220325_1095%2Fupload_1648202979353uy2Ya.jpg%22&amp;type=nf464_260\" height=\"130\" onerror=\"this.outerHTML='&lt;span class=\\'pm_noimg\\'&gt;&lt;span class=\\'noimg_text\\'&gt;이미지 준비중&lt;/span&gt;&lt;/span&gt;'\" width=\"232\"/>,\n",
              " <img alt=\"\" data-src=\"https://s.pstatic.net/dthumb.phinf/?src=%22https%3A%2F%2Fs.pstatic.net%2Fstatic%2Fwww%2Fmobile%2Fedit%2F20220325_1095%2Fupload_1648202863090Hbpoz.jpg%22&amp;type=nf464_260\" height=\"130\" onerror=\"this.outerHTML='&lt;span class=\\'pm_noimg\\'&gt;&lt;span class=\\'noimg_text\\'&gt;이미지 준비중&lt;/span&gt;&lt;/span&gt;'\" width=\"232\"/>,\n",
              " <img alt=\"\" data-src=\"https://s.pstatic.net/dthumb.phinf/?src=%22https%3A%2F%2Fs.pstatic.net%2Fstatic%2Fwww%2Fmobile%2Fedit%2F20220325_1095%2Fupload_1648203014982ORus1.jpg%22&amp;type=nf464_260\" height=\"130\" onerror=\"this.outerHTML='&lt;span class=\\'pm_noimg\\'&gt;&lt;span class=\\'noimg_text\\'&gt;이미지 준비중&lt;/span&gt;&lt;/span&gt;'\" width=\"232\"/>,\n",
              " <img alt=\"\" data-src=\"https://s.pstatic.net/dthumb.phinf/?src=%22https%3A%2F%2Fs.pstatic.net%2Fstatic%2Fwww%2Fmobile%2Fedit%2F20220324_1095%2Fupload_1648113157658azlNE.jpg%22&amp;type=nf464_260\" height=\"130\" onerror=\"this.outerHTML='&lt;span class=\\'pm_noimg\\'&gt;&lt;span class=\\'noimg_text\\'&gt;이미지 준비중&lt;/span&gt;&lt;/span&gt;'\" width=\"232\"/>,\n",
              " <img alt=\"\" data-src=\"https://s.pstatic.net/dthumb.phinf/?src=%22https%3A%2F%2Fs.pstatic.net%2Fstatic%2Fwww%2Fmobile%2Fedit%2F20220324_1095%2Fupload_1648113145533HztP5.jpg%22&amp;type=nf464_260\" height=\"130\" onerror=\"this.outerHTML='&lt;span class=\\'pm_noimg\\'&gt;&lt;span class=\\'noimg_text\\'&gt;이미지 준비중&lt;/span&gt;&lt;/span&gt;'\" width=\"232\"/>,\n",
              " <img alt=\"\" data-src=\"https://s.pstatic.net/dthumb.phinf/?src=%22https%3A%2F%2Fs.pstatic.net%2Fstatic%2Fwww%2Fmobile%2Fedit%2F20220325_1095%2Fupload_1648202637618vwRY6.jpg%22&amp;type=nf464_260\" height=\"130\" onerror=\"this.outerHTML='&lt;span class=\\'pm_noimg\\'&gt;&lt;span class=\\'noimg_text\\'&gt;이미지 준비중&lt;/span&gt;&lt;/span&gt;'\" width=\"232\"/>,\n",
              " <img alt=\"\" data-src=\"https://s.pstatic.net/dthumb.phinf/?src=%22https%3A%2F%2Fs.pstatic.net%2Fstatic%2Fwww%2Fmobile%2Fedit%2F20220325_1095%2Fupload_1648202526263LRRpu.jpg%22&amp;type=nf464_260\" height=\"130\" onerror=\"this.outerHTML='&lt;span class=\\'pm_noimg\\'&gt;&lt;span class=\\'noimg_text\\'&gt;이미지 준비중&lt;/span&gt;&lt;/span&gt;'\" width=\"232\"/>,\n",
              " <img alt=\"\" data-src=\"https://s.pstatic.net/dthumb.phinf/?src=%22https%3A%2F%2Fs.pstatic.net%2Fstatic%2Fwww%2Fmobile%2Fedit%2F20220324_1095%2Fupload_1648117214949EkajI.jpg%22&amp;type=nf464_260\" height=\"130\" onerror=\"this.outerHTML='&lt;span class=\\'pm_noimg\\'&gt;&lt;span class=\\'noimg_text\\'&gt;이미지 준비중&lt;/span&gt;&lt;/span&gt;'\" width=\"232\"/>,\n",
              " <img alt=\"\" data-src=\"https://s.pstatic.net/dthumb.phinf/?src=%22https%3A%2F%2Fs.pstatic.net%2Fstatic%2Fwww%2Fmobile%2Fedit%2F20220324_1095%2Fupload_1648117261774oOeN5.jpg%22&amp;type=nf464_260\" height=\"130\" onerror=\"this.outerHTML='&lt;span class=\\'pm_noimg\\'&gt;&lt;span class=\\'noimg_text\\'&gt;이미지 준비중&lt;/span&gt;&lt;/span&gt;'\" width=\"232\"/>,\n",
              " <img alt=\"\" data-src=\"https://s.pstatic.net/dthumb.phinf/?src=%22https%3A%2F%2Fs.pstatic.net%2Fstatic%2Fwww%2Fmobile%2Fedit%2F20220325_1095%2Fupload_1648202751581uRIPK.jpg%22&amp;type=nf464_260\" height=\"130\" onerror=\"this.outerHTML='&lt;span class=\\'pm_noimg\\'&gt;&lt;span class=\\'noimg_text\\'&gt;이미지 준비중&lt;/span&gt;&lt;/span&gt;'\" width=\"232\"/>,\n",
              " <img alt=\"\" data-src=\"https://s.pstatic.net/dthumb.phinf/?src=%22https%3A%2F%2Fs.pstatic.net%2Fstatic%2Fwww%2Fmobile%2Fedit%2F20220325_1095%2Fupload_16482028406614p14Y.jpg%22&amp;type=nf464_260\" height=\"130\" onerror=\"this.outerHTML='&lt;span class=\\'pm_noimg\\'&gt;&lt;span class=\\'noimg_text\\'&gt;이미지 준비중&lt;/span&gt;&lt;/span&gt;'\" width=\"232\"/>,\n",
              " <img alt=\"\" data-src=\"https://s.pstatic.net/dthumb.phinf/?src=%22https%3A%2F%2Fs.pstatic.net%2Fstatic%2Fwww%2Fmobile%2Fedit%2F20220325_1095%2Fupload_1648202627769Mqod3.jpg%22&amp;type=nf464_260\" height=\"130\" onerror=\"this.outerHTML='&lt;span class=\\'pm_noimg\\'&gt;&lt;span class=\\'noimg_text\\'&gt;이미지 준비중&lt;/span&gt;&lt;/span&gt;'\" width=\"232\"/>,\n",
              " <img alt=\"\" data-src=\"https://s.pstatic.net/dthumb.phinf/?src=%22https%3A%2F%2Fs.pstatic.net%2Fstatic%2Fwww%2Fmobile%2Fedit%2F20220325_1095%2Fupload_1648202933791U02Ku.jpg%22&amp;type=nf464_260\" height=\"130\" onerror=\"this.outerHTML='&lt;span class=\\'pm_noimg\\'&gt;&lt;span class=\\'noimg_text\\'&gt;이미지 준비중&lt;/span&gt;&lt;/span&gt;'\" width=\"232\"/>,\n",
              " <img alt=\"\" data-src=\"https://s.pstatic.net/dthumb.phinf/?src=%22https%3A%2F%2Fs.pstatic.net%2Fstatic%2Fwww%2Fmobile%2Fedit%2F20220324_1095%2Fupload_1648115607296ixUDH.jpg%22&amp;type=nf464_260\" height=\"130\" onerror=\"this.outerHTML='&lt;span class=\\'pm_noimg\\'&gt;&lt;span class=\\'noimg_text\\'&gt;이미지 준비중&lt;/span&gt;&lt;/span&gt;'\" width=\"232\"/>,\n",
              " <img alt=\"\" data-src=\"https://s.pstatic.net/dthumb.phinf/?src=%22https%3A%2F%2Fs.pstatic.net%2Fstatic%2Fwww%2Fmobile%2Fedit%2F20220324_1095%2Fupload_1648115196663aCiwq.jpg%22&amp;type=nf464_260\" height=\"130\" onerror=\"this.outerHTML='&lt;span class=\\'pm_noimg\\'&gt;&lt;span class=\\'noimg_text\\'&gt;이미지 준비중&lt;/span&gt;&lt;/span&gt;'\" width=\"232\"/>,\n",
              " <img alt=\"\" data-src=\"https://s.pstatic.net/dthumb.phinf/?src=%22https%3A%2F%2Fs.pstatic.net%2Fstatic%2Fwww%2Fmobile%2Fedit%2F20220323_1095%2Fupload_164801643561546zF1.jpg%22&amp;type=nf464_260\" height=\"130\" onerror=\"this.outerHTML='&lt;span class=\\'pm_noimg\\'&gt;&lt;span class=\\'noimg_text\\'&gt;이미지 준비중&lt;/span&gt;&lt;/span&gt;'\" width=\"232\"/>,\n",
              " <img alt=\"\" data-src=\"https://s.pstatic.net/dthumb.phinf/?src=%22https%3A%2F%2Fs.pstatic.net%2Fstatic%2Fwww%2Fmobile%2Fedit%2F20220323_1095%2Fupload_1648016253865WXlIo.jpg%22&amp;type=nf464_260\" height=\"130\" onerror=\"this.outerHTML='&lt;span class=\\'pm_noimg\\'&gt;&lt;span class=\\'noimg_text\\'&gt;이미지 준비중&lt;/span&gt;&lt;/span&gt;'\" width=\"232\"/>,\n",
              " <img alt=\"\" data-src=\"https://s.pstatic.net/dthumb.phinf/?src=%22https%3A%2F%2Fs.pstatic.net%2Fstatic%2Fwww%2Fmobile%2Fedit%2F20220324_1095%2Fupload_1648109060514NzIzx.jpg%22&amp;type=nf464_260\" height=\"130\" onerror=\"this.outerHTML='&lt;span class=\\'pm_noimg\\'&gt;&lt;span class=\\'noimg_text\\'&gt;이미지 준비중&lt;/span&gt;&lt;/span&gt;'\" width=\"232\"/>,\n",
              " <img alt=\"\" data-src=\"https://s.pstatic.net/dthumb.phinf/?src=%22https%3A%2F%2Fs.pstatic.net%2Fstatic%2Fwww%2Fmobile%2Fedit%2F20220323_1095%2Fupload_1648015324572GsXx4.jpg%22&amp;type=nf464_260\" height=\"130\" onerror=\"this.outerHTML='&lt;span class=\\'pm_noimg\\'&gt;&lt;span class=\\'noimg_text\\'&gt;이미지 준비중&lt;/span&gt;&lt;/span&gt;'\" width=\"232\"/>,\n",
              " <img alt=\"\" data-src=\"https://s.pstatic.net/dthumb.phinf/?src=%22https%3A%2F%2Fs.pstatic.net%2Fstatic%2Fwww%2Fmobile%2Fedit%2F20220324_1095%2Fupload_1648109770920tEXIp.jpg%22&amp;type=nf464_260\" height=\"130\" onerror=\"this.outerHTML='&lt;span class=\\'pm_noimg\\'&gt;&lt;span class=\\'noimg_text\\'&gt;이미지 준비중&lt;/span&gt;&lt;/span&gt;'\" width=\"232\"/>,\n",
              " <img alt=\"\" data-src=\"https://s.pstatic.net/dthumb.phinf/?src=%22https%3A%2F%2Fs.pstatic.net%2Fstatic%2Fwww%2Fmobile%2Fedit%2F20220323_1095%2Fupload_1648015271307sdtll.jpg%22&amp;type=nf464_260\" height=\"130\" onerror=\"this.outerHTML='&lt;span class=\\'pm_noimg\\'&gt;&lt;span class=\\'noimg_text\\'&gt;이미지 준비중&lt;/span&gt;&lt;/span&gt;'\" width=\"232\"/>,\n",
              " <img alt=\"\" data-src=\"https://s.pstatic.net/dthumb.phinf/?src=%22https%3A%2F%2Fs.pstatic.net%2Fstatic%2Fwww%2Fmobile%2Fedit%2F20220323_1095%2Fupload_1648025551774l78I4.jpg%22&amp;type=nf464_260\" height=\"130\" onerror=\"this.outerHTML='&lt;span class=\\'pm_noimg\\'&gt;&lt;span class=\\'noimg_text\\'&gt;이미지 준비중&lt;/span&gt;&lt;/span&gt;'\" width=\"232\"/>,\n",
              " <img alt=\"\" data-src=\"https://s.pstatic.net/dthumb.phinf/?src=%22https%3A%2F%2Fs.pstatic.net%2Fstatic%2Fwww%2Fmobile%2Fedit%2F20220323_1095%2Fupload_1648025410498P69MQ.jpg%22&amp;type=nf464_260\" height=\"130\" onerror=\"this.outerHTML='&lt;span class=\\'pm_noimg\\'&gt;&lt;span class=\\'noimg_text\\'&gt;이미지 준비중&lt;/span&gt;&lt;/span&gt;'\" width=\"232\"/>,\n",
              " <img alt=\"\" data-src=\"https://s.pstatic.net/dthumb.phinf/?src=%22https%3A%2F%2Fs.pstatic.net%2Fstatic%2Fwww%2Fmobile%2Fedit%2F20220323_1095%2Fupload_1648029584552aSL3Z.jpg%22&amp;type=nf464_260\" height=\"130\" onerror=\"this.outerHTML='&lt;span class=\\'pm_noimg\\'&gt;&lt;span class=\\'noimg_text\\'&gt;이미지 준비중&lt;/span&gt;&lt;/span&gt;'\" width=\"232\"/>,\n",
              " <img alt=\"\" data-src=\"https://s.pstatic.net/dthumb.phinf/?src=%22https%3A%2F%2Fs.pstatic.net%2Fstatic%2Fwww%2Fmobile%2Fedit%2F20220322_1095%2Fupload_1647956251338wV13w.jpg%22&amp;type=nf464_260\" height=\"130\" onerror=\"this.outerHTML='&lt;span class=\\'pm_noimg\\'&gt;&lt;span class=\\'noimg_text\\'&gt;이미지 준비중&lt;/span&gt;&lt;/span&gt;'\" width=\"232\"/>,\n",
              " <img alt=\"\" data-src=\"https://s.pstatic.net/dthumb.phinf/?src=%22https%3A%2F%2Fs.pstatic.net%2Fstatic%2Fwww%2Fmobile%2Fedit%2F20220323_1095%2Fupload_1648030009124Mva5s.jpg%22&amp;type=nf464_260\" height=\"130\" onerror=\"this.outerHTML='&lt;span class=\\'pm_noimg\\'&gt;&lt;span class=\\'noimg_text\\'&gt;이미지 준비중&lt;/span&gt;&lt;/span&gt;'\" width=\"232\"/>,\n",
              " <img alt=\"\" data-src=\"https://s.pstatic.net/dthumb.phinf/?src=%22https%3A%2F%2Fs.pstatic.net%2Fstatic%2Fwww%2Fmobile%2Fedit%2F20220322_1095%2Fupload_1647956205162WepCq.jpg%22&amp;type=nf464_260\" height=\"130\" onerror=\"this.outerHTML='&lt;span class=\\'pm_noimg\\'&gt;&lt;span class=\\'noimg_text\\'&gt;이미지 준비중&lt;/span&gt;&lt;/span&gt;'\" width=\"232\"/>,\n",
              " <img alt=\"\" data-src=\"https://s.pstatic.net/dthumb.phinf/?src=%22https%3A%2F%2Fs.pstatic.net%2Fstatic%2Fwww%2Fmobile%2Fedit%2F20220322_1095%2Fupload_1647940424332uc9Eo.jpg%22&amp;type=nf464_260\" height=\"130\" onerror=\"this.outerHTML='&lt;span class=\\'pm_noimg\\'&gt;&lt;span class=\\'noimg_text\\'&gt;이미지 준비중&lt;/span&gt;&lt;/span&gt;'\" width=\"232\"/>,\n",
              " <img alt=\"\" data-src=\"https://s.pstatic.net/dthumb.phinf/?src=%22https%3A%2F%2Fs.pstatic.net%2Fstatic%2Fwww%2Fmobile%2Fedit%2F20220322_1095%2Fupload_1647939707227qi1ua.jpg%22&amp;type=nf464_260\" height=\"130\" onerror=\"this.outerHTML='&lt;span class=\\'pm_noimg\\'&gt;&lt;span class=\\'noimg_text\\'&gt;이미지 준비중&lt;/span&gt;&lt;/span&gt;'\" width=\"232\"/>,\n",
              " <img alt=\"\" data-src=\"https://s.pstatic.net/dthumb.phinf/?src=%22https%3A%2F%2Fs.pstatic.net%2Fstatic%2Fwww%2Fmobile%2Fedit%2F20220323_1095%2Fupload_1648025966677HpbpE.jpg%22&amp;type=nf464_260\" height=\"130\" onerror=\"this.outerHTML='&lt;span class=\\'pm_noimg\\'&gt;&lt;span class=\\'noimg_text\\'&gt;이미지 준비중&lt;/span&gt;&lt;/span&gt;'\" width=\"232\"/>,\n",
              " <img alt=\"웨일\" height=\"48\" src=\"data:image/png;base64,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\" width=\"48\"/>,\n",
              " <img alt=\"꽃\" height=\"50\" src=\"data:image/png;base64,iVBORw0KGgoAAAANSUhEUgAAAF4AAABkCAMAAAA47XeXAAAAgVBMVEUAAADN5PdGm99Gm99Gm99Gm99Gm95Gm99Gm99Gm99Gm99Gm99Gm99Gm99Gm99Gm99Gm99Gm99Gm99Gm99Gm99Gm99Gm99Gmt9Gm99Gm99Gm99Gm95Gm99Gm99Gm95Gm99Hm99Gm99Gm9/////3+/5cp+LO5PfR5/fO5fdcp+P7/f/zv5GhAAAAInRSTlMA/v7vH9u5qJNgGwb6l8a9uqF9WFUyLxYMCtbVmLCwe4OCj8gzEgAAA0NJREFUaN7NmmFz4iAQhkkwMTHGWrWtWvWuq8mF+/8/8Ey2nb0OhSwQZnw+MHQ7pbjAy2s2gsuiLPJMLpcyy4tyISZltnmHbxw3MzEVr/MUNNL5q5iCt2ccXCN9fhPB7CQYkTsRRlWDlboSAexzGCHfC28OKxhldfDOzBMwePLNTw0sauHFFphshQcLCUwkaQRfXYBPSkrEUBdv3jezcXXhw1ciUhc+fCUidQlH7qzqEk5d2dQlnHxvU5dwVgdXdSGclaiGyamt6hLO1qIu4ZASzcFE092SBprk1jagulvXAAw/qb5N7m176xQYmOPoLymYaK/X65/PNhlagE6LGUhfRM8FjNzuf/73//bHmInzoJEpjMyeWpp9RzGz/PT6+QvMNO2Q+67PPeYZY5h7jDVg5OM+/BGikd13JfDAj/Ad1WLMyEyUwKPT00ypN1GKAljQJtFiFgqRe86eYhbWIvPPPR5d+9pKiIgUwKNJdHXBvW9jyRye1EWLWYfnJcd141Byspizz7gbUyWDuqiW0v15D9g3ZgF86JwyKUgUHJaATUmS5rsEdkkTZLjZS8Alw+skFr8Nl6H6uosShaKOp3Zo+/jgFTDe+wcSfv0yFGfQaLX7tDO0reXOPRuMCG4Q11Y3IiYblWgzS7R+h31qdRtlGB7zikeUckz+AB3a8FuMqD7Cd2nhUHLOEIkLubQIkEuLxIdwEwUy3HyXxsbgPMJcGuGox+TSIugxuTQ+KHIaAS5N92eIIuMT5tJoPfHy5q9yKoXLelLuKRri0mjMQdhwTPw6Sv8pzKXhFyhNilEwkSCXRrnAnaPnJdyl0UrqXircpeHVglnv+62K4NJo3lFcGmWd79KO7OQoXAE8XNO6tIQGxj7fpfHTwk8RubQLWEGvgTNGKzj01fixunCMCCYcvSSlaFwUyKVx86J3bczpUR3zimq1LqdosAUbJF54ar+uk5Gju436mPTk8ZAXFdO93HRYTesUVgf3B+y0XdxLfdVputmfKp/iBtNjyl3c0kzUwtJIWewIPvAL9LOyWLsV9WAps3VRzh6hJBm3oOqsRKfHLGYzS/GP+iLBuBKdqkd+iWPkFZTHf4Em4us/uhI5qss/6zK5u8+AXpwAAAAASUVORK5CYII=\" width=\"47\"/>]"
            ]
          },
          "metadata": {},
          "execution_count": 7
        }
      ]
    },
    {
      "cell_type": "markdown",
      "source": [
        "## 다음 뉴스페이지 크롤링"
      ],
      "metadata": {
        "id": "yaD6RGLnIUe2"
      }
    },
    {
      "cell_type": "code",
      "source": [
        "url = 'https://news.daum.net/'\n",
        "resp = requests.get(url)\n",
        "resp #<Response [200]>이면 제대로 된 것이다."
      ],
      "metadata": {
        "colab": {
          "base_uri": "https://localhost:8080/"
        },
        "id": "BMNJD9S3IIrb",
        "outputId": "ab69cf2b-f94e-4894-a302-c5669b2fe3ee"
      },
      "execution_count": 8,
      "outputs": [
        {
          "output_type": "execute_result",
          "data": {
            "text/plain": [
              "<Response [200]>"
            ]
          },
          "metadata": {},
          "execution_count": 8
        }
      ]
    },
    {
      "cell_type": "markdown",
      "source": [
        "> - 100 우리 이런정보 내주는거야\n",
        "> - 200 성공\n",
        "> - 300 우리 이 사이트 이리루 이사했어 일루가\n",
        "> - 400 유저가 요청을 잘못한경우\n",
        "> - 500 서버 문제"
      ],
      "metadata": {
        "id": "KfXjw3KsRNB0"
      }
    },
    {
      "cell_type": "code",
      "source": [
        "html = BeautifulSoup(resp.text, 'html.parser')\n",
        "html.select('a.link_txt') # 리스트 형태로 반환되기 때문에 반복문, index를 통해 접근."
      ],
      "metadata": {
        "colab": {
          "base_uri": "https://localhost:8080/"
        },
        "id": "QARl-7b2Ij7p",
        "outputId": "e2d5f475-76fc-4712-977d-c65c8b49912e"
      },
      "execution_count": 14,
      "outputs": [
        {
          "output_type": "execute_result",
          "data": {
            "text/plain": [
              "[<a class=\"link_txt\" data-tiara-custom=\"contentUniqueKey=hamny-20220425184611715\" data-tiara-id=\"20220425184611715\" data-tiara-layer=\"article_main\" data-tiara-ordnum=\"1\" data-tiara-type=\"harmony\" href=\"https://v.daum.net/v/20220425184611715\">\n",
              "                                     한덕수, 참여정부 총리 땐 \"여가부 독립 존치해야\"라더니..\n",
              "                                 </a>,\n",
              " <a class=\"link_txt\" data-tiara-custom=\"contentUniqueKey=hamny-20220425184601707\" data-tiara-id=\"20220425184601707\" data-tiara-layer=\"article_main\" data-tiara-ordnum=\"2\" data-tiara-type=\"harmony\" href=\"https://v.daum.net/v/20220425184601707\">\n",
              "                                     중재안 사전에 몰랐다는 김오수.. 검사들 \"바보 아니면 거짓말쟁이\"\n",
              "                                 </a>,\n",
              " <a class=\"link_txt\" data-tiara-custom=\"contentUniqueKey=hamny-20220425184327670\" data-tiara-id=\"20220425184327670\" data-tiara-layer=\"article_main\" data-tiara-ordnum=\"3\" data-tiara-type=\"harmony\" href=\"https://v.daum.net/v/20220425184327670\">\n",
              "                                     전문가 \"北, 尹 취임식 계기 전술 핵폭탄 실험 도발 가능\"\n",
              "                                 </a>,\n",
              " <a class=\"link_txt\" data-tiara-custom=\"contentUniqueKey=hamny-20220425182139231\" data-tiara-id=\"20220425182139231\" data-tiara-layer=\"article_main\" data-tiara-ordnum=\"4\" data-tiara-type=\"harmony\" href=\"https://v.daum.net/v/20220425182139231\">\n",
              "                                     서부지검 \"검수완박 중재안 반대\".. '조국 참모' 이종근 지검장은 빠졌다\n",
              "                                 </a>,\n",
              " <a class=\"link_txt\" data-tiara-custom=\"contentUniqueKey=hamny-20220425183825591\" data-tiara-id=\"20220425183825591\" data-tiara-layer=\"article_main\" data-tiara-ordnum=\"5\" data-tiara-type=\"harmony\" href=\"https://v.daum.net/v/20220425183825591\">\n",
              "                                     \"기업하기 좋은 도시\" 내건 홍준표, 대구 산단 현장방문\n",
              "                                 </a>,\n",
              " <a class=\"link_txt\" data-tiara-custom=\"contentUniqueKey=hamny-20220425183737580\" data-tiara-id=\"20220425183737580\" data-tiara-layer=\"article_main\" data-tiara-ordnum=\"6\" data-tiara-type=\"harmony\" href=\"https://v.daum.net/v/20220425183737580\">\n",
              "                                     쌍용차, 개선계획 이행여부 심의 요청..개선 기간 연장되나\n",
              "                                 </a>,\n",
              " <a class=\"link_txt\" data-tiara-custom=\"contentUniqueKey=hamny-20220425183558540\" data-tiara-id=\"20220425183558540\" data-tiara-layer=\"article_main\" data-tiara-ordnum=\"7\" data-tiara-type=\"harmony\" href=\"https://v.daum.net/v/20220425183558540\">\n",
              "                                     백제의 화려한 유적, 독특한 양식의 성당과 근대 건축물들[최갑수의 여행이라는 꽃다발 &lt;13&gt; 전북 익산]\n",
              "                                 </a>,\n",
              " <a class=\"link_txt\" data-tiara-custom=\"contentUniqueKey=hamny-20220425183038417\" data-tiara-id=\"20220425183038417\" data-tiara-layer=\"article_main\" data-tiara-ordnum=\"8\" data-tiara-type=\"harmony\" href=\"https://v.daum.net/v/20220425183038417\">\n",
              "                                     선서도 못한 한덕수..청문회 파행에 '우두커니' 있다가 퇴장\n",
              "                                 </a>,\n",
              " <a class=\"link_txt\" data-tiara-custom=\"contentUniqueKey=hamny-20220425182818365\" data-tiara-id=\"20220425182818365\" data-tiara-layer=\"article_main\" data-tiara-ordnum=\"9\" data-tiara-type=\"harmony\" href=\"https://v.daum.net/v/20220425182818365\">\n",
              "                                     대면진료병원 '태부족'..일반의료체계 전환 가능할까?\n",
              "                                 </a>,\n",
              " <a class=\"link_txt\" data-tiara-custom=\"contentUniqueKey=hamny-20220425182700332\" data-tiara-id=\"20220425182700332\" data-tiara-layer=\"article_main\" data-tiara-ordnum=\"10\" data-tiara-type=\"harmony\" href=\"https://v.daum.net/v/20220425182700332\">\n",
              "                                     아프리카 말라위서 '한반도평화' K-팝 대회\n",
              "                                 </a>,\n",
              " <a class=\"link_txt\" data-tiara-custom=\"contentUniqueKey=hamny-20220425182502301\" data-tiara-id=\"20220425182502301\" data-tiara-layer=\"article_main\" data-tiara-ordnum=\"11\" data-tiara-type=\"harmony\" href=\"https://v.daum.net/v/20220425182502301\">\n",
              "                                     '크롤링'다윈중개에 뿔난 네이버 \"본안 소송 제기\" 강력 대응 시사\n",
              "                                 </a>,\n",
              " <a class=\"link_txt\" data-tiara-custom=\"contentUniqueKey=hamny-20220425182105218\" data-tiara-id=\"20220425182105218\" data-tiara-layer=\"article_main\" data-tiara-ordnum=\"12\" data-tiara-type=\"harmony\" href=\"https://v.daum.net/v/20220425182105218\">\n",
              "                                     새 집무실 이름은 국민의집?..尹 당선인, '피플스 하우스' 언급\n",
              "                                 </a>,\n",
              " <a class=\"link_txt\" data-tiara-custom=\"contentUniqueKey=hamny-20220425182007195\" data-tiara-id=\"20220425182007195\" data-tiara-layer=\"article_main\" data-tiara-ordnum=\"13\" data-tiara-type=\"harmony\" href=\"https://v.daum.net/v/20220425182007195\">\n",
              "                                     사업과 우정 사이..망가진 \"CNN의 미래\" 파워게임 속사정\n",
              "                                 </a>,\n",
              " <a class=\"link_txt\" data-tiara-custom=\"contentUniqueKey=hamny-20220425181928183\" data-tiara-id=\"20220425181928183\" data-tiara-layer=\"article_main\" data-tiara-ordnum=\"14\" data-tiara-type=\"harmony\" href=\"https://v.daum.net/v/20220425181928183\">\n",
              "                                     변협회장 결선투표제 폐지..회관 서초동으로 이전\n",
              "                                 </a>,\n",
              " <a class=\"link_txt\" data-tiara-custom=\"contentUniqueKey=hamny-20220425181838165\" data-tiara-id=\"20220425181838165\" data-tiara-layer=\"article_main\" data-tiara-ordnum=\"15\" data-tiara-type=\"harmony\" href=\"https://v.daum.net/v/20220425181838165\">\n",
              "                                     소액으로 고액자산 쉽게 사지만.. '먹튀'땐 보호 못받는다[조각투자, 혁신인가 허상인가]\n",
              "                                 </a>,\n",
              " <a class=\"link_txt\" data-tiara-custom=\"contentUniqueKey=hamny-20220425181605104\" data-tiara-id=\"20220425181605104\" data-tiara-layer=\"article_main\" data-tiara-ordnum=\"16\" data-tiara-type=\"harmony\" href=\"https://v.daum.net/v/20220425181605104\">\n",
              "                                     선거브로커 돈 받은 국회의원, 단체장은 누구?\n",
              "                                 </a>,\n",
              " <a class=\"link_txt\" data-tiara-custom=\"contentUniqueKey=hamny-20220425181502073\" data-tiara-id=\"20220425181502073\" data-tiara-layer=\"article_main\" data-tiara-ordnum=\"17\" data-tiara-type=\"harmony\" href=\"https://v.daum.net/v/20220425181502073\">\n",
              "                                     주 52시간 근무제 도입했더니..장시간 노동자 60% 감소\n",
              "                                 </a>,\n",
              " <a class=\"link_txt\" data-tiara-custom=\"contentUniqueKey=hamny-20220425181448068\" data-tiara-id=\"20220425181448068\" data-tiara-layer=\"article_main\" data-tiara-ordnum=\"18\" data-tiara-type=\"harmony\" href=\"https://v.daum.net/v/20220425181448068\">\n",
              "                                     '죽고 싶다' '우울해' 검색 폭증.. 코로나는 끝나지 않았다\n",
              "                                 </a>,\n",
              " <a class=\"link_txt\" data-tiara-custom=\"contentUniqueKey=hamny-20220425181348051\" data-tiara-id=\"20220425181348051\" data-tiara-layer=\"article_main\" data-tiara-ordnum=\"19\" data-tiara-type=\"harmony\" href=\"https://v.daum.net/v/20220425181348051\">\n",
              "                                     충북대병원 전공의협 \"오송 카이스트 의전원 건립 반대\"\n",
              "                                 </a>,\n",
              " <a class=\"link_txt\" data-tiara-custom=\"contentUniqueKey=hamny-20220425180916939\" data-tiara-id=\"20220425180916939\" data-tiara-layer=\"article_main\" data-tiara-ordnum=\"20\" data-tiara-type=\"harmony\" href=\"https://v.daum.net/v/20220425180916939\">\n",
              "                                     우크라 이어 몰도바도?..러, 공격 타깃 시사에 전운 ↑\n",
              "                                 </a>,\n",
              " <a class=\"link_txt\" data-tiara-custom=\"contentUniqueKey=hamny-20220425183558540\" data-tiara-id=\"20220425183558540\" data-tiara-layer=\"article\" data-tiara-ordnum=\"1\" data-tiara-type=\"harmony\" href=\"https://v.daum.net/v/20220425183558540\">\n",
              "                                     [최갑수의 여행이라는 꽃다발 &lt;13&gt; 전북 익산] 백제의 화려한 유적, 독특한 양식의 성당과 근대 건축물들\n",
              "                                 </a>,\n",
              " <a class=\"link_txt\" data-tiara-custom=\"contentUniqueKey=hamny-20220425183516509\" data-tiara-id=\"20220425183516509\" data-tiara-layer=\"article\" data-tiara-ordnum=\"2\" data-tiara-type=\"harmony\" href=\"https://v.daum.net/v/20220425183516509\">\n",
              "                                     [시승기] 쉐보레 '타호' | 거대한 차체에도 민첩한 주행..내부 공간 '광활'\n",
              "                                 </a>,\n",
              " <a class=\"link_txt\" data-tiara-custom=\"contentUniqueKey=hamny-20220425182826368\" data-tiara-id=\"20220425182826368\" data-tiara-layer=\"article\" data-tiara-ordnum=\"3\" data-tiara-type=\"harmony\" href=\"https://v.daum.net/v/20220425182826368\">\n",
              "                                     [ET] \"맛보고 가세요\" 돌아온 시식 코너 외\n",
              "                                 </a>,\n",
              " <a class=\"link_txt\" data-tiara-custom=\"contentUniqueKey=hamny-20220425170445786\" data-tiara-id=\"20220425170445786\" data-tiara-layer=\"article\" data-tiara-ordnum=\"4\" data-tiara-type=\"harmony\" href=\"https://v.daum.net/v/20220425170445786\">\n",
              "                                     [여의도 사사건건] 허은아 \"합의 파기 아닌 재논의 요청\" 전재수 \"국회 합의안 엎어버리는 '당선자의 독주'\"\n",
              "                                 </a>,\n",
              " <a class=\"link_txt\" data-tiara-custom=\"contentUniqueKey=hamny-20220425181508085\" data-tiara-id=\"20220425181508085\" data-tiara-layer=\"article\" data-tiara-ordnum=\"5\" data-tiara-type=\"harmony\" href=\"https://v.daum.net/v/20220425181508085\">\n",
              "                                     [비디오머그] 해외 주식 소수점 투자, 아낀 것 같은데요. 사실은 비쌉니다.\n",
              "                                 </a>,\n",
              " <a class=\"link_txt\" data-tiara-custom=\"contentUniqueKey=hamny-20220425181504075\" data-tiara-id=\"20220425181504075\" data-tiara-layer=\"article\" data-tiara-ordnum=\"6\" data-tiara-type=\"harmony\" href=\"https://v.daum.net/v/20220425181504075\">\n",
              "                                     [마음주치의] 우울한 노년의 부모님. 어떻게 병원에 모시고 갈 수 있나 (오강섭 교수)\n",
              "                                 </a>,\n",
              " <a class=\"link_txt\" data-tiara-custom=\"contentUniqueKey=hamny-20220425181103990\" data-tiara-id=\"20220425181103990\" data-tiara-layer=\"article\" data-tiara-ordnum=\"7\" data-tiara-type=\"harmony\" href=\"https://v.daum.net/v/20220425181103990\">\n",
              "                                     [월드피플+] 꼬마 아인슈타인?..美 13세 대학생, 박사과정 합격 \"물리학자가 꿈\"\n",
              "                                 </a>,\n",
              " <a class=\"link_txt\" data-tiara-custom=\"contentUniqueKey=hamny-20220425180109716\" data-tiara-id=\"20220425180109716\" data-tiara-layer=\"article\" data-tiara-ordnum=\"8\" data-tiara-type=\"harmony\" href=\"https://v.daum.net/v/20220425180109716\">\n",
              "                                     [생생경제] 차영주 \"금리 인상기에 수혜 잃을 수 있어 WGBI 편입 서두르는 것\"\n",
              "                                 </a>,\n",
              " <a class=\"link_txt\" data-tiara-custom=\"contentUniqueKey=hamny-20220425183632562\" data-tiara-id=\"20220425183632562\" data-tiara-ordnum=\"1\" data-tiara-type=\"harmony\" href=\"https://gallery.v.daum.net/p/viewer/1518/Ee5wIZSHEr\">영월 산불..1시간 3분만에 진화</a>,\n",
              " <a class=\"link_txt\" data-tiara-custom=\"contentUniqueKey=hamny-20220425181103990\" data-tiara-id=\"20220425181103990\" data-tiara-ordnum=\"2\" data-tiara-type=\"harmony\" href=\"https://gallery.v.daum.net/p/viewer/182938/EHfPFpLqte\"> 꼬마 아인슈타인?..美 13세 대학생, 박사과정 합격 \"물리학자가 꿈\"</a>,\n",
              " <a class=\"link_txt\" data-tiara-custom=\"contentUniqueKey=hamny-20220425180143732\" data-tiara-id=\"20220425180143732\" data-tiara-ordnum=\"3\" data-tiara-type=\"harmony\" href=\"https://gallery.v.daum.net/p/viewer/379/EJQGNeL3Bp\"> 아기사과꽃</a>,\n",
              " <a class=\"link_txt\" data-tiara-custom=\"contentUniqueKey=hamny-20220425174615262\" data-tiara-id=\"20220425174615262\" data-tiara-ordnum=\"4\" data-tiara-type=\"harmony\" href=\"https://gallery.v.daum.net/p/viewer/172711/E59zVs8fDZ\"> 역사란 무엇인가</a>,\n",
              " <a class=\"link_txt #direct_newshome\" data-tiara-layer=\"direct_newshome\" href=\"/\">뉴스홈</a>,\n",
              " <a class=\"link_txt #direct_society\" data-tiara-layer=\"direct_society\" href=\"/society\">사회</a>,\n",
              " <a class=\"link_txt #direct_politics\" data-tiara-layer=\"direct_politics\" href=\"/politics\">정치</a>,\n",
              " <a class=\"link_txt #direct_economic\" data-tiara-layer=\"direct_economic\" href=\"/economic\">경제</a>,\n",
              " <a class=\"link_txt #direct_foreign\" data-tiara-layer=\"direct_foreign\" href=\"/foreign\">국제</a>,\n",
              " <a class=\"link_txt #direct_culture\" data-tiara-layer=\"direct_culture\" href=\"/culture\">문화</a>,\n",
              " <a class=\"link_txt #direct_digital\" data-tiara-layer=\"direct_digital\" href=\"/digital\">IT</a>,\n",
              " <a class=\"link_txt #direct_photo\" data-tiara-layer=\"direct_photo\" href=\"/photo\">포토</a>,\n",
              " <a class=\"link_txt #direct_media\" data-tiara-layer=\"direct_media\" href=\"/cp\">언론사별 뉴스</a>,\n",
              " <a class=\"link_txt #direct_history\" data-tiara-layer=\"direct_history\" href=\"/newsbox\">배열이력</a>,\n",
              " <a class=\"link_txt #direct_all\" data-tiara-layer=\"direct_all\" href=\"/breakingnews\">전체뉴스</a>,\n",
              " <a class=\"link_txt #direct_series\" data-tiara-layer=\"direct_series\" href=\"/series\">연재</a>,\n",
              " <a class=\"link_txt #direct_factcheck\" data-tiara-layer=\"direct_factcheck\" href=\"https://focus.daum.net/ch/news/factcheck\">팩트체크</a>]"
            ]
          },
          "metadata": {},
          "execution_count": 14
        }
      ]
    },
    {
      "cell_type": "code",
      "source": [
        "for title in html.select('a.link_txt')[:-13]:\n",
        "    print(title.text.strip().replace('[', '').replace(']', ''))"
      ],
      "metadata": {
        "colab": {
          "base_uri": "https://localhost:8080/"
        },
        "id": "Iybyos4LJEPh",
        "outputId": "cf379bd6-2885-4d82-b22b-f458ff8cac72"
      },
      "execution_count": 17,
      "outputs": [
        {
          "output_type": "stream",
          "name": "stdout",
          "text": [
            "한덕수, 참여정부 총리 땐 \"여가부 독립 존치해야\"라더니..\n",
            "중재안 사전에 몰랐다는 김오수.. 검사들 \"바보 아니면 거짓말쟁이\"\n",
            "전문가 \"北, 尹 취임식 계기 전술 핵폭탄 실험 도발 가능\"\n",
            "서부지검 \"검수완박 중재안 반대\".. '조국 참모' 이종근 지검장은 빠졌다\n",
            "\"기업하기 좋은 도시\" 내건 홍준표, 대구 산단 현장방문\n",
            "쌍용차, 개선계획 이행여부 심의 요청..개선 기간 연장되나\n",
            "백제의 화려한 유적, 독특한 양식의 성당과 근대 건축물들최갑수의 여행이라는 꽃다발 <13> 전북 익산\n",
            "선서도 못한 한덕수..청문회 파행에 '우두커니' 있다가 퇴장\n",
            "대면진료병원 '태부족'..일반의료체계 전환 가능할까?\n",
            "아프리카 말라위서 '한반도평화' K-팝 대회\n",
            "'크롤링'다윈중개에 뿔난 네이버 \"본안 소송 제기\" 강력 대응 시사\n",
            "새 집무실 이름은 국민의집?..尹 당선인, '피플스 하우스' 언급\n",
            "사업과 우정 사이..망가진 \"CNN의 미래\" 파워게임 속사정\n",
            "변협회장 결선투표제 폐지..회관 서초동으로 이전\n",
            "소액으로 고액자산 쉽게 사지만.. '먹튀'땐 보호 못받는다조각투자, 혁신인가 허상인가\n",
            "선거브로커 돈 받은 국회의원, 단체장은 누구?\n",
            "주 52시간 근무제 도입했더니..장시간 노동자 60% 감소\n",
            "'죽고 싶다' '우울해' 검색 폭증.. 코로나는 끝나지 않았다\n",
            "충북대병원 전공의협 \"오송 카이스트 의전원 건립 반대\"\n",
            "우크라 이어 몰도바도?..러, 공격 타깃 시사에 전운 ↑\n",
            "최갑수의 여행이라는 꽃다발 <13> 전북 익산 백제의 화려한 유적, 독특한 양식의 성당과 근대 건축물들\n",
            "시승기 쉐보레 '타호' | 거대한 차체에도 민첩한 주행..내부 공간 '광활'\n",
            "ET \"맛보고 가세요\" 돌아온 시식 코너 외\n",
            "여의도 사사건건 허은아 \"합의 파기 아닌 재논의 요청\" 전재수 \"국회 합의안 엎어버리는 '당선자의 독주'\"\n",
            "비디오머그 해외 주식 소수점 투자, 아낀 것 같은데요. 사실은 비쌉니다.\n",
            "마음주치의 우울한 노년의 부모님. 어떻게 병원에 모시고 갈 수 있나 (오강섭 교수)\n",
            "월드피플+ 꼬마 아인슈타인?..美 13세 대학생, 박사과정 합격 \"물리학자가 꿈\"\n",
            "생생경제 차영주 \"금리 인상기에 수혜 잃을 수 있어 WGBI 편입 서두르는 것\"\n",
            "영월 산불..1시간 3분만에 진화\n",
            "꼬마 아인슈타인?..美 13세 대학생, 박사과정 합격 \"물리학자가 꿈\"\n",
            "아기사과꽃\n",
            "역사란 무엇인가\n"
          ]
        }
      ]
    },
    {
      "cell_type": "markdown",
      "source": [
        "## 로또 번호 가져오기"
      ],
      "metadata": {
        "id": "XMtzpfoDJySu"
      }
    },
    {
      "cell_type": "code",
      "source": [
        "url = 'https://search.naver.com/search.naver?where=nexearch&sm=top_hty&fbm=1&ie=utf8&query=%EB%A1%9C%EB%98%90%EB%B2%88%ED%98%B8'\n",
        "\n",
        "resp = requests.get(url)\n",
        "resp"
      ],
      "metadata": {
        "colab": {
          "base_uri": "https://localhost:8080/"
        },
        "id": "Aqjl0O9EJiGH",
        "outputId": "a053c1ef-162e-4cb3-c623-c262f8557394"
      },
      "execution_count": 18,
      "outputs": [
        {
          "output_type": "execute_result",
          "data": {
            "text/plain": [
              "<Response [200]>"
            ]
          },
          "metadata": {},
          "execution_count": 18
        }
      ]
    },
    {
      "cell_type": "code",
      "source": [
        "html = BeautifulSoup(resp.text, 'html.parser')\n"
      ],
      "metadata": {
        "id": "G0JbW5hEKI8d"
      },
      "execution_count": 21,
      "outputs": []
    },
    {
      "cell_type": "code",
      "source": [
        "lotto_nums = []\n",
        "for item in html.select('span.ball'):\n",
        "    lotto_nums.append(int(item.text))\n",
        "\n",
        "lotto_nums"
      ],
      "metadata": {
        "colab": {
          "base_uri": "https://localhost:8080/"
        },
        "id": "NLV1d5FMKY08",
        "outputId": "e2182647-a0b0-4222-adc9-5e86df1d8558"
      },
      "execution_count": 23,
      "outputs": [
        {
          "output_type": "execute_result",
          "data": {
            "text/plain": [
              "[5, 11, 18, 20, 35, 45, 3]"
            ]
          },
          "metadata": {},
          "execution_count": 23
        }
      ]
    },
    {
      "cell_type": "markdown",
      "source": [
        "### 여러회차 로또번호 가져오기\n",
        "> - 페이지를 넘어가며 정보 수집.\n",
        "> - 만들어진 정보를 df로 지정 및 csv파일로 저장."
      ],
      "metadata": {
        "id": "IkobvcuTK_tw"
      }
    },
    {
      "cell_type": "markdown",
      "source": [
        ">여러페이지를 한번에 크롤링 하는경우 서버에 요청을 다수하게되 차단이 일어날 수 있으므로 미리 난수를 만들어 코드 실행시간을 일정치 않게하여 사전에 차단을 예방한다. \n",
        "\n",
        "\n",
        "```\n",
        "seed = np.random.randint(100)\n",
        "np.random.seed(seed)\n",
        "a = np.random.randint(5)\n",
        "time.sleep(a)\n",
        "```\n",
        "\n"
      ],
      "metadata": {
        "id": "pO93agqyLmAo"
      }
    },
    {
      "cell_type": "code",
      "source": [
        "import time"
      ],
      "metadata": {
        "id": "Fkpc8yZYM0mY"
      },
      "execution_count": 29,
      "outputs": []
    },
    {
      "cell_type": "code",
      "source": [
        "lst = [i for i in range(1000, 1011)] # 1000 ~ 1010회차에 해당하는 로또 당첨번호를 크롤링해보자.\n",
        "lotto_nums = []\n",
        "\n",
        "\n",
        "for times in lst:\n",
        "\n",
        "    seed = np.random.randint(100)\n",
        "    np.random.seed(seed)\n",
        "    a = np.random.randint(5)\n",
        "    time.sleep(a)\n",
        "\n",
        "    print(f'{times}회차 크롤링 중...')\n",
        "    url = f'https://search.naver.com/search.naver?where=nexearch&sm=tab_etc&qvt=0&query={times}%ED%9A%8C%20%EB%A1%9C%EB%98%90%EB%8B%B9%EC%B2%A8%EB%B2%88%ED%98%B8'\n",
        "    resp = requests.get(url)\n",
        "    html = BeautifulSoup(resp.text, 'html.parser')\n",
        "    for elem in html.select('span.ball'):\n",
        "        lotto_nums.append(int(elem.text))\n",
        "\n",
        "# url = 'https://search.naver.com/search.naver?where=nexearch&sm=tab_etc&qvt=0&query=1012%ED%9A%8C%20%EB%A1%9C%EB%98%90%EB%8B%B9%EC%B2%A8%EB%B2%88%ED%98%B8'"
      ],
      "metadata": {
        "colab": {
          "base_uri": "https://localhost:8080/"
        },
        "id": "E6THpYHPKvVV",
        "outputId": "ca8666c1-9797-42f4-c90e-5b4f58806aa9"
      },
      "execution_count": 32,
      "outputs": [
        {
          "output_type": "stream",
          "name": "stdout",
          "text": [
            "1000회차 크롤링 중...\n",
            "1001회차 크롤링 중...\n",
            "1002회차 크롤링 중...\n",
            "1003회차 크롤링 중...\n",
            "1004회차 크롤링 중...\n",
            "1005회차 크롤링 중...\n",
            "1006회차 크롤링 중...\n",
            "1007회차 크롤링 중...\n",
            "1008회차 크롤링 중...\n",
            "1009회차 크롤링 중...\n",
            "1010회차 크롤링 중...\n"
          ]
        }
      ]
    },
    {
      "cell_type": "code",
      "source": [
        "lotto_arr = np.array(lotto_nums).reshape(-1, 7) # numpy array를 이용해 shape을 각 회차에 맞게 바꾸어준다."
      ],
      "metadata": {
        "id": "AI3z4pgpMTLW"
      },
      "execution_count": 35,
      "outputs": []
    },
    {
      "cell_type": "code",
      "source": [
        "df = pd.DataFrame(data=lotto_arr, index=[f'{elem}회차' for elem in lst], columns=[i for i in range(1,7)] + ['보너스'])\n",
        "df"
      ],
      "metadata": {
        "colab": {
          "base_uri": "https://localhost:8080/",
          "height": 394
        },
        "id": "e2UDmz_ZNfs9",
        "outputId": "e1b670a2-b108-4711-98b9-4c607cdce3d1"
      },
      "execution_count": 43,
      "outputs": [
        {
          "output_type": "execute_result",
          "data": {
            "text/plain": [
              "         1   2   3   4   5   6  보너스\n",
              "1000회차   2   8  19  22  32  42   39\n",
              "1001회차   6  10  12  14  20  42   15\n",
              "1002회차  17  25  33  35  38  45   15\n",
              "1003회차   1   4  29  39  43  45   31\n",
              "1004회차   7  15  30  37  39  44   18\n",
              "1005회차   8  13  18  24  27  29   17\n",
              "1006회차   8  11  15  16  17  37   36\n",
              "1007회차   8  11  16  19  21  25   40\n",
              "1008회차   9  11  30  31  41  44   33\n",
              "1009회차  15  23  29  34  40  44   20\n",
              "1010회차   9  12  15  25  34  36    3"
            ],
            "text/html": [
              "\n",
              "  <div id=\"df-dfc6b844-12fb-4f0f-a133-1cb2739f1beb\">\n",
              "    <div class=\"colab-df-container\">\n",
              "      <div>\n",
              "<style scoped>\n",
              "    .dataframe tbody tr th:only-of-type {\n",
              "        vertical-align: middle;\n",
              "    }\n",
              "\n",
              "    .dataframe tbody tr th {\n",
              "        vertical-align: top;\n",
              "    }\n",
              "\n",
              "    .dataframe thead th {\n",
              "        text-align: right;\n",
              "    }\n",
              "</style>\n",
              "<table border=\"1\" class=\"dataframe\">\n",
              "  <thead>\n",
              "    <tr style=\"text-align: right;\">\n",
              "      <th></th>\n",
              "      <th>1</th>\n",
              "      <th>2</th>\n",
              "      <th>3</th>\n",
              "      <th>4</th>\n",
              "      <th>5</th>\n",
              "      <th>6</th>\n",
              "      <th>보너스</th>\n",
              "    </tr>\n",
              "  </thead>\n",
              "  <tbody>\n",
              "    <tr>\n",
              "      <th>1000회차</th>\n",
              "      <td>2</td>\n",
              "      <td>8</td>\n",
              "      <td>19</td>\n",
              "      <td>22</td>\n",
              "      <td>32</td>\n",
              "      <td>42</td>\n",
              "      <td>39</td>\n",
              "    </tr>\n",
              "    <tr>\n",
              "      <th>1001회차</th>\n",
              "      <td>6</td>\n",
              "      <td>10</td>\n",
              "      <td>12</td>\n",
              "      <td>14</td>\n",
              "      <td>20</td>\n",
              "      <td>42</td>\n",
              "      <td>15</td>\n",
              "    </tr>\n",
              "    <tr>\n",
              "      <th>1002회차</th>\n",
              "      <td>17</td>\n",
              "      <td>25</td>\n",
              "      <td>33</td>\n",
              "      <td>35</td>\n",
              "      <td>38</td>\n",
              "      <td>45</td>\n",
              "      <td>15</td>\n",
              "    </tr>\n",
              "    <tr>\n",
              "      <th>1003회차</th>\n",
              "      <td>1</td>\n",
              "      <td>4</td>\n",
              "      <td>29</td>\n",
              "      <td>39</td>\n",
              "      <td>43</td>\n",
              "      <td>45</td>\n",
              "      <td>31</td>\n",
              "    </tr>\n",
              "    <tr>\n",
              "      <th>1004회차</th>\n",
              "      <td>7</td>\n",
              "      <td>15</td>\n",
              "      <td>30</td>\n",
              "      <td>37</td>\n",
              "      <td>39</td>\n",
              "      <td>44</td>\n",
              "      <td>18</td>\n",
              "    </tr>\n",
              "    <tr>\n",
              "      <th>1005회차</th>\n",
              "      <td>8</td>\n",
              "      <td>13</td>\n",
              "      <td>18</td>\n",
              "      <td>24</td>\n",
              "      <td>27</td>\n",
              "      <td>29</td>\n",
              "      <td>17</td>\n",
              "    </tr>\n",
              "    <tr>\n",
              "      <th>1006회차</th>\n",
              "      <td>8</td>\n",
              "      <td>11</td>\n",
              "      <td>15</td>\n",
              "      <td>16</td>\n",
              "      <td>17</td>\n",
              "      <td>37</td>\n",
              "      <td>36</td>\n",
              "    </tr>\n",
              "    <tr>\n",
              "      <th>1007회차</th>\n",
              "      <td>8</td>\n",
              "      <td>11</td>\n",
              "      <td>16</td>\n",
              "      <td>19</td>\n",
              "      <td>21</td>\n",
              "      <td>25</td>\n",
              "      <td>40</td>\n",
              "    </tr>\n",
              "    <tr>\n",
              "      <th>1008회차</th>\n",
              "      <td>9</td>\n",
              "      <td>11</td>\n",
              "      <td>30</td>\n",
              "      <td>31</td>\n",
              "      <td>41</td>\n",
              "      <td>44</td>\n",
              "      <td>33</td>\n",
              "    </tr>\n",
              "    <tr>\n",
              "      <th>1009회차</th>\n",
              "      <td>15</td>\n",
              "      <td>23</td>\n",
              "      <td>29</td>\n",
              "      <td>34</td>\n",
              "      <td>40</td>\n",
              "      <td>44</td>\n",
              "      <td>20</td>\n",
              "    </tr>\n",
              "    <tr>\n",
              "      <th>1010회차</th>\n",
              "      <td>9</td>\n",
              "      <td>12</td>\n",
              "      <td>15</td>\n",
              "      <td>25</td>\n",
              "      <td>34</td>\n",
              "      <td>36</td>\n",
              "      <td>3</td>\n",
              "    </tr>\n",
              "  </tbody>\n",
              "</table>\n",
              "</div>\n",
              "      <button class=\"colab-df-convert\" onclick=\"convertToInteractive('df-dfc6b844-12fb-4f0f-a133-1cb2739f1beb')\"\n",
              "              title=\"Convert this dataframe to an interactive table.\"\n",
              "              style=\"display:none;\">\n",
              "        \n",
              "  <svg xmlns=\"http://www.w3.org/2000/svg\" height=\"24px\"viewBox=\"0 0 24 24\"\n",
              "       width=\"24px\">\n",
              "    <path d=\"M0 0h24v24H0V0z\" fill=\"none\"/>\n",
              "    <path d=\"M18.56 5.44l.94 2.06.94-2.06 2.06-.94-2.06-.94-.94-2.06-.94 2.06-2.06.94zm-11 1L8.5 8.5l.94-2.06 2.06-.94-2.06-.94L8.5 2.5l-.94 2.06-2.06.94zm10 10l.94 2.06.94-2.06 2.06-.94-2.06-.94-.94-2.06-.94 2.06-2.06.94z\"/><path d=\"M17.41 7.96l-1.37-1.37c-.4-.4-.92-.59-1.43-.59-.52 0-1.04.2-1.43.59L10.3 9.45l-7.72 7.72c-.78.78-.78 2.05 0 2.83L4 21.41c.39.39.9.59 1.41.59.51 0 1.02-.2 1.41-.59l7.78-7.78 2.81-2.81c.8-.78.8-2.07 0-2.86zM5.41 20L4 18.59l7.72-7.72 1.47 1.35L5.41 20z\"/>\n",
              "  </svg>\n",
              "      </button>\n",
              "      \n",
              "  <style>\n",
              "    .colab-df-container {\n",
              "      display:flex;\n",
              "      flex-wrap:wrap;\n",
              "      gap: 12px;\n",
              "    }\n",
              "\n",
              "    .colab-df-convert {\n",
              "      background-color: #E8F0FE;\n",
              "      border: none;\n",
              "      border-radius: 50%;\n",
              "      cursor: pointer;\n",
              "      display: none;\n",
              "      fill: #1967D2;\n",
              "      height: 32px;\n",
              "      padding: 0 0 0 0;\n",
              "      width: 32px;\n",
              "    }\n",
              "\n",
              "    .colab-df-convert:hover {\n",
              "      background-color: #E2EBFA;\n",
              "      box-shadow: 0px 1px 2px rgba(60, 64, 67, 0.3), 0px 1px 3px 1px rgba(60, 64, 67, 0.15);\n",
              "      fill: #174EA6;\n",
              "    }\n",
              "\n",
              "    [theme=dark] .colab-df-convert {\n",
              "      background-color: #3B4455;\n",
              "      fill: #D2E3FC;\n",
              "    }\n",
              "\n",
              "    [theme=dark] .colab-df-convert:hover {\n",
              "      background-color: #434B5C;\n",
              "      box-shadow: 0px 1px 3px 1px rgba(0, 0, 0, 0.15);\n",
              "      filter: drop-shadow(0px 1px 2px rgba(0, 0, 0, 0.3));\n",
              "      fill: #FFFFFF;\n",
              "    }\n",
              "  </style>\n",
              "\n",
              "      <script>\n",
              "        const buttonEl =\n",
              "          document.querySelector('#df-dfc6b844-12fb-4f0f-a133-1cb2739f1beb button.colab-df-convert');\n",
              "        buttonEl.style.display =\n",
              "          google.colab.kernel.accessAllowed ? 'block' : 'none';\n",
              "\n",
              "        async function convertToInteractive(key) {\n",
              "          const element = document.querySelector('#df-dfc6b844-12fb-4f0f-a133-1cb2739f1beb');\n",
              "          const dataTable =\n",
              "            await google.colab.kernel.invokeFunction('convertToInteractive',\n",
              "                                                     [key], {});\n",
              "          if (!dataTable) return;\n",
              "\n",
              "          const docLinkHtml = 'Like what you see? Visit the ' +\n",
              "            '<a target=\"_blank\" href=https://colab.research.google.com/notebooks/data_table.ipynb>data table notebook</a>'\n",
              "            + ' to learn more about interactive tables.';\n",
              "          element.innerHTML = '';\n",
              "          dataTable['output_type'] = 'display_data';\n",
              "          await google.colab.output.renderOutput(dataTable, element);\n",
              "          const docLink = document.createElement('div');\n",
              "          docLink.innerHTML = docLinkHtml;\n",
              "          element.appendChild(docLink);\n",
              "        }\n",
              "      </script>\n",
              "    </div>\n",
              "  </div>\n",
              "  "
            ]
          },
          "metadata": {},
          "execution_count": 43
        }
      ]
    },
    {
      "cell_type": "code",
      "source": [
        "df.to_csv('/content/drive/MyDrive/Colab Notebooks/이어드림스쿨/일자별 학습내용 정리/0425_python_crawler/data/lotto_nums.csv.gz')\n",
        "## 만들어진 dataFrame을 csv형식(압축)으로 저장."
      ],
      "metadata": {
        "id": "7k7dgZKfOogt"
      },
      "execution_count": 45,
      "outputs": []
    },
    {
      "cell_type": "code",
      "source": [
        "# 제대로 저장 되었는지 불러와서 확인해보자.\n",
        "\n",
        "loaded_df = pd.read_csv('/content/drive/MyDrive/Colab Notebooks/이어드림스쿨/일자별 학습내용 정리/0425_python_crawler/data/lotto_nums.csv.gz')\n",
        "loaded_df\n",
        "\n",
        "## 제대로 불러와지는것을 확인할 수 있다."
      ],
      "metadata": {
        "colab": {
          "base_uri": "https://localhost:8080/",
          "height": 394
        },
        "id": "_cve-rAHPrGo",
        "outputId": "d739b031-6d39-44d0-bee0-a06495567a2e"
      },
      "execution_count": 46,
      "outputs": [
        {
          "output_type": "execute_result",
          "data": {
            "text/plain": [
              "   Unnamed: 0   1   2   3   4   5   6  보너스\n",
              "0      1000회차   2   8  19  22  32  42   39\n",
              "1      1001회차   6  10  12  14  20  42   15\n",
              "2      1002회차  17  25  33  35  38  45   15\n",
              "3      1003회차   1   4  29  39  43  45   31\n",
              "4      1004회차   7  15  30  37  39  44   18\n",
              "5      1005회차   8  13  18  24  27  29   17\n",
              "6      1006회차   8  11  15  16  17  37   36\n",
              "7      1007회차   8  11  16  19  21  25   40\n",
              "8      1008회차   9  11  30  31  41  44   33\n",
              "9      1009회차  15  23  29  34  40  44   20\n",
              "10     1010회차   9  12  15  25  34  36    3"
            ],
            "text/html": [
              "\n",
              "  <div id=\"df-4600e527-f9b2-4c44-84dd-c9805d7828de\">\n",
              "    <div class=\"colab-df-container\">\n",
              "      <div>\n",
              "<style scoped>\n",
              "    .dataframe tbody tr th:only-of-type {\n",
              "        vertical-align: middle;\n",
              "    }\n",
              "\n",
              "    .dataframe tbody tr th {\n",
              "        vertical-align: top;\n",
              "    }\n",
              "\n",
              "    .dataframe thead th {\n",
              "        text-align: right;\n",
              "    }\n",
              "</style>\n",
              "<table border=\"1\" class=\"dataframe\">\n",
              "  <thead>\n",
              "    <tr style=\"text-align: right;\">\n",
              "      <th></th>\n",
              "      <th>Unnamed: 0</th>\n",
              "      <th>1</th>\n",
              "      <th>2</th>\n",
              "      <th>3</th>\n",
              "      <th>4</th>\n",
              "      <th>5</th>\n",
              "      <th>6</th>\n",
              "      <th>보너스</th>\n",
              "    </tr>\n",
              "  </thead>\n",
              "  <tbody>\n",
              "    <tr>\n",
              "      <th>0</th>\n",
              "      <td>1000회차</td>\n",
              "      <td>2</td>\n",
              "      <td>8</td>\n",
              "      <td>19</td>\n",
              "      <td>22</td>\n",
              "      <td>32</td>\n",
              "      <td>42</td>\n",
              "      <td>39</td>\n",
              "    </tr>\n",
              "    <tr>\n",
              "      <th>1</th>\n",
              "      <td>1001회차</td>\n",
              "      <td>6</td>\n",
              "      <td>10</td>\n",
              "      <td>12</td>\n",
              "      <td>14</td>\n",
              "      <td>20</td>\n",
              "      <td>42</td>\n",
              "      <td>15</td>\n",
              "    </tr>\n",
              "    <tr>\n",
              "      <th>2</th>\n",
              "      <td>1002회차</td>\n",
              "      <td>17</td>\n",
              "      <td>25</td>\n",
              "      <td>33</td>\n",
              "      <td>35</td>\n",
              "      <td>38</td>\n",
              "      <td>45</td>\n",
              "      <td>15</td>\n",
              "    </tr>\n",
              "    <tr>\n",
              "      <th>3</th>\n",
              "      <td>1003회차</td>\n",
              "      <td>1</td>\n",
              "      <td>4</td>\n",
              "      <td>29</td>\n",
              "      <td>39</td>\n",
              "      <td>43</td>\n",
              "      <td>45</td>\n",
              "      <td>31</td>\n",
              "    </tr>\n",
              "    <tr>\n",
              "      <th>4</th>\n",
              "      <td>1004회차</td>\n",
              "      <td>7</td>\n",
              "      <td>15</td>\n",
              "      <td>30</td>\n",
              "      <td>37</td>\n",
              "      <td>39</td>\n",
              "      <td>44</td>\n",
              "      <td>18</td>\n",
              "    </tr>\n",
              "    <tr>\n",
              "      <th>5</th>\n",
              "      <td>1005회차</td>\n",
              "      <td>8</td>\n",
              "      <td>13</td>\n",
              "      <td>18</td>\n",
              "      <td>24</td>\n",
              "      <td>27</td>\n",
              "      <td>29</td>\n",
              "      <td>17</td>\n",
              "    </tr>\n",
              "    <tr>\n",
              "      <th>6</th>\n",
              "      <td>1006회차</td>\n",
              "      <td>8</td>\n",
              "      <td>11</td>\n",
              "      <td>15</td>\n",
              "      <td>16</td>\n",
              "      <td>17</td>\n",
              "      <td>37</td>\n",
              "      <td>36</td>\n",
              "    </tr>\n",
              "    <tr>\n",
              "      <th>7</th>\n",
              "      <td>1007회차</td>\n",
              "      <td>8</td>\n",
              "      <td>11</td>\n",
              "      <td>16</td>\n",
              "      <td>19</td>\n",
              "      <td>21</td>\n",
              "      <td>25</td>\n",
              "      <td>40</td>\n",
              "    </tr>\n",
              "    <tr>\n",
              "      <th>8</th>\n",
              "      <td>1008회차</td>\n",
              "      <td>9</td>\n",
              "      <td>11</td>\n",
              "      <td>30</td>\n",
              "      <td>31</td>\n",
              "      <td>41</td>\n",
              "      <td>44</td>\n",
              "      <td>33</td>\n",
              "    </tr>\n",
              "    <tr>\n",
              "      <th>9</th>\n",
              "      <td>1009회차</td>\n",
              "      <td>15</td>\n",
              "      <td>23</td>\n",
              "      <td>29</td>\n",
              "      <td>34</td>\n",
              "      <td>40</td>\n",
              "      <td>44</td>\n",
              "      <td>20</td>\n",
              "    </tr>\n",
              "    <tr>\n",
              "      <th>10</th>\n",
              "      <td>1010회차</td>\n",
              "      <td>9</td>\n",
              "      <td>12</td>\n",
              "      <td>15</td>\n",
              "      <td>25</td>\n",
              "      <td>34</td>\n",
              "      <td>36</td>\n",
              "      <td>3</td>\n",
              "    </tr>\n",
              "  </tbody>\n",
              "</table>\n",
              "</div>\n",
              "      <button class=\"colab-df-convert\" onclick=\"convertToInteractive('df-4600e527-f9b2-4c44-84dd-c9805d7828de')\"\n",
              "              title=\"Convert this dataframe to an interactive table.\"\n",
              "              style=\"display:none;\">\n",
              "        \n",
              "  <svg xmlns=\"http://www.w3.org/2000/svg\" height=\"24px\"viewBox=\"0 0 24 24\"\n",
              "       width=\"24px\">\n",
              "    <path d=\"M0 0h24v24H0V0z\" fill=\"none\"/>\n",
              "    <path d=\"M18.56 5.44l.94 2.06.94-2.06 2.06-.94-2.06-.94-.94-2.06-.94 2.06-2.06.94zm-11 1L8.5 8.5l.94-2.06 2.06-.94-2.06-.94L8.5 2.5l-.94 2.06-2.06.94zm10 10l.94 2.06.94-2.06 2.06-.94-2.06-.94-.94-2.06-.94 2.06-2.06.94z\"/><path d=\"M17.41 7.96l-1.37-1.37c-.4-.4-.92-.59-1.43-.59-.52 0-1.04.2-1.43.59L10.3 9.45l-7.72 7.72c-.78.78-.78 2.05 0 2.83L4 21.41c.39.39.9.59 1.41.59.51 0 1.02-.2 1.41-.59l7.78-7.78 2.81-2.81c.8-.78.8-2.07 0-2.86zM5.41 20L4 18.59l7.72-7.72 1.47 1.35L5.41 20z\"/>\n",
              "  </svg>\n",
              "      </button>\n",
              "      \n",
              "  <style>\n",
              "    .colab-df-container {\n",
              "      display:flex;\n",
              "      flex-wrap:wrap;\n",
              "      gap: 12px;\n",
              "    }\n",
              "\n",
              "    .colab-df-convert {\n",
              "      background-color: #E8F0FE;\n",
              "      border: none;\n",
              "      border-radius: 50%;\n",
              "      cursor: pointer;\n",
              "      display: none;\n",
              "      fill: #1967D2;\n",
              "      height: 32px;\n",
              "      padding: 0 0 0 0;\n",
              "      width: 32px;\n",
              "    }\n",
              "\n",
              "    .colab-df-convert:hover {\n",
              "      background-color: #E2EBFA;\n",
              "      box-shadow: 0px 1px 2px rgba(60, 64, 67, 0.3), 0px 1px 3px 1px rgba(60, 64, 67, 0.15);\n",
              "      fill: #174EA6;\n",
              "    }\n",
              "\n",
              "    [theme=dark] .colab-df-convert {\n",
              "      background-color: #3B4455;\n",
              "      fill: #D2E3FC;\n",
              "    }\n",
              "\n",
              "    [theme=dark] .colab-df-convert:hover {\n",
              "      background-color: #434B5C;\n",
              "      box-shadow: 0px 1px 3px 1px rgba(0, 0, 0, 0.15);\n",
              "      filter: drop-shadow(0px 1px 2px rgba(0, 0, 0, 0.3));\n",
              "      fill: #FFFFFF;\n",
              "    }\n",
              "  </style>\n",
              "\n",
              "      <script>\n",
              "        const buttonEl =\n",
              "          document.querySelector('#df-4600e527-f9b2-4c44-84dd-c9805d7828de button.colab-df-convert');\n",
              "        buttonEl.style.display =\n",
              "          google.colab.kernel.accessAllowed ? 'block' : 'none';\n",
              "\n",
              "        async function convertToInteractive(key) {\n",
              "          const element = document.querySelector('#df-4600e527-f9b2-4c44-84dd-c9805d7828de');\n",
              "          const dataTable =\n",
              "            await google.colab.kernel.invokeFunction('convertToInteractive',\n",
              "                                                     [key], {});\n",
              "          if (!dataTable) return;\n",
              "\n",
              "          const docLinkHtml = 'Like what you see? Visit the ' +\n",
              "            '<a target=\"_blank\" href=https://colab.research.google.com/notebooks/data_table.ipynb>data table notebook</a>'\n",
              "            + ' to learn more about interactive tables.';\n",
              "          element.innerHTML = '';\n",
              "          dataTable['output_type'] = 'display_data';\n",
              "          await google.colab.output.renderOutput(dataTable, element);\n",
              "          const docLink = document.createElement('div');\n",
              "          docLink.innerHTML = docLinkHtml;\n",
              "          element.appendChild(docLink);\n",
              "        }\n",
              "      </script>\n",
              "    </div>\n",
              "  </div>\n",
              "  "
            ]
          },
          "metadata": {},
          "execution_count": 46
        }
      ]
    },
    {
      "cell_type": "code",
      "source": [
        "## 10회차에 걸쳐 어떤 번호가 많이 관측되었는지 그래프로 나타내보자.\n",
        "\n",
        "\n",
        "\n",
        "plt.figure(figsize=(8, 6))\n",
        "\n",
        "sns.countplot(lotto_nums)\n",
        "\n",
        "plt.show()"
      ],
      "metadata": {
        "colab": {
          "base_uri": "https://localhost:8080/",
          "height": 430
        },
        "id": "4DSrH4a8QaRt",
        "outputId": "73de6eb6-2c92-4f3e-9d18-83c6f104d2f1"
      },
      "execution_count": 56,
      "outputs": [
        {
          "output_type": "stream",
          "name": "stderr",
          "text": [
            "/usr/local/lib/python3.7/dist-packages/seaborn/_decorators.py:43: FutureWarning: Pass the following variable as a keyword arg: x. From version 0.12, the only valid positional argument will be `data`, and passing other arguments without an explicit keyword will result in an error or misinterpretation.\n",
            "  FutureWarning\n"
          ]
        },
        {
          "output_type": "display_data",
          "data": {
            "text/plain": [
              "<Figure size 576x432 with 1 Axes>"
            ],
            "image/png": "[encoded data removed]"
          },
          "metadata": {
            "needs_background": "light"
          }
        }
      ]
    },
    {
      "cell_type": "markdown",
      "source": [
        "## 네이버 키워드로 검색한 결과를 크롤링"
      ],
      "metadata": {
        "id": "s7E4PNLhQJU2"
      }
    },
    {
      "cell_type": "code",
      "source": [
        "search = input('검색어: ') # 검색어를 입력하고 그에 맞는 페이지에서 블로그 제목, 하이퍼링크를 크롤링. \n",
        "\n",
        "\n",
        "url = f'https://search.naver.com/search.naver?where=nexearch&sm=top_hty&fbm=1&ie=utf8&query={search}'\n",
        "\n",
        "resp = requests.get(url)\n",
        "html = BeautifulSoup(resp.text, 'html.parser')\n"
      ],
      "metadata": {
        "colab": {
          "base_uri": "https://localhost:8080/"
        },
        "id": "Zr6R539NQC-0",
        "outputId": "6f50314e-85fb-4e24-e418-912a975345f3"
      },
      "execution_count": 67,
      "outputs": [
        {
          "name": "stdout",
          "output_type": "stream",
          "text": [
            "검색어: 홍대맛집\n"
          ]
        }
      ]
    },
    {
      "cell_type": "code",
      "source": [
        "for elem in html.select('a.api_txt_lines.total_tit'):\n",
        "    print(elem.text, ':', elem.attrs['href'])"
      ],
      "metadata": {
        "colab": {
          "base_uri": "https://localhost:8080/"
        },
        "id": "pFMMF9BaSEWN",
        "outputId": "b2c38425-03bc-433f-9448-846006b2c9b9"
      },
      "execution_count": 68,
      "outputs": [
        {
          "output_type": "stream",
          "name": "stdout",
          "text": [
            "뿌듯했던 홍대 맛집 : https://blog.naver.com/papakang3156/222692642625\n",
            "아는 사람만 아는,숨겨진 홍대 맛집 : https://post.naver.com/viewer/postView.naver?volumeNo=33341928&memberNo=8627427&vType=VERTICAL\n",
            "뇌리에 박힌 홍대 맛집 추천 : https://blog.naver.com/skadlftnwls/222655994813\n",
            "맘가는 홍대 맛집 : https://blog.naver.com/hjtm1020/222681432872\n",
            "호불호 안 갈리는 홍대 맛집 추천 : https://blog.naver.com/cherie_leau/222670478632\n",
            "다음에도 또 방문할 홍대입구역 맛집 : https://blog.naver.com/sbhmudsalt/222657798502\n",
            "끝판왕!! 홍대 맛집 : https://blog.naver.com/larva63/222655952793\n",
            "입맛살린 홍대 맛집 : https://blog.naver.com/o_market/222707384577\n",
            "홍대 맛집 추천 뭘 먹어야 할 지 모르겠다면! : https://blog.naver.com/weareinjapan/222707147585\n"
          ]
        }
      ]
    },
    {
      "cell_type": "markdown",
      "source": [
        "## 관심있는 개별종목의 시가총액, 외국인 소진률, PER, PBR 가져오기"
      ],
      "metadata": {
        "id": "PEJZcWLFTSdM"
      }
    },
    {
      "cell_type": "code",
      "source": [
        "url = 'https://finance.naver.com/item/main.nhn?code=005930'\n",
        "resp = requests.get(url)\n",
        "html = BeautifulSoup(resp.text, 'html.parser')\n"
      ],
      "metadata": {
        "id": "EGsHFmzDSTTn"
      },
      "execution_count": 69,
      "outputs": []
    },
    {
      "cell_type": "code",
      "source": [
        "시가총액 = html.select('tr.strong em')[0].text.replace('\\t', '').replace('\\n', '')\n",
        "외국인소진률 = html.select('tr.strong em')[1].text\n",
        "PER = html.select('em#_per')[0].text\n",
        "PBR = html.select('em#_pbr')[0].text"
      ],
      "metadata": {
        "colab": {
          "base_uri": "https://localhost:8080/",
          "height": 35
        },
        "id": "emtnGdzGV97u",
        "outputId": "3abe04ee-fa64-4229-bbaf-391f850e4746"
      },
      "execution_count": 85,
      "outputs": [
        {
          "output_type": "execute_result",
          "data": {
            "text/plain": [
              "'1.52'"
            ],
            "application/vnd.google.colaboratory.intrinsic+json": {
              "type": "string"
            }
          },
          "metadata": {},
          "execution_count": 85
        }
      ]
    },
    {
      "cell_type": "markdown",
      "source": [
        "## 여러종목의 시가총액, 외국인 소진률, PER, PBR 가져오기."
      ],
      "metadata": {
        "id": "jbYzHFcwXTpx"
      }
    },
    {
      "cell_type": "code",
      "source": [
        "stock_dict = {\n",
        "    '삼성전자': '035720',\n",
        "    '카카오': '005930',\n",
        "    '현대차': '005380'\n",
        "}\n",
        "\n",
        "# 각 종목별 코드가 정해져있음.\n",
        "\n",
        "stock_lst = []\n",
        "index = []\n",
        "\n",
        "for elem in stock_dict.values():\n",
        "\n",
        "    seed = np.random.randint(100)\n",
        "    np.random.seed(seed)\n",
        "    a = np.random.randint(5)\n",
        "    time.sleep(a)\n",
        "    \n",
        "    url = f'https://finance.naver.com/item/main.nhn?code={elem}'\n",
        "    \n",
        "    resp = requests.get(url)\n",
        "    html = BeautifulSoup(resp.text, 'html.parser')\n",
        "\n",
        "    index.append(html.select('h2 a')[0].text)\n",
        "    stock_lst.append(html.select(\"em#_market_sum\")[0].text.strip().replace('\\t', '').replace('\\n', ''))\n",
        "    stock_lst.append(html.select('tr.strong td em')[1].text)\n",
        "    stock_lst.append(html.select('em#_per')[0].text)\n",
        "    stock_lst.append(html.select('em#_pbr')[0].text)"
      ],
      "metadata": {
        "id": "MbkAb71lWBau"
      },
      "execution_count": 90,
      "outputs": []
    },
    {
      "cell_type": "code",
      "source": [
        "columns = ['시가총액', '외국인 소진률', 'PER', 'PBR']"
      ],
      "metadata": {
        "id": "s4auDzWAXwv4"
      },
      "execution_count": 95,
      "outputs": []
    },
    {
      "cell_type": "code",
      "source": [
        "stock_arr = np.array(stock_lst).reshape(-1, 4) "
      ],
      "metadata": {
        "id": "I_F-1K1YZP5i"
      },
      "execution_count": 96,
      "outputs": []
    },
    {
      "cell_type": "code",
      "source": [
        "# dataFrame으로 만들기\n",
        "\n",
        "df = pd.DataFrame(stock_arr, index=index, columns=columns)\n",
        "df"
      ],
      "metadata": {
        "colab": {
          "base_uri": "https://localhost:8080/",
          "height": 143
        },
        "id": "KNjw-hGtZe29",
        "outputId": "6500324d-76a4-4d42-ad60-b97dfb7a9d70"
      },
      "execution_count": 97,
      "outputs": [
        {
          "output_type": "execute_result",
          "data": {
            "text/plain": [
              "           시가총액 외국인 소진률    PER   PBR\n",
              "카카오      40조305  28.75%  28.64  3.90\n",
              "삼성전자  395조7,966  51.13%  11.48  1.52\n",
              "현대차    38조8,876  26.61%  10.20  0.63"
            ],
            "text/html": [
              "\n",
              "  <div id=\"df-7f3cb558-d728-4806-bf73-883f61c0211d\">\n",
              "    <div class=\"colab-df-container\">\n",
              "      <div>\n",
              "<style scoped>\n",
              "    .dataframe tbody tr th:only-of-type {\n",
              "        vertical-align: middle;\n",
              "    }\n",
              "\n",
              "    .dataframe tbody tr th {\n",
              "        vertical-align: top;\n",
              "    }\n",
              "\n",
              "    .dataframe thead th {\n",
              "        text-align: right;\n",
              "    }\n",
              "</style>\n",
              "<table border=\"1\" class=\"dataframe\">\n",
              "  <thead>\n",
              "    <tr style=\"text-align: right;\">\n",
              "      <th></th>\n",
              "      <th>시가총액</th>\n",
              "      <th>외국인 소진률</th>\n",
              "      <th>PER</th>\n",
              "      <th>PBR</th>\n",
              "    </tr>\n",
              "  </thead>\n",
              "  <tbody>\n",
              "    <tr>\n",
              "      <th>카카오</th>\n",
              "      <td>40조305</td>\n",
              "      <td>28.75%</td>\n",
              "      <td>28.64</td>\n",
              "      <td>3.90</td>\n",
              "    </tr>\n",
              "    <tr>\n",
              "      <th>삼성전자</th>\n",
              "      <td>395조7,966</td>\n",
              "      <td>51.13%</td>\n",
              "      <td>11.48</td>\n",
              "      <td>1.52</td>\n",
              "    </tr>\n",
              "    <tr>\n",
              "      <th>현대차</th>\n",
              "      <td>38조8,876</td>\n",
              "      <td>26.61%</td>\n",
              "      <td>10.20</td>\n",
              "      <td>0.63</td>\n",
              "    </tr>\n",
              "  </tbody>\n",
              "</table>\n",
              "</div>\n",
              "      <button class=\"colab-df-convert\" onclick=\"convertToInteractive('df-7f3cb558-d728-4806-bf73-883f61c0211d')\"\n",
              "              title=\"Convert this dataframe to an interactive table.\"\n",
              "              style=\"display:none;\">\n",
              "        \n",
              "  <svg xmlns=\"http://www.w3.org/2000/svg\" height=\"24px\"viewBox=\"0 0 24 24\"\n",
              "       width=\"24px\">\n",
              "    <path d=\"M0 0h24v24H0V0z\" fill=\"none\"/>\n",
              "    <path d=\"M18.56 5.44l.94 2.06.94-2.06 2.06-.94-2.06-.94-.94-2.06-.94 2.06-2.06.94zm-11 1L8.5 8.5l.94-2.06 2.06-.94-2.06-.94L8.5 2.5l-.94 2.06-2.06.94zm10 10l.94 2.06.94-2.06 2.06-.94-2.06-.94-.94-2.06-.94 2.06-2.06.94z\"/><path d=\"M17.41 7.96l-1.37-1.37c-.4-.4-.92-.59-1.43-.59-.52 0-1.04.2-1.43.59L10.3 9.45l-7.72 7.72c-.78.78-.78 2.05 0 2.83L4 21.41c.39.39.9.59 1.41.59.51 0 1.02-.2 1.41-.59l7.78-7.78 2.81-2.81c.8-.78.8-2.07 0-2.86zM5.41 20L4 18.59l7.72-7.72 1.47 1.35L5.41 20z\"/>\n",
              "  </svg>\n",
              "      </button>\n",
              "      \n",
              "  <style>\n",
              "    .colab-df-container {\n",
              "      display:flex;\n",
              "      flex-wrap:wrap;\n",
              "      gap: 12px;\n",
              "    }\n",
              "\n",
              "    .colab-df-convert {\n",
              "      background-color: #E8F0FE;\n",
              "      border: none;\n",
              "      border-radius: 50%;\n",
              "      cursor: pointer;\n",
              "      display: none;\n",
              "      fill: #1967D2;\n",
              "      height: 32px;\n",
              "      padding: 0 0 0 0;\n",
              "      width: 32px;\n",
              "    }\n",
              "\n",
              "    .colab-df-convert:hover {\n",
              "      background-color: #E2EBFA;\n",
              "      box-shadow: 0px 1px 2px rgba(60, 64, 67, 0.3), 0px 1px 3px 1px rgba(60, 64, 67, 0.15);\n",
              "      fill: #174EA6;\n",
              "    }\n",
              "\n",
              "    [theme=dark] .colab-df-convert {\n",
              "      background-color: #3B4455;\n",
              "      fill: #D2E3FC;\n",
              "    }\n",
              "\n",
              "    [theme=dark] .colab-df-convert:hover {\n",
              "      background-color: #434B5C;\n",
              "      box-shadow: 0px 1px 3px 1px rgba(0, 0, 0, 0.15);\n",
              "      filter: drop-shadow(0px 1px 2px rgba(0, 0, 0, 0.3));\n",
              "      fill: #FFFFFF;\n",
              "    }\n",
              "  </style>\n",
              "\n",
              "      <script>\n",
              "        const buttonEl =\n",
              "          document.querySelector('#df-7f3cb558-d728-4806-bf73-883f61c0211d button.colab-df-convert');\n",
              "        buttonEl.style.display =\n",
              "          google.colab.kernel.accessAllowed ? 'block' : 'none';\n",
              "\n",
              "        async function convertToInteractive(key) {\n",
              "          const element = document.querySelector('#df-7f3cb558-d728-4806-bf73-883f61c0211d');\n",
              "          const dataTable =\n",
              "            await google.colab.kernel.invokeFunction('convertToInteractive',\n",
              "                                                     [key], {});\n",
              "          if (!dataTable) return;\n",
              "\n",
              "          const docLinkHtml = 'Like what you see? Visit the ' +\n",
              "            '<a target=\"_blank\" href=https://colab.research.google.com/notebooks/data_table.ipynb>data table notebook</a>'\n",
              "            + ' to learn more about interactive tables.';\n",
              "          element.innerHTML = '';\n",
              "          dataTable['output_type'] = 'display_data';\n",
              "          await google.colab.output.renderOutput(dataTable, element);\n",
              "          const docLink = document.createElement('div');\n",
              "          docLink.innerHTML = docLinkHtml;\n",
              "          element.appendChild(docLink);\n",
              "        }\n",
              "      </script>\n",
              "    </div>\n",
              "  </div>\n",
              "  "
            ]
          },
          "metadata": {},
          "execution_count": 97
        }
      ]
    },
    {
      "cell_type": "code",
      "source": [
        "# PER, PBR에 대하여 dtype을 변경해주자. (float64)\n",
        "\n",
        "df['PER'] = df['PER'].astype('float64')\n",
        "df['PBR'] = df['PBR'].astype('float64')"
      ],
      "metadata": {
        "id": "SxB0Ml8bZquS"
      },
      "execution_count": 99,
      "outputs": []
    },
    {
      "cell_type": "code",
      "source": [
        "df.info()"
      ],
      "metadata": {
        "colab": {
          "base_uri": "https://localhost:8080/"
        },
        "id": "IY67X9HPZ-nV",
        "outputId": "d718ced7-d329-4786-9bf7-485387c34039"
      },
      "execution_count": 100,
      "outputs": [
        {
          "output_type": "stream",
          "name": "stdout",
          "text": [
            "<class 'pandas.core.frame.DataFrame'>\n",
            "Index: 3 entries, 카카오 to 현대차\n",
            "Data columns (total 4 columns):\n",
            " #   Column   Non-Null Count  Dtype  \n",
            "---  ------   --------------  -----  \n",
            " 0   시가총액     3 non-null      object \n",
            " 1   외국인 소진률  3 non-null      object \n",
            " 2   PER      3 non-null      float64\n",
            " 3   PBR      3 non-null      float64\n",
            "dtypes: float64(2), object(2)\n",
            "memory usage: 228.0+ bytes\n"
          ]
        }
      ]
    },
    {
      "cell_type": "code",
      "source": [
        "# 마찬가지로 csv 파일로 저장 후 불러와보자.\n",
        "\n",
        "df.to_csv('/content/drive/MyDrive/Colab Notebooks/이어드림스쿨/일자별 학습내용 정리/0425_python_crawler/data/stock.csv.gz')\n"
      ],
      "metadata": {
        "id": "Z8kVCPp5aLoI"
      },
      "execution_count": 101,
      "outputs": []
    },
    {
      "cell_type": "code",
      "source": [
        "loaded_df = pd.read_csv('/content/drive/MyDrive/Colab Notebooks/이어드림스쿨/일자별 학습내용 정리/0425_python_crawler/data/stock.csv.gz')\n",
        "loaded_df\n",
        "\n",
        "#저장된 파일이 제대로 불러와짐을 볼수있다."
      ],
      "metadata": {
        "colab": {
          "base_uri": "https://localhost:8080/",
          "height": 143
        },
        "id": "iI5BfG2SaZqu",
        "outputId": "9d33af5f-f130-443f-fe3c-e23ea57c46de"
      },
      "execution_count": 104,
      "outputs": [
        {
          "output_type": "execute_result",
          "data": {
            "text/plain": [
              "  Unnamed: 0       시가총액 외국인 소진률    PER   PBR\n",
              "0        카카오     40조305  28.75%  28.64  3.90\n",
              "1       삼성전자  395조7,966  51.13%  11.48  1.52\n",
              "2        현대차   38조8,876  26.61%  10.20  0.63"
            ],
            "text/html": [
              "\n",
              "  <div id=\"df-1d8e2196-f554-4ad8-b8d4-488cd716f4e0\">\n",
              "    <div class=\"colab-df-container\">\n",
              "      <div>\n",
              "<style scoped>\n",
              "    .dataframe tbody tr th:only-of-type {\n",
              "        vertical-align: middle;\n",
              "    }\n",
              "\n",
              "    .dataframe tbody tr th {\n",
              "        vertical-align: top;\n",
              "    }\n",
              "\n",
              "    .dataframe thead th {\n",
              "        text-align: right;\n",
              "    }\n",
              "</style>\n",
              "<table border=\"1\" class=\"dataframe\">\n",
              "  <thead>\n",
              "    <tr style=\"text-align: right;\">\n",
              "      <th></th>\n",
              "      <th>Unnamed: 0</th>\n",
              "      <th>시가총액</th>\n",
              "      <th>외국인 소진률</th>\n",
              "      <th>PER</th>\n",
              "      <th>PBR</th>\n",
              "    </tr>\n",
              "  </thead>\n",
              "  <tbody>\n",
              "    <tr>\n",
              "      <th>0</th>\n",
              "      <td>카카오</td>\n",
              "      <td>40조305</td>\n",
              "      <td>28.75%</td>\n",
              "      <td>28.64</td>\n",
              "      <td>3.90</td>\n",
              "    </tr>\n",
              "    <tr>\n",
              "      <th>1</th>\n",
              "      <td>삼성전자</td>\n",
              "      <td>395조7,966</td>\n",
              "      <td>51.13%</td>\n",
              "      <td>11.48</td>\n",
              "      <td>1.52</td>\n",
              "    </tr>\n",
              "    <tr>\n",
              "      <th>2</th>\n",
              "      <td>현대차</td>\n",
              "      <td>38조8,876</td>\n",
              "      <td>26.61%</td>\n",
              "      <td>10.20</td>\n",
              "      <td>0.63</td>\n",
              "    </tr>\n",
              "  </tbody>\n",
              "</table>\n",
              "</div>\n",
              "      <button class=\"colab-df-convert\" onclick=\"convertToInteractive('df-1d8e2196-f554-4ad8-b8d4-488cd716f4e0')\"\n",
              "              title=\"Convert this dataframe to an interactive table.\"\n",
              "              style=\"display:none;\">\n",
              "        \n",
              "  <svg xmlns=\"http://www.w3.org/2000/svg\" height=\"24px\"viewBox=\"0 0 24 24\"\n",
              "       width=\"24px\">\n",
              "    <path d=\"M0 0h24v24H0V0z\" fill=\"none\"/>\n",
              "    <path d=\"M18.56 5.44l.94 2.06.94-2.06 2.06-.94-2.06-.94-.94-2.06-.94 2.06-2.06.94zm-11 1L8.5 8.5l.94-2.06 2.06-.94-2.06-.94L8.5 2.5l-.94 2.06-2.06.94zm10 10l.94 2.06.94-2.06 2.06-.94-2.06-.94-.94-2.06-.94 2.06-2.06.94z\"/><path d=\"M17.41 7.96l-1.37-1.37c-.4-.4-.92-.59-1.43-.59-.52 0-1.04.2-1.43.59L10.3 9.45l-7.72 7.72c-.78.78-.78 2.05 0 2.83L4 21.41c.39.39.9.59 1.41.59.51 0 1.02-.2 1.41-.59l7.78-7.78 2.81-2.81c.8-.78.8-2.07 0-2.86zM5.41 20L4 18.59l7.72-7.72 1.47 1.35L5.41 20z\"/>\n",
              "  </svg>\n",
              "      </button>\n",
              "      \n",
              "  <style>\n",
              "    .colab-df-container {\n",
              "      display:flex;\n",
              "      flex-wrap:wrap;\n",
              "      gap: 12px;\n",
              "    }\n",
              "\n",
              "    .colab-df-convert {\n",
              "      background-color: #E8F0FE;\n",
              "      border: none;\n",
              "      border-radius: 50%;\n",
              "      cursor: pointer;\n",
              "      display: none;\n",
              "      fill: #1967D2;\n",
              "      height: 32px;\n",
              "      padding: 0 0 0 0;\n",
              "      width: 32px;\n",
              "    }\n",
              "\n",
              "    .colab-df-convert:hover {\n",
              "      background-color: #E2EBFA;\n",
              "      box-shadow: 0px 1px 2px rgba(60, 64, 67, 0.3), 0px 1px 3px 1px rgba(60, 64, 67, 0.15);\n",
              "      fill: #174EA6;\n",
              "    }\n",
              "\n",
              "    [theme=dark] .colab-df-convert {\n",
              "      background-color: #3B4455;\n",
              "      fill: #D2E3FC;\n",
              "    }\n",
              "\n",
              "    [theme=dark] .colab-df-convert:hover {\n",
              "      background-color: #434B5C;\n",
              "      box-shadow: 0px 1px 3px 1px rgba(0, 0, 0, 0.15);\n",
              "      filter: drop-shadow(0px 1px 2px rgba(0, 0, 0, 0.3));\n",
              "      fill: #FFFFFF;\n",
              "    }\n",
              "  </style>\n",
              "\n",
              "      <script>\n",
              "        const buttonEl =\n",
              "          document.querySelector('#df-1d8e2196-f554-4ad8-b8d4-488cd716f4e0 button.colab-df-convert');\n",
              "        buttonEl.style.display =\n",
              "          google.colab.kernel.accessAllowed ? 'block' : 'none';\n",
              "\n",
              "        async function convertToInteractive(key) {\n",
              "          const element = document.querySelector('#df-1d8e2196-f554-4ad8-b8d4-488cd716f4e0');\n",
              "          const dataTable =\n",
              "            await google.colab.kernel.invokeFunction('convertToInteractive',\n",
              "                                                     [key], {});\n",
              "          if (!dataTable) return;\n",
              "\n",
              "          const docLinkHtml = 'Like what you see? Visit the ' +\n",
              "            '<a target=\"_blank\" href=https://colab.research.google.com/notebooks/data_table.ipynb>data table notebook</a>'\n",
              "            + ' to learn more about interactive tables.';\n",
              "          element.innerHTML = '';\n",
              "          dataTable['output_type'] = 'display_data';\n",
              "          await google.colab.output.renderOutput(dataTable, element);\n",
              "          const docLink = document.createElement('div');\n",
              "          docLink.innerHTML = docLinkHtml;\n",
              "          element.appendChild(docLink);\n",
              "        }\n",
              "      </script>\n",
              "    </div>\n",
              "  </div>\n",
              "  "
            ]
          },
          "metadata": {},
          "execution_count": 104
        }
      ]
    },
    {
      "cell_type": "markdown",
      "source": [
        "## 동적페이지 크롤링 (네이버 주식 시세)"
      ],
      "metadata": {
        "id": "CLEUA-FOa9pJ"
      }
    },
    {
      "cell_type": "code",
      "source": [
        "# 동적페이지의 숨은 url\n",
        "# 동적페이지에 요청을 할 때 웹 정책에 필요한 정보를 같이 전달해줘야함.\n",
        "# requests 요청시 헤더정보 추가\n",
        "\n",
        "url = 'https://finance.naver.com/item/sise_day.naver?code=005380&page=2'\n",
        "\n",
        "info = {\n",
        "    'referer': 'https://finance.naver.com/item/sise_day.naver?code=005380&page=1',\n",
        "    'user-agent': 'Mozilla/5.0 (Macintosh; Intel Mac OS X 10_15_7) AppleWebKit/537.36 (KHTML, like Gecko) Chrome/100.0.4896.127 Safari/537.36'\n",
        "}\n",
        "\n",
        "# 레퍼러정보 : 사용자가 이 페이지에 접속하기 전 어느 페이지에 있었는지\n",
        "# 유저에이전트: 사용자컴퓨터 정보"
      ],
      "metadata": {
        "id": "kK_2gphoagQY"
      },
      "execution_count": 105,
      "outputs": []
    },
    {
      "cell_type": "code",
      "source": [
        "resp = requests.get(url, headers=info) # 헤더에 위에서 정의한 info정보를 넣어줌."
      ],
      "metadata": {
        "id": "_W62APZec2xO"
      },
      "execution_count": 108,
      "outputs": []
    },
    {
      "cell_type": "code",
      "source": [
        "html = BeautifulSoup(resp.text, 'html.parser')"
      ],
      "metadata": {
        "id": "N84hembec9HQ"
      },
      "execution_count": 109,
      "outputs": []
    },
    {
      "cell_type": "code",
      "source": [
        "\n",
        "\n",
        "index = [date.text for date in html.select('span.tah.p10')]\n",
        "col_nm = [col.text for col in html.select('th')[1:]]\n",
        "price = [num.text.strip() for num in html.select('span.tah.p11')]"
      ],
      "metadata": {
        "id": "0--Xx_y2dCjW"
      },
      "execution_count": 123,
      "outputs": []
    },
    {
      "cell_type": "code",
      "source": [
        "price = np.array(price).reshape(-1, 6)\n",
        "price"
      ],
      "metadata": {
        "colab": {
          "base_uri": "https://localhost:8080/"
        },
        "id": "6T7xwu2seAI9",
        "outputId": "26a2f673-7819-4adc-abe2-1d0803e2570a"
      },
      "execution_count": 124,
      "outputs": [
        {
          "output_type": "execute_result",
          "data": {
            "text/plain": [
              "array([['179,500', '3,000', '176,000', '181,000', '175,500', '641,674'],\n",
              "       ['176,500', '2,000', '178,000', '179,000', '175,500', '458,780'],\n",
              "       ['178,500', '1,500', '180,000', '182,000', '178,500', '778,374'],\n",
              "       ['180,000', '1,000', '177,000', '182,000', '176,500', '641,803'],\n",
              "       ['179,000', '1,000', '178,500', '180,000', '177,000', '426,072'],\n",
              "       ['178,000', '0', '177,000', '179,000', '174,500', '509,106'],\n",
              "       ['178,000', '2,500', '178,000', '178,500', '177,000', '470,770'],\n",
              "       ['180,500', '500', '180,500', '181,000', '179,000', '576,522'],\n",
              "       ['181,000', '4,500', '180,000', '183,000', '179,500', '1,082,135'],\n",
              "       ['176,500', '2,000', '176,000', '178,000', '174,000', '545,335']],\n",
              "      dtype='<U9')"
            ]
          },
          "metadata": {},
          "execution_count": 124
        }
      ]
    },
    {
      "cell_type": "code",
      "source": [
        "df = pd.DataFrame(price, index=index, columns=col_nm)\n",
        "df\n",
        "\n",
        "# 동적페이지의 경우에도 위와 같은 방식으로 접근해 데이터를 크롤링할 수 잇다."
      ],
      "metadata": {
        "colab": {
          "base_uri": "https://localhost:8080/",
          "height": 363
        },
        "id": "krIFsK21eN_n",
        "outputId": "b57248f8-1ba7-47bd-c3a5-1d016940b2ee"
      },
      "execution_count": 125,
      "outputs": [
        {
          "output_type": "execute_result",
          "data": {
            "text/plain": [
              "                 종가    전일비       시가       고가       저가        거래량\n",
              "2022.04.11  179,500  3,000  176,000  181,000  175,500    641,674\n",
              "2022.04.08  176,500  2,000  178,000  179,000  175,500    458,780\n",
              "2022.04.07  178,500  1,500  180,000  182,000  178,500    778,374\n",
              "2022.04.06  180,000  1,000  177,000  182,000  176,500    641,803\n",
              "2022.04.05  179,000  1,000  178,500  180,000  177,000    426,072\n",
              "2022.04.04  178,000      0  177,000  179,000  174,500    509,106\n",
              "2022.04.01  178,000  2,500  178,000  178,500  177,000    470,770\n",
              "2022.03.31  180,500    500  180,500  181,000  179,000    576,522\n",
              "2022.03.30  181,000  4,500  180,000  183,000  179,500  1,082,135\n",
              "2022.03.29  176,500  2,000  176,000  178,000  174,000    545,335"
            ],
            "text/html": [
              "\n",
              "  <div id=\"df-3fd6c7bd-f553-4b62-8fb9-fb89cfaf96d3\">\n",
              "    <div class=\"colab-df-container\">\n",
              "      <div>\n",
              "<style scoped>\n",
              "    .dataframe tbody tr th:only-of-type {\n",
              "        vertical-align: middle;\n",
              "    }\n",
              "\n",
              "    .dataframe tbody tr th {\n",
              "        vertical-align: top;\n",
              "    }\n",
              "\n",
              "    .dataframe thead th {\n",
              "        text-align: right;\n",
              "    }\n",
              "</style>\n",
              "<table border=\"1\" class=\"dataframe\">\n",
              "  <thead>\n",
              "    <tr style=\"text-align: right;\">\n",
              "      <th></th>\n",
              "      <th>종가</th>\n",
              "      <th>전일비</th>\n",
              "      <th>시가</th>\n",
              "      <th>고가</th>\n",
              "      <th>저가</th>\n",
              "      <th>거래량</th>\n",
              "    </tr>\n",
              "  </thead>\n",
              "  <tbody>\n",
              "    <tr>\n",
              "      <th>2022.04.11</th>\n",
              "      <td>179,500</td>\n",
              "      <td>3,000</td>\n",
              "      <td>176,000</td>\n",
              "      <td>181,000</td>\n",
              "      <td>175,500</td>\n",
              "      <td>641,674</td>\n",
              "    </tr>\n",
              "    <tr>\n",
              "      <th>2022.04.08</th>\n",
              "      <td>176,500</td>\n",
              "      <td>2,000</td>\n",
              "      <td>178,000</td>\n",
              "      <td>179,000</td>\n",
              "      <td>175,500</td>\n",
              "      <td>458,780</td>\n",
              "    </tr>\n",
              "    <tr>\n",
              "      <th>2022.04.07</th>\n",
              "      <td>178,500</td>\n",
              "      <td>1,500</td>\n",
              "      <td>180,000</td>\n",
              "      <td>182,000</td>\n",
              "      <td>178,500</td>\n",
              "      <td>778,374</td>\n",
              "    </tr>\n",
              "    <tr>\n",
              "      <th>2022.04.06</th>\n",
              "      <td>180,000</td>\n",
              "      <td>1,000</td>\n",
              "      <td>177,000</td>\n",
              "      <td>182,000</td>\n",
              "      <td>176,500</td>\n",
              "      <td>641,803</td>\n",
              "    </tr>\n",
              "    <tr>\n",
              "      <th>2022.04.05</th>\n",
              "      <td>179,000</td>\n",
              "      <td>1,000</td>\n",
              "      <td>178,500</td>\n",
              "      <td>180,000</td>\n",
              "      <td>177,000</td>\n",
              "      <td>426,072</td>\n",
              "    </tr>\n",
              "    <tr>\n",
              "      <th>2022.04.04</th>\n",
              "      <td>178,000</td>\n",
              "      <td>0</td>\n",
              "      <td>177,000</td>\n",
              "      <td>179,000</td>\n",
              "      <td>174,500</td>\n",
              "      <td>509,106</td>\n",
              "    </tr>\n",
              "    <tr>\n",
              "      <th>2022.04.01</th>\n",
              "      <td>178,000</td>\n",
              "      <td>2,500</td>\n",
              "      <td>178,000</td>\n",
              "      <td>178,500</td>\n",
              "      <td>177,000</td>\n",
              "      <td>470,770</td>\n",
              "    </tr>\n",
              "    <tr>\n",
              "      <th>2022.03.31</th>\n",
              "      <td>180,500</td>\n",
              "      <td>500</td>\n",
              "      <td>180,500</td>\n",
              "      <td>181,000</td>\n",
              "      <td>179,000</td>\n",
              "      <td>576,522</td>\n",
              "    </tr>\n",
              "    <tr>\n",
              "      <th>2022.03.30</th>\n",
              "      <td>181,000</td>\n",
              "      <td>4,500</td>\n",
              "      <td>180,000</td>\n",
              "      <td>183,000</td>\n",
              "      <td>179,500</td>\n",
              "      <td>1,082,135</td>\n",
              "    </tr>\n",
              "    <tr>\n",
              "      <th>2022.03.29</th>\n",
              "      <td>176,500</td>\n",
              "      <td>2,000</td>\n",
              "      <td>176,000</td>\n",
              "      <td>178,000</td>\n",
              "      <td>174,000</td>\n",
              "      <td>545,335</td>\n",
              "    </tr>\n",
              "  </tbody>\n",
              "</table>\n",
              "</div>\n",
              "      <button class=\"colab-df-convert\" onclick=\"convertToInteractive('df-3fd6c7bd-f553-4b62-8fb9-fb89cfaf96d3')\"\n",
              "              title=\"Convert this dataframe to an interactive table.\"\n",
              "              style=\"display:none;\">\n",
              "        \n",
              "  <svg xmlns=\"http://www.w3.org/2000/svg\" height=\"24px\"viewBox=\"0 0 24 24\"\n",
              "       width=\"24px\">\n",
              "    <path d=\"M0 0h24v24H0V0z\" fill=\"none\"/>\n",
              "    <path d=\"M18.56 5.44l.94 2.06.94-2.06 2.06-.94-2.06-.94-.94-2.06-.94 2.06-2.06.94zm-11 1L8.5 8.5l.94-2.06 2.06-.94-2.06-.94L8.5 2.5l-.94 2.06-2.06.94zm10 10l.94 2.06.94-2.06 2.06-.94-2.06-.94-.94-2.06-.94 2.06-2.06.94z\"/><path d=\"M17.41 7.96l-1.37-1.37c-.4-.4-.92-.59-1.43-.59-.52 0-1.04.2-1.43.59L10.3 9.45l-7.72 7.72c-.78.78-.78 2.05 0 2.83L4 21.41c.39.39.9.59 1.41.59.51 0 1.02-.2 1.41-.59l7.78-7.78 2.81-2.81c.8-.78.8-2.07 0-2.86zM5.41 20L4 18.59l7.72-7.72 1.47 1.35L5.41 20z\"/>\n",
              "  </svg>\n",
              "      </button>\n",
              "      \n",
              "  <style>\n",
              "    .colab-df-container {\n",
              "      display:flex;\n",
              "      flex-wrap:wrap;\n",
              "      gap: 12px;\n",
              "    }\n",
              "\n",
              "    .colab-df-convert {\n",
              "      background-color: #E8F0FE;\n",
              "      border: none;\n",
              "      border-radius: 50%;\n",
              "      cursor: pointer;\n",
              "      display: none;\n",
              "      fill: #1967D2;\n",
              "      height: 32px;\n",
              "      padding: 0 0 0 0;\n",
              "      width: 32px;\n",
              "    }\n",
              "\n",
              "    .colab-df-convert:hover {\n",
              "      background-color: #E2EBFA;\n",
              "      box-shadow: 0px 1px 2px rgba(60, 64, 67, 0.3), 0px 1px 3px 1px rgba(60, 64, 67, 0.15);\n",
              "      fill: #174EA6;\n",
              "    }\n",
              "\n",
              "    [theme=dark] .colab-df-convert {\n",
              "      background-color: #3B4455;\n",
              "      fill: #D2E3FC;\n",
              "    }\n",
              "\n",
              "    [theme=dark] .colab-df-convert:hover {\n",
              "      background-color: #434B5C;\n",
              "      box-shadow: 0px 1px 3px 1px rgba(0, 0, 0, 0.15);\n",
              "      filter: drop-shadow(0px 1px 2px rgba(0, 0, 0, 0.3));\n",
              "      fill: #FFFFFF;\n",
              "    }\n",
              "  </style>\n",
              "\n",
              "      <script>\n",
              "        const buttonEl =\n",
              "          document.querySelector('#df-3fd6c7bd-f553-4b62-8fb9-fb89cfaf96d3 button.colab-df-convert');\n",
              "        buttonEl.style.display =\n",
              "          google.colab.kernel.accessAllowed ? 'block' : 'none';\n",
              "\n",
              "        async function convertToInteractive(key) {\n",
              "          const element = document.querySelector('#df-3fd6c7bd-f553-4b62-8fb9-fb89cfaf96d3');\n",
              "          const dataTable =\n",
              "            await google.colab.kernel.invokeFunction('convertToInteractive',\n",
              "                                                     [key], {});\n",
              "          if (!dataTable) return;\n",
              "\n",
              "          const docLinkHtml = 'Like what you see? Visit the ' +\n",
              "            '<a target=\"_blank\" href=https://colab.research.google.com/notebooks/data_table.ipynb>data table notebook</a>'\n",
              "            + ' to learn more about interactive tables.';\n",
              "          element.innerHTML = '';\n",
              "          dataTable['output_type'] = 'display_data';\n",
              "          await google.colab.output.renderOutput(dataTable, element);\n",
              "          const docLink = document.createElement('div');\n",
              "          docLink.innerHTML = docLinkHtml;\n",
              "          element.appendChild(docLink);\n",
              "        }\n",
              "      </script>\n",
              "    </div>\n",
              "  </div>\n",
              "  "
            ]
          },
          "metadata": {},
          "execution_count": 125
        }
      ]
    },
    {
      "cell_type": "code",
      "source": [
        "# 종가에 대해 그래프로 그려 표현해보자\n",
        "# dtype이 object이므로 int type으로 변환 후 진행해야한다.\n",
        "\n",
        "def make_int(x):\n",
        "    return x.replace(',', '')\n",
        "\n",
        "df['종가'] = df['종가'].map(make_int)\n"
      ],
      "metadata": {
        "id": "4yUMS4t9fejA"
      },
      "execution_count": 131,
      "outputs": []
    },
    {
      "cell_type": "code",
      "source": [
        "df['종가'] = df['종가'].astype('int64')"
      ],
      "metadata": {
        "id": "pxZxLHl8fy_o"
      },
      "execution_count": 135,
      "outputs": []
    },
    {
      "cell_type": "code",
      "source": [
        "df['종가']"
      ],
      "metadata": {
        "colab": {
          "base_uri": "https://localhost:8080/"
        },
        "id": "IDfstM22gLZM",
        "outputId": "b673c602-2f1d-4055-85bf-e970a568ed2f"
      },
      "execution_count": 136,
      "outputs": [
        {
          "output_type": "execute_result",
          "data": {
            "text/plain": [
              "2022.04.11    179500\n",
              "2022.04.08    176500\n",
              "2022.04.07    178500\n",
              "2022.04.06    180000\n",
              "2022.04.05    179000\n",
              "2022.04.04    178000\n",
              "2022.04.01    178000\n",
              "2022.03.31    180500\n",
              "2022.03.30    181000\n",
              "2022.03.29    176500\n",
              "Name: 종가, dtype: int64"
            ]
          },
          "metadata": {},
          "execution_count": 136
        }
      ]
    },
    {
      "cell_type": "code",
      "source": [
        "plt.figure(figsize=(20, 6))\n",
        "\n",
        "plt.plot(df['종가'].sort_index(ascending=True))\n",
        "\n",
        "plt.show()"
      ],
      "metadata": {
        "colab": {
          "base_uri": "https://localhost:8080/",
          "height": 232
        },
        "id": "YWNY5lDdgTu6",
        "outputId": "a23d0c1f-811c-435f-bef3-6f0907a90683"
      },
      "execution_count": 140,
      "outputs": [
        {
          "output_type": "display_data",
          "data": {
            "text/plain": [
              "<Figure size 1440x432 with 1 Axes>"
            ],
            "image/png": "[encoded data removed]"
          },
          "metadata": {
            "needs_background": "light"
          }
        }
      ]
    },
    {
      "cell_type": "markdown",
      "source": [
        "## 네이버 데이터랩 인기검색어 크롤링\n",
        "> - json 데이터 파싱"
      ],
      "metadata": {
        "id": "4_8UeBrqg0dk"
      }
    },
    {
      "cell_type": "code",
      "source": [
        "url = 'https://datalab.naver.com/shoppingInsight/getKeywordRank.naver?timeUnit=date&cid=50000000'\n",
        "\n",
        "info = {\n",
        "    'referer': 'https://datalab.naver.com/',\n",
        "    'user-agent': 'Mozilla/5.0 (Macintosh; Intel Mac OS X 10_15_7) AppleWebKit/537.36 (KHTML, like Gecko) Chrome/100.0.4896.127 Safari/537.36'\n",
        "}\n",
        "\n",
        "resp = requests.post(url, headers=info)"
      ],
      "metadata": {
        "id": "giWz3DuLgfaA"
      },
      "execution_count": 141,
      "outputs": []
    },
    {
      "cell_type": "code",
      "source": [
        "resp.text"
      ],
      "metadata": {
        "colab": {
          "base_uri": "https://localhost:8080/",
          "height": 250
        },
        "id": "ODwpsxh0heT_",
        "outputId": "d124fd9c-84bb-47e7-dc2a-e5791fc302df"
      },
      "execution_count": 142,
      "outputs": [
        {
          "output_type": "execute_result",
          "data": {
            "text/plain": [
              "'[{\"message\":null,\"statusCode\":200,\"returnCode\":0,\"date\":\"2022/04/13\",\"datetime\":\"2022.04.13.(수)\",\"range\":\"\",\"ranks\":[{\"rank\":1,\"keyword\":\"원피스\",\"linkId\":\"원피스\"},{\"rank\":2,\"keyword\":\"반팔티\",\"linkId\":\"반팔티\"},{\"rank\":3,\"keyword\":\"바람막이\",\"linkId\":\"바람막이\"},{\"rank\":4,\"keyword\":\"나이키바람막이\",\"linkId\":\"나이키바람막이\"},{\"rank\":5,\"keyword\":\"블라우스\",\"linkId\":\"블라우스\"},{\"rank\":6,\"keyword\":\"반바지\",\"linkId\":\"반바지\"},{\"rank\":7,\"keyword\":\"셔츠\",\"linkId\":\"셔츠\"},{\"rank\":8,\"keyword\":\"롱원피스\",\"linkId\":\"롱원피스\"},{\"rank\":9,\"keyword\":\"하객원피스\",\"linkId\":\"하객원피스\"},{\"rank\":10,\"keyword\":\"써스데이아일랜드원피스\",\"linkId\":\"써스데이아일랜드원피스\"}]},{\"message\":null,\"statusCode\":200,\"returnCode\":0,\"date\":\"2022/04/14\",\"datetime\":\"2022.04.14.(목)\",\"range\":\"\",\"ranks\":[{\"rank\":1,\"keyword\":\"원피스\",\"linkId\":\"원피스\"},{\"rank\":2,\"keyword\":\"반팔티\",\"linkId\":\"반팔티\"},{\"rank\":3,\"keyword\":\"반티\",\"linkId\":\"반티\"},{\"rank\":4,\"keyword\":\"바람막이\",\"linkId\":\"바람막이\"},{\"rank\":5,\"keyword\":\"나이키바람막이\",\"linkId\":\"나이키바람막이\"},{\"rank\":6,\"keyword\":\"반바지\",\"linkId\":\"반바지\"},{\"rank\":7,\"keyword\":\"셔츠\",\"linkId\":\"셔츠\"},{\"rank\":8,\"keyword\":\"블라우스\",\"linkId\":\"블라우스\"},{\"rank\":9,\"keyword\":\"롱원피스\",\"linkId\":\"롱원피스\"},{\"rank\":10,\"keyword\":\"팬츠\",\"linkId\":\"팬츠\"}]},{\"message\":null,\"statusCode\":200,\"returnCode\":0,\"date\":\"2022/04/15\",\"datetime\":\"2022.04.15.(금)\",\"range\":\"\",\"ranks\":[{\"rank\":1,\"keyword\":\"원피스\",\"linkId\":\"원피스\"},{\"rank\":2,\"keyword\":\"반팔티\",\"linkId\":\"반팔티\"},{\"rank\":3,\"keyword\":\"반티\",\"linkId\":\"반티\"},{\"rank\":4,\"keyword\":\"반바지\",\"linkId\":\"반바지\"},{\"rank\":5,\"keyword\":\"셔츠\",\"linkId\":\"셔츠\"},{\"rank\":6,\"keyword\":\"바람막이\",\"linkId\":\"바람막이\"},{\"rank\":7,\"keyword\":\"나이키바람막이\",\"linkId\":\"나이키바람막이\"},{\"rank\":8,\"keyword\":\"써스데이아일랜드원피스\",\"linkId\":\"써스데이아일랜드원피스\"},{\"rank\":9,\"keyword\":\"팬츠\",\"linkId\":\"팬츠\"},{\"rank\":10,\"keyword\":\"롱원피스\",\"linkId\":\"롱원피스\"}]},{\"message\":null,\"statusCode\":200,\"returnCode\":0,\"date\":\"2022/04/16\",\"datetime\":\"2022.04.16.(토)\",\"range\":\"\",\"ranks\":[{\"rank\":1,\"keyword\":\"원피스\",\"linkId\":\"원피스\"},{\"rank\":2,\"keyword\":\"반팔티\",\"linkId\":\"반팔티\"},{\"rank\":3,\"keyword\":\"나이키바람막이\",\"linkId\":\"나이키바람막이\"},{\"rank\":4,\"keyword\":\"블라우스\",\"linkId\":\"블라우스\"},{\"rank\":5,\"keyword\":\"써스데이아일랜드원피스\",\"linkId\":\"써스데이아일랜드원피스\"},{\"rank\":6,\"keyword\":\"바람막이\",\"linkId\":\"바람막이\"},{\"rank\":7,\"keyword\":\"반바지\",\"linkId\":\"반바지\"},{\"rank\":8,\"keyword\":\"셔츠\",\"linkId\":\"셔츠\"},{\"rank\":9,\"keyword\":\"롱원피스\",\"linkId\":\"롱원피스\"},{\"rank\":10,\"keyword\":\"트위드자켓\",\"linkId\":\"트위드자켓\"}]},{\"message\":null,\"statusCode\":200,\"returnCode\":0,\"date\":\"2022/04/17\",\"datetime\":\"2022.04.17.(일)\",\"range\":\"\",\"ranks\":[{\"rank\":1,\"keyword\":\"원피스\",\"linkId\":\"원피스\"},{\"rank\":2,\"keyword\":\"반팔티\",\"linkId\":\"반팔티\"},{\"rank\":3,\"keyword\":\"나이키바람막이\",\"linkId\":\"나이키바람막이\"},{\"rank\":4,\"keyword\":\"바람막이\",\"linkId\":\"바람막이\"},{\"rank\":5,\"keyword\":\"블라우스\",\"linkId\":\"블라우스\"},{\"rank\":6,\"keyword\":\"써스데이아일랜드원피스\",\"linkId\":\"써스데이아일랜드원피스\"},{\"rank\":7,\"keyword\":\"반바지\",\"linkId\":\"반바지\"},{\"rank\":8,\"keyword\":\"셔츠\",\"linkId\":\"셔츠\"},{\"rank\":9,\"keyword\":\"롱원피스\",\"linkId\":\"롱원피스\"},{\"rank\":10,\"keyword\":\"하객원피스\",\"linkId\":\"하객원피스\"}]},{\"message\":null,\"statusCode\":200,\"returnCode\":0,\"date\":\"2022/04/18\",\"datetime\":\"2022.04.18.(월)\",\"range\":\"\",\"ranks\":[{\"rank\":1,\"keyword\":\"원피스\",\"linkId\":\"원피스\"},{\"rank\":2,\"keyword\":\"반티\",\"linkId\":\"반티\"},{\"rank\":3,\"keyword\":\"반팔티\",\"linkId\":\"반팔티\"},{\"rank\":4,\"keyword\":\"나이키바람막이\",\"linkId\":\"나이키바람막이\"},{\"rank\":5,\"keyword\":\"바람막이\",\"linkId\":\"바람막이\"},{\"rank\":6,\"keyword\":\"블라우스\",\"linkId\":\"블라우스\"},{\"rank\":7,\"keyword\":\"셔츠\",\"linkId\":\"셔츠\"},{\"rank\":8,\"keyword\":\"반바지\",\"linkId\":\"반바지\"},{\"rank\":9,\"keyword\":\"롱원피스\",\"linkId\":\"롱원피스\"},{\"rank\":10,\"keyword\":\"하객원피스\",\"linkId\":\"하객원피스\"}]},{\"message\":null,\"statusCode\":200,\"returnCode\":0,\"date\":\"2022/04/19\",\"datetime\":\"2022.04.19.(화)\",\"range\":\"\",\"ranks\":[{\"rank\":1,\"keyword\":\"원피스\",\"linkId\":\"원피스\"},{\"rank\":2,\"keyword\":\"반티\",\"linkId\":\"반티\"},{\"rank\":3,\"keyword\":\"반팔티\",\"linkId\":\"반팔티\"},{\"rank\":4,\"keyword\":\"나이키바람막이\",\"linkId\":\"나이키바람막이\"},{\"rank\":5,\"keyword\":\"바람막이\",\"linkId\":\"바람막이\"},{\"rank\":6,\"keyword\":\"셔츠\",\"linkId\":\"셔츠\"},{\"rank\":7,\"keyword\":\"블라우스\",\"linkId\":\"블라우스\"},{\"rank\":8,\"keyword\":\"반바지\",\"linkId\":\"반바지\"},{\"rank\":9,\"keyword\":\"롱원피스\",\"linkId\":\"롱원피스\"},{\"rank\":10,\"keyword\":\"써스데이아일랜드원피스\",\"linkId\":\"써스데이아일랜드원피스\"}]},{\"message\":null,\"statusCode\":200,\"returnCode\":0,\"date\":\"2022/04/20\",\"datetime\":\"2022.04.20.(수)\",\"range\":\"\",\"ranks\":[{\"rank\":1,\"keyword\":\"원피스\",\"linkId\":\"원피스\"},{\"rank\":2,\"keyword\":\"반티\",\"linkId\":\"반티\"},{\"rank\":3,\"keyword\":\"반팔티\",\"linkId\":\"반팔티\"},{\"rank\":4,\"keyword\":\"나이키바람막이\",\"linkId\":\"나이키바람막이\"},{\"rank\":5,\"keyword\":\"바람막이\",\"linkId\":\"바람막이\"},{\"rank\":6,\"keyword\":\"롱원피스\",\"linkId\":\"롱원피스\"},{\"rank\":7,\"keyword\":\"셔츠\",\"linkId\":\"셔츠\"},{\"rank\":8,\"keyword\":\"반바지\",\"linkId\":\"반바지\"},{\"rank\":9,\"keyword\":\"블라우스\",\"linkId\":\"블라우스\"},{\"rank\":10,\"keyword\":\"써스데이아일랜드원피스\",\"linkId\":\"써스데이아일랜드원피스\"}]},{\"message\":null,\"statusCode\":200,\"returnCode\":0,\"date\":\"2022/04/21\",\"datetime\":\"2022.04.21.(목)\",\"range\":\"\",\"ranks\":[{\"rank\":1,\"keyword\":\"원피스\",\"linkId\":\"원피스\"},{\"rank\":2,\"keyword\":\"반티\",\"linkId\":\"반티\"},{\"rank\":3,\"keyword\":\"반팔티\",\"linkId\":\"반팔티\"},{\"rank\":4,\"keyword\":\"나이키바람막이\",\"linkId\":\"나이키바람막이\"},{\"rank\":5,\"keyword\":\"반바지\",\"linkId\":\"반바지\"},{\"rank\":6,\"keyword\":\"바람막이\",\"linkId\":\"바람막이\"},{\"rank\":7,\"keyword\":\"롱원피스\",\"linkId\":\"롱원피스\"},{\"rank\":8,\"keyword\":\"셔츠\",\"linkId\":\"셔츠\"},{\"rank\":9,\"keyword\":\"써스데이아일랜드원피스\",\"linkId\":\"써스데이아일랜드원피스\"},{\"rank\":10,\"keyword\":\"블라우스\",\"linkId\":\"블라우스\"}]},{\"message\":null,\"statusCode\":200,\"returnCode\":0,\"date\":\"2022/04/22\",\"datetime\":\"2022.04.22.(금)\",\"range\":\"\",\"ranks\":[{\"rank\":1,\"keyword\":\"원피스\",\"linkId\":\"원피스\"},{\"rank\":2,\"keyword\":\"반티\",\"linkId\":\"반티\"},{\"rank\":3,\"keyword\":\"반팔티\",\"linkId\":\"반팔티\"},{\"rank\":4,\"keyword\":\"써스데이아일랜드원피스\",\"linkId\":\"써스데이아일랜드원피스\"},{\"rank\":5,\"keyword\":\"셔츠\",\"linkId\":\"셔츠\"},{\"rank\":6,\"keyword\":\"반바지\",\"linkId\":\"반바지\"},{\"rank\":7,\"keyword\":\"나이키바람막이\",\"linkId\":\"나이키바람막이\"},{\"rank\":8,\"keyword\":\"롱원피스\",\"linkId\":\"롱원피스\"},{\"rank\":9,\"keyword\":\"바람막이\",\"linkId\":\"바람막이\"},{\"rank\":10,\"keyword\":\"팬츠\",\"linkId\":\"팬츠\"}]},{\"message\":null,\"statusCode\":200,\"returnCode\":0,\"date\":\"2022/04/23\",\"datetime\":\"2022.04.23.(토)\",\"range\":\"\",\"ranks\":[{\"rank\":1,\"keyword\":\"원피스\",\"linkId\":\"원피스\"},{\"rank\":2,\"keyword\":\"반팔티\",\"linkId\":\"반팔티\"},{\"rank\":3,\"keyword\":\"써스데이아일랜드원피스\",\"linkId\":\"써스데이아일랜드원피스\"},{\"rank\":4,\"keyword\":\"나이키바람막이\",\"linkId\":\"나이키바람막이\"},{\"rank\":5,\"keyword\":\"반바지\",\"linkId\":\"반바지\"},{\"rank\":6,\"keyword\":\"블라우스\",\"linkId\":\"블라우스\"},{\"rank\":7,\"keyword\":\"셔츠\",\"linkId\":\"셔츠\"},{\"rank\":8,\"keyword\":\"바람막이\",\"linkId\":\"바람막이\"},{\"rank\":9,\"keyword\":\"롱원피스\",\"linkId\":\"롱원피스\"},{\"rank\":10,\"keyword\":\"팬츠\",\"linkId\":\"팬츠\"}]},{\"message\":null,\"statusCode\":200,\"returnCode\":0,\"date\":\"2022/04/24\",\"datetime\":\"2022.04.24.(일)\",\"range\":\"\",\"ranks\":[{\"rank\":1,\"keyword\":\"원피스\",\"linkId\":\"원피스\"},{\"rank\":2,\"keyword\":\"반팔티\",\"linkId\":\"반팔티\"},{\"rank\":3,\"keyword\":\"써스데이아일랜드원피스\",\"linkId\":\"써스데이아일랜드원피스\"},{\"rank\":4,\"keyword\":\"나이키바람막이\",\"linkId\":\"나이키바람막이\"},{\"rank\":5,\"keyword\":\"블라우스\",\"linkId\":\"블라우스\"},{\"rank\":6,\"keyword\":\"반바지\",\"linkId\":\"반바지\"},{\"rank\":7,\"keyword\":\"바람막이\",\"linkId\":\"바람막이\"},{\"rank\":8,\"keyword\":\"셔츠\",\"linkId\":\"셔츠\"},{\"rank\":9,\"keyword\":\"롱원피스\",\"linkId\":\"롱원피스\"},{\"rank\":10,\"keyword\":\"남자반팔티\",\"linkId\":\"남자반팔티\"}]}]'"
            ],
            "application/vnd.google.colaboratory.intrinsic+json": {
              "type": "string"
            }
          },
          "metadata": {},
          "execution_count": 142
        }
      ]
    },
    {
      "cell_type": "code",
      "source": [
        "import json"
      ],
      "metadata": {
        "id": "X8fB2ondhfjS"
      },
      "execution_count": 143,
      "outputs": []
    },
    {
      "cell_type": "code",
      "source": [
        "data = json.loads(resp.text)\n",
        "data"
      ],
      "metadata": {
        "colab": {
          "base_uri": "https://localhost:8080/"
        },
        "id": "bE1E2G8EhhuN",
        "outputId": "f91da834-c07b-4c8f-8eee-54eaaa6d511f"
      },
      "execution_count": 144,
      "outputs": [
        {
          "output_type": "execute_result",
          "data": {
            "text/plain": [
              "[{'date': '2022/04/13',\n",
              "  'datetime': '2022.04.13.(수)',\n",
              "  'message': None,\n",
              "  'range': '',\n",
              "  'ranks': [{'keyword': '원피스', 'linkId': '원피스', 'rank': 1},\n",
              "   {'keyword': '반팔티', 'linkId': '반팔티', 'rank': 2},\n",
              "   {'keyword': '바람막이', 'linkId': '바람막이', 'rank': 3},\n",
              "   {'keyword': '나이키바람막이', 'linkId': '나이키바람막이', 'rank': 4},\n",
              "   {'keyword': '블라우스', 'linkId': '블라우스', 'rank': 5},\n",
              "   {'keyword': '반바지', 'linkId': '반바지', 'rank': 6},\n",
              "   {'keyword': '셔츠', 'linkId': '셔츠', 'rank': 7},\n",
              "   {'keyword': '롱원피스', 'linkId': '롱원피스', 'rank': 8},\n",
              "   {'keyword': '하객원피스', 'linkId': '하객원피스', 'rank': 9},\n",
              "   {'keyword': '써스데이아일랜드원피스', 'linkId': '써스데이아일랜드원피스', 'rank': 10}],\n",
              "  'returnCode': 0,\n",
              "  'statusCode': 200},\n",
              " {'date': '2022/04/14',\n",
              "  'datetime': '2022.04.14.(목)',\n",
              "  'message': None,\n",
              "  'range': '',\n",
              "  'ranks': [{'keyword': '원피스', 'linkId': '원피스', 'rank': 1},\n",
              "   {'keyword': '반팔티', 'linkId': '반팔티', 'rank': 2},\n",
              "   {'keyword': '반티', 'linkId': '반티', 'rank': 3},\n",
              "   {'keyword': '바람막이', 'linkId': '바람막이', 'rank': 4},\n",
              "   {'keyword': '나이키바람막이', 'linkId': '나이키바람막이', 'rank': 5},\n",
              "   {'keyword': '반바지', 'linkId': '반바지', 'rank': 6},\n",
              "   {'keyword': '셔츠', 'linkId': '셔츠', 'rank': 7},\n",
              "   {'keyword': '블라우스', 'linkId': '블라우스', 'rank': 8},\n",
              "   {'keyword': '롱원피스', 'linkId': '롱원피스', 'rank': 9},\n",
              "   {'keyword': '팬츠', 'linkId': '팬츠', 'rank': 10}],\n",
              "  'returnCode': 0,\n",
              "  'statusCode': 200},\n",
              " {'date': '2022/04/15',\n",
              "  'datetime': '2022.04.15.(금)',\n",
              "  'message': None,\n",
              "  'range': '',\n",
              "  'ranks': [{'keyword': '원피스', 'linkId': '원피스', 'rank': 1},\n",
              "   {'keyword': '반팔티', 'linkId': '반팔티', 'rank': 2},\n",
              "   {'keyword': '반티', 'linkId': '반티', 'rank': 3},\n",
              "   {'keyword': '반바지', 'linkId': '반바지', 'rank': 4},\n",
              "   {'keyword': '셔츠', 'linkId': '셔츠', 'rank': 5},\n",
              "   {'keyword': '바람막이', 'linkId': '바람막이', 'rank': 6},\n",
              "   {'keyword': '나이키바람막이', 'linkId': '나이키바람막이', 'rank': 7},\n",
              "   {'keyword': '써스데이아일랜드원피스', 'linkId': '써스데이아일랜드원피스', 'rank': 8},\n",
              "   {'keyword': '팬츠', 'linkId': '팬츠', 'rank': 9},\n",
              "   {'keyword': '롱원피스', 'linkId': '롱원피스', 'rank': 10}],\n",
              "  'returnCode': 0,\n",
              "  'statusCode': 200},\n",
              " {'date': '2022/04/16',\n",
              "  'datetime': '2022.04.16.(토)',\n",
              "  'message': None,\n",
              "  'range': '',\n",
              "  'ranks': [{'keyword': '원피스', 'linkId': '원피스', 'rank': 1},\n",
              "   {'keyword': '반팔티', 'linkId': '반팔티', 'rank': 2},\n",
              "   {'keyword': '나이키바람막이', 'linkId': '나이키바람막이', 'rank': 3},\n",
              "   {'keyword': '블라우스', 'linkId': '블라우스', 'rank': 4},\n",
              "   {'keyword': '써스데이아일랜드원피스', 'linkId': '써스데이아일랜드원피스', 'rank': 5},\n",
              "   {'keyword': '바람막이', 'linkId': '바람막이', 'rank': 6},\n",
              "   {'keyword': '반바지', 'linkId': '반바지', 'rank': 7},\n",
              "   {'keyword': '셔츠', 'linkId': '셔츠', 'rank': 8},\n",
              "   {'keyword': '롱원피스', 'linkId': '롱원피스', 'rank': 9},\n",
              "   {'keyword': '트위드자켓', 'linkId': '트위드자켓', 'rank': 10}],\n",
              "  'returnCode': 0,\n",
              "  'statusCode': 200},\n",
              " {'date': '2022/04/17',\n",
              "  'datetime': '2022.04.17.(일)',\n",
              "  'message': None,\n",
              "  'range': '',\n",
              "  'ranks': [{'keyword': '원피스', 'linkId': '원피스', 'rank': 1},\n",
              "   {'keyword': '반팔티', 'linkId': '반팔티', 'rank': 2},\n",
              "   {'keyword': '나이키바람막이', 'linkId': '나이키바람막이', 'rank': 3},\n",
              "   {'keyword': '바람막이', 'linkId': '바람막이', 'rank': 4},\n",
              "   {'keyword': '블라우스', 'linkId': '블라우스', 'rank': 5},\n",
              "   {'keyword': '써스데이아일랜드원피스', 'linkId': '써스데이아일랜드원피스', 'rank': 6},\n",
              "   {'keyword': '반바지', 'linkId': '반바지', 'rank': 7},\n",
              "   {'keyword': '셔츠', 'linkId': '셔츠', 'rank': 8},\n",
              "   {'keyword': '롱원피스', 'linkId': '롱원피스', 'rank': 9},\n",
              "   {'keyword': '하객원피스', 'linkId': '하객원피스', 'rank': 10}],\n",
              "  'returnCode': 0,\n",
              "  'statusCode': 200},\n",
              " {'date': '2022/04/18',\n",
              "  'datetime': '2022.04.18.(월)',\n",
              "  'message': None,\n",
              "  'range': '',\n",
              "  'ranks': [{'keyword': '원피스', 'linkId': '원피스', 'rank': 1},\n",
              "   {'keyword': '반티', 'linkId': '반티', 'rank': 2},\n",
              "   {'keyword': '반팔티', 'linkId': '반팔티', 'rank': 3},\n",
              "   {'keyword': '나이키바람막이', 'linkId': '나이키바람막이', 'rank': 4},\n",
              "   {'keyword': '바람막이', 'linkId': '바람막이', 'rank': 5},\n",
              "   {'keyword': '블라우스', 'linkId': '블라우스', 'rank': 6},\n",
              "   {'keyword': '셔츠', 'linkId': '셔츠', 'rank': 7},\n",
              "   {'keyword': '반바지', 'linkId': '반바지', 'rank': 8},\n",
              "   {'keyword': '롱원피스', 'linkId': '롱원피스', 'rank': 9},\n",
              "   {'keyword': '하객원피스', 'linkId': '하객원피스', 'rank': 10}],\n",
              "  'returnCode': 0,\n",
              "  'statusCode': 200},\n",
              " {'date': '2022/04/19',\n",
              "  'datetime': '2022.04.19.(화)',\n",
              "  'message': None,\n",
              "  'range': '',\n",
              "  'ranks': [{'keyword': '원피스', 'linkId': '원피스', 'rank': 1},\n",
              "   {'keyword': '반티', 'linkId': '반티', 'rank': 2},\n",
              "   {'keyword': '반팔티', 'linkId': '반팔티', 'rank': 3},\n",
              "   {'keyword': '나이키바람막이', 'linkId': '나이키바람막이', 'rank': 4},\n",
              "   {'keyword': '바람막이', 'linkId': '바람막이', 'rank': 5},\n",
              "   {'keyword': '셔츠', 'linkId': '셔츠', 'rank': 6},\n",
              "   {'keyword': '블라우스', 'linkId': '블라우스', 'rank': 7},\n",
              "   {'keyword': '반바지', 'linkId': '반바지', 'rank': 8},\n",
              "   {'keyword': '롱원피스', 'linkId': '롱원피스', 'rank': 9},\n",
              "   {'keyword': '써스데이아일랜드원피스', 'linkId': '써스데이아일랜드원피스', 'rank': 10}],\n",
              "  'returnCode': 0,\n",
              "  'statusCode': 200},\n",
              " {'date': '2022/04/20',\n",
              "  'datetime': '2022.04.20.(수)',\n",
              "  'message': None,\n",
              "  'range': '',\n",
              "  'ranks': [{'keyword': '원피스', 'linkId': '원피스', 'rank': 1},\n",
              "   {'keyword': '반티', 'linkId': '반티', 'rank': 2},\n",
              "   {'keyword': '반팔티', 'linkId': '반팔티', 'rank': 3},\n",
              "   {'keyword': '나이키바람막이', 'linkId': '나이키바람막이', 'rank': 4},\n",
              "   {'keyword': '바람막이', 'linkId': '바람막이', 'rank': 5},\n",
              "   {'keyword': '롱원피스', 'linkId': '롱원피스', 'rank': 6},\n",
              "   {'keyword': '셔츠', 'linkId': '셔츠', 'rank': 7},\n",
              "   {'keyword': '반바지', 'linkId': '반바지', 'rank': 8},\n",
              "   {'keyword': '블라우스', 'linkId': '블라우스', 'rank': 9},\n",
              "   {'keyword': '써스데이아일랜드원피스', 'linkId': '써스데이아일랜드원피스', 'rank': 10}],\n",
              "  'returnCode': 0,\n",
              "  'statusCode': 200},\n",
              " {'date': '2022/04/21',\n",
              "  'datetime': '2022.04.21.(목)',\n",
              "  'message': None,\n",
              "  'range': '',\n",
              "  'ranks': [{'keyword': '원피스', 'linkId': '원피스', 'rank': 1},\n",
              "   {'keyword': '반티', 'linkId': '반티', 'rank': 2},\n",
              "   {'keyword': '반팔티', 'linkId': '반팔티', 'rank': 3},\n",
              "   {'keyword': '나이키바람막이', 'linkId': '나이키바람막이', 'rank': 4},\n",
              "   {'keyword': '반바지', 'linkId': '반바지', 'rank': 5},\n",
              "   {'keyword': '바람막이', 'linkId': '바람막이', 'rank': 6},\n",
              "   {'keyword': '롱원피스', 'linkId': '롱원피스', 'rank': 7},\n",
              "   {'keyword': '셔츠', 'linkId': '셔츠', 'rank': 8},\n",
              "   {'keyword': '써스데이아일랜드원피스', 'linkId': '써스데이아일랜드원피스', 'rank': 9},\n",
              "   {'keyword': '블라우스', 'linkId': '블라우스', 'rank': 10}],\n",
              "  'returnCode': 0,\n",
              "  'statusCode': 200},\n",
              " {'date': '2022/04/22',\n",
              "  'datetime': '2022.04.22.(금)',\n",
              "  'message': None,\n",
              "  'range': '',\n",
              "  'ranks': [{'keyword': '원피스', 'linkId': '원피스', 'rank': 1},\n",
              "   {'keyword': '반티', 'linkId': '반티', 'rank': 2},\n",
              "   {'keyword': '반팔티', 'linkId': '반팔티', 'rank': 3},\n",
              "   {'keyword': '써스데이아일랜드원피스', 'linkId': '써스데이아일랜드원피스', 'rank': 4},\n",
              "   {'keyword': '셔츠', 'linkId': '셔츠', 'rank': 5},\n",
              "   {'keyword': '반바지', 'linkId': '반바지', 'rank': 6},\n",
              "   {'keyword': '나이키바람막이', 'linkId': '나이키바람막이', 'rank': 7},\n",
              "   {'keyword': '롱원피스', 'linkId': '롱원피스', 'rank': 8},\n",
              "   {'keyword': '바람막이', 'linkId': '바람막이', 'rank': 9},\n",
              "   {'keyword': '팬츠', 'linkId': '팬츠', 'rank': 10}],\n",
              "  'returnCode': 0,\n",
              "  'statusCode': 200},\n",
              " {'date': '2022/04/23',\n",
              "  'datetime': '2022.04.23.(토)',\n",
              "  'message': None,\n",
              "  'range': '',\n",
              "  'ranks': [{'keyword': '원피스', 'linkId': '원피스', 'rank': 1},\n",
              "   {'keyword': '반팔티', 'linkId': '반팔티', 'rank': 2},\n",
              "   {'keyword': '써스데이아일랜드원피스', 'linkId': '써스데이아일랜드원피스', 'rank': 3},\n",
              "   {'keyword': '나이키바람막이', 'linkId': '나이키바람막이', 'rank': 4},\n",
              "   {'keyword': '반바지', 'linkId': '반바지', 'rank': 5},\n",
              "   {'keyword': '블라우스', 'linkId': '블라우스', 'rank': 6},\n",
              "   {'keyword': '셔츠', 'linkId': '셔츠', 'rank': 7},\n",
              "   {'keyword': '바람막이', 'linkId': '바람막이', 'rank': 8},\n",
              "   {'keyword': '롱원피스', 'linkId': '롱원피스', 'rank': 9},\n",
              "   {'keyword': '팬츠', 'linkId': '팬츠', 'rank': 10}],\n",
              "  'returnCode': 0,\n",
              "  'statusCode': 200},\n",
              " {'date': '2022/04/24',\n",
              "  'datetime': '2022.04.24.(일)',\n",
              "  'message': None,\n",
              "  'range': '',\n",
              "  'ranks': [{'keyword': '원피스', 'linkId': '원피스', 'rank': 1},\n",
              "   {'keyword': '반팔티', 'linkId': '반팔티', 'rank': 2},\n",
              "   {'keyword': '써스데이아일랜드원피스', 'linkId': '써스데이아일랜드원피스', 'rank': 3},\n",
              "   {'keyword': '나이키바람막이', 'linkId': '나이키바람막이', 'rank': 4},\n",
              "   {'keyword': '블라우스', 'linkId': '블라우스', 'rank': 5},\n",
              "   {'keyword': '반바지', 'linkId': '반바지', 'rank': 6},\n",
              "   {'keyword': '바람막이', 'linkId': '바람막이', 'rank': 7},\n",
              "   {'keyword': '셔츠', 'linkId': '셔츠', 'rank': 8},\n",
              "   {'keyword': '롱원피스', 'linkId': '롱원피스', 'rank': 9},\n",
              "   {'keyword': '남자반팔티', 'linkId': '남자반팔티', 'rank': 10}],\n",
              "  'returnCode': 0,\n",
              "  'statusCode': 200}]"
            ]
          },
          "metadata": {},
          "execution_count": 144
        }
      ]
    },
    {
      "cell_type": "code",
      "source": [
        "for item in data:\n",
        "    print(item['datetime'], item['ranks'][0]['keyword'])"
      ],
      "metadata": {
        "colab": {
          "base_uri": "https://localhost:8080/"
        },
        "id": "g6BBDTNehlp0",
        "outputId": "07f436a4-a865-40fa-8baf-3ceceb3f8b2c"
      },
      "execution_count": 145,
      "outputs": [
        {
          "output_type": "stream",
          "name": "stdout",
          "text": [
            "2022.04.13.(수) 원피스\n",
            "2022.04.14.(목) 원피스\n",
            "2022.04.15.(금) 원피스\n",
            "2022.04.16.(토) 원피스\n",
            "2022.04.17.(일) 원피스\n",
            "2022.04.18.(월) 원피스\n",
            "2022.04.19.(화) 원피스\n",
            "2022.04.20.(수) 원피스\n",
            "2022.04.21.(목) 원피스\n",
            "2022.04.22.(금) 원피스\n",
            "2022.04.23.(토) 원피스\n",
            "2022.04.24.(일) 원피스\n"
          ]
        }
      ]
    },
    {
      "cell_type": "markdown",
      "source": [
        "## API 활용"
      ],
      "metadata": {
        "id": "dpK8vMTMiXfS"
      }
    },
    {
      "cell_type": "markdown",
      "source": [
        "> - 파파고를 써보자"
      ],
      "metadata": {
        "id": "duBQY-DQizn7"
      }
    },
    {
      "cell_type": "code",
      "source": [
        "url = 'https://openapi.naver.com/v1/papago/n2mt'\n",
        "\n",
        "info = {\n",
        "    \"Content-Type\": \"application/x-www-form-urlencoded; charset=UTF-8\",\n",
        "    \"X-Naver-Client-Id\": \"mEh9FgYD4uG4gmttEeG1\",\n",
        "    \"X-Naver-Client-Secret\": \"g_8XOEMe23\"\n",
        "}\n",
        "\n",
        "typing = input('한글: ')\n",
        "\n",
        "data = {\n",
        "    'source': 'ko',\n",
        "    'target': 'en',\n",
        "    'text': f'{typing}?'\n",
        "}\n",
        "\n",
        "resp = requests.post(url, headers=info, data=data)\n",
        "trans = json.loads(resp.text)\n",
        "trans['message']['result']['translatedText']"
      ],
      "metadata": {
        "colab": {
          "base_uri": "https://localhost:8080/",
          "height": 53
        },
        "id": "XX-LlSlUiZZ-",
        "outputId": "7f265add-f482-4327-a3b0-64597ec36062"
      },
      "execution_count": 148,
      "outputs": [
        {
          "name": "stdout",
          "output_type": "stream",
          "text": [
            "한글: 안녕 넌 누구니?\n"
          ]
        },
        {
          "output_type": "execute_result",
          "data": {
            "text/plain": [
              "'Hi, who are you?'"
            ],
            "application/vnd.google.colaboratory.intrinsic+json": {
              "type": "string"
            }
          },
          "metadata": {},
          "execution_count": 148
        }
      ]
    },
    {
      "cell_type": "code",
      "source": [
        ""
      ],
      "metadata": {
        "colab": {
          "base_uri": "https://localhost:8080/",
          "height": 35
        },
        "id": "gzrHt0pnjkSu",
        "outputId": "85086468-1f1f-4cac-e0ec-b2791e2fc713"
      },
      "execution_count": 147,
      "outputs": [
        {
          "output_type": "execute_result",
          "data": {
            "text/plain": [
              "'Hello, world?'"
            ],
            "application/vnd.google.colaboratory.intrinsic+json": {
              "type": "string"
            }
          },
          "metadata": {},
          "execution_count": 147
        }
      ]
    },
    {
      "cell_type": "code",
      "source": [
        ""
      ],
      "metadata": {
        "id": "c0y7Y40djtSD"
      },
      "execution_count": null,
      "outputs": []
    }
  ]
}