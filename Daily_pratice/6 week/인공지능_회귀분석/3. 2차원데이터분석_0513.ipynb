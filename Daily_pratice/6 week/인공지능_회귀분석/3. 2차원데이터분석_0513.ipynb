{
 "cells": [
  {
   "cell_type": "code",
   "execution_count": 1,
   "id": "fea16490",
   "metadata": {},
   "outputs": [],
   "source": [
    "import numpy as np\n",
    "import pandas as pd\n",
    "import matplotlib.pyplot as plt\n",
    "%matplotlib inline"
   ]
  },
  {
   "cell_type": "code",
   "execution_count": 2,
   "id": "03348668",
   "metadata": {},
   "outputs": [],
   "source": [
    "en_scores = [42, 69, 56, 41, 57, 48, 65, 49, 65, 58]\n",
    "ma_scores = [65, 80, 63, 63, 76, 60, 81, 66, 82, 78]"
   ]
  },
  {
   "cell_type": "code",
   "execution_count": 3,
   "id": "71039cb8",
   "metadata": {},
   "outputs": [],
   "source": [
    "scores_df = pd.DataFrame(\n",
    "    {\n",
    "        'english': en_scores,\n",
    "        'mathematics': ma_scores\n",
    "    },\n",
    "    index=pd.Index(\n",
    "        [\n",
    "            'A', 'B', 'C', 'D', 'E',\n",
    "            'F', 'G', 'H', 'I', 'J'\n",
    "        ],\n",
    "        name = 'student'\n",
    "    )\n",
    "\n",
    ")"
   ]
  },
  {
   "cell_type": "code",
   "execution_count": 4,
   "id": "3d56e799",
   "metadata": {},
   "outputs": [
    {
     "data": {
      "text/html": [
       "<div>\n",
       "<style scoped>\n",
       "    .dataframe tbody tr th:only-of-type {\n",
       "        vertical-align: middle;\n",
       "    }\n",
       "\n",
       "    .dataframe tbody tr th {\n",
       "        vertical-align: top;\n",
       "    }\n",
       "\n",
       "    .dataframe thead th {\n",
       "        text-align: right;\n",
       "    }\n",
       "</style>\n",
       "<table border=\"1\" class=\"dataframe\">\n",
       "  <thead>\n",
       "    <tr style=\"text-align: right;\">\n",
       "      <th></th>\n",
       "      <th>english</th>\n",
       "      <th>mathematics</th>\n",
       "    </tr>\n",
       "    <tr>\n",
       "      <th>student</th>\n",
       "      <th></th>\n",
       "      <th></th>\n",
       "    </tr>\n",
       "  </thead>\n",
       "  <tbody>\n",
       "    <tr>\n",
       "      <th>A</th>\n",
       "      <td>42</td>\n",
       "      <td>65</td>\n",
       "    </tr>\n",
       "    <tr>\n",
       "      <th>B</th>\n",
       "      <td>69</td>\n",
       "      <td>80</td>\n",
       "    </tr>\n",
       "    <tr>\n",
       "      <th>C</th>\n",
       "      <td>56</td>\n",
       "      <td>63</td>\n",
       "    </tr>\n",
       "    <tr>\n",
       "      <th>D</th>\n",
       "      <td>41</td>\n",
       "      <td>63</td>\n",
       "    </tr>\n",
       "    <tr>\n",
       "      <th>E</th>\n",
       "      <td>57</td>\n",
       "      <td>76</td>\n",
       "    </tr>\n",
       "    <tr>\n",
       "      <th>F</th>\n",
       "      <td>48</td>\n",
       "      <td>60</td>\n",
       "    </tr>\n",
       "    <tr>\n",
       "      <th>G</th>\n",
       "      <td>65</td>\n",
       "      <td>81</td>\n",
       "    </tr>\n",
       "    <tr>\n",
       "      <th>H</th>\n",
       "      <td>49</td>\n",
       "      <td>66</td>\n",
       "    </tr>\n",
       "    <tr>\n",
       "      <th>I</th>\n",
       "      <td>65</td>\n",
       "      <td>82</td>\n",
       "    </tr>\n",
       "    <tr>\n",
       "      <th>J</th>\n",
       "      <td>58</td>\n",
       "      <td>78</td>\n",
       "    </tr>\n",
       "  </tbody>\n",
       "</table>\n",
       "</div>"
      ],
      "text/plain": [
       "         english  mathematics\n",
       "student                      \n",
       "A             42           65\n",
       "B             69           80\n",
       "C             56           63\n",
       "D             41           63\n",
       "E             57           76\n",
       "F             48           60\n",
       "G             65           81\n",
       "H             49           66\n",
       "I             65           82\n",
       "J             58           78"
      ]
     },
     "execution_count": 4,
     "metadata": {},
     "output_type": "execute_result"
    }
   ],
   "source": [
    "scores_df"
   ]
  },
  {
   "cell_type": "code",
   "execution_count": 5,
   "id": "e2711373",
   "metadata": {},
   "outputs": [
    {
     "data": {
      "image/png": "[encoded data removed]",
      "text/plain": [
       "<Figure size 576x576 with 1 Axes>"
      ]
     },
     "metadata": {
      "needs_background": "light"
     },
     "output_type": "display_data"
    }
   ],
   "source": [
    "fig = plt.figure(figsize=(8, 8))\n",
    "\n",
    "ax = fig.add_subplot(1,1,1)\n",
    "# 산점도\n",
    "ax.scatter(scores_df['english'], scores_df['mathematics'])\n",
    "ax.set_xlabel('english')\n",
    "ax.set_ylabel('mathematics')\n",
    "\n",
    "plt.show()"
   ]
  },
  {
   "cell_type": "code",
   "execution_count": 6,
   "id": "61a8d399",
   "metadata": {},
   "outputs": [
    {
     "data": {
      "text/html": [
       "<div>\n",
       "<style scoped>\n",
       "    .dataframe tbody tr th:only-of-type {\n",
       "        vertical-align: middle;\n",
       "    }\n",
       "\n",
       "    .dataframe tbody tr th {\n",
       "        vertical-align: top;\n",
       "    }\n",
       "\n",
       "    .dataframe thead th {\n",
       "        text-align: right;\n",
       "    }\n",
       "</style>\n",
       "<table border=\"1\" class=\"dataframe\">\n",
       "  <thead>\n",
       "    <tr style=\"text-align: right;\">\n",
       "      <th></th>\n",
       "      <th>english</th>\n",
       "      <th>mathematics</th>\n",
       "      <th>english_deviation</th>\n",
       "      <th>mathematics_deviation</th>\n",
       "      <th>product of deviation</th>\n",
       "    </tr>\n",
       "    <tr>\n",
       "      <th>student</th>\n",
       "      <th></th>\n",
       "      <th></th>\n",
       "      <th></th>\n",
       "      <th></th>\n",
       "      <th></th>\n",
       "    </tr>\n",
       "  </thead>\n",
       "  <tbody>\n",
       "    <tr>\n",
       "      <th>A</th>\n",
       "      <td>42</td>\n",
       "      <td>65</td>\n",
       "      <td>-13.0</td>\n",
       "      <td>-6.4</td>\n",
       "      <td>83.2</td>\n",
       "    </tr>\n",
       "    <tr>\n",
       "      <th>B</th>\n",
       "      <td>69</td>\n",
       "      <td>80</td>\n",
       "      <td>14.0</td>\n",
       "      <td>8.6</td>\n",
       "      <td>120.4</td>\n",
       "    </tr>\n",
       "    <tr>\n",
       "      <th>C</th>\n",
       "      <td>56</td>\n",
       "      <td>63</td>\n",
       "      <td>1.0</td>\n",
       "      <td>-8.4</td>\n",
       "      <td>-8.4</td>\n",
       "    </tr>\n",
       "    <tr>\n",
       "      <th>D</th>\n",
       "      <td>41</td>\n",
       "      <td>63</td>\n",
       "      <td>-14.0</td>\n",
       "      <td>-8.4</td>\n",
       "      <td>117.6</td>\n",
       "    </tr>\n",
       "    <tr>\n",
       "      <th>E</th>\n",
       "      <td>57</td>\n",
       "      <td>76</td>\n",
       "      <td>2.0</td>\n",
       "      <td>4.6</td>\n",
       "      <td>9.2</td>\n",
       "    </tr>\n",
       "    <tr>\n",
       "      <th>F</th>\n",
       "      <td>48</td>\n",
       "      <td>60</td>\n",
       "      <td>-7.0</td>\n",
       "      <td>-11.4</td>\n",
       "      <td>79.8</td>\n",
       "    </tr>\n",
       "    <tr>\n",
       "      <th>G</th>\n",
       "      <td>65</td>\n",
       "      <td>81</td>\n",
       "      <td>10.0</td>\n",
       "      <td>9.6</td>\n",
       "      <td>96.0</td>\n",
       "    </tr>\n",
       "    <tr>\n",
       "      <th>H</th>\n",
       "      <td>49</td>\n",
       "      <td>66</td>\n",
       "      <td>-6.0</td>\n",
       "      <td>-5.4</td>\n",
       "      <td>32.4</td>\n",
       "    </tr>\n",
       "    <tr>\n",
       "      <th>I</th>\n",
       "      <td>65</td>\n",
       "      <td>82</td>\n",
       "      <td>10.0</td>\n",
       "      <td>10.6</td>\n",
       "      <td>106.0</td>\n",
       "    </tr>\n",
       "    <tr>\n",
       "      <th>J</th>\n",
       "      <td>58</td>\n",
       "      <td>78</td>\n",
       "      <td>3.0</td>\n",
       "      <td>6.6</td>\n",
       "      <td>19.8</td>\n",
       "    </tr>\n",
       "  </tbody>\n",
       "</table>\n",
       "</div>"
      ],
      "text/plain": [
       "         english  mathematics  english_deviation  mathematics_deviation  \\\n",
       "student                                                                   \n",
       "A             42           65              -13.0                   -6.4   \n",
       "B             69           80               14.0                    8.6   \n",
       "C             56           63                1.0                   -8.4   \n",
       "D             41           63              -14.0                   -8.4   \n",
       "E             57           76                2.0                    4.6   \n",
       "F             48           60               -7.0                  -11.4   \n",
       "G             65           81               10.0                    9.6   \n",
       "H             49           66               -6.0                   -5.4   \n",
       "I             65           82               10.0                   10.6   \n",
       "J             58           78                3.0                    6.6   \n",
       "\n",
       "         product of deviation  \n",
       "student                        \n",
       "A                        83.2  \n",
       "B                       120.4  \n",
       "C                        -8.4  \n",
       "D                       117.6  \n",
       "E                         9.2  \n",
       "F                        79.8  \n",
       "G                        96.0  \n",
       "H                        32.4  \n",
       "I                       106.0  \n",
       "J                        19.8  "
      ]
     },
     "execution_count": 6,
     "metadata": {},
     "output_type": "execute_result"
    }
   ],
   "source": [
    "summary_df = scores_df.copy()\n",
    "summary_df['english_deviation'] = \\\n",
    "    summary_df['english'] - summary_df['english'].mean()\n",
    "summary_df['mathematics_deviation'] = \\\n",
    "    summary_df['mathematics'] - summary_df['mathematics'].mean()\n",
    "summary_df['product of deviation'] = \\\n",
    "    summary_df['english_deviation'] * summary_df['mathematics_deviation']\n",
    "summary_df"
   ]
  },
  {
   "cell_type": "code",
   "execution_count": 7,
   "id": "274691f0",
   "metadata": {},
   "outputs": [
    {
     "data": {
      "text/plain": [
       "65.6"
      ]
     },
     "execution_count": 7,
     "metadata": {},
     "output_type": "execute_result"
    }
   ],
   "source": [
    "summary_df['product of deviation'].mean() ## 공분산"
   ]
  },
  {
   "cell_type": "code",
   "execution_count": 8,
   "id": "2ae33fdb",
   "metadata": {},
   "outputs": [
    {
     "name": "stdout",
     "output_type": "stream",
     "text": [
      "english분산 : 86.0\n",
      "mathematics분산 : 68.44000000000001\n"
     ]
    }
   ],
   "source": [
    "print(f\"english분산 : {np.square(summary_df['english_deviation']).mean()}\") ## 분산 (편차 제곱의 평균)\n",
    "print(f\"mathematics분산 : {np.square(summary_df['mathematics_deviation']).mean()}\")"
   ]
  },
  {
   "cell_type": "code",
   "execution_count": 9,
   "id": "d0be7b0c",
   "metadata": {},
   "outputs": [
    {
     "data": {
      "text/plain": [
       "array([[86.  , 65.6 ],\n",
       "       [65.6 , 68.44]])"
      ]
     },
     "execution_count": 9,
     "metadata": {},
     "output_type": "execute_result"
    }
   ],
   "source": [
    "np.cov(summary_df['english'], summary_df['mathematics'], ddof=0)"
   ]
  },
  {
   "cell_type": "code",
   "execution_count": 10,
   "id": "ac5cd8ed",
   "metadata": {},
   "outputs": [
    {
     "name": "stdout",
     "output_type": "stream",
     "text": [
      "english분산: 86.0\n",
      "english분산: 68.44000000000001\n"
     ]
    }
   ],
   "source": [
    "print(f\"english분산: {np.var(summary_df['english'], ddof=0)}\")\n",
    "print(f\"english분산: {np.var(summary_df['mathematics'], ddof=0)}\")"
   ]
  },
  {
   "cell_type": "code",
   "execution_count": 11,
   "id": "59aa4a77",
   "metadata": {},
   "outputs": [
    {
     "data": {
      "text/plain": [
       "0.855065951563453"
      ]
     },
     "execution_count": 11,
     "metadata": {},
     "output_type": "execute_result"
    }
   ],
   "source": [
    "## 상관계수\n",
    "# 영어와 수학의 Covariance / (영어의 표준편차 * 수학의 표준편차)\n",
    "\n",
    "np.cov(summary_df['english'], summary_df['mathematics'], ddof=0)[0,1] /\\\n",
    "    (np.std(summary_df['english'] * np.std(summary_df['mathematics'])))"
   ]
  },
  {
   "cell_type": "code",
   "execution_count": 12,
   "id": "e37a0bcc",
   "metadata": {},
   "outputs": [
    {
     "data": {
      "text/plain": [
       "array([[1.        , 0.85506595],\n",
       "       [0.85506595, 1.        ]])"
      ]
     },
     "execution_count": 12,
     "metadata": {},
     "output_type": "execute_result"
    }
   ],
   "source": [
    "## 상관계수 (넘파이 함수로 구하기)\n",
    "\n",
    "np.corrcoef(summary_df['english'], summary_df['mathematics'])"
   ]
  },
  {
   "cell_type": "code",
   "execution_count": 13,
   "id": "32650999",
   "metadata": {},
   "outputs": [
    {
     "data": {
      "text/html": [
       "<div>\n",
       "<style scoped>\n",
       "    .dataframe tbody tr th:only-of-type {\n",
       "        vertical-align: middle;\n",
       "    }\n",
       "\n",
       "    .dataframe tbody tr th {\n",
       "        vertical-align: top;\n",
       "    }\n",
       "\n",
       "    .dataframe thead th {\n",
       "        text-align: right;\n",
       "    }\n",
       "</style>\n",
       "<table border=\"1\" class=\"dataframe\">\n",
       "  <thead>\n",
       "    <tr style=\"text-align: right;\">\n",
       "      <th></th>\n",
       "      <th>english</th>\n",
       "      <th>mathematics</th>\n",
       "    </tr>\n",
       "  </thead>\n",
       "  <tbody>\n",
       "    <tr>\n",
       "      <th>english</th>\n",
       "      <td>1.000000</td>\n",
       "      <td>0.855066</td>\n",
       "    </tr>\n",
       "    <tr>\n",
       "      <th>mathematics</th>\n",
       "      <td>0.855066</td>\n",
       "      <td>1.000000</td>\n",
       "    </tr>\n",
       "  </tbody>\n",
       "</table>\n",
       "</div>"
      ],
      "text/plain": [
       "              english  mathematics\n",
       "english      1.000000     0.855066\n",
       "mathematics  0.855066     1.000000"
      ]
     },
     "execution_count": 13,
     "metadata": {},
     "output_type": "execute_result"
    }
   ],
   "source": [
    "scores_df.corr()"
   ]
  },
  {
   "cell_type": "code",
   "execution_count": 14,
   "id": "f1553e29",
   "metadata": {},
   "outputs": [
    {
     "data": {
      "text/plain": [
       "array([ 0.7627907 , 29.44651163])"
      ]
     },
     "execution_count": 14,
     "metadata": {},
     "output_type": "execute_result"
    }
   ],
   "source": [
    "## 계수 beta_0와 beta_1을 구한다.\n",
    "\n",
    "poly_fit = np.polyfit(scores_df['english'], scores_df['mathematics'], 1)\n",
    "poly_fit"
   ]
  },
  {
   "cell_type": "code",
   "execution_count": 15,
   "id": "0347d9ff",
   "metadata": {},
   "outputs": [
    {
     "data": {
      "text/plain": [
       "poly1d([ 0.7627907 , 29.44651163])"
      ]
     },
     "execution_count": 15,
     "metadata": {},
     "output_type": "execute_result"
    }
   ],
   "source": [
    "## beta_1 * x + beta_0를 반환하는 함수 작성.\n",
    "\n",
    "poly_1d = np.poly1d(poly_fit)\n",
    "poly_1d"
   ]
  },
  {
   "cell_type": "code",
   "execution_count": 16,
   "id": "ca8c88c4",
   "metadata": {},
   "outputs": [],
   "source": [
    "## 직선을 그리기 위해 x좌표, y좌표 생성.\n",
    "xs = np.linspace(scores_df['english'].min(), scores_df['english'].max())\n",
    "ys = poly_1d(xs)\n",
    "# ys"
   ]
  },
  {
   "cell_type": "code",
   "execution_count": 17,
   "id": "62dc4e80",
   "metadata": {},
   "outputs": [
    {
     "data": {
      "image/png": "[encoded data removed]",
      "text/plain": [
       "<Figure size 576x576 with 1 Axes>"
      ]
     },
     "metadata": {
      "needs_background": "light"
     },
     "output_type": "display_data"
    }
   ],
   "source": [
    "fig = plt.figure(figsize=(8, 8))\n",
    "ax = fig.add_subplot(1,1,1)\n",
    "ax.scatter(scores_df['english'], scores_df['mathematics'], label='score')\n",
    "\n",
    "ax.plot(\n",
    "    xs, ys, color='gray',\n",
    "    label = f\"{poly_fit[1]:.2f} + {poly_fit[0]:.2f}x\"\n",
    ")\n",
    "ax.set_xlabel('english')\n",
    "ax.set_ylabel('mathematics')\n",
    "\n",
    "ax.legend()\n",
    "\n",
    "\n",
    "plt.show()"
   ]
  },
  {
   "cell_type": "code",
   "execution_count": 18,
   "id": "f8cdfcc5",
   "metadata": {},
   "outputs": [
    {
     "data": {
      "image/png": "[encoded data removed]",
      "text/plain": [
       "<Figure size 720x576 with 2 Axes>"
      ]
     },
     "metadata": {
      "needs_background": "light"
     },
     "output_type": "display_data"
    }
   ],
   "source": [
    "f, ax = plt.subplots(1,1, figsize=(10, 8))\n",
    "\n",
    "\n",
    "c = ax.hist2d(\n",
    "    scores_df['english'], scores_df['mathematics'],\n",
    "    bins=[10,8], range=[(40,70), (60,85)]\n",
    ")\n",
    "ax.set_xlabel('english')\n",
    "ax.set_ylabel('mathematics')\n",
    "ax.set_xticks(c[1])\n",
    "ax.set_yticks(c[2])\n",
    "\n",
    "fig.colorbar(c[3], ax = ax)\n",
    "plt.show()"
   ]
  },
  {
   "cell_type": "code",
   "execution_count": 19,
   "id": "af0d2a98",
   "metadata": {},
   "outputs": [],
   "source": [
    "import json\n",
    "from pprint import pprint"
   ]
  },
  {
   "cell_type": "code",
   "execution_count": 20,
   "id": "6c5dbfe3",
   "metadata": {},
   "outputs": [
    {
     "name": "stdout",
     "output_type": "stream",
     "text": [
      "[{'Series': 'I', 'X': 10.0, 'Y': 8.04},\n",
      " {'Series': 'I', 'X': 8.0, 'Y': 6.95},\n",
      " {'Series': 'I', 'X': 13.0, 'Y': 7.58},\n",
      " {'Series': 'I', 'X': 9.0, 'Y': 8.81},\n",
      " {'Series': 'I', 'X': 11.0, 'Y': 8.33}]\n"
     ]
    }
   ],
   "source": [
    "with open('./anscombe.json') as filename:\n",
    "    anscombe = json.load(filename)\n",
    "pprint(anscombe[:5])"
   ]
  },
  {
   "cell_type": "code",
   "execution_count": 25,
   "id": "63b60b19",
   "metadata": {},
   "outputs": [
    {
     "data": {
      "text/html": [
       "<div>\n",
       "<style scoped>\n",
       "    .dataframe tbody tr th:only-of-type {\n",
       "        vertical-align: middle;\n",
       "    }\n",
       "\n",
       "    .dataframe tbody tr th {\n",
       "        vertical-align: top;\n",
       "    }\n",
       "\n",
       "    .dataframe thead th {\n",
       "        text-align: right;\n",
       "    }\n",
       "</style>\n",
       "<table border=\"1\" class=\"dataframe\">\n",
       "  <thead>\n",
       "    <tr style=\"text-align: right;\">\n",
       "      <th></th>\n",
       "      <th>X</th>\n",
       "      <th>Y</th>\n",
       "    </tr>\n",
       "    <tr>\n",
       "      <th>Series</th>\n",
       "      <th></th>\n",
       "      <th></th>\n",
       "    </tr>\n",
       "  </thead>\n",
       "  <tbody>\n",
       "    <tr>\n",
       "      <th>I</th>\n",
       "      <td>10.0</td>\n",
       "      <td>8.04</td>\n",
       "    </tr>\n",
       "    <tr>\n",
       "      <th>I</th>\n",
       "      <td>8.0</td>\n",
       "      <td>6.95</td>\n",
       "    </tr>\n",
       "    <tr>\n",
       "      <th>I</th>\n",
       "      <td>13.0</td>\n",
       "      <td>7.58</td>\n",
       "    </tr>\n",
       "    <tr>\n",
       "      <th>I</th>\n",
       "      <td>9.0</td>\n",
       "      <td>8.81</td>\n",
       "    </tr>\n",
       "    <tr>\n",
       "      <th>I</th>\n",
       "      <td>11.0</td>\n",
       "      <td>8.33</td>\n",
       "    </tr>\n",
       "  </tbody>\n",
       "</table>\n",
       "</div>"
      ],
      "text/plain": [
       "           X     Y\n",
       "Series            \n",
       "I       10.0  8.04\n",
       "I        8.0  6.95\n",
       "I       13.0  7.58\n",
       "I        9.0  8.81\n",
       "I       11.0  8.33"
      ]
     },
     "execution_count": 25,
     "metadata": {},
     "output_type": "execute_result"
    }
   ],
   "source": [
    "df_anscombe = pd.DataFrame.from_records(anscombe, index='Series')\n",
    "df_anscombe.head()"
   ]
  },
  {
   "cell_type": "code",
   "execution_count": 26,
   "id": "70320e52",
   "metadata": {},
   "outputs": [
    {
     "data": {
      "text/plain": [
       "(44, 2)"
      ]
     },
     "execution_count": 26,
     "metadata": {},
     "output_type": "execute_result"
    }
   ],
   "source": [
    "df_anscombe.shape"
   ]
  },
  {
   "cell_type": "code",
   "execution_count": 27,
   "id": "6c089500",
   "metadata": {},
   "outputs": [
    {
     "data": {
      "text/plain": [
       "Index(['I', 'II', 'III', 'IV'], dtype='object', name='Series')"
      ]
     },
     "execution_count": 27,
     "metadata": {},
     "output_type": "execute_result"
    }
   ],
   "source": [
    "df_anscombe.index.unique()"
   ]
  },
  {
   "cell_type": "code",
   "execution_count": 30,
   "id": "be2ab75c",
   "metadata": {},
   "outputs": [
    {
     "data": {
      "text/html": [
       "<div>\n",
       "<style scoped>\n",
       "    .dataframe tbody tr th:only-of-type {\n",
       "        vertical-align: middle;\n",
       "    }\n",
       "\n",
       "    .dataframe tbody tr th {\n",
       "        vertical-align: top;\n",
       "    }\n",
       "\n",
       "    .dataframe thead th {\n",
       "        text-align: right;\n",
       "    }\n",
       "</style>\n",
       "<table border=\"1\" class=\"dataframe\">\n",
       "  <thead>\n",
       "    <tr style=\"text-align: right;\">\n",
       "      <th></th>\n",
       "      <th>X</th>\n",
       "      <th>Y</th>\n",
       "    </tr>\n",
       "    <tr>\n",
       "      <th>Series</th>\n",
       "      <th></th>\n",
       "      <th></th>\n",
       "    </tr>\n",
       "  </thead>\n",
       "  <tbody>\n",
       "    <tr>\n",
       "      <th>I</th>\n",
       "      <td>10.0</td>\n",
       "      <td>8.04</td>\n",
       "    </tr>\n",
       "    <tr>\n",
       "      <th>I</th>\n",
       "      <td>8.0</td>\n",
       "      <td>6.95</td>\n",
       "    </tr>\n",
       "    <tr>\n",
       "      <th>I</th>\n",
       "      <td>13.0</td>\n",
       "      <td>7.58</td>\n",
       "    </tr>\n",
       "    <tr>\n",
       "      <th>I</th>\n",
       "      <td>9.0</td>\n",
       "      <td>8.81</td>\n",
       "    </tr>\n",
       "    <tr>\n",
       "      <th>I</th>\n",
       "      <td>11.0</td>\n",
       "      <td>8.33</td>\n",
       "    </tr>\n",
       "    <tr>\n",
       "      <th>I</th>\n",
       "      <td>14.0</td>\n",
       "      <td>9.96</td>\n",
       "    </tr>\n",
       "    <tr>\n",
       "      <th>I</th>\n",
       "      <td>6.0</td>\n",
       "      <td>7.24</td>\n",
       "    </tr>\n",
       "    <tr>\n",
       "      <th>I</th>\n",
       "      <td>4.0</td>\n",
       "      <td>4.26</td>\n",
       "    </tr>\n",
       "    <tr>\n",
       "      <th>I</th>\n",
       "      <td>12.0</td>\n",
       "      <td>10.84</td>\n",
       "    </tr>\n",
       "    <tr>\n",
       "      <th>I</th>\n",
       "      <td>7.0</td>\n",
       "      <td>4.81</td>\n",
       "    </tr>\n",
       "    <tr>\n",
       "      <th>I</th>\n",
       "      <td>5.0</td>\n",
       "      <td>5.68</td>\n",
       "    </tr>\n",
       "  </tbody>\n",
       "</table>\n",
       "</div>"
      ],
      "text/plain": [
       "           X      Y\n",
       "Series             \n",
       "I       10.0   8.04\n",
       "I        8.0   6.95\n",
       "I       13.0   7.58\n",
       "I        9.0   8.81\n",
       "I       11.0   8.33\n",
       "I       14.0   9.96\n",
       "I        6.0   7.24\n",
       "I        4.0   4.26\n",
       "I       12.0  10.84\n",
       "I        7.0   4.81\n",
       "I        5.0   5.68"
      ]
     },
     "execution_count": 30,
     "metadata": {},
     "output_type": "execute_result"
    }
   ],
   "source": [
    "df_anscombe[df_anscombe.index == 'I']"
   ]
  },
  {
   "cell_type": "code",
   "execution_count": 31,
   "id": "766348af",
   "metadata": {},
   "outputs": [],
   "source": [
    "stats_df = pd.DataFrame(\n",
    "    index = [\n",
    "        'X_mean', 'X_variance', 'Y_mean', 'Y_variance',\n",
    "        'X&Y_correlation', 'X&Y_regression line'\n",
    "    ]\n",
    ")"
   ]
  },
  {
   "cell_type": "code",
   "execution_count": 37,
   "id": "e33c9cb8",
   "metadata": {},
   "outputs": [
    {
     "data": {
      "text/plain": [
       "Series\n",
       "I    10.0\n",
       "I     8.0\n",
       "I    13.0\n",
       "I     9.0\n",
       "I    11.0\n",
       "I    14.0\n",
       "I     6.0\n",
       "I     4.0\n",
       "I    12.0\n",
       "I     7.0\n",
       "I     5.0\n",
       "Name: X, dtype: float64"
      ]
     },
     "execution_count": 37,
     "metadata": {},
     "output_type": "execute_result"
    }
   ],
   "source": [
    "df_anscombe[df_anscombe.index=='I']['X']"
   ]
  },
  {
   "cell_type": "code",
   "execution_count": 35,
   "id": "f912c103",
   "metadata": {},
   "outputs": [
    {
     "data": {
      "text/html": [
       "<div>\n",
       "<style scoped>\n",
       "    .dataframe tbody tr th:only-of-type {\n",
       "        vertical-align: middle;\n",
       "    }\n",
       "\n",
       "    .dataframe tbody tr th {\n",
       "        vertical-align: top;\n",
       "    }\n",
       "\n",
       "    .dataframe thead th {\n",
       "        text-align: right;\n",
       "    }\n",
       "</style>\n",
       "<table border=\"1\" class=\"dataframe\">\n",
       "  <thead>\n",
       "    <tr style=\"text-align: right;\">\n",
       "      <th></th>\n",
       "      <th>dataI</th>\n",
       "      <th>dataII</th>\n",
       "      <th>dataIII</th>\n",
       "      <th>dataIV</th>\n",
       "    </tr>\n",
       "  </thead>\n",
       "  <tbody>\n",
       "    <tr>\n",
       "      <th>X_mean</th>\n",
       "      <td>9.00</td>\n",
       "      <td>9.00</td>\n",
       "      <td>9.00</td>\n",
       "      <td>9.00</td>\n",
       "    </tr>\n",
       "    <tr>\n",
       "      <th>X_variance</th>\n",
       "      <td>10.00</td>\n",
       "      <td>10.00</td>\n",
       "      <td>10.00</td>\n",
       "      <td>10.00</td>\n",
       "    </tr>\n",
       "    <tr>\n",
       "      <th>Y_mean</th>\n",
       "      <td>7.50</td>\n",
       "      <td>7.50</td>\n",
       "      <td>7.50</td>\n",
       "      <td>7.50</td>\n",
       "    </tr>\n",
       "    <tr>\n",
       "      <th>Y_variance</th>\n",
       "      <td>3.76</td>\n",
       "      <td>3.75</td>\n",
       "      <td>3.75</td>\n",
       "      <td>3.75</td>\n",
       "    </tr>\n",
       "    <tr>\n",
       "      <th>X&amp;Y_correlation</th>\n",
       "      <td>0.82</td>\n",
       "      <td>0.82</td>\n",
       "      <td>0.82</td>\n",
       "      <td>0.82</td>\n",
       "    </tr>\n",
       "    <tr>\n",
       "      <th>X&amp;Y_regression line</th>\n",
       "      <td>3.00 + 0.50x</td>\n",
       "      <td>3.00 + 0.50x</td>\n",
       "      <td>3.00 + 0.50x</td>\n",
       "      <td>3.00 + 0.50x</td>\n",
       "    </tr>\n",
       "  </tbody>\n",
       "</table>\n",
       "</div>"
      ],
      "text/plain": [
       "                            dataI        dataII       dataIII        dataIV\n",
       "X_mean                       9.00          9.00          9.00          9.00\n",
       "X_variance                  10.00         10.00         10.00         10.00\n",
       "Y_mean                       7.50          7.50          7.50          7.50\n",
       "Y_variance                   3.76          3.75          3.75          3.75\n",
       "X&Y_correlation              0.82          0.82          0.82          0.82\n",
       "X&Y_regression line  3.00 + 0.50x  3.00 + 0.50x  3.00 + 0.50x  3.00 + 0.50x"
      ]
     },
     "execution_count": 35,
     "metadata": {},
     "output_type": "execute_result"
    }
   ],
   "source": [
    "## 4개 Series 별로 통계지표 계산하기\n",
    "\n",
    "for series in list(df_anscombe.index.unique()):\n",
    "    dataX = df_anscombe[df_anscombe.index == series]['X']\n",
    "    dataY = df_anscombe[df_anscombe.index == series]['Y']\n",
    "    poly_fit = np.polyfit(dataX, dataY, 1)\n",
    "    stats_df[f\"data{series}\"] = \\\n",
    "        [\n",
    "            f\"{np.mean(dataX):.2f}\",\n",
    "            f\"{np.var(dataX):.2f}\",\n",
    "            f\"{np.mean(dataY):.2f}\",\n",
    "            f\"{np.var(dataY):.2f}\",\n",
    "            f\"{np.corrcoef(dataX, dataY)[0,1]:.2f}\",\n",
    "            f\"{poly_fit[1]:.2f} + {poly_fit[0]:.2f}x\"\n",
    "        ]\n",
    "stats_df"
   ]
  },
  {
   "cell_type": "code",
   "execution_count": 46,
   "id": "2810574c",
   "metadata": {},
   "outputs": [
    {
     "data": {
      "image/png": "[encoded data removed]",
      "text/plain": [
       "<Figure size 720x720 with 4 Axes>"
      ]
     },
     "metadata": {
      "needs_background": "light"
     },
     "output_type": "display_data"
    }
   ],
   "source": [
    "## 4개 그래프를 그리기위한 2X2 영역 생성\n",
    "\n",
    "f, axes = plt.subplots(\n",
    "    2, 2, figsize=(10, 10),\n",
    "    sharex=True, sharey=True    \n",
    ")\n",
    "\n",
    "xs = np.linspace(0, 30, 100)\n",
    "for i, series in enumerate(list(df_anscombe.index.unique())):\n",
    "    dataX = df_anscombe[df_anscombe.index==series]['X']\n",
    "    dataY = df_anscombe[df_anscombe.index==series]['Y']\n",
    "    poly_fit = np.polyfit(dataX, dataY, 1)\n",
    "    poly_1d = np.poly1d(poly_fit)\n",
    "    ys = poly_1d(xs)\n",
    "    \n",
    "    # 그리는 영역 선택\n",
    "    ax = axes[i//2, i%2]\n",
    "    ax.set_xlim([4, 20])\n",
    "    ax.set_ylim([3, 13])\n",
    "    \n",
    "    ax.set_title(f'data{series}')\n",
    "    ax.scatter(dataX, dataY)\n",
    "    ax.plot(xs, ys, color='gray')\n",
    "\n",
    "plt.tight_layout()\n",
    "plt.show()"
   ]
  },
  {
   "cell_type": "code",
   "execution_count": null,
   "id": "437428f9",
   "metadata": {},
   "outputs": [],
   "source": []
  }
 ],
 "metadata": {
  "kernelspec": {
   "display_name": "Python 3 (ipykernel)",
   "language": "python",
   "name": "python3"
  },
  "language_info": {
   "codemirror_mode": {
    "name": "ipython",
    "version": 3
   },
   "file_extension": ".py",
   "mimetype": "text/x-python",
   "name": "python",
   "nbconvert_exporter": "python",
   "pygments_lexer": "ipython3",
   "version": "3.8.13"
  }
 },
 "nbformat": 4,
 "nbformat_minor": 5
}
