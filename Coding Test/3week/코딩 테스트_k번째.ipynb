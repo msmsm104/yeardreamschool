{
 "cells": [
  {
   "cell_type": "code",
   "execution_count": 6,
   "id": "5504066f",
   "metadata": {},
   "outputs": [
    {
     "data": {
      "text/plain": [
       "[5, 6, 3]"
      ]
     },
     "execution_count": 6,
     "metadata": {},
     "output_type": "execute_result"
    }
   ],
   "source": [
    "array = [1,5,2,6,3,7,4]\n",
    "\n",
    "commands = [[2,5,3], [4,4,1], [1,7,3]]\n",
    "\n",
    "sorted(array[1:5])[2]\n",
    "\n",
    "def solution(array, commands):\n",
    "    answer = []\n",
    "    \n",
    "    for lst in commands:\n",
    "        answer.append(sorted(array[lst[0] - 1: lst[1]])[lst[2] - 1])\n",
    "\n",
    "    return answer\n",
    "\n",
    "solution(array, commands)\n",
    "    \n",
    "    \n",
    "    "
   ]
  },
  {
   "cell_type": "code",
   "execution_count": null,
   "id": "945bfa84",
   "metadata": {},
   "outputs": [],
   "source": []
  }
 ],
 "metadata": {
  "kernelspec": {
   "display_name": "Python 3 (ipykernel)",
   "language": "python",
   "name": "python3"
  },
  "language_info": {
   "codemirror_mode": {
    "name": "ipython",
    "version": 3
   },
   "file_extension": ".py",
   "mimetype": "text/x-python",
   "name": "python",
   "nbconvert_exporter": "python",
   "pygments_lexer": "ipython3",
   "version": "3.8.13"
  }
 },
 "nbformat": 4,
 "nbformat_minor": 5
}
