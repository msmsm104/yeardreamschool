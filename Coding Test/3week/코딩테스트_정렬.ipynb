{
 "cells": [
  {
   "cell_type": "markdown",
   "id": "d412e3c1",
   "metadata": {},
   "source": [
    "# 위에서 아래로"
   ]
  },
  {
   "cell_type": "code",
   "execution_count": 4,
   "id": "7a8924b3",
   "metadata": {},
   "outputs": [
    {
     "name": "stdout",
     "output_type": "stream",
     "text": [
      "3\n",
      "27\n",
      "15\n",
      "18\n",
      "27 18 15 "
     ]
    }
   ],
   "source": [
    "n = int(input())\n",
    "\n",
    "# n개의 정수 입력받기\n",
    "array = []\n",
    "\n",
    "for i in range(n):\n",
    "    array.append(int(input()))\n",
    "\n",
    "array = sorted(array, reverse=True)\n",
    "\n",
    "#출력\n",
    "for i in array:\n",
    "    print(i, end=' ')\n"
   ]
  },
  {
   "cell_type": "markdown",
   "id": "6c571829",
   "metadata": {},
   "source": [
    "# 성적이 낮은 순서로 학생 출력"
   ]
  },
  {
   "cell_type": "code",
   "execution_count": 11,
   "id": "78904800",
   "metadata": {},
   "outputs": [
    {
     "name": "stdout",
     "output_type": "stream",
     "text": [
      "2\n",
      "홍길동 95\n",
      "이순신 77\n",
      "이순신 홍길동 "
     ]
    }
   ],
   "source": [
    "n = int(input())\n",
    "\n",
    "array = []\n",
    "\n",
    "def setting(data):\n",
    "    return data[1]\n",
    "\n",
    "for i in range(n):\n",
    "    a, b = input().split(' ')\n",
    "    lst = [a, int(b)]\n",
    "    array.append(lst)\n",
    "\n",
    "array = sorted(array, key=setting)\n",
    "\n",
    "for i in array:\n",
    "    print(i[0], end=' ')\n"
   ]
  },
  {
   "cell_type": "markdown",
   "id": "51dd8bd9",
   "metadata": {},
   "source": [
    "# 두 배열의 원소 교체"
   ]
  },
  {
   "cell_type": "code",
   "execution_count": 27,
   "id": "87dc1c34",
   "metadata": {},
   "outputs": [
    {
     "name": "stdout",
     "output_type": "stream",
     "text": [
      "5 3\n",
      "1 2 5 4 3\n",
      "5 5 6 6 5\n",
      "26\n"
     ]
    }
   ],
   "source": [
    "n, k = map(int, input().split())\n",
    "\n",
    "a = list(map(int, input().split()))\n",
    "b = list(map(int, input().split()))\n",
    "\n",
    "\n",
    "\n",
    "\n",
    "for i in range(k):\n",
    "    tmp = min(a)\n",
    "    tmp_idx = a.index(tmp)\n",
    "\n",
    "    tmp_2 = max(b)\n",
    "    tmp_idx_2 = b.index(tmp_2)\n",
    "    a[tmp_idx], b[tmp_idx_2] = b[tmp_idx_2], a[tmp_idx]\n",
    "    \n",
    "print(sum(a))\n",
    "\n",
    "\n",
    "\n"
   ]
  },
  {
   "cell_type": "code",
   "execution_count": null,
   "id": "3596724b",
   "metadata": {},
   "outputs": [],
   "source": []
  }
 ],
 "metadata": {
  "kernelspec": {
   "display_name": "Python 3 (ipykernel)",
   "language": "python",
   "name": "python3"
  },
  "language_info": {
   "codemirror_mode": {
    "name": "ipython",
    "version": 3
   },
   "file_extension": ".py",
   "mimetype": "text/x-python",
   "name": "python",
   "nbconvert_exporter": "python",
   "pygments_lexer": "ipython3",
   "version": "3.8.13"
  }
 },
 "nbformat": 4,
 "nbformat_minor": 5
}
