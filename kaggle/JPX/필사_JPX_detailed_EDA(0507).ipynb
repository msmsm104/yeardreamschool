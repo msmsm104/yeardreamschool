{
 "cells": [
  {
   "cell_type": "markdown",
   "id": "f98899a4",
   "metadata": {},
   "source": [
    "## About this Notebook\n",
    "\n",
    "In this kernel, I will do exploratory data analysis mainly using files in directory `train_files` to facilitate the preliminary understanding of the data; also, a simple baseline model will be implemented to illustrate the usage of times series API."
   ]
  },
  {
   "cell_type": "markdown",
   "id": "8815baa9",
   "metadata": {},
   "source": [
    "## Table of Contents\n",
    "\n",
    " - 1.`stock_prices.csv`\n",
    "   - File Description\n",
    "   - Simple summary\n",
    "   - Primary Key\n",
    "   - Missing Values\n",
    "   - Target Exploration\n",
    "   - Stock List Fusion\n",
    "   - Secondary Stocks"
   ]
  },
  {
   "cell_type": "markdown",
   "id": "18a688c1",
   "metadata": {},
   "source": [
    "## Import Packages"
   ]
  },
  {
   "cell_type": "code",
   "execution_count": 20,
   "id": "122af3b3",
   "metadata": {},
   "outputs": [
    {
     "name": "stdout",
     "output_type": "stream",
     "text": [
      "Collecting plotly\n",
      "  Downloading plotly-5.7.0-py2.py3-none-any.whl (28.8 MB)\n",
      "\u001b[2K     \u001b[38;2;114;156;31m━━━━━━━━━━━━━━━━━━━━━━━━━━━━━━━━━━━━━━━━\u001b[0m \u001b[32m28.8/28.8 MB\u001b[0m \u001b[31m1.5 MB/s\u001b[0m eta \u001b[36m0:00:00\u001b[0mm eta \u001b[36m0:00:01\u001b[0m[36m0:00:01\u001b[0mm\n",
      "\u001b[?25hRequirement already satisfied: six in /Users/moonseokmin/miniforge3/envs/krc/lib/python3.8/site-packages (from plotly) (1.16.0)\n",
      "Collecting tenacity>=6.2.0\n",
      "  Downloading tenacity-8.0.1-py3-none-any.whl (24 kB)\n",
      "Installing collected packages: tenacity, plotly\n",
      "Successfully installed plotly-5.7.0 tenacity-8.0.1\n"
     ]
    }
   ],
   "source": [
    "# !pip install plotly"
   ]
  },
  {
   "cell_type": "code",
   "execution_count": 25,
   "id": "ba2ff227",
   "metadata": {},
   "outputs": [],
   "source": [
    "import os\n",
    "import gc\n",
    "import warnings\n",
    "\n",
    "import pandas as pd\n",
    "import numpy as np\n",
    "import matplotlib.pyplot as plt\n",
    "import seaborn as sns\n",
    "import plotly.graph_objects as go\n",
    "import plotly.express as px\n",
    "from plotly.subplots import make_subplots\n",
    "\n",
    "# configuration\n",
    "warnings.simplefilter('ignore')\n",
    "pd.set_option('display.max_column', None)\n",
    "sns.set_style('darkgrid')\n",
    "colors = sns.color_palette('Set2')"
   ]
  },
  {
   "cell_type": "code",
   "execution_count": 26,
   "id": "4652c65f",
   "metadata": {},
   "outputs": [],
   "source": [
    "TRAIN_DIR = './jpx_data/train_files'"
   ]
  },
  {
   "cell_type": "markdown",
   "id": "5c2e1310",
   "metadata": {},
   "source": [
    "## Load Data\n",
    "\n",
    "Let's load data first. It doesn't take too much time!"
   ]
  },
  {
   "cell_type": "code",
   "execution_count": 29,
   "id": "d9e7c48e",
   "metadata": {},
   "outputs": [
    {
     "name": "stdout",
     "output_type": "stream",
     "text": [
      "CPU times: user 19.8 s, sys: 4.06 s, total: 23.8 s\n",
      "Wall time: 24.6 s\n"
     ]
    }
   ],
   "source": [
    "%%time\n",
    "\n",
    "df_prices = pd.read_csv(os.path.join(TRAIN_DIR, 'stock_prices.csv'))\n",
    "df_prices_sec = pd.read_csv(os.path.join(TRAIN_DIR, 'secondary_stock_prices.csv'))\n",
    "df_fins = pd.read_csv(os.path.join(TRAIN_DIR, 'financials.csv'))\n",
    "df_opts = pd.read_csv(os.path.join(TRAIN_DIR, 'options.csv'))\n",
    "df_trades = pd.read_csv(os.path.join(TRAIN_DIR, 'trades.csv'))\n",
    "stock_list = pd.read_csv(os.path.join('./jpx_data/stock_list.csv'))"
   ]
  },
  {
   "cell_type": "markdown",
   "id": "c470bf1e",
   "metadata": {},
   "source": [
    "## stock_prices.csv\n",
    "\n",
    "### File Description\n",
    "\n",
    "The core file of interest, including the daily closing price for each stock and the target column. Following is column information recorded in `stock_price_spec.csv`:\n",
    "\n",
    " - `RowId`: Unique ID of price records, the combination of `Date` and `SecuritiesCode`.\n",
    " - `Date`: Trade date.\n",
    " - `SecuritiesCode`: Local securities code.\n",
    " - `Open`: First traded price on a day.\n",
    " - `High`: Highest traded price on a day.\n",
    " - `Low`: Lowest traded price on a day.\n",
    " - `Close`: Last traded price on a day.\n",
    " - `Volume`: Number of traded stocks on a day.\n",
    " - `AdjustmentFactor`: Used to calculate theoretical price/volume when split/reverse-split happens (NOT including dividend/allotment of shares).\n",
    " - `ExpectedDividend`: Expected dividend value for ex-right date. This value is recorded 2 business days before ex-dividend date.\n",
    " - `SupervisionFlag`: Flag of securities under supervision and securities to be delisted, for more information.\n",
    " - `Target`: Change ratio of adjusted closing price between t+2 and t+1 where t+0 is trade date."
   ]
  },
  {
   "cell_type": "markdown",
   "id": "81e67813",
   "metadata": {},
   "source": [
    "### Simple Summary\n",
    "\n",
    "`ExpectedDividend` has severe missing, which is related to the ''frequency of dividends paid''. Also, there are some missing prices to notice."
   ]
  },
  {
   "cell_type": "code",
   "execution_count": 51,
   "id": "1bcf4ee4",
   "metadata": {},
   "outputs": [],
   "source": [
    "def summarize(df, file_name, n_rows_to_show=5):\n",
    "    '''Simply summarize the given DataFrame.\n",
    "    \n",
    "    Parameters:\n",
    "        df : pd.DataFrame, raw DataFrame\n",
    "        file_name: str, name of the file\n",
    "        n_rows_to_show: int, number of rows to show\n",
    "    \n",
    "    '''\n",
    "    \n",
    "    print(f'=======Summary of {file_name}=======')\n",
    "    print(f'Shape: {df.shape}')\n",
    "    \n",
    "    nan_ratio = pd.isnull(df).sum() / len(df) * 100\n",
    "    nan_ratio.sort_values(ascending=False, inplace=True)\n",
    "    nan_ratio = nan_ratio.to_frame(name='NaN Ratio').T\n",
    "    print('NaN ratio:')\n",
    "    display(nan_ratio)\n",
    "    \n",
    "    display(df.head(n_rows_to_show))"
   ]
  },
  {
   "cell_type": "code",
   "execution_count": 52,
   "id": "27d4348f",
   "metadata": {},
   "outputs": [
    {
     "name": "stdout",
     "output_type": "stream",
     "text": [
      "=======Summary of stock_prices.csv=======\n",
      "Shape: (2332531, 12)\n",
      "NaN ratio:\n"
     ]
    },
    {
     "data": {
      "text/html": [
       "<div>\n",
       "<style scoped>\n",
       "    .dataframe tbody tr th:only-of-type {\n",
       "        vertical-align: middle;\n",
       "    }\n",
       "\n",
       "    .dataframe tbody tr th {\n",
       "        vertical-align: top;\n",
       "    }\n",
       "\n",
       "    .dataframe thead th {\n",
       "        text-align: right;\n",
       "    }\n",
       "</style>\n",
       "<table border=\"1\" class=\"dataframe\">\n",
       "  <thead>\n",
       "    <tr style=\"text-align: right;\">\n",
       "      <th></th>\n",
       "      <th>ExpectedDividend</th>\n",
       "      <th>Open</th>\n",
       "      <th>High</th>\n",
       "      <th>Low</th>\n",
       "      <th>Close</th>\n",
       "      <th>Target</th>\n",
       "      <th>RowId</th>\n",
       "      <th>Date</th>\n",
       "      <th>SecuritiesCode</th>\n",
       "      <th>Volume</th>\n",
       "      <th>AdjustmentFactor</th>\n",
       "      <th>SupervisionFlag</th>\n",
       "    </tr>\n",
       "  </thead>\n",
       "  <tbody>\n",
       "    <tr>\n",
       "      <th>NaN Ratio</th>\n",
       "      <td>99.191222</td>\n",
       "      <td>0.326169</td>\n",
       "      <td>0.326169</td>\n",
       "      <td>0.326169</td>\n",
       "      <td>0.326169</td>\n",
       "      <td>0.010204</td>\n",
       "      <td>0.0</td>\n",
       "      <td>0.0</td>\n",
       "      <td>0.0</td>\n",
       "      <td>0.0</td>\n",
       "      <td>0.0</td>\n",
       "      <td>0.0</td>\n",
       "    </tr>\n",
       "  </tbody>\n",
       "</table>\n",
       "</div>"
      ],
      "text/plain": [
       "           ExpectedDividend      Open      High       Low     Close    Target  \\\n",
       "NaN Ratio         99.191222  0.326169  0.326169  0.326169  0.326169  0.010204   \n",
       "\n",
       "           RowId  Date  SecuritiesCode  Volume  AdjustmentFactor  \\\n",
       "NaN Ratio    0.0   0.0             0.0     0.0               0.0   \n",
       "\n",
       "           SupervisionFlag  \n",
       "NaN Ratio              0.0  "
      ]
     },
     "metadata": {},
     "output_type": "display_data"
    },
    {
     "data": {
      "text/html": [
       "<div>\n",
       "<style scoped>\n",
       "    .dataframe tbody tr th:only-of-type {\n",
       "        vertical-align: middle;\n",
       "    }\n",
       "\n",
       "    .dataframe tbody tr th {\n",
       "        vertical-align: top;\n",
       "    }\n",
       "\n",
       "    .dataframe thead th {\n",
       "        text-align: right;\n",
       "    }\n",
       "</style>\n",
       "<table border=\"1\" class=\"dataframe\">\n",
       "  <thead>\n",
       "    <tr style=\"text-align: right;\">\n",
       "      <th></th>\n",
       "      <th>RowId</th>\n",
       "      <th>Date</th>\n",
       "      <th>SecuritiesCode</th>\n",
       "      <th>Open</th>\n",
       "      <th>High</th>\n",
       "      <th>Low</th>\n",
       "      <th>Close</th>\n",
       "      <th>Volume</th>\n",
       "      <th>AdjustmentFactor</th>\n",
       "      <th>ExpectedDividend</th>\n",
       "      <th>SupervisionFlag</th>\n",
       "      <th>Target</th>\n",
       "    </tr>\n",
       "  </thead>\n",
       "  <tbody>\n",
       "    <tr>\n",
       "      <th>0</th>\n",
       "      <td>20170104_1301</td>\n",
       "      <td>2017-01-04</td>\n",
       "      <td>1301</td>\n",
       "      <td>2734.0</td>\n",
       "      <td>2755.0</td>\n",
       "      <td>2730.0</td>\n",
       "      <td>2742.0</td>\n",
       "      <td>31400</td>\n",
       "      <td>1.0</td>\n",
       "      <td>NaN</td>\n",
       "      <td>False</td>\n",
       "      <td>0.000730</td>\n",
       "    </tr>\n",
       "    <tr>\n",
       "      <th>1</th>\n",
       "      <td>20170104_1332</td>\n",
       "      <td>2017-01-04</td>\n",
       "      <td>1332</td>\n",
       "      <td>568.0</td>\n",
       "      <td>576.0</td>\n",
       "      <td>563.0</td>\n",
       "      <td>571.0</td>\n",
       "      <td>2798500</td>\n",
       "      <td>1.0</td>\n",
       "      <td>NaN</td>\n",
       "      <td>False</td>\n",
       "      <td>0.012324</td>\n",
       "    </tr>\n",
       "    <tr>\n",
       "      <th>2</th>\n",
       "      <td>20170104_1333</td>\n",
       "      <td>2017-01-04</td>\n",
       "      <td>1333</td>\n",
       "      <td>3150.0</td>\n",
       "      <td>3210.0</td>\n",
       "      <td>3140.0</td>\n",
       "      <td>3210.0</td>\n",
       "      <td>270800</td>\n",
       "      <td>1.0</td>\n",
       "      <td>NaN</td>\n",
       "      <td>False</td>\n",
       "      <td>0.006154</td>\n",
       "    </tr>\n",
       "    <tr>\n",
       "      <th>3</th>\n",
       "      <td>20170104_1376</td>\n",
       "      <td>2017-01-04</td>\n",
       "      <td>1376</td>\n",
       "      <td>1510.0</td>\n",
       "      <td>1550.0</td>\n",
       "      <td>1510.0</td>\n",
       "      <td>1550.0</td>\n",
       "      <td>11300</td>\n",
       "      <td>1.0</td>\n",
       "      <td>NaN</td>\n",
       "      <td>False</td>\n",
       "      <td>0.011053</td>\n",
       "    </tr>\n",
       "    <tr>\n",
       "      <th>4</th>\n",
       "      <td>20170104_1377</td>\n",
       "      <td>2017-01-04</td>\n",
       "      <td>1377</td>\n",
       "      <td>3270.0</td>\n",
       "      <td>3350.0</td>\n",
       "      <td>3270.0</td>\n",
       "      <td>3330.0</td>\n",
       "      <td>150800</td>\n",
       "      <td>1.0</td>\n",
       "      <td>NaN</td>\n",
       "      <td>False</td>\n",
       "      <td>0.003026</td>\n",
       "    </tr>\n",
       "  </tbody>\n",
       "</table>\n",
       "</div>"
      ],
      "text/plain": [
       "           RowId        Date  SecuritiesCode    Open    High     Low   Close  \\\n",
       "0  20170104_1301  2017-01-04            1301  2734.0  2755.0  2730.0  2742.0   \n",
       "1  20170104_1332  2017-01-04            1332   568.0   576.0   563.0   571.0   \n",
       "2  20170104_1333  2017-01-04            1333  3150.0  3210.0  3140.0  3210.0   \n",
       "3  20170104_1376  2017-01-04            1376  1510.0  1550.0  1510.0  1550.0   \n",
       "4  20170104_1377  2017-01-04            1377  3270.0  3350.0  3270.0  3330.0   \n",
       "\n",
       "    Volume  AdjustmentFactor  ExpectedDividend  SupervisionFlag    Target  \n",
       "0    31400               1.0               NaN            False  0.000730  \n",
       "1  2798500               1.0               NaN            False  0.012324  \n",
       "2   270800               1.0               NaN            False  0.006154  \n",
       "3    11300               1.0               NaN            False  0.011053  \n",
       "4   150800               1.0               NaN            False  0.003026  "
      ]
     },
     "metadata": {},
     "output_type": "display_data"
    }
   ],
   "source": [
    "summarize(df_prices, 'stock_prices.csv')"
   ]
  },
  {
   "cell_type": "markdown",
   "id": "af4d6e04",
   "metadata": {},
   "source": [
    "## Primary Key\n",
    "\n",
    "`RowID` is composed of `Date` and `SecuritiesCode`."
   ]
  },
  {
   "cell_type": "code",
   "execution_count": 62,
   "id": "c63aa1ab",
   "metadata": {},
   "outputs": [],
   "source": [
    "row_id = (df_prices['Date'].apply(lambda date: ''.join(date.split('-'))) + '_') + (df_prices['SecuritiesCode'].astype(str))\n",
    "\n",
    "assert (df_prices['RowId'] == row_id).all(), 'Transformation is not correct.'\n",
    "## Force to check above processing is corret."
   ]
  },
  {
   "cell_type": "code",
   "execution_count": 63,
   "id": "40874aba",
   "metadata": {},
   "outputs": [
    {
     "name": "stdout",
     "output_type": "stream",
     "text": [
      "Number of unique dates: 1202 (2017-01-04 ~ 2021-12-03)\n",
      "Number of unique stocks: 2000\n"
     ]
    }
   ],
   "source": [
    "n_dates = df_prices['Date'].nunique()\n",
    "date_min, date_max = df_prices['Date'].min(), df_prices['Date'].max()\n",
    "n_stocks = df_prices['SecuritiesCode'].nunique()\n",
    "\n",
    "print(f'Number of unique dates: {n_dates} ({date_min} ~ {date_max})\\n'\n",
    "      f'Number of unique stocks: {n_stocks}')\n",
    "\n"
   ]
  },
  {
   "cell_type": "markdown",
   "id": "303217e3",
   "metadata": {},
   "source": [
    "Over 90% of stocks have records for complete training period from `2017-01-04` to `2021-12-03`. However, we still need to pay attention to 'missing values' in certain columns(e.g., `ExpectedDividend`, price columns)."
   ]
  },
  {
   "cell_type": "markdown",
   "id": "6d0ec2bc",
   "metadata": {},
   "source": [
    "`Number of unique stocks: 2000`에 해당하는 stock(종목) 중 약 90%에 해당하는 stock(종목)들은 데이터에 주어진 기간(dates)에 모두 trading(거래) 되었다."
   ]
  },
  {
   "cell_type": "code",
   "execution_count": 79,
   "id": "8c2f72dd",
   "metadata": {},
   "outputs": [
    {
     "data": {
      "image/png": "[encoded data removed]",
      "text/plain": [
       "<Figure size 720x360 with 1 Axes>"
      ]
     },
     "metadata": {},
     "output_type": "display_data"
    }
   ],
   "source": [
    "n_dates_per_stock = df_prices.groupby(['SecuritiesCode'])['Date'].count()\n",
    "stock_cnt_max = (n_dates_per_stock == n_dates_per_stock.max()).sum()\n",
    "stock_ratio_max = stock_cnt_max / len(n_dates_per_stock) * 100\n",
    "\n",
    "fig, ax = plt.subplots(figsize = (10, 5))\n",
    "sns.histplot(data=n_dates_per_stock.values, bins=100, palette=colors, ax=ax)\n",
    "\n",
    "ax.axhline(y=stock_cnt_max, color='red', linestyle='dotted', linewidth=2, label=f'{stock_ratio_max}% of #Stocks')\n",
    "ax.legend()\n",
    "\n",
    "ax.set_title(f'Number of Dates per Stock\\nMin {n_dates_per_stock.min()} | '\n",
    "             f'Max {n_dates_per_stock.max()}', fontsize=15)\n",
    "\n",
    "ax.set_xlabel('Dates')\n",
    "ax.set_ylabel('Stock Count')\n",
    "\n",
    "plt.show()"
   ]
  },
  {
   "cell_type": "markdown",
   "id": "6482af4d",
   "metadata": {},
   "source": [
    "Approximately 20% of trading dates have all 2000 stocks' records. Again, the missing values should be noted."
   ]
  },
  {
   "cell_type": "markdown",
   "id": "f2b752e1",
   "metadata": {},
   "source": [
    "`Number of unique dates: 1202 (2017-01-04 ~ 2021-12-03)`에 해당하는 거래일자중 약 20%에 해당하는 거래일자는 데이터에 주어진 2000종류의 stock(종목)이 모두 거래되었다."
   ]
  },
  {
   "cell_type": "code",
   "execution_count": 100,
   "id": "cf110096",
   "metadata": {
    "scrolled": true
   },
   "outputs": [
    {
     "data": {
      "image/png": "[encoded data removed]",
      "text/plain": [
       "<Figure size 720x360 with 1 Axes>"
      ]
     },
     "metadata": {},
     "output_type": "display_data"
    }
   ],
   "source": [
    "n_stocks_per_date = df_prices.groupby(['Date'])['SecuritiesCode'].count()\n",
    "\n",
    "date_cnt_max = (n_stocks_per_date == n_stocks_per_date.max()).sum()\n",
    "\n",
    "date_ratio_max = round(date_cnt_max / len(n_stocks_per_date) * 100, 2)\n",
    "\n",
    "\n",
    "fig, ax = plt.subplots(figsize = (10, 5))\n",
    "\n",
    "sns.histplot(data=n_stocks_per_date.values, bins=100, palette=colors, ax=ax)\n",
    "\n",
    "ax.axvline(x=n_stocks_per_date.mean(), color='orange', linestyle='dotted', linewidth=2, label='Mean')\n",
    "## 일자별 평균 거래량\n",
    "ax.axvline(x=n_stocks_per_date.median(), color='green', linestyle='--', linewidth=2, label='Median')\n",
    "## 일자별 거래량 중앙값\n",
    "ax.axhline(y=date_cnt_max, color='red', linestyle='dotted', linewidth=2, label=f'{date_ratio_max}% of #Dates')\n",
    "\n",
    "ax.set_title(f'Number of Stocks per Date\\nMin {n_stocks_per_date.min()} | '\n",
    "             f'Max {n_stocks_per_date.max()}')\n",
    "\n",
    "ax.set_xlabel('#Stocks')\n",
    "ax.set_ylabel('Date Count')\n",
    "plt.legend()\n",
    "plt.show()"
   ]
  },
  {
   "cell_type": "markdown",
   "id": "0311e43b",
   "metadata": {},
   "source": [
    "----------------------------------------------------------"
   ]
  },
  {
   "cell_type": "markdown",
   "id": "86b01be1",
   "metadata": {},
   "source": [
    "## 참고 자료\n",
    "\n",
    " - garbage collection(GC): https://medium.com/dmsfordsm/garbage-collection-in-python-777916fd3189"
   ]
  },
  {
   "cell_type": "code",
   "execution_count": 1,
   "id": "73364737",
   "metadata": {},
   "outputs": [],
   "source": [
    "import sys"
   ]
  },
  {
   "cell_type": "code",
   "execution_count": 6,
   "id": "7f819355",
   "metadata": {},
   "outputs": [
    {
     "name": "stdout",
     "output_type": "stream",
     "text": [
      "3\n",
      "6\n",
      "7\n"
     ]
    }
   ],
   "source": [
    "a = 'hello world'\n",
    "print(sys.getrefcount(a))\n",
    "\n",
    "b = [a, a, a]\n",
    "print(sys.getrefcount(a))\n",
    "\n",
    "c = {'first': a}\n",
    "print(sys.getrefcount(a))"
   ]
  },
  {
   "cell_type": "code",
   "execution_count": 7,
   "id": "1f7eafc9",
   "metadata": {},
   "outputs": [
    {
     "data": {
      "text/plain": [
       "(700, 10, 10)"
      ]
     },
     "execution_count": 7,
     "metadata": {},
     "output_type": "execute_result"
    }
   ],
   "source": [
    "import gc\n",
    "gc.get_threshold()"
   ]
  },
  {
   "cell_type": "code",
   "execution_count": 15,
   "id": "1b5a55a0",
   "metadata": {},
   "outputs": [
    {
     "data": {
      "text/plain": [
       "(322, 2, 8)"
      ]
     },
     "execution_count": 15,
     "metadata": {},
     "output_type": "execute_result"
    }
   ],
   "source": [
    "gc.get_count()"
   ]
  },
  {
   "cell_type": "code",
   "execution_count": 16,
   "id": "30ddf4cd",
   "metadata": {},
   "outputs": [
    {
     "data": {
      "text/plain": [
       "150"
      ]
     },
     "execution_count": 16,
     "metadata": {},
     "output_type": "execute_result"
    }
   ],
   "source": [
    "gc.collect()"
   ]
  },
  {
   "cell_type": "code",
   "execution_count": 17,
   "id": "63012ec9",
   "metadata": {},
   "outputs": [
    {
     "data": {
      "text/plain": [
       "(71, 0, 0)"
      ]
     },
     "execution_count": 17,
     "metadata": {},
     "output_type": "execute_result"
    }
   ],
   "source": [
    "gc.get_count()"
   ]
  },
  {
   "cell_type": "code",
   "execution_count": null,
   "id": "3690079f",
   "metadata": {},
   "outputs": [],
   "source": []
  }
 ],
 "metadata": {
  "kernelspec": {
   "display_name": "Python 3 (ipykernel)",
   "language": "python",
   "name": "python3"
  },
  "language_info": {
   "codemirror_mode": {
    "name": "ipython",
    "version": 3
   },
   "file_extension": ".py",
   "mimetype": "text/x-python",
   "name": "python",
   "nbconvert_exporter": "python",
   "pygments_lexer": "ipython3",
   "version": "3.8.13"
  }
 },
 "nbformat": 4,
 "nbformat_minor": 5
}
